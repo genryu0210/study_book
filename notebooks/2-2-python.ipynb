{
 "cells": [
  {
   "cell_type": "markdown",
   "metadata": {
    "pycharm": {
     "name": "#%% md\n"
    }
   },
   "source": [
    "# 2.2.1 Pythonの文法\n",
    "\n",
    "\n",
    "## インデント"
   ]
  },
  {
   "cell_type": "code",
   "execution_count": 2,
   "metadata": {
    "pycharm": {
     "name": "#%%\n"
    }
   },
   "outputs": [
    {
     "name": "stdout",
     "output_type": "stream",
     "text": [
      "ham\n",
      "spam\n",
      "spam\n",
      "eggs\n",
      "spam\n",
      "ham\n",
      "eggs\n",
      "spam\n",
      "spam\n",
      "eggs\n",
      "Finish!\n"
     ]
    }
   ],
   "source": [
    "for i in range(10):\n",
    "    if i % 5 == 0:\n",
    "        print('ham')\n",
    "    elif i % 3 == 0:\n",
    "        print('eggs')\n",
    "    else:\n",
    "        print('spam')\n",
    "print('Finish!')"
   ]
  },
  {
   "cell_type": "markdown",
   "metadata": {
    "pycharm": {
     "name": "#%% md\n"
    }
   },
   "source": [
    "## コーディング規約\n",
    "\n",
    "* PEP 8 - Style Guide for Python Code https://www.python.org/dev/peps/pep-0008/\n",
    "* pycodestyle https://pypi.org/project/pycodestyle/\n",
    "* Flake8 http://flake8.pycqa.org/"
   ]
  },
  {
   "cell_type": "markdown",
   "metadata": {
    "pycharm": {
     "name": "#%% md\n"
    }
   },
   "source": [
    "# 2.2.2 基本構文\n",
    "\n",
    "## 条件分岐と繰り返し"
   ]
  },
  {
   "cell_type": "code",
   "execution_count": null,
   "metadata": {
    "pycharm": {
     "name": "#%%\n"
    }
   },
   "outputs": [],
   "source": [
    "for year in [1950, 2000, 2020]:\n",
    "    if year < 1989:\n",
    "        print('昭和')\n",
    "    elif year < 2019:\n",
    "        print('平成')\n",
    "    else:\n",
    "        print('新元号')"
   ]
  },
  {
   "cell_type": "markdown",
   "metadata": {
    "pycharm": {
     "name": "#%% md\n"
    }
   },
   "source": [
    "## 例外処理"
   ]
  },
  {
   "cell_type": "code",
   "execution_count": null,
   "metadata": {
    "pycharm": {
     "name": "#%%\n"
    }
   },
   "outputs": [],
   "source": [
    "try:\n",
    "    1 / 0\n",
    "except ZeroDivisionError:\n",
    "    print('0で割れません')"
   ]
  },
  {
   "cell_type": "markdown",
   "metadata": {
    "pycharm": {
     "name": "#%% md\n"
    }
   },
   "source": [
    "## 内包表記"
   ]
  },
  {
   "cell_type": "code",
   "execution_count": null,
   "metadata": {
    "pycharm": {
     "name": "#%%\n"
    }
   },
   "outputs": [],
   "source": [
    "names = ['spam', 'ham', 'eggs']\n",
    "\n",
    "lens = []\n",
    "\n",
    "for name in names:\n",
    "    lens.append(len(name))\n",
    "    \n",
    "lens"
   ]
  },
  {
   "cell_type": "code",
   "execution_count": null,
   "metadata": {
    "pycharm": {
     "name": "#%%\n"
    }
   },
   "outputs": [],
   "source": [
    "[len(name) for name in names]  # 文字列の長さのリストを作成"
   ]
  },
  {
   "cell_type": "code",
   "execution_count": null,
   "metadata": {
    "pycharm": {
     "name": "#%%\n"
    }
   },
   "outputs": [],
   "source": [
    "{len(name) for name in names}  # 文字列の長さのセットを作成"
   ]
  },
  {
   "cell_type": "code",
   "execution_count": null,
   "metadata": {
    "pycharm": {
     "name": "#%%\n"
    }
   },
   "outputs": [],
   "source": [
    "{name: len(name) for name in names}  # 文字列とその長さの辞書を生成"
   ]
  },
  {
   "cell_type": "code",
   "execution_count": null,
   "metadata": {
    "pycharm": {
     "name": "#%%\n"
    }
   },
   "outputs": [],
   "source": [
    "[x*x for x in range(10) if x % 2 == 0]"
   ]
  },
  {
   "cell_type": "code",
   "execution_count": null,
   "metadata": {
    "pycharm": {
     "name": "#%%\n"
    }
   },
   "outputs": [],
   "source": [
    "[[(y, x*x) for x in range(10) if x % 2 == 0] for y in range(3)]"
   ]
  },
  {
   "cell_type": "markdown",
   "metadata": {
    "pycharm": {
     "name": "#%% md\n"
    }
   },
   "source": [
    "## ジェネレーター式"
   ]
  },
  {
   "cell_type": "code",
   "execution_count": null,
   "metadata": {
    "pycharm": {
     "name": "#%%\n"
    }
   },
   "outputs": [],
   "source": [
    "l = [x*x for x in range(100000)]  # 10万までの2乗のリストを生成\n",
    "\n",
    "type(l), len(l) # 型と要素数を確認"
   ]
  },
  {
   "cell_type": "code",
   "execution_count": null,
   "metadata": {
    "pycharm": {
     "name": "#%%\n"
    }
   },
   "outputs": [],
   "source": [
    "g = (x*x for x in range(10000))  # ジェネレーター式で定義\n",
    "\n",
    "type(g) # 型を確認"
   ]
  },
  {
   "cell_type": "code",
   "execution_count": null,
   "metadata": {
    "pycharm": {
     "name": "#%%\n"
    }
   },
   "outputs": [],
   "source": [
    "next(g), next(g), next(g)  # 値を順番に取り出せる"
   ]
  },
  {
   "cell_type": "markdown",
   "metadata": {
    "pycharm": {
     "name": "#%% md\n"
    }
   },
   "source": [
    "## ファイル入出力"
   ]
  },
  {
   "cell_type": "code",
   "execution_count": null,
   "metadata": {
    "pycharm": {
     "name": "#%%\n"
    }
   },
   "outputs": [],
   "source": [
    "with open('sample.txt', 'w', encoding='utf-8') as f:  # ファイル書き込み\n",
    "    f.write('こんにちは\\n')\n",
    "    f.write('Python\\n')\n",
    "    \n",
    "f.closed # ファイルが閉じていることを確認"
   ]
  },
  {
   "cell_type": "code",
   "execution_count": null,
   "metadata": {
    "pycharm": {
     "name": "#%%\n"
    }
   },
   "outputs": [],
   "source": [
    "with open('sample.txt', encoding='utf-8') as f:  # ファイル読み込み\n",
    "    data = f.read()\n",
    "    \n",
    "data"
   ]
  },
  {
   "cell_type": "markdown",
   "metadata": {
    "pycharm": {
     "name": "#%% md\n"
    }
   },
   "source": [
    "## 文字列操作"
   ]
  },
  {
   "cell_type": "code",
   "execution_count": null,
   "metadata": {
    "pycharm": {
     "name": "#%%\n"
    }
   },
   "outputs": [],
   "source": [
    "s1 = 'hello python'\n",
    "\n",
    "s1.upper(), s1.lower(), s1.title() # 文字列の大文字小文字を変換"
   ]
  },
  {
   "cell_type": "code",
   "execution_count": null,
   "metadata": {
    "pycharm": {
     "name": "#%%\n"
    }
   },
   "outputs": [],
   "source": [
    "s1.replace('hello', 'Hi')  # 文字列を置換"
   ]
  },
  {
   "cell_type": "code",
   "execution_count": null,
   "metadata": {
    "pycharm": {
     "name": "#%%\n"
    }
   },
   "outputs": [],
   "source": [
    "s2 = '    spam  ham    eggs    '\n",
    "\n",
    "s2.split() # 文字列を空白文字で分割"
   ]
  },
  {
   "cell_type": "code",
   "execution_count": null,
   "metadata": {
    "pycharm": {
     "name": "#%%\n"
    }
   },
   "outputs": [],
   "source": [
    "s2.strip()  # 左右の空白文字を削除"
   ]
  },
  {
   "cell_type": "code",
   "execution_count": null,
   "metadata": {
    "pycharm": {
     "name": "#%%\n"
    }
   },
   "outputs": [],
   "source": [
    "s3 = 'sample.jpg'\n",
    "\n",
    "s3.endswith(('jpg', 'gif', 'png')) # 文字列の末尾をチェック"
   ]
  },
  {
   "cell_type": "code",
   "execution_count": null,
   "metadata": {
    "pycharm": {
     "name": "#%%\n"
    }
   },
   "outputs": [],
   "source": [
    "'123456789'.isdigit() # 文字列が数値の文字列かをチェック"
   ]
  },
  {
   "cell_type": "code",
   "execution_count": null,
   "metadata": {
    "pycharm": {
     "name": "#%%\n"
    }
   },
   "outputs": [],
   "source": [
    "len(s1) # 文字列の長さを取得"
   ]
  },
  {
   "cell_type": "code",
   "execution_count": null,
   "metadata": {
    "pycharm": {
     "name": "#%%\n"
    }
   },
   "outputs": [],
   "source": [
    "'py' in s1  # 文字列の中に任意の文字列が存在するかをチェック"
   ]
  },
  {
   "cell_type": "code",
   "execution_count": null,
   "metadata": {
    "pycharm": {
     "name": "#%%\n"
    }
   },
   "outputs": [],
   "source": [
    "'-'.join(['spam', 'ham', 'eggs'])  # 複数の文字列を連結"
   ]
  },
  {
   "cell_type": "code",
   "execution_count": null,
   "metadata": {
    "pycharm": {
     "name": "#%%\n"
    }
   },
   "outputs": [],
   "source": [
    "lang, num, name = 'python', 10, 'takanory'\n",
    "\n",
    "'{}は{}が好きです'.format(name, lang)"
   ]
  },
  {
   "cell_type": "code",
   "execution_count": null,
   "metadata": {
    "pycharm": {
     "name": "#%%\n"
    }
   },
   "outputs": [],
   "source": [
    "'{1}は{0}が好きです'.format(lang, name)  # 引数の順番で指定"
   ]
  },
  {
   "cell_type": "code",
   "execution_count": null,
   "metadata": {
    "pycharm": {
     "name": "#%%\n"
    }
   },
   "outputs": [],
   "source": [
    "'{n}は{num}の{num}乗{l}が好きです'.format(l=lang, n=name, num=num)  # キーワード引数名で指定"
   ]
  },
  {
   "cell_type": "markdown",
   "metadata": {
    "pycharm": {
     "name": "#%% md\n"
    }
   },
   "source": [
    "# 2.2.3 標準ライブラリ\n",
    "\n",
    "## 正規表現モジュール"
   ]
  },
  {
   "cell_type": "code",
   "execution_count": null,
   "metadata": {
    "pycharm": {
     "name": "#%%\n"
    }
   },
   "outputs": [],
   "source": [
    "import re\n",
    "\n",
    "prog = re.compile('(P(yth|l)|Z)o[pn]e?')   # 正規表現オブジェクトを生成\n",
    "\n",
    "prog.search('Python') # マッチする場合はmatchオブジェクトを返す"
   ]
  },
  {
   "cell_type": "code",
   "execution_count": null,
   "metadata": {
    "pycharm": {
     "name": "#%%\n"
    }
   },
   "outputs": [],
   "source": [
    "prog.search('Spam') # マッチしない場合はNoneを返す"
   ]
  },
  {
   "cell_type": "markdown",
   "metadata": {
    "pycharm": {
     "name": "#%% md\n"
    }
   },
   "source": [
    "## loggingモジュール"
   ]
  },
  {
   "cell_type": "code",
   "execution_count": null,
   "metadata": {
    "pycharm": {
     "name": "#%%\n"
    }
   },
   "outputs": [],
   "source": [
    "import logging\n",
    "\n",
    "logging.basicConfig(\n",
    "    filename='example.log',  # 出力ファイルを指定\n",
    "    level=logging.INFO,      # ログレベルを指定\n",
    "    format='%(asctime)s:%(levelname)s:%(message)s'\n",
    ")"
   ]
  },
  {
   "cell_type": "code",
   "execution_count": null,
   "metadata": {
    "pycharm": {
     "name": "#%%\n"
    }
   },
   "outputs": [],
   "source": [
    "logging.debug('デバッグレベル')\n",
    "\n",
    "logging.info('INFOレベル')\n",
    "\n",
    "logging.warning('警告レベル')\n",
    "\n",
    "logging.error('エラーレベル')\n",
    "\n",
    "logging.critical('重大なエラー')"
   ]
  },
  {
   "cell_type": "markdown",
   "metadata": {
    "pycharm": {
     "name": "#%% md\n"
    }
   },
   "source": [
    "## datetimeモジュール"
   ]
  },
  {
   "cell_type": "code",
   "execution_count": null,
   "metadata": {
    "pycharm": {
     "name": "#%%\n"
    }
   },
   "outputs": [],
   "source": [
    "from datetime import datetime, date\n",
    "\n",
    "datetime.now() # 現在日時を取得"
   ]
  },
  {
   "cell_type": "code",
   "execution_count": null,
   "metadata": {
    "pycharm": {
     "name": "#%%\n"
    }
   },
   "outputs": [],
   "source": [
    "date.today()  # 今日の日付を取得"
   ]
  },
  {
   "cell_type": "code",
   "execution_count": null,
   "metadata": {
    "pycharm": {
     "name": "#%%\n"
    }
   },
   "outputs": [],
   "source": [
    "date.today() - date(2008, 12, 3)  # Python 3.0リリースからの日数を計算"
   ]
  },
  {
   "cell_type": "code",
   "execution_count": null,
   "metadata": {
    "pycharm": {
     "name": "#%%\n"
    }
   },
   "outputs": [],
   "source": [
    "datetime.now().isoformat()  # ISO8601形式の文字列を取得"
   ]
  },
  {
   "cell_type": "code",
   "execution_count": null,
   "metadata": {
    "pycharm": {
     "name": "#%%\n"
    }
   },
   "outputs": [],
   "source": [
    "date.today().strftime('%Y年%m月%d日')  # 日付を文字列に変換"
   ]
  },
  {
   "cell_type": "code",
   "execution_count": null,
   "metadata": {
    "pycharm": {
     "name": "#%%\n"
    }
   },
   "outputs": [],
   "source": [
    "datetime.strptime('2018年7月11日', '%Y年%m月%d日')  # 文字列を日時に変換"
   ]
  },
  {
   "cell_type": "markdown",
   "metadata": {
    "pycharm": {
     "name": "#%% md\n"
    }
   },
   "source": [
    "## pickleモジュール"
   ]
  },
  {
   "cell_type": "code",
   "execution_count": null,
   "metadata": {
    "pycharm": {
     "name": "#%%\n"
    }
   },
   "outputs": [],
   "source": [
    "import pickle\n",
    "\n",
    "d = {'today': date.today(),  # 辞書データを定義\n",
    "     'delta': date(2019, 1, 1) - date.today()}\n",
    "\n",
    "d"
   ]
  },
  {
   "cell_type": "code",
   "execution_count": null,
   "metadata": {
    "pycharm": {
     "name": "#%%\n"
    }
   },
   "outputs": [],
   "source": [
    "pickle.dumps(d)  # 直列化した情報を確認"
   ]
  },
  {
   "cell_type": "code",
   "execution_count": null,
   "metadata": {
    "pycharm": {
     "name": "#%%\n"
    }
   },
   "outputs": [],
   "source": [
    "with open('date.pkl', 'wb') as f:  # ファイルをバイト書き込みモードで開く\n",
    "    pickle.dump(d, f)  # Pickle形式のデータを保存\n",
    "    \n",
    "with open('date.pkl', 'rb') as f:  # ファイルをバイト読み込みモードで開く\n",
    "    new_d = pickle.load(f)  # Pickle形式のデータを読み込む\n",
    "    \n",
    "new_d # 元のデータ(d)と同じことを確認"
   ]
  },
  {
   "cell_type": "markdown",
   "metadata": {
    "pycharm": {
     "name": "#%% md\n"
    }
   },
   "source": [
    "## pathlibモジュール"
   ]
  },
  {
   "cell_type": "code",
   "execution_count": null,
   "metadata": {
    "pycharm": {
     "name": "#%%\n"
    }
   },
   "outputs": [],
   "source": [
    "from pathlib import Path\n",
    "\n",
    "p = Path() # Pathオブジェクトを現在のディレクトリで生成\n",
    "\n",
    "p"
   ]
  },
  {
   "cell_type": "code",
   "execution_count": null,
   "metadata": {
    "pycharm": {
     "name": "#%%\n"
    }
   },
   "outputs": [],
   "source": [
    "for filepath in p.glob('*.txt'):  # .txtファイルを順番に開いて読込む\n",
    "    with open(filepath, encoding='utf-8') as f:\n",
    "        data = f.read()\n",
    "\n",
    "p = Path('/spam')\n",
    "\n",
    "p / 'ham' / 'eggs.txt' # /演算子でパスを作成"
   ]
  },
  {
   "cell_type": "code",
   "execution_count": null,
   "metadata": {
    "pycharm": {
     "name": "#%%\n"
    }
   },
   "outputs": [],
   "source": [
    "p = Path('date.pkl')\n",
    "\n",
    "p.exists() # ファイルの存在チェック"
   ]
  },
  {
   "cell_type": "code",
   "execution_count": null,
   "metadata": {
    "pycharm": {
     "name": "#%%\n"
    }
   },
   "outputs": [],
   "source": [
    "p.is_dir() # ディレクトリかをチェック"
   ]
  },
  {
   "cell_type": "markdown",
   "metadata": {
    "pycharm": {
     "name": "#%% md\n"
    }
   },
   "source": [
    "* Python 標準ライブラリ https://docs.python.org/ja/3/library/index.html"
   ]
  }
 ],
 "metadata": {
  "kernelspec": {
   "display_name": "Python 3",
   "language": "python",
   "name": "python3"
  },
  "language_info": {
   "codemirror_mode": {
    "name": "ipython",
    "version": 3
   },
   "file_extension": ".py",
   "mimetype": "text/x-python",
   "name": "python",
   "nbconvert_exporter": "python",
   "pygments_lexer": "ipython3",
   "version": "3.7.6"
  }
 },
 "nbformat": 4,
 "nbformat_minor": 2
}