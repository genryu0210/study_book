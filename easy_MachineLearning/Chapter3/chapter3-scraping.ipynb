{
 "cells": [
  {
   "cell_type": "markdown",
   "metadata": {
    "pycharm": {
     "name": "#%% md\n"
    }
   },
   "source": [
    "# Chapter 3 スクレイピングでデータを収集しよう"
   ]
  },
  {
   "cell_type": "markdown",
   "metadata": {
    "pycharm": {
     "name": "#%% md\n"
    }
   },
   "source": [
    "## Lesson 21 Webページを取得してみましょう"
   ]
  },
  {
   "cell_type": "markdown",
   "metadata": {
    "pycharm": {
     "name": "#%% md\n"
    }
   },
   "source": [
    "### 手順パート: 書籍ページのHTMLを取得する"
   ]
  },
  {
   "cell_type": "markdown",
   "metadata": {
    "pycharm": {
     "name": "#%% md\n"
    }
   },
   "source": [
    "『いちばんやさしいPythonの教本』の書籍ページを取得する"
   ]
  },
  {
   "cell_type": "code",
   "execution_count": 1,
   "metadata": {
    "pycharm": {
     "name": "#%%\n"
    }
   },
   "outputs": [
    {
     "data": {
      "text/plain": [
       "200"
      ]
     },
     "execution_count": 1,
     "metadata": {},
     "output_type": "execute_result"
    }
   ],
   "source": [
    "import requests  # requestsをインポート\n",
    "res = requests.get('https://book.impress.co.jp/books/1116101151')  # 書籍ページのURLを指定して、レスポンスを取得\n",
    "res.status_code  # ステータスコードを確認"
   ]
  },
  {
   "cell_type": "code",
   "execution_count": 2,
   "metadata": {
    "pycharm": {
     "name": "#%%\n"
    }
   },
   "outputs": [
    {
     "name": "stdout",
     "output_type": "stream",
     "text": [
      "\n",
      "\n",
      "\n",
      "\n",
      "\n",
      "\n",
      "\n",
      "<!DOCTYPE html>\n",
      "<html lang=\"ja\" dir=\"ltr\">\n",
      "<head>\n",
      "<meta charset=\"utf-8\" />\n",
      "\n",
      "<title>いちばんやさしいPythonの教本 人気講師が教える基礎からサーバサイド開発まで - インプレスブックス</title>\n"
     ]
    }
   ],
   "source": [
    "html_doc = res.text\n",
    "print(html_doc[:150])"
   ]
  },
  {
   "cell_type": "markdown",
   "metadata": {
    "pycharm": {
     "name": "#%% md\n"
    }
   },
   "source": [
    "## Lesson 22 Webページをスクレイピングしましょう"
   ]
  },
  {
   "cell_type": "code",
   "execution_count": 3,
   "metadata": {
    "pycharm": {
     "name": "#%%\n"
    }
   },
   "outputs": [],
   "source": [
    "from bs4 import BeautifulSoup\n",
    "\n",
    "html_doc = '''\n",
    "<html>\n",
    "    <head>\n",
    "        <title>いちやさサンプル</title>\n",
    "    </head>\n",
    "    <body>\n",
    "        <h1 class=\"not_link\">スクレイピング用サンプル</h1>\n",
    "        <ul id=\"first_ul\">\n",
    "            <li><a href=\"http://ichiyasa.sample/link1\">リンク1</a></li>\n",
    "            <li><a href=\"http://ichiyasa.sample/link2\">リンク2</a></li>\n",
    "            <li class=\"not_link\">テキスト1</li>\n",
    "        </ul>\n",
    "        <ul id=\"second_ul\">\n",
    "            <li><a href=\"http://ichiyasa.sample/link3\">リンク3</a></li>\n",
    "            <li class=\"not_link\">テキスト2</li>\n",
    "        </ul>\n",
    "    </body>\n",
    "</html>\n",
    "'''\n",
    "\n",
    "soup = BeautifulSoup(html_doc, 'html.parser')"
   ]
  },
  {
   "cell_type": "code",
   "execution_count": 6,
   "metadata": {
    "scrolled": false,
    "pycharm": {
     "name": "#%%\n"
    }
   },
   "outputs": [
    {
     "name": "stdout",
     "output_type": "stream",
     "text": [
      "内容: リンク1\n",
      "href属性: http://ichiyasa.sample/link1\n"
     ]
    }
   ],
   "source": [
    "a_tag = soup.find('a')  # 最初のa要素を検索\n",
    "print('内容:', a_tag.get_text())  # 要素の内容を取得\n",
    "print('href属性:', a_tag['href'])  # 要素の属性値を取得"
   ]
  },
  {
   "cell_type": "code",
   "execution_count": 6,
   "metadata": {
    "scrolled": true,
    "pycharm": {
     "name": "#%%\n"
    }
   },
   "outputs": [
    {
     "data": {
      "text/plain": [
       "<ul id=\"second_ul\">\n",
       "<li><a href=\"http://ichiyasa.sample/link3\">リンク3</a></li>\n",
       "<li class=\"not_link\">テキスト2</li>\n",
       "</ul>"
      ]
     },
     "execution_count": 6,
     "metadata": {},
     "output_type": "execute_result"
    }
   ],
   "source": [
    "# id属性で検索\n",
    "soup.find(id='second_ul')"
   ]
  },
  {
   "cell_type": "code",
   "execution_count": 7,
   "metadata": {
    "pycharm": {
     "name": "#%%\n"
    }
   },
   "outputs": [
    {
     "data": {
      "text/plain": [
       "<h1 class=\"not_link\">スクレイピング用サンプル</h1>"
      ]
     },
     "execution_count": 7,
     "metadata": {},
     "output_type": "execute_result"
    }
   ],
   "source": [
    "# class属性で検索\n",
    "soup.find(class_='not_link')"
   ]
  },
  {
   "cell_type": "code",
   "execution_count": 8,
   "metadata": {
    "pycharm": {
     "name": "#%%\n"
    }
   },
   "outputs": [
    {
     "data": {
      "text/plain": [
       "<li class=\"not_link\">テキスト1</li>"
      ]
     },
     "execution_count": 8,
     "metadata": {},
     "output_type": "execute_result"
    }
   ],
   "source": [
    "# 要素名とclass属性で検索\n",
    "soup.find('li', class_='not_link')"
   ]
  },
  {
   "cell_type": "code",
   "execution_count": 9,
   "metadata": {
    "pycharm": {
     "name": "#%%\n"
    }
   },
   "outputs": [
    {
     "data": {
      "text/plain": [
       "<li class=\"not_link\">テキスト2</li>"
      ]
     },
     "execution_count": 9,
     "metadata": {},
     "output_type": "execute_result"
    }
   ],
   "source": [
    "# テキスト2のli要素を検索\n",
    "ul_tag = soup.find('ul', id='second_ul')\n",
    "ul_tag.find('li', class_='not_link')"
   ]
  },
  {
   "cell_type": "code",
   "execution_count": 10,
   "metadata": {
    "pycharm": {
     "name": "#%%\n"
    }
   },
   "outputs": [
    {
     "name": "stdout",
     "output_type": "stream",
     "text": [
      "<a href=\"http://ichiyasa.sample/link1\">リンク1</a>\n",
      "<a href=\"http://ichiyasa.sample/link2\">リンク2</a>\n",
      "<a href=\"http://ichiyasa.sample/link3\">リンク3</a>\n"
     ]
    }
   ],
   "source": [
    "# 全てのa要素を取得\n",
    "a_tags = soup.find_all('a')\n",
    "for a_tag in a_tags:\n",
    "    print(a_tag)"
   ]
  },
  {
   "cell_type": "code",
   "execution_count": 11,
   "metadata": {
    "pycharm": {
     "name": "#%%\n"
    }
   },
   "outputs": [
    {
     "name": "stdout",
     "output_type": "stream",
     "text": [
      "<h1 class=\"not_link\">スクレイピング用サンプル</h1>\n",
      "<a href=\"http://ichiyasa.sample/link1\">リンク1</a>\n",
      "<a href=\"http://ichiyasa.sample/link2\">リンク2</a>\n",
      "<a href=\"http://ichiyasa.sample/link3\">リンク3</a>\n"
     ]
    }
   ],
   "source": [
    "# 複数の要素名で検索\n",
    "multi_tags = soup.find_all(['h1', 'a'])\n",
    "for tag in multi_tags:\n",
    "    print(tag)"
   ]
  },
  {
   "cell_type": "markdown",
   "metadata": {
    "pycharm": {
     "name": "#%% md\n"
    }
   },
   "source": [
    "### 手順パート: 書籍ページから書籍名と値段を取得する"
   ]
  },
  {
   "cell_type": "code",
   "execution_count": 9,
   "metadata": {
    "pycharm": {
     "name": "#%%\n"
    }
   },
   "outputs": [],
   "source": [
    "import requests\n",
    "from bs4 import BeautifulSoup\n",
    "res = requests.get('https://book.impress.co.jp/books/1116101151')\n",
    "html_doc = res.text\n",
    "soup = BeautifulSoup(html_doc, 'html.parser')"
   ]
  },
  {
   "cell_type": "code",
   "execution_count": 11,
   "metadata": {
    "pycharm": {
     "name": "#%%\n"
    }
   },
   "outputs": [
    {
     "data": {
      "text/plain": [
       "<div class=\"block-book-detail\">\n",
       "<div class=\"block-book-detail-head\">\n",
       "<h2>いちばんやさしいPythonの教本 人気講師が教える基礎からサーバサイド開発まで</h2>\n",
       "</div>\n",
       "<div class=\"block-book-detail-img\">\n",
       "<div class=\"module-book-img\">\n",
       "<p><img alt=\"いちばんやさしいPythonの教本 人気講師が教える基礎からサーバサイド開発まで\" src=\"//img.ips.co.jp/ij/16/1116101151/1116101151-520x.jpg\" width=\"260\"/></p>\n",
       "</div>\n",
       "<div class=\"module-book-info\">\n",
       "<p class=\"module-book-price\">2,420円<span class=\"module-price-note\">（本体 2,200円＋税10%）</span></p>\n",
       "<dl class=\"module-book-data\">\n",
       "<dt>品種名</dt><dd>書籍</dd>\n",
       "<dt>発売日</dt><dd>2017/8/10</dd>\n",
       "<dt>ページ数</dt><dd>272</dd>\n",
       "<dt>サイズ</dt><dd>B5変形判</dd>\n",
       "<dt>著者</dt><dd>\n",
       "鈴木 たかのり　著/杉谷 弥月　著/株式会社ビープラウド　著\n",
       "</dd>\n",
       "<dt>ISBN</dt><dd>\n",
       "9784295002086</dd>\n",
       "</dl>\n",
       "</div>\n",
       "<!--//block-book-detail-img--></div>\n",
       "<div class=\"block-book-detail-body\">\n",
       "<div class=\"module-book-link-tab\">\n",
       "<ul class=\"module-inline-block\"><li class=\"module-otameshi\"><a href=\"http://impress.tameshiyo.me/9784295002086\" target=\"_blank\">試し読み</a></li><li class=\"module-download\"><a href=\"#box-download\">ダウンロード</a></li></ul>\n",
       "</div>\n",
       "<div class=\"module-book-detail-txt\">\n",
       "<div class=\"module-book-copy\">\n",
       "<h3>講義＋実習のワークショップ形式の学習書！</h3>\n",
       "</div>\n",
       "<div class=\"module-book-detail-txt-body\">\n",
       "<p>講義+実習のワークショップ形式で、会話bot「pybot」を作りながら楽しく学べる「はじめてでも挫折しない」Pythonの入門書を作りました。なぜそうするのかを知りたい、仕組みが知りたい、応用できる基礎を身に付けたい、そんな読者のさまざまな要望に応える新しい教本です。少しずつ新しいことを学びながら進み、プログラムに機能を追加していくので、いま自分は何をやっているのかを、ちゃんと理解しながら進められます。ぜひ本書でPythonのプログラミングの楽しさを実感してください！</p>\n",
       "<p class=\"module-link-book-index\"><a href=\"#box-book-index\">目次を見る</a></p>\n",
       "</div>\n",
       "<!--//module-book-detail-txt--></div>\n",
       "<div class=\"module-book-buy-link\">\n",
       "<dl class=\"module-book-buy-link-list module-p-book\" id=\"buy-p-book\">\n",
       "<dt>紙の本を買う</dt><dd>\n",
       "<ul class=\"module-inline-block\"><li><a href=\"http://www.amazon.co.jp/dp/4295002089/ref=nosim/?tag=impressjapan-22&amp;linkCode=as1\" onclick=\"ga('send', 'event', 'cart', 'click', '/books/amazon/1116101151', 1);\" target=\"_blank\">Amazon.co.jp</a></li><li><a href=\"http://hb.afl.rakuten.co.jp/hgc/0e4417b1.a489ce30.0e4417b2.93258c0e/?pc=https%3A%2F%2Fbooks.rakuten.co.jp%2Frdt%2Fitem%2F%3Fsid%3D213310%26sno%3DISBN%3A9784295002086\" onclick=\"ga('send', 'event', 'cart', 'click', '/books/rakuten/1116101151', 1);\" target=\"_blank\">楽天ブックス</a></li><li><a href=\"http://ck.jp.ap.valuecommerce.com/servlet/referral?sid=3192673&amp;pid=884188533&amp;vc_url=http%3A%2F%2F7net.omni7.jp%2Fdetail_isbn%2F9784295002086\" onclick=\"ga('send', 'event', 'cart', 'click', '/books/sevenadny/1116101151', 1);\" target=\"_blank\">セブンネット</a></li><li><a href=\"http://www.yodobashi.com/ec/category/index.html?word=9784295002086&amp;extst=impress\" onclick=\"ga('send', 'event', 'cart', 'click', '/books/yodobashi/1116101151', 1);\" target=\"_blank\">ヨドバシ.com</a></li><li><a href=\"http://linksynergy.jrs5.com/deeplink?id=RcEKEfuEFmg&amp;mid=36805&amp;murl=http%3A%2F%2Fwww%2Ehonyaclub%2Ecom%2Fshop%2Faffiliate%2Fitemlist%2Easpx%3Fisbn%3D9784295002086%26etcaff%3DAFI%2DLS\" onclick=\"ga('send', 'event', 'cart', 'click', '/books/honyaclub/1116101151', 1);\" target=\"_blank\">HonyaClub.com</a></li><li><a href=\"https://ck.jp.ap.valuecommerce.com/servlet/referral?sid=3192673&amp;pid=883308440&amp;vc_url=https%3A%2F%2Fhonto.jp%2Fnetstore%2Fsearch_109784295002086.html%3Fsrchf%3D1%26tbty%3D1%26partnerid%3D02vc01\" onclick=\"ga('send', 'event', 'cart', 'click', '/books/honto/1116101151', 1);\" target=\"_blank\"><img alt=\"\" height=\"1\" src=\"//ad.jp.ap.valuecommerce.com/servlet/gifbanner?sid=3192673&amp;pid=883308440\" width=\"0\"/>honto</a></li></ul>\n",
       "</dd>\n",
       "</dl>\n",
       "<dl class=\"module-book-buy-link-list module-e-book\" id=\"buy-e-book\">\n",
       "<dt>電子版を買う</dt><dd>\n",
       "<ul class=\"module-inline-block\"><li><a href=\"https://www.amazon.co.jp/dp/B075197HLN/ref=nosim/?tag=impressjapan-22&amp;linkCode=as1\" target=\"_blank\">Amazon.co.jp</a></li><li><a href=\"http://books.rakuten.co.jp/rk/e9974fc68e5d3d529a3aa2b31a6ac39b/\" target=\"_blank\">楽天kobo</a></li><li><a href=\"https://ebookstore.sony.jp/item/LT000083141000693318/\" target=\"_blank\">Reader Store</a></li><li><a href=\"https://honto.jp/ebook/pd_28661921.html\" target=\"_blank\">honto</a></li><li><a href=\"https://tatsu-zine.com/books/ichiban-yasasii-python\" target=\"_blank\">達人出版会</a></li><li><a href=\"https://bookwalker.jp/de20c2697d-3ff5-4818-b537-28e2061eb73f/\" target=\"_blank\">BOOK☆WALKER</a></li></ul>\n",
       "</dd>\n",
       "</dl>\n",
       "<div class=\"module-e-book-buy-guide\">\n",
       "<div class=\"module-e-book-buy-guide-txt\">\n",
       "<p class=\"module-e-book-price\" data-base-price=\"1980\" id=\"name-e-book-price\">\n",
       "2,178円<br/>\n",
       "<span class=\"module-price-note\">（本体 1,980円＋税10%）</span></p>\n",
       "<p>PDF / 印刷可 / 48.7MB</p>\n",
       "<p class=\"module-e-book-buy-guide-link\"><a href=\"/environment/\" target=\"_blank\">直販電子版ご利用ガイド</a></p>\n",
       "</div>\n",
       "<p class=\"module-e-book-buy-guide-btn\"><a href=\"https://payment.ips.co.jp/02/carts/put?sc=ij&amp;pc=1116170189&amp;\" onclick=\"ga('send', 'event', 'cart', 'click', '/books/direct/1116170189', 1);\" target=\"_blank\">インプレスで電子版を買う<span>（カートに入ります）</span></a></p>\n",
       "</div>\n",
       "<!--//module-book-buy-link--></div>\n",
       "<div class=\"module-book-questionnaire\">\n",
       "<p>「読者アンケートに答える」「読者プレゼントに応募」の場合もこちらをご利用ください。</p>\n",
       "<p class=\"module-book-questionnaire-btn\"><a href=\"/readers_special/1116101151.html?ic=1116101151&amp;item=none\" target=\"_blank\">アンケートに答える</a></p>\n",
       "<!--//module-book-questionnaire--></div>\n",
       "<div class=\"module-book-contact\">\n",
       "<p>書籍の内容に関するお問い合わせはこちら。お答えできるのは本書に記載の内容に関することに限ります。</p>\n",
       "<div class=\"module-book-contact-link-area\">\n",
       "<p class=\"module-book-contact-link\"><a href=\"https://book.impress.co.jp/books_inquiry/form.html?ic=1116101151&amp;in=%E3%81%84%E3%81%A1%E3%81%B0%E3%82%93%E3%82%84%E3%81%95%E3%81%97%E3%81%84Python%E3%81%AE%E6%95%99%E6%9C%AC%20%E4%BA%BA%E6%B0%97%E8%AC%9B%E5%B8%AB%E3%81%8C%E6%95%99%E3%81%88%E3%82%8B%E5%9F%BA%E7%A4%8E%E3%81%8B%E3%82%89%E3%82%B5%E3%83%BC%E3%83%90%E3%82%B5%E3%82%A4%E3%83%89%E9%96%8B%E7%99%BA%E3%81%BE%E3%81%A7\" target=\"_blank\">お問い合わせフォーム</a></p>\n",
       "<p class=\"module-link-errata\"><a href=\"#box-errata\">お詫びと訂正</a></p>\n",
       "</div>\n",
       "<!--//module-book-contact--></div>\n",
       "<div class=\"module-book-volumediscount\">\n",
       "<p>学校・法人一括購入に関するお問い合わせはこちらへ。</p>\n",
       "<p class=\"module-book-volumediscount-btn\"><a href=\"/guide/service/saiyou.php\" target=\"_blank\">一括購入窓口</a></p>\n",
       "<!--//module-book-questionnaire--></div>\n",
       "<!--//block-book-detail-body--></div>\n",
       "<!--//block-book-detail--></div>"
      ]
     },
     "execution_count": 11,
     "metadata": {},
     "output_type": "execute_result"
    }
   ],
   "source": [
    "div_book_detail = soup.find('div', class_='block-book-detail')\n",
    "div_book_detail"
   ]
  },
  {
   "cell_type": "code",
   "execution_count": 8,
   "metadata": {
    "pycharm": {
     "name": "#%%\n"
    }
   },
   "outputs": [
    {
     "data": {
      "text/plain": [
       "'いちばんやさしいPythonの教本 人気講師が教える基礎からサーバサイド開発まで'"
      ]
     },
     "execution_count": 8,
     "metadata": {},
     "output_type": "execute_result"
    }
   ],
   "source": [
    "book_title = div_book_detail.find('h2')\n",
    "book_title.get_text()"
   ]
  },
  {
   "cell_type": "code",
   "execution_count": 14,
   "metadata": {
    "pycharm": {
     "name": "#%%\n"
    }
   },
   "outputs": [
    {
     "data": {
      "text/plain": [
       "'2,420円（本体 2,200円＋税10%）'"
      ]
     },
     "execution_count": 14,
     "metadata": {},
     "output_type": "execute_result"
    }
   ],
   "source": [
    "book_price = div_book_detail.find('p', class_='module-book-price')\n",
    "book_price.get_text()\n"
   ]
  },
  {
   "cell_type": "markdown",
   "metadata": {
    "pycharm": {
     "name": "#%% md\n"
    }
   },
   "source": [
    "## Lesson 23 少し難しいスクレイピングに挑戦しましょう"
   ]
  },
  {
   "cell_type": "code",
   "execution_count": 12,
   "metadata": {
    "pycharm": {
     "name": "#%%\n"
    }
   },
   "outputs": [],
   "source": [
    "html_doc = '''\n",
    "<dl id='python-books'>\n",
    "  <dt>Python入門本</dt><dd>1000円</dd>\n",
    "  <dt>スクレイピング本</dt><dd>1500円</dd>\n",
    "  <dt>機械学習本</dt><dd>2000円</dd>\n",
    "</dl>\n",
    "'''"
   ]
  },
  {
   "cell_type": "code",
   "execution_count": 13,
   "metadata": {
    "pycharm": {
     "name": "#%%\n"
    }
   },
   "outputs": [
    {
     "name": "stdout",
     "output_type": "stream",
     "text": [
      "Python本の辞書:  {'Python入門本': '1000円', 'スクレイピング本': '1500円', '機械学習本': '2000円'}\n",
      "スクレイピング本の値段:  1500円\n"
     ]
    }
   ],
   "source": [
    "from bs4 import BeautifulSoup\n",
    "\n",
    "soup = BeautifulSoup(html_doc, 'html.parser')\n",
    "python_books = {}\n",
    "for tag in soup.find_all(['dt', 'dd']):\n",
    "    if tag.name == 'dt':  # dt要素の場合はキー\n",
    "        key = tag.get_text()\n",
    "    if tag.name  == 'dd':  # dd要素の場合は値\n",
    "        python_books[key] = tag.get_text()\n",
    "\n",
    "print('Python本の辞書: ', python_books)\n",
    "print('スクレイピング本の値段: ', python_books['スクレイピング本'])"
   ]
  },
  {
   "cell_type": "markdown",
   "metadata": {
    "pycharm": {
     "name": "#%% md\n"
    }
   },
   "source": [
    "### 手順パート: 書籍ページから発売日と著者を取得する"
   ]
  },
  {
   "cell_type": "code",
   "execution_count": 18,
   "metadata": {
    "pycharm": {
     "name": "#%%\n"
    }
   },
   "outputs": [],
   "source": [
    "import requests\n",
    "from bs4 import BeautifulSoup\n",
    "\n",
    "res = requests.get('https://book.impress.co.jp/books/1116101151')\n",
    "html_doc = res.text\n",
    "soup = BeautifulSoup(html_doc, 'html.parser')\n",
    "div_book_detail = soup.find('div', class_='block-book-detail')"
   ]
  },
  {
   "cell_type": "code",
   "execution_count": 19,
   "metadata": {
    "pycharm": {
     "name": "#%%\n"
    }
   },
   "outputs": [
    {
     "data": {
      "text/plain": [
       "<dl class=\"module-book-data\">\n",
       "<dt>品種名</dt><dd>書籍</dd>\n",
       "<dt>発売日</dt><dd>2017/8/10</dd>\n",
       "<dt>ページ数</dt><dd>272</dd>\n",
       "<dt>サイズ</dt><dd>B5変形判</dd>\n",
       "<dt>著者</dt><dd>\n",
       "鈴木 たかのり　著/杉谷 弥月　著/株式会社ビープラウド　著\n",
       "</dd>\n",
       "<dt>ISBN</dt><dd>\n",
       "9784295002086</dd>\n",
       "</dl>"
      ]
     },
     "execution_count": 19,
     "metadata": {},
     "output_type": "execute_result"
    }
   ],
   "source": [
    "dl_book_data = div_book_detail.find('dl', class_='module-book-data')\n",
    "dl_book_data"
   ]
  },
  {
   "cell_type": "code",
   "execution_count": 20,
   "metadata": {
    "pycharm": {
     "name": "#%%\n"
    }
   },
   "outputs": [
    {
     "data": {
      "text/plain": [
       "{'品種名': '書籍',\n",
       " '発売日': '2017/8/10',\n",
       " 'ページ数': '272',\n",
       " 'サイズ': 'B5変形判',\n",
       " '著者': '鈴木 たかのり\\u3000著/杉谷 弥月\\u3000著/株式会社ビープラウド\\u3000著',\n",
       " 'ISBN': '9784295002086'}"
      ]
     },
     "execution_count": 20,
     "metadata": {},
     "output_type": "execute_result"
    }
   ],
   "source": [
    "book_data = {}\n",
    "for tag in dl_book_data.find_all(['dt', 'dd']):\n",
    "    if tag.name == 'dt':\n",
    "        key = tag.get_text()\n",
    "    if tag.name  == 'dd':\n",
    "        book_data[key] = tag.get_text().strip()\n",
    "        \n",
    "book_data"
   ]
  },
  {
   "cell_type": "code",
   "execution_count": 21,
   "metadata": {
    "pycharm": {
     "name": "#%%\n"
    }
   },
   "outputs": [
    {
     "name": "stdout",
     "output_type": "stream",
     "text": [
      "発売日: 2017/8/10\n",
      "著者: 鈴木 たかのり　著/杉谷 弥月　著/株式会社ビープラウド　著\n"
     ]
    }
   ],
   "source": [
    "print('発売日:', book_data['発売日'])\n",
    "print('著者:', book_data['著者'])"
   ]
  },
  {
   "cell_type": "markdown",
   "metadata": {
    "pycharm": {
     "name": "#%% md\n"
    }
   },
   "source": [
    "## Lesson 24 複数のWebページからデータを集めましょう"
   ]
  },
  {
   "cell_type": "markdown",
   "metadata": {
    "pycharm": {
     "name": "#%% md\n"
    }
   },
   "source": [
    "### 手順パート: 複数の書籍ページをスクレイピングする"
   ]
  },
  {
   "cell_type": "code",
   "execution_count": 46,
   "metadata": {
    "pycharm": {
     "name": "#%%\n"
    }
   },
   "outputs": [],
   "source": [
    "import requests\n",
    "from bs4 import BeautifulSoup\n",
    "\n",
    "res = requests.get('https://book.impress.co.jp/booklist/')\n",
    "html_doc = res.text\n",
    "soup = BeautifulSoup(html_doc, 'html.parser')\n",
    "div_book_list = soup.find('div', class_='block-book-list-body')"
   ]
  },
  {
   "cell_type": "code",
   "execution_count": 47,
   "metadata": {
    "pycharm": {
     "name": "#%%\n"
    }
   },
   "outputs": [
    {
     "data": {
      "text/plain": [
       "['https://book.impress.co.jp/books/1121101107',\n",
       " 'https://book.impress.co.jp/books/1122101010',\n",
       " 'https://book.impress.co.jp/books/1122101003',\n",
       " 'https://book.impress.co.jp/books/1122101004',\n",
       " 'https://book.impress.co.jp/books/1122101005',\n",
       " 'https://book.impress.co.jp/books/1122101008',\n",
       " 'https://book.impress.co.jp/books/1122101009',\n",
       " 'https://book.impress.co.jp/books/1122101011',\n",
       " 'https://book.impress.co.jp/books/1122101050',\n",
       " 'https://book.impress.co.jp/books/1122101054',\n",
       " 'https://book.impress.co.jp/books/1122101055',\n",
       " 'https://book.impress.co.jp/books/1121101077',\n",
       " 'https://book.impress.co.jp/books/1122101047',\n",
       " 'https://book.impress.co.jp/books/1122101048',\n",
       " 'https://book.impress.co.jp/books/1122101049',\n",
       " 'https://book.impress.co.jp/books/1122101001',\n",
       " 'https://book.impress.co.jp/books/1122101002',\n",
       " 'https://book.impress.co.jp/books/1122101006',\n",
       " 'https://book.impress.co.jp/books/1122101007',\n",
       " 'https://book.impress.co.jp/books/1121101139',\n",
       " 'https://book.impress.co.jp/books/1122101057',\n",
       " 'https://book.impress.co.jp/books/1122102044',\n",
       " 'https://book.impress.co.jp/books/1122101035',\n",
       " 'https://book.impress.co.jp/books/1122101046',\n",
       " 'https://book.impress.co.jp/books/1121101085',\n",
       " 'https://book.impress.co.jp/books/1122101025',\n",
       " 'https://book.impress.co.jp/books/1121101140',\n",
       " 'https://book.impress.co.jp/books/1121101099',\n",
       " 'https://book.impress.co.jp/books/1122101016',\n",
       " 'https://book.impress.co.jp/books/1122101036',\n",
       " 'https://book.impress.co.jp/books/1122102043',\n",
       " 'https://book.impress.co.jp/books/1122101030']"
      ]
     },
     "execution_count": 47,
     "metadata": {},
     "output_type": "execute_result"
    }
   ],
   "source": [
    "book_urls = []  # 書籍ページのURLリスト\n",
    "a_tags = div_book_list.find_all('a')\n",
    "for a_tag in a_tags:\n",
    "    if a_tag['href'] not in book_urls:  # 重複しないように存在チェック\n",
    "        book_urls.append(a_tag['href'])\n",
    "book_urls"
   ]
  },
  {
   "cell_type": "code",
   "execution_count": 48,
   "metadata": {
    "pycharm": {
     "name": "#%%\n"
    }
   },
   "outputs": [],
   "source": [
    "def get_book_info(book_url):\n",
    "    # 書籍ページをスクレイピングする準備\n",
    "    res = requests.get(book_url)\n",
    "    html_doc = res.text\n",
    "    soup = BeautifulSoup(html_doc, 'html.parser')\n",
    "    \n",
    "    # 書籍情報のブロック\n",
    "    div_book_detail = soup.find('div', class_='block-book-detail')\n",
    "\n",
    "    # 書籍名\n",
    "    book_title = div_book_detail.find('h2')\n",
    "    # 値段\n",
    "    book_price = div_book_detail.find('p', class_='module-book-price')\n",
    "    \n",
    "    # 発売日・著者\n",
    "    book_data = {}\n",
    "    dl_book_data = div_book_detail.find('dl', class_='module-book-data')\n",
    "    for tag in dl_book_data.find_all(['dt', 'dd']):\n",
    "        if tag.name == 'dt':\n",
    "            key = tag.get_text()\n",
    "        if tag.name  == 'dd':\n",
    "            book_data[key] = tag.get_text().strip()\n",
    "\n",
    "    return [\n",
    "        book_title.get_text(),  # 書籍名\n",
    "        book_price.get_text(),  # 値段\n",
    "        book_data['発売日'],  # 発売日\n",
    "        book_data['著者'],  # 著者\n",
    "    ]"
   ]
  },
  {
   "cell_type": "code",
   "execution_count": 49,
   "metadata": {
    "pycharm": {
     "name": "#%%\n"
    }
   },
   "outputs": [
    {
     "data": {
      "text/plain": [
       "['いちばんやさしいPythonの教本 人気講師が教える基礎からサーバサイド開発まで',\n",
       " '2,420円（本体 2,200円＋税10%）',\n",
       " '2017/8/10',\n",
       " '鈴木 たかのり\\u3000著/杉谷 弥月\\u3000著/株式会社ビープラウド\\u3000著']"
      ]
     },
     "execution_count": 49,
     "metadata": {},
     "output_type": "execute_result"
    }
   ],
   "source": [
    "get_book_info('https://book.impress.co.jp/books/1116101151')"
   ]
  },
  {
   "cell_type": "code",
   "execution_count": 50,
   "metadata": {
    "pycharm": {
     "name": "#%%\n"
    }
   },
   "outputs": [
    {
     "name": "stdout",
     "output_type": "stream",
     "text": [
      "スクレイピング中:  https://book.impress.co.jp/books/1121101107\n",
      "スクレイピング中:  https://book.impress.co.jp/books/1122101010\n",
      "スクレイピング中:  https://book.impress.co.jp/books/1122101003\n",
      "スクレイピング中:  https://book.impress.co.jp/books/1122101004\n",
      "スクレイピング中:  https://book.impress.co.jp/books/1122101005\n",
      "スクレイピング中:  https://book.impress.co.jp/books/1122101008\n",
      "スクレイピング中:  https://book.impress.co.jp/books/1122101009\n",
      "スクレイピング中:  https://book.impress.co.jp/books/1122101011\n",
      "スクレイピング中:  https://book.impress.co.jp/books/1122101050\n",
      "スクレイピング中:  https://book.impress.co.jp/books/1122101054\n",
      "スクレイピング中:  https://book.impress.co.jp/books/1122101055\n",
      "スクレイピング中:  https://book.impress.co.jp/books/1121101077\n",
      "スクレイピング中:  https://book.impress.co.jp/books/1122101047\n",
      "スクレイピング中:  https://book.impress.co.jp/books/1122101048\n",
      "スクレイピング中:  https://book.impress.co.jp/books/1122101049\n",
      "スクレイピング中:  https://book.impress.co.jp/books/1122101001\n",
      "スクレイピング中:  https://book.impress.co.jp/books/1122101002\n",
      "スクレイピング中:  https://book.impress.co.jp/books/1122101006\n",
      "スクレイピング中:  https://book.impress.co.jp/books/1122101007\n",
      "スクレイピング中:  https://book.impress.co.jp/books/1121101139\n",
      "スクレイピング中:  https://book.impress.co.jp/books/1122101057\n",
      "スクレイピング中:  https://book.impress.co.jp/books/1122102044\n",
      "スクレイピング中:  https://book.impress.co.jp/books/1122101035\n",
      "スクレイピング中:  https://book.impress.co.jp/books/1122101046\n",
      "スクレイピング中:  https://book.impress.co.jp/books/1121101085\n",
      "スクレイピング中:  https://book.impress.co.jp/books/1122101025\n",
      "スクレイピング中:  https://book.impress.co.jp/books/1121101140\n",
      "スクレイピング中:  https://book.impress.co.jp/books/1121101099\n",
      "スクレイピング中:  https://book.impress.co.jp/books/1122101016\n",
      "スクレイピング中:  https://book.impress.co.jp/books/1122101036\n",
      "スクレイピング中:  https://book.impress.co.jp/books/1122102043\n",
      "スクレイピング中:  https://book.impress.co.jp/books/1122101030\n",
      "完了\n"
     ]
    }
   ],
   "source": [
    "import time\n",
    "\n",
    "book_info_list = []\n",
    "for book_url in book_urls:\n",
    "    print('スクレイピング中: ', book_url)\n",
    "    book_info_list.append(get_book_info(book_url))\n",
    "    time.sleep(0.1)\n",
    "print('完了')"
   ]
  },
  {
   "cell_type": "code",
   "execution_count": 51,
   "metadata": {
    "scrolled": false,
    "pycharm": {
     "name": "#%%\n"
    }
   },
   "outputs": [
    {
     "data": {
      "text/plain": [
       "[['いちばんやさしいEC担当者の教本 人気講師が教える新任1年目に身につけたい実務と知識',\n",
       "  '2,200円（本体 2,000円＋税10%）',\n",
       "  '2022/9/15',\n",
       "  '中島 郁\\u3000著/南茂 理恵\\u3000著'],\n",
       " ['【Amazon.co.jp限定】目標を楽しくおしゃれに叶えるオトナの勉強手帳 Study＋Diary2023',\n",
       "  '1,540円（本体 1,400円＋税10%）',\n",
       "  '2022/9/15',\n",
       "  'インプレス手帳編集部\\u3000編'],\n",
       " ['ふわころことり Schedule Book 2023',\n",
       "  '1,430円（本体 1,300円＋税10%）',\n",
       "  '2022/9/15',\n",
       "  'インプレス手帳編集部\\u3000編'],\n",
       " ['にゃんこのぷにぷに肉球手帳 2023',\n",
       "  '1,430円（本体 1,300円＋税10%）',\n",
       "  '2022/9/15',\n",
       "  'フェリシモ猫部\\u3000監修'],\n",
       " ['山野りんりん 猫まみれ手帳 2023',\n",
       "  '1,430円（本体 1,300円＋税10%）',\n",
       "  '2022/9/15',\n",
       "  'フェリシモ猫部\\u3000監修'],\n",
       " ['季節とともに機嫌よく過ごす暮らし手帳 2023',\n",
       "  '1,870円（本体 1,700円＋税10%）',\n",
       "  '2022/9/15',\n",
       "  'インプレス手帳編集部\\u3000編'],\n",
       " ['目標を楽しくおしゃれに叶えるオトナの勉強手帳 Study＋Diary2023',\n",
       "  '1,540円（本体 1,400円＋税10%）',\n",
       "  '2022/9/15',\n",
       "  'インプレス手帳編集部\\u3000編'],\n",
       " ['推しとの思い出を楽しくキロクする 推し活ライフ手帳2023',\n",
       "  '1,518円（本体 1,380円＋税10%）',\n",
       "  '2022/9/15',\n",
       "  'インプレス手帳編集部\\u3000編'],\n",
       " ['できるポケット Word & Excel 2021 基本＆活用マスターブック Office 2021&Microsoft 365両対応',\n",
       "  '1,408円（本体 1,280円＋税10%）',\n",
       "  '2022/9/13',\n",
       "  '田中\\u3000亘\\u3000著/羽毛田睦土\\u3000著/できるシリーズ編集部\\u3000著'],\n",
       " ['1週間で解き方がわかる数的推理 いちばんやさしい公務員試験テキスト＆問題集',\n",
       "  '1,760円（本体 1,600円＋税10%）',\n",
       "  '2022/9/13',\n",
       "  '西川 マキ\\u3000著'],\n",
       " ['1週間で解き方がわかる判断推理 いちばんやさしい公務員試験テキスト＆問題集',\n",
       "  '1,760円（本体 1,600円＋税10%）',\n",
       "  '2022/9/13',\n",
       "  '西川 マキ\\u3000著'],\n",
       " ['はたらくiPad いつもの仕事のこんな場面で',\n",
       "  '1,650円（本体 1,500円＋税10%）',\n",
       "  '2022/9/13',\n",
       "  '五藤 晴菜\\u3000著'],\n",
       " ['できるポケット Excel 2021 基本＆活用マスターブック Office 2021＆Microsoft 365両対応',\n",
       "  '858円（本体 780円＋税10%）',\n",
       "  '2022/9/6',\n",
       "  '羽毛田睦土\\u3000著/できるシリーズ編集部\\u3000著'],\n",
       " ['できるポケット Word 2021 基本＆活用マスターブック Office 2021＆Microsoft 365両対応',\n",
       "  '858円（本体 780円＋税10%）',\n",
       "  '2022/9/6',\n",
       "  '田中亘\\u3000著/できるシリーズ編集部\\u3000著'],\n",
       " ['できるポケット PowerPoint 2021 基本&活用マスターブック Office 2021&Microsoft 365両対応',\n",
       "  '968円（本体 880円＋税10%）',\n",
       "  '2022/9/6',\n",
       "  '井上 香緒里\\u3000著/できるシリーズ編集部\\u3000著'],\n",
       " ['ふわふわCats Diary 2023', '880円（本体 800円＋税10%）', '2022/9/6', '石橋 絵\\u3000写真'],\n",
       " ['ころころしばいぬDiary 2023',\n",
       "  '880円（本体 800円＋税10%）',\n",
       "  '2022/9/6',\n",
       "  '小川晃代\\u3000写真/湯沢祐介\\u3000写真'],\n",
       " ['お金がどんどん貯まる手帳2023',\n",
       "  '1,100円（本体 1,000円＋税10%）',\n",
       "  '2022/9/6',\n",
       "  'インプレス手帳編集部\\u3000編'],\n",
       " ['予定がパパッと見やすいママの手帳 FAMILY DIARY 2023',\n",
       "  '1,320円（本体 1,200円＋税10%）',\n",
       "  '2022/9/6',\n",
       "  'インプレス手帳編集部\\u3000編'],\n",
       " ['試験にココが出る！ 2級ボイラー技士 教科書＋実践問題',\n",
       "  '2,200円（本体 2,000円＋税10%）',\n",
       "  '2022/9/6',\n",
       "  '株式会社ノマド・ワークス\\u3000著'],\n",
       " ['できるポケットExcel困った！＆便利技323 Office 2021/2019/2016&Microsoft 365対応',\n",
       "  '968円（本体 880円＋税10%）',\n",
       "  '2022/9/1',\n",
       "  'きたみあきこ\\u3000著/できるシリーズ編集部\\u3000著'],\n",
       " ['世界一やさしいスマートフォン 2022～2023 最新版',\n",
       "  '528円（本体 480円＋税10%）',\n",
       "  '2022/9/1',\n",
       "  'TEKIKAKU\\u3000著/岡嶋裕史\\u3000著'],\n",
       " ['いちばんやさしいGoogleアナリティクス4の教本 人気講師が教える行動計測とユーザー理解の基本',\n",
       "  '2,178円（本体 1,980円＋税10%）',\n",
       "  '2022/8/26',\n",
       "  '山浦直宏\\u3000著/高田和資\\u3000著/藤田佳浩\\u3000著'],\n",
       " ['徹底攻略 ネットワークスペシャリスト教科書 令和5年度',\n",
       "  '3,058円（本体 2,780円＋税10%）',\n",
       "  '2022/8/25',\n",
       "  '株式会社わくわくスタディワールド 瀬戸美月\\u3000著'],\n",
       " ['3秒で勝負を決める ビジネスTikTok 新しい時代の動画マーケティング（できるビジネス）',\n",
       "  '1,760円（本体 1,600円＋税10%）',\n",
       "  '2022/8/25',\n",
       "  '堀越大樹\\u3000著'],\n",
       " ['スラスラ読める JavaScriptふりがなプログラミング 増補改訂版',\n",
       "  '2,178円（本体 1,980円＋税10%）',\n",
       "  '2022/8/23',\n",
       "  'リブロワークス\\u3000著/及川卓也\\u3000監修'],\n",
       " ['できるポケット Web制作必携 HTML&CSS全事典 改訂3版',\n",
       "  '2,068円（本体 1,880円＋税10%）',\n",
       "  '2022/8/22',\n",
       "  '加藤善規\\u3000著/できるシリーズ編集部\\u3000著'],\n",
       " ['誰でもおしゃれにプロっぽく スマホ1台で動画制作はじめます！',\n",
       "  '2,090円（本体 1,900円＋税10%）',\n",
       "  '2022/8/18',\n",
       "  'JEMMA\\u3000著'],\n",
       " ['できるポケット 時短の王道 Excel関数全事典 改訂3版 2021/2019/2016/2013 & Microsoft 365対応',\n",
       "  '1,518円（本体 1,380円＋税10%）',\n",
       "  '2022/8/18',\n",
       "  '羽山 博\\u3000著/吉川 明広\\u3000著/できるシリーズ編集部\\u3000著'],\n",
       " ['できるExcel関数 Office 2021/2019/2016&Microsoft 365対応',\n",
       "  '1,738円（本体 1,580円＋税10%）',\n",
       "  '2022/8/17',\n",
       "  '尾崎 裕子\\u3000著/できるシリーズ編集部\\u3000著'],\n",
       " ['世界一やさしいパワーポイント2021', '528円（本体 480円＋税10%）', '2022/8/16', 'トップスタジオ\\u3000著'],\n",
       " ['できるExcel パーフェクトブック 困った！＆便利ワザ大全 Office 2021/2019/2016 & Microsoft 365対応',\n",
       "  '1,628円（本体 1,480円＋税10%）',\n",
       "  '2022/8/12',\n",
       "  'きたみあきこ\\u3000著/できるシリーズ編集部\\u3000著']]"
      ]
     },
     "execution_count": 51,
     "metadata": {},
     "output_type": "execute_result"
    }
   ],
   "source": [
    "book_info_list"
   ]
  },
  {
   "cell_type": "markdown",
   "metadata": {
    "pycharm": {
     "name": "#%% md\n"
    }
   },
   "source": [
    "### 手順パート: 収集した書籍情報を保存する"
   ]
  },
  {
   "cell_type": "code",
   "execution_count": 52,
   "metadata": {
    "pycharm": {
     "name": "#%%\n"
    }
   },
   "outputs": [],
   "source": [
    "with open('book_data.tsv', 'w', encoding='utf-8') as f:\n",
    "    for book_info in book_info_list:\n",
    "        f.write('\\t'.join(book_info) + '\\n')"
   ]
  },
  {
   "cell_type": "markdown",
   "metadata": {
    "pycharm": {
     "name": "#%% md\n"
    }
   },
   "source": [
    "### 手順パート: TSVファイルから書籍を検索する"
   ]
  },
  {
   "cell_type": "code",
   "execution_count": 53,
   "metadata": {
    "pycharm": {
     "name": "#%%\n"
    }
   },
   "outputs": [],
   "source": [
    "def book_search(keyword):  # キーワードを受け取る\n",
    "    results = []  # キーワードが含まれる行を格納する\n",
    "    with open('book_data.tsv', encoding='utf-8') as f:  # tsvファイルを開く\n",
    "        for line in f:  # 各行を読み込む\n",
    "            cols = line.split('\\t')  # タブ文字で分割する\n",
    "            if keyword in cols[0]:  # 書籍名にキーワードが含まれるか\n",
    "                results.append(line)\n",
    "    if len(results) > 0:  # 1件以上検索ヒットした場合\n",
    "        response =  ''.join(results)  # 連結する\n",
    "    else:  # 検索ヒットしたものがなかった場合\n",
    "        response = '「{}」ガ含マレル書籍ガ見ツカリマセンデシタ'.format(keyword)\n",
    "    return response"
   ]
  },
  {
   "cell_type": "code",
   "execution_count": 57,
   "metadata": {
    "pycharm": {
     "name": "#%%\n"
    }
   },
   "outputs": [
    {
     "name": "stdout",
     "output_type": "stream",
     "text": [
      "「1500」ガ含マレル書籍ガ見ツカリマセンデシタ\n"
     ]
    }
   ],
   "source": [
    "response = book_search('1500')\n",
    "print(response)"
   ]
  },
  {
   "cell_type": "code",
   "execution_count": 31,
   "metadata": {
    "pycharm": {
     "name": "#%%\n"
    }
   },
   "outputs": [
    {
     "name": "stdout",
     "output_type": "stream",
     "text": [
      "「寿司」ガ含マレル書籍ガ見ツカリマセンデシタ\n"
     ]
    }
   ],
   "source": [
    "response = book_search('寿司')\n",
    "print(response)"
   ]
  }
 ],
 "metadata": {
  "kernelspec": {
   "display_name": "Python 3 (ipykernel)",
   "language": "python",
   "name": "python3"
  },
  "language_info": {
   "codemirror_mode": {
    "name": "ipython",
    "version": 3
   },
   "file_extension": ".py",
   "mimetype": "text/x-python",
   "name": "python",
   "nbconvert_exporter": "python",
   "pygments_lexer": "ipython3",
   "version": "3.9.12"
  }
 },
 "nbformat": 4,
 "nbformat_minor": 2
}