{
 "cells": [
  {
   "cell_type": "markdown",
   "metadata": {},
   "source": [
    "# Chapter 5. 手書きの文字を認識しよう\n",
    "\n",
    "このNotebookはLesson 39で作成するもので、作成した学習済みモデルの利用に使います。\n",
    "学習済みモデルの作成までのコードは（Lesson 37から48まで）は、 `chapter5-moji.ipynb` を参照してください。"
   ]
  },
  {
   "cell_type": "markdown",
   "metadata": {},
   "source": [
    "## Lesson 48. 学習済みモデルを作ってみましょう"
   ]
  },
  {
   "cell_type": "code",
   "execution_count": 1,
   "metadata": {},
   "outputs": [
    {
     "data": {
      "text/plain": [
       "LogisticRegression(random_state=0, solver='liblinear')"
      ]
     },
     "execution_count": 1,
     "metadata": {},
     "output_type": "execute_result"
    }
   ],
   "source": [
    "import pickle\n",
    "\n",
    "\n",
    "with open('trained-model.pickle', 'rb') as fp:\n",
    "    loaded_clf = pickle.load(fp)\n",
    "        \n",
    "loaded_clf"
   ]
  },
  {
   "cell_type": "code",
   "execution_count": 2,
   "metadata": {},
   "outputs": [
    {
     "data": {
      "text/plain": [
       "array([0.        , 2.13333333, 3.95294118, 4.01568627, 3.51372549,\n",
       "       0.43921569, 0.        , 0.        , 3.82745098, 3.95294118,\n",
       "       0.87843137, 0.1254902 , 1.50588235, 2.13333333, 0.        ,\n",
       "       0.        , 1.81960784, 0.        , 0.        , 0.        ,\n",
       "       0.        , 2.76078431, 0.        , 0.        , 0.        ,\n",
       "       0.        , 0.        , 0.        , 0.87843137, 3.45098039,\n",
       "       0.        , 0.        , 0.        , 0.        , 0.        ,\n",
       "       0.1254902 , 3.63921569, 1.19215686, 0.        , 0.        ,\n",
       "       0.        , 0.        , 1.44313725, 5.33333333, 2.69803922,\n",
       "       0.        , 0.        , 0.        , 1.31764706, 4.20392157,\n",
       "       3.82745098, 2.00784314, 2.94901961, 2.25882353, 1.00392157,\n",
       "       2.57254902, 2.44705882, 1.56862745, 0.        , 0.        ,\n",
       "       0.        , 2.07058824, 3.2627451 , 1.38039216])"
      ]
     },
     "execution_count": 2,
     "metadata": {},
     "output_type": "execute_result"
    }
   ],
   "source": [
    "import numpy\n",
    "from PIL import Image, ImageEnhance, ImageOps\n",
    "\n",
    "im = Image.open('mydigit.jpg')\n",
    "im_enhanced = ImageEnhance.Brightness(im).enhance(2)\n",
    "im_gray = im_enhanced.convert(mode='L')\n",
    "im_8x8 = im_gray.resize((8, 8))\n",
    "im_inverted = ImageOps.invert(im_8x8)\n",
    "X_im2d = numpy.asarray(im_inverted)\n",
    "X_im1d = X_im2d.reshape(-1)\n",
    "X_multiplied = X_im1d * (16 / 255)\n",
    "X_multiplied"
   ]
  },
  {
   "cell_type": "code",
   "execution_count": 3,
   "metadata": {},
   "outputs": [
    {
     "data": {
      "text/plain": [
       "2"
      ]
     },
     "execution_count": 3,
     "metadata": {},
     "output_type": "execute_result"
    }
   ],
   "source": [
    "loaded_clf.predict([X_multiplied])[0]"
   ]
  },
  {
   "cell_type": "code",
   "execution_count": null,
   "metadata": {},
   "outputs": [],
   "source": []
  }
 ],
 "metadata": {
  "kernelspec": {
   "display_name": "Python 3 (ipykernel)",
   "language": "python",
   "name": "python3"
  },
  "language_info": {
   "codemirror_mode": {
    "name": "ipython",
    "version": 3
   },
   "file_extension": ".py",
   "mimetype": "text/x-python",
   "name": "python",
   "nbconvert_exporter": "python",
   "pygments_lexer": "ipython3",
   "version": "3.9.12"
  }
 },
 "nbformat": 4,
 "nbformat_minor": 2
}
