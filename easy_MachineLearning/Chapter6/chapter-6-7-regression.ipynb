{
 "cells": [
  {
   "cell_type": "markdown",
   "metadata": {
    "pycharm": {
     "name": "#%% md\n"
    }
   },
   "source": [
    "Chapter 6とChapter 7は同じNotebookを使います。各Chapterの先頭のセルへは以下のリンクから移動できます。\n",
    "\n",
    "* [Chapter 6. 表形式のデータを前処理しよう](#Chapter-6.-表形式のデータを前処理しよう)\n",
    "* [Chapter 7. データを予測する回帰分析を学ぼう](#Chapter-7.-データを予測する回帰分析を学ぼう)"
   ]
  },
  {
   "cell_type": "markdown",
   "metadata": {
    "pycharm": {
     "name": "#%% md\n"
    }
   },
   "source": [
    "# Chapter 6. 表形式のデータを前処理しよう"
   ]
  },
  {
   "cell_type": "markdown",
   "metadata": {
    "pycharm": {
     "name": "#%% md\n"
    }
   },
   "source": [
    "## Lesson 51. pandasでファイルを読み込んでみましょう"
   ]
  },
  {
   "cell_type": "code",
   "execution_count": 108,
   "metadata": {
    "pycharm": {
     "name": "#%%\n"
    }
   },
   "outputs": [
    {
     "data": {
      "text/plain": "           date station  temp\n0      2018/9/1      札幌  19.5\n1      2018/9/1      青森  21.5\n2      2018/9/1      仙台  21.5\n3      2018/9/1      東京  25.9\n4      2018/9/1      福岡  25.5\n...         ...     ...   ...\n1495  2018/9/30      長崎  21.9\n1496  2018/9/30      佐賀  21.3\n1497  2018/9/30      熊本  20.7\n1498  2018/9/30      稚内  16.6\n1499  2018/9/30      函館  17.6\n\n[1500 rows x 3 columns]",
      "text/html": "<div>\n<style scoped>\n    .dataframe tbody tr th:only-of-type {\n        vertical-align: middle;\n    }\n\n    .dataframe tbody tr th {\n        vertical-align: top;\n    }\n\n    .dataframe thead th {\n        text-align: right;\n    }\n</style>\n<table border=\"1\" class=\"dataframe\">\n  <thead>\n    <tr style=\"text-align: right;\">\n      <th></th>\n      <th>date</th>\n      <th>station</th>\n      <th>temp</th>\n    </tr>\n  </thead>\n  <tbody>\n    <tr>\n      <th>0</th>\n      <td>2018/9/1</td>\n      <td>札幌</td>\n      <td>19.5</td>\n    </tr>\n    <tr>\n      <th>1</th>\n      <td>2018/9/1</td>\n      <td>青森</td>\n      <td>21.5</td>\n    </tr>\n    <tr>\n      <th>2</th>\n      <td>2018/9/1</td>\n      <td>仙台</td>\n      <td>21.5</td>\n    </tr>\n    <tr>\n      <th>3</th>\n      <td>2018/9/1</td>\n      <td>東京</td>\n      <td>25.9</td>\n    </tr>\n    <tr>\n      <th>4</th>\n      <td>2018/9/1</td>\n      <td>福岡</td>\n      <td>25.5</td>\n    </tr>\n    <tr>\n      <th>...</th>\n      <td>...</td>\n      <td>...</td>\n      <td>...</td>\n    </tr>\n    <tr>\n      <th>1495</th>\n      <td>2018/9/30</td>\n      <td>長崎</td>\n      <td>21.9</td>\n    </tr>\n    <tr>\n      <th>1496</th>\n      <td>2018/9/30</td>\n      <td>佐賀</td>\n      <td>21.3</td>\n    </tr>\n    <tr>\n      <th>1497</th>\n      <td>2018/9/30</td>\n      <td>熊本</td>\n      <td>20.7</td>\n    </tr>\n    <tr>\n      <th>1498</th>\n      <td>2018/9/30</td>\n      <td>稚内</td>\n      <td>16.6</td>\n    </tr>\n    <tr>\n      <th>1499</th>\n      <td>2018/9/30</td>\n      <td>函館</td>\n      <td>17.6</td>\n    </tr>\n  </tbody>\n</table>\n<p>1500 rows × 3 columns</p>\n</div>"
     },
     "execution_count": 108,
     "metadata": {},
     "output_type": "execute_result"
    }
   ],
   "source": [
    "import pandas  # pandasをインポートする\n",
    "\n",
    "df = pandas.read_csv(\n",
    "    'data.csv',  # 読み込むファイルの場所を指定する\n",
    "    encoding='Shift_JIS',  # 文字コードはShift_JIS\n",
    ")\n",
    "df"
   ]
  },
  {
   "cell_type": "markdown",
   "metadata": {
    "pycharm": {
     "name": "#%% md\n"
    }
   },
   "source": [
    "## Lesson 52. pandasで表データから行を取り出してみましょう"
   ]
  },
  {
   "cell_type": "code",
   "execution_count": 109,
   "metadata": {
    "pycharm": {
     "name": "#%%\n"
    }
   },
   "outputs": [
    {
     "data": {
      "text/plain": "    name  price  amount\n0    リンゴ     76       2\n1     ゴマ    230       1\n2    マグロ    580       7\n3   ロコモコ    310       3\n4   コショウ    108       3\n5   ウノハナ    216       3\n6     ナシ    126       3\n7  シュウマイ    860       3\n8     イカ    460       3\n9     カキ    324       3",
      "text/html": "<div>\n<style scoped>\n    .dataframe tbody tr th:only-of-type {\n        vertical-align: middle;\n    }\n\n    .dataframe tbody tr th {\n        vertical-align: top;\n    }\n\n    .dataframe thead th {\n        text-align: right;\n    }\n</style>\n<table border=\"1\" class=\"dataframe\">\n  <thead>\n    <tr style=\"text-align: right;\">\n      <th></th>\n      <th>name</th>\n      <th>price</th>\n      <th>amount</th>\n    </tr>\n  </thead>\n  <tbody>\n    <tr>\n      <th>0</th>\n      <td>リンゴ</td>\n      <td>76</td>\n      <td>2</td>\n    </tr>\n    <tr>\n      <th>1</th>\n      <td>ゴマ</td>\n      <td>230</td>\n      <td>1</td>\n    </tr>\n    <tr>\n      <th>2</th>\n      <td>マグロ</td>\n      <td>580</td>\n      <td>7</td>\n    </tr>\n    <tr>\n      <th>3</th>\n      <td>ロコモコ</td>\n      <td>310</td>\n      <td>3</td>\n    </tr>\n    <tr>\n      <th>4</th>\n      <td>コショウ</td>\n      <td>108</td>\n      <td>3</td>\n    </tr>\n    <tr>\n      <th>5</th>\n      <td>ウノハナ</td>\n      <td>216</td>\n      <td>3</td>\n    </tr>\n    <tr>\n      <th>6</th>\n      <td>ナシ</td>\n      <td>126</td>\n      <td>3</td>\n    </tr>\n    <tr>\n      <th>7</th>\n      <td>シュウマイ</td>\n      <td>860</td>\n      <td>3</td>\n    </tr>\n    <tr>\n      <th>8</th>\n      <td>イカ</td>\n      <td>460</td>\n      <td>3</td>\n    </tr>\n    <tr>\n      <th>9</th>\n      <td>カキ</td>\n      <td>324</td>\n      <td>3</td>\n    </tr>\n  </tbody>\n</table>\n</div>"
     },
     "execution_count": 109,
     "metadata": {},
     "output_type": "execute_result"
    }
   ],
   "source": [
    "df_ch6_3 = pandas.DataFrame([\n",
    "    ('リンゴ', 76, 2),\n",
    "    ('ゴマ', 230, 1),\n",
    "    ('マグロ', 580, 7),\n",
    "    ('ロコモコ', 310, 3),\n",
    "    ('コショウ', 108, 3),\n",
    "    ('ウノハナ', 216, 3),\n",
    "    ('ナシ', 126, 3),\n",
    "    ('シュウマイ', 860, 3),\n",
    "    ('イカ', 460, 3),\n",
    "    ('カキ', 324, 3),\n",
    "], columns=['name', 'price', 'amount'])\n",
    "df_ch6_3"
   ]
  },
  {
   "cell_type": "code",
   "execution_count": 110,
   "metadata": {
    "pycharm": {
     "name": "#%%\n"
    }
   },
   "outputs": [
    {
     "data": {
      "text/plain": "   name  price  amount\n0   リンゴ     76       2\n1    ゴマ    230       1\n2   マグロ    580       7\n3  ロコモコ    310       3\n4  コショウ    108       3",
      "text/html": "<div>\n<style scoped>\n    .dataframe tbody tr th:only-of-type {\n        vertical-align: middle;\n    }\n\n    .dataframe tbody tr th {\n        vertical-align: top;\n    }\n\n    .dataframe thead th {\n        text-align: right;\n    }\n</style>\n<table border=\"1\" class=\"dataframe\">\n  <thead>\n    <tr style=\"text-align: right;\">\n      <th></th>\n      <th>name</th>\n      <th>price</th>\n      <th>amount</th>\n    </tr>\n  </thead>\n  <tbody>\n    <tr>\n      <th>0</th>\n      <td>リンゴ</td>\n      <td>76</td>\n      <td>2</td>\n    </tr>\n    <tr>\n      <th>1</th>\n      <td>ゴマ</td>\n      <td>230</td>\n      <td>1</td>\n    </tr>\n    <tr>\n      <th>2</th>\n      <td>マグロ</td>\n      <td>580</td>\n      <td>7</td>\n    </tr>\n    <tr>\n      <th>3</th>\n      <td>ロコモコ</td>\n      <td>310</td>\n      <td>3</td>\n    </tr>\n    <tr>\n      <th>4</th>\n      <td>コショウ</td>\n      <td>108</td>\n      <td>3</td>\n    </tr>\n  </tbody>\n</table>\n</div>"
     },
     "execution_count": 110,
     "metadata": {},
     "output_type": "execute_result"
    }
   ],
   "source": [
    "df_ch6_3.head()"
   ]
  },
  {
   "cell_type": "code",
   "execution_count": 111,
   "metadata": {
    "pycharm": {
     "name": "#%%\n"
    }
   },
   "outputs": [
    {
     "data": {
      "text/plain": "    name  price  amount\n5   ウノハナ    216       3\n6     ナシ    126       3\n7  シュウマイ    860       3\n8     イカ    460       3\n9     カキ    324       3",
      "text/html": "<div>\n<style scoped>\n    .dataframe tbody tr th:only-of-type {\n        vertical-align: middle;\n    }\n\n    .dataframe tbody tr th {\n        vertical-align: top;\n    }\n\n    .dataframe thead th {\n        text-align: right;\n    }\n</style>\n<table border=\"1\" class=\"dataframe\">\n  <thead>\n    <tr style=\"text-align: right;\">\n      <th></th>\n      <th>name</th>\n      <th>price</th>\n      <th>amount</th>\n    </tr>\n  </thead>\n  <tbody>\n    <tr>\n      <th>5</th>\n      <td>ウノハナ</td>\n      <td>216</td>\n      <td>3</td>\n    </tr>\n    <tr>\n      <th>6</th>\n      <td>ナシ</td>\n      <td>126</td>\n      <td>3</td>\n    </tr>\n    <tr>\n      <th>7</th>\n      <td>シュウマイ</td>\n      <td>860</td>\n      <td>3</td>\n    </tr>\n    <tr>\n      <th>8</th>\n      <td>イカ</td>\n      <td>460</td>\n      <td>3</td>\n    </tr>\n    <tr>\n      <th>9</th>\n      <td>カキ</td>\n      <td>324</td>\n      <td>3</td>\n    </tr>\n  </tbody>\n</table>\n</div>"
     },
     "execution_count": 111,
     "metadata": {},
     "output_type": "execute_result"
    }
   ],
   "source": [
    "df_ch6_3.tail()"
   ]
  },
  {
   "cell_type": "code",
   "execution_count": 112,
   "metadata": {
    "pycharm": {
     "name": "#%%\n"
    }
   },
   "outputs": [
    {
     "data": {
      "text/plain": "   name  price  amount\n2   マグロ    580       7\n3  ロコモコ    310       3\n4  コショウ    108       3",
      "text/html": "<div>\n<style scoped>\n    .dataframe tbody tr th:only-of-type {\n        vertical-align: middle;\n    }\n\n    .dataframe tbody tr th {\n        vertical-align: top;\n    }\n\n    .dataframe thead th {\n        text-align: right;\n    }\n</style>\n<table border=\"1\" class=\"dataframe\">\n  <thead>\n    <tr style=\"text-align: right;\">\n      <th></th>\n      <th>name</th>\n      <th>price</th>\n      <th>amount</th>\n    </tr>\n  </thead>\n  <tbody>\n    <tr>\n      <th>2</th>\n      <td>マグロ</td>\n      <td>580</td>\n      <td>7</td>\n    </tr>\n    <tr>\n      <th>3</th>\n      <td>ロコモコ</td>\n      <td>310</td>\n      <td>3</td>\n    </tr>\n    <tr>\n      <th>4</th>\n      <td>コショウ</td>\n      <td>108</td>\n      <td>3</td>\n    </tr>\n  </tbody>\n</table>\n</div>"
     },
     "execution_count": 112,
     "metadata": {},
     "output_type": "execute_result"
    }
   ],
   "source": [
    "df_ch6_3.iloc[2:5]"
   ]
  },
  {
   "cell_type": "code",
   "execution_count": 113,
   "metadata": {
    "pycharm": {
     "name": "#%%\n"
    }
   },
   "outputs": [
    {
     "data": {
      "text/plain": "       date station  temp\n0  2018/9/1      札幌  19.5\n1  2018/9/1      青森  21.5\n2  2018/9/1      仙台  21.5\n3  2018/9/1      東京  25.9\n4  2018/9/1      福岡  25.5",
      "text/html": "<div>\n<style scoped>\n    .dataframe tbody tr th:only-of-type {\n        vertical-align: middle;\n    }\n\n    .dataframe tbody tr th {\n        vertical-align: top;\n    }\n\n    .dataframe thead th {\n        text-align: right;\n    }\n</style>\n<table border=\"1\" class=\"dataframe\">\n  <thead>\n    <tr style=\"text-align: right;\">\n      <th></th>\n      <th>date</th>\n      <th>station</th>\n      <th>temp</th>\n    </tr>\n  </thead>\n  <tbody>\n    <tr>\n      <th>0</th>\n      <td>2018/9/1</td>\n      <td>札幌</td>\n      <td>19.5</td>\n    </tr>\n    <tr>\n      <th>1</th>\n      <td>2018/9/1</td>\n      <td>青森</td>\n      <td>21.5</td>\n    </tr>\n    <tr>\n      <th>2</th>\n      <td>2018/9/1</td>\n      <td>仙台</td>\n      <td>21.5</td>\n    </tr>\n    <tr>\n      <th>3</th>\n      <td>2018/9/1</td>\n      <td>東京</td>\n      <td>25.9</td>\n    </tr>\n    <tr>\n      <th>4</th>\n      <td>2018/9/1</td>\n      <td>福岡</td>\n      <td>25.5</td>\n    </tr>\n  </tbody>\n</table>\n</div>"
     },
     "execution_count": 113,
     "metadata": {},
     "output_type": "execute_result"
    }
   ],
   "source": [
    "df.head()"
   ]
  },
  {
   "cell_type": "code",
   "execution_count": 114,
   "metadata": {
    "pycharm": {
     "name": "#%%\n"
    }
   },
   "outputs": [
    {
     "data": {
      "text/plain": "           date station  temp\n1495  2018/9/30      長崎  21.9\n1496  2018/9/30      佐賀  21.3\n1497  2018/9/30      熊本  20.7\n1498  2018/9/30      稚内  16.6\n1499  2018/9/30      函館  17.6",
      "text/html": "<div>\n<style scoped>\n    .dataframe tbody tr th:only-of-type {\n        vertical-align: middle;\n    }\n\n    .dataframe tbody tr th {\n        vertical-align: top;\n    }\n\n    .dataframe thead th {\n        text-align: right;\n    }\n</style>\n<table border=\"1\" class=\"dataframe\">\n  <thead>\n    <tr style=\"text-align: right;\">\n      <th></th>\n      <th>date</th>\n      <th>station</th>\n      <th>temp</th>\n    </tr>\n  </thead>\n  <tbody>\n    <tr>\n      <th>1495</th>\n      <td>2018/9/30</td>\n      <td>長崎</td>\n      <td>21.9</td>\n    </tr>\n    <tr>\n      <th>1496</th>\n      <td>2018/9/30</td>\n      <td>佐賀</td>\n      <td>21.3</td>\n    </tr>\n    <tr>\n      <th>1497</th>\n      <td>2018/9/30</td>\n      <td>熊本</td>\n      <td>20.7</td>\n    </tr>\n    <tr>\n      <th>1498</th>\n      <td>2018/9/30</td>\n      <td>稚内</td>\n      <td>16.6</td>\n    </tr>\n    <tr>\n      <th>1499</th>\n      <td>2018/9/30</td>\n      <td>函館</td>\n      <td>17.6</td>\n    </tr>\n  </tbody>\n</table>\n</div>"
     },
     "execution_count": 114,
     "metadata": {},
     "output_type": "execute_result"
    }
   ],
   "source": [
    "df.tail()"
   ]
  },
  {
   "cell_type": "code",
   "execution_count": 115,
   "metadata": {
    "pycharm": {
     "name": "#%%\n"
    }
   },
   "outputs": [
    {
     "data": {
      "text/plain": "       date station  temp\n2  2018/9/1      仙台  21.5\n3  2018/9/1      東京  25.9\n4  2018/9/1      福岡  25.5\n5  2018/9/1     鹿児島  26.8\n6  2018/9/1      那覇  27.6",
      "text/html": "<div>\n<style scoped>\n    .dataframe tbody tr th:only-of-type {\n        vertical-align: middle;\n    }\n\n    .dataframe tbody tr th {\n        vertical-align: top;\n    }\n\n    .dataframe thead th {\n        text-align: right;\n    }\n</style>\n<table border=\"1\" class=\"dataframe\">\n  <thead>\n    <tr style=\"text-align: right;\">\n      <th></th>\n      <th>date</th>\n      <th>station</th>\n      <th>temp</th>\n    </tr>\n  </thead>\n  <tbody>\n    <tr>\n      <th>2</th>\n      <td>2018/9/1</td>\n      <td>仙台</td>\n      <td>21.5</td>\n    </tr>\n    <tr>\n      <th>3</th>\n      <td>2018/9/1</td>\n      <td>東京</td>\n      <td>25.9</td>\n    </tr>\n    <tr>\n      <th>4</th>\n      <td>2018/9/1</td>\n      <td>福岡</td>\n      <td>25.5</td>\n    </tr>\n    <tr>\n      <th>5</th>\n      <td>2018/9/1</td>\n      <td>鹿児島</td>\n      <td>26.8</td>\n    </tr>\n    <tr>\n      <th>6</th>\n      <td>2018/9/1</td>\n      <td>那覇</td>\n      <td>27.6</td>\n    </tr>\n  </tbody>\n</table>\n</div>"
     },
     "execution_count": 115,
     "metadata": {},
     "output_type": "execute_result"
    }
   ],
   "source": [
    "df_sliced = df.iloc[2:7]  # 2~6番目の行を取り出す\n",
    "df_sliced  # Jupyter Notebook上に表示する"
   ]
  },
  {
   "cell_type": "code",
   "execution_count": 116,
   "metadata": {
    "pycharm": {
     "name": "#%%\n"
    }
   },
   "outputs": [
    {
     "data": {
      "text/plain": "       date station  temp\n3  2018/9/1      東京  25.9\n4  2018/9/1      福岡  25.5\n5  2018/9/1     鹿児島  26.8",
      "text/html": "<div>\n<style scoped>\n    .dataframe tbody tr th:only-of-type {\n        vertical-align: middle;\n    }\n\n    .dataframe tbody tr th {\n        vertical-align: top;\n    }\n\n    .dataframe thead th {\n        text-align: right;\n    }\n</style>\n<table border=\"1\" class=\"dataframe\">\n  <thead>\n    <tr style=\"text-align: right;\">\n      <th></th>\n      <th>date</th>\n      <th>station</th>\n      <th>temp</th>\n    </tr>\n  </thead>\n  <tbody>\n    <tr>\n      <th>3</th>\n      <td>2018/9/1</td>\n      <td>東京</td>\n      <td>25.9</td>\n    </tr>\n    <tr>\n      <th>4</th>\n      <td>2018/9/1</td>\n      <td>福岡</td>\n      <td>25.5</td>\n    </tr>\n    <tr>\n      <th>5</th>\n      <td>2018/9/1</td>\n      <td>鹿児島</td>\n      <td>26.8</td>\n    </tr>\n  </tbody>\n</table>\n</div>"
     },
     "execution_count": 116,
     "metadata": {},
     "output_type": "execute_result"
    }
   ],
   "source": [
    "df_sliced.iloc[1:4]"
   ]
  },
  {
   "cell_type": "markdown",
   "metadata": {
    "pycharm": {
     "name": "#%% md\n"
    }
   },
   "source": [
    "## Lesson 53. DataFrameから列を取り出して操作してみましょう"
   ]
  },
  {
   "cell_type": "code",
   "execution_count": 117,
   "metadata": {
    "pycharm": {
     "name": "#%%\n"
    }
   },
   "outputs": [
    {
     "data": {
      "text/plain": "0       19.5\n1       21.5\n2       21.5\n3       25.9\n4       25.5\n        ... \n1495    21.9\n1496    21.3\n1497    20.7\n1498    16.6\n1499    17.6\nName: temp, Length: 1500, dtype: float64"
     },
     "execution_count": 117,
     "metadata": {},
     "output_type": "execute_result"
    }
   ],
   "source": [
    "series_temp = df['temp']\n",
    "series_temp"
   ]
  },
  {
   "cell_type": "code",
   "execution_count": 118,
   "metadata": {
    "pycharm": {
     "name": "#%%\n"
    }
   },
   "outputs": [
    {
     "data": {
      "text/plain": "23.020840197693538"
     },
     "execution_count": 118,
     "metadata": {},
     "output_type": "execute_result"
    }
   ],
   "source": [
    "mean_temp = series_temp.mean()\n",
    "mean_temp"
   ]
  },
  {
   "cell_type": "code",
   "execution_count": 119,
   "metadata": {
    "pycharm": {
     "name": "#%%\n"
    }
   },
   "outputs": [
    {
     "data": {
      "text/plain": "0       19.5\n1       21.5\n2       21.5\n3       25.9\n4       25.5\n        ... \n1495    21.9\n1496    21.3\n1497    20.7\n1498    16.6\n1499    17.6\nName: temp, Length: 1500, dtype: float64"
     },
     "execution_count": 119,
     "metadata": {},
     "output_type": "execute_result"
    }
   ],
   "source": [
    "series_filled = series_temp.fillna(mean_temp)\n",
    "series_filled"
   ]
  },
  {
   "cell_type": "code",
   "execution_count": 120,
   "metadata": {
    "scrolled": false,
    "pycharm": {
     "name": "#%%\n"
    }
   },
   "outputs": [
    {
     "data": {
      "text/plain": "           date station  temp\n0      2018/9/1      札幌  19.5\n1      2018/9/1      青森  21.5\n2      2018/9/1      仙台  21.5\n3      2018/9/1      東京  25.9\n4      2018/9/1      福岡  25.5\n...         ...     ...   ...\n1495  2018/9/30      長崎  21.9\n1496  2018/9/30      佐賀  21.3\n1497  2018/9/30      熊本  20.7\n1498  2018/9/30      稚内  16.6\n1499  2018/9/30      函館  17.6\n\n[1500 rows x 3 columns]",
      "text/html": "<div>\n<style scoped>\n    .dataframe tbody tr th:only-of-type {\n        vertical-align: middle;\n    }\n\n    .dataframe tbody tr th {\n        vertical-align: top;\n    }\n\n    .dataframe thead th {\n        text-align: right;\n    }\n</style>\n<table border=\"1\" class=\"dataframe\">\n  <thead>\n    <tr style=\"text-align: right;\">\n      <th></th>\n      <th>date</th>\n      <th>station</th>\n      <th>temp</th>\n    </tr>\n  </thead>\n  <tbody>\n    <tr>\n      <th>0</th>\n      <td>2018/9/1</td>\n      <td>札幌</td>\n      <td>19.5</td>\n    </tr>\n    <tr>\n      <th>1</th>\n      <td>2018/9/1</td>\n      <td>青森</td>\n      <td>21.5</td>\n    </tr>\n    <tr>\n      <th>2</th>\n      <td>2018/9/1</td>\n      <td>仙台</td>\n      <td>21.5</td>\n    </tr>\n    <tr>\n      <th>3</th>\n      <td>2018/9/1</td>\n      <td>東京</td>\n      <td>25.9</td>\n    </tr>\n    <tr>\n      <th>4</th>\n      <td>2018/9/1</td>\n      <td>福岡</td>\n      <td>25.5</td>\n    </tr>\n    <tr>\n      <th>...</th>\n      <td>...</td>\n      <td>...</td>\n      <td>...</td>\n    </tr>\n    <tr>\n      <th>1495</th>\n      <td>2018/9/30</td>\n      <td>長崎</td>\n      <td>21.9</td>\n    </tr>\n    <tr>\n      <th>1496</th>\n      <td>2018/9/30</td>\n      <td>佐賀</td>\n      <td>21.3</td>\n    </tr>\n    <tr>\n      <th>1497</th>\n      <td>2018/9/30</td>\n      <td>熊本</td>\n      <td>20.7</td>\n    </tr>\n    <tr>\n      <th>1498</th>\n      <td>2018/9/30</td>\n      <td>稚内</td>\n      <td>16.6</td>\n    </tr>\n    <tr>\n      <th>1499</th>\n      <td>2018/9/30</td>\n      <td>函館</td>\n      <td>17.6</td>\n    </tr>\n  </tbody>\n</table>\n<p>1500 rows × 3 columns</p>\n</div>"
     },
     "execution_count": 120,
     "metadata": {},
     "output_type": "execute_result"
    }
   ],
   "source": [
    "df['temp'] = series_filled\n",
    "df"
   ]
  },
  {
   "cell_type": "markdown",
   "metadata": {
    "pycharm": {
     "name": "#%% md\n"
    }
   },
   "source": [
    "## Lesson 54. Indexを使ってDataFrameを変形してみましょう"
   ]
  },
  {
   "cell_type": "code",
   "execution_count": 121,
   "metadata": {
    "pycharm": {
     "name": "#%%\n"
    }
   },
   "outputs": [
    {
     "data": {
      "text/plain": "              latitude  longitude  altitude\nstation_name                               \n稚内               45.42     141.68         3\n札幌               43.06     141.33        17\n函館               41.82     140.75        35\n青森               40.82     140.77         3\n秋田               39.72     140.10         6",
      "text/html": "<div>\n<style scoped>\n    .dataframe tbody tr th:only-of-type {\n        vertical-align: middle;\n    }\n\n    .dataframe tbody tr th {\n        vertical-align: top;\n    }\n\n    .dataframe thead th {\n        text-align: right;\n    }\n</style>\n<table border=\"1\" class=\"dataframe\">\n  <thead>\n    <tr style=\"text-align: right;\">\n      <th></th>\n      <th>latitude</th>\n      <th>longitude</th>\n      <th>altitude</th>\n    </tr>\n    <tr>\n      <th>station_name</th>\n      <th></th>\n      <th></th>\n      <th></th>\n    </tr>\n  </thead>\n  <tbody>\n    <tr>\n      <th>稚内</th>\n      <td>45.42</td>\n      <td>141.68</td>\n      <td>3</td>\n    </tr>\n    <tr>\n      <th>札幌</th>\n      <td>43.06</td>\n      <td>141.33</td>\n      <td>17</td>\n    </tr>\n    <tr>\n      <th>函館</th>\n      <td>41.82</td>\n      <td>140.75</td>\n      <td>35</td>\n    </tr>\n    <tr>\n      <th>青森</th>\n      <td>40.82</td>\n      <td>140.77</td>\n      <td>3</td>\n    </tr>\n    <tr>\n      <th>秋田</th>\n      <td>39.72</td>\n      <td>140.10</td>\n      <td>6</td>\n    </tr>\n  </tbody>\n</table>\n</div>"
     },
     "execution_count": 121,
     "metadata": {},
     "output_type": "execute_result"
    }
   ],
   "source": [
    "df_stations = pandas.read_csv(  # 地点データを開く\n",
    "    'amedas_stations.csv',\n",
    "    encoding='Shift_JIS',\n",
    "    index_col=0,  # 0列目（地点名）をIndexにする\n",
    ")\n",
    "df_stations.head()  # 先頭5行を表示する"
   ]
  },
  {
   "cell_type": "code",
   "execution_count": 122,
   "metadata": {
    "scrolled": false,
    "pycharm": {
     "name": "#%%\n"
    }
   },
   "outputs": [
    {
     "data": {
      "text/plain": "           date station  temp  latitude  longitude  altitude\n0      2018/9/1      札幌  19.5     43.06     141.33        17\n1      2018/9/1      青森  21.5     40.82     140.77         3\n2      2018/9/1      仙台  21.5     38.26     140.90        39\n3      2018/9/1      東京  25.9     35.69     139.75        25\n4      2018/9/1      福岡  25.5     33.58     130.38         3\n...         ...     ...   ...       ...        ...       ...\n1495  2018/9/30      長崎  21.9     32.73     129.87        27\n1496  2018/9/30      佐賀  21.3     33.27     130.31         6\n1497  2018/9/30      熊本  20.7     32.81     130.71        38\n1498  2018/9/30      稚内  16.6     45.42     141.68         3\n1499  2018/9/30      函館  17.6     41.82     140.75        35\n\n[1500 rows x 6 columns]",
      "text/html": "<div>\n<style scoped>\n    .dataframe tbody tr th:only-of-type {\n        vertical-align: middle;\n    }\n\n    .dataframe tbody tr th {\n        vertical-align: top;\n    }\n\n    .dataframe thead th {\n        text-align: right;\n    }\n</style>\n<table border=\"1\" class=\"dataframe\">\n  <thead>\n    <tr style=\"text-align: right;\">\n      <th></th>\n      <th>date</th>\n      <th>station</th>\n      <th>temp</th>\n      <th>latitude</th>\n      <th>longitude</th>\n      <th>altitude</th>\n    </tr>\n  </thead>\n  <tbody>\n    <tr>\n      <th>0</th>\n      <td>2018/9/1</td>\n      <td>札幌</td>\n      <td>19.5</td>\n      <td>43.06</td>\n      <td>141.33</td>\n      <td>17</td>\n    </tr>\n    <tr>\n      <th>1</th>\n      <td>2018/9/1</td>\n      <td>青森</td>\n      <td>21.5</td>\n      <td>40.82</td>\n      <td>140.77</td>\n      <td>3</td>\n    </tr>\n    <tr>\n      <th>2</th>\n      <td>2018/9/1</td>\n      <td>仙台</td>\n      <td>21.5</td>\n      <td>38.26</td>\n      <td>140.90</td>\n      <td>39</td>\n    </tr>\n    <tr>\n      <th>3</th>\n      <td>2018/9/1</td>\n      <td>東京</td>\n      <td>25.9</td>\n      <td>35.69</td>\n      <td>139.75</td>\n      <td>25</td>\n    </tr>\n    <tr>\n      <th>4</th>\n      <td>2018/9/1</td>\n      <td>福岡</td>\n      <td>25.5</td>\n      <td>33.58</td>\n      <td>130.38</td>\n      <td>3</td>\n    </tr>\n    <tr>\n      <th>...</th>\n      <td>...</td>\n      <td>...</td>\n      <td>...</td>\n      <td>...</td>\n      <td>...</td>\n      <td>...</td>\n    </tr>\n    <tr>\n      <th>1495</th>\n      <td>2018/9/30</td>\n      <td>長崎</td>\n      <td>21.9</td>\n      <td>32.73</td>\n      <td>129.87</td>\n      <td>27</td>\n    </tr>\n    <tr>\n      <th>1496</th>\n      <td>2018/9/30</td>\n      <td>佐賀</td>\n      <td>21.3</td>\n      <td>33.27</td>\n      <td>130.31</td>\n      <td>6</td>\n    </tr>\n    <tr>\n      <th>1497</th>\n      <td>2018/9/30</td>\n      <td>熊本</td>\n      <td>20.7</td>\n      <td>32.81</td>\n      <td>130.71</td>\n      <td>38</td>\n    </tr>\n    <tr>\n      <th>1498</th>\n      <td>2018/9/30</td>\n      <td>稚内</td>\n      <td>16.6</td>\n      <td>45.42</td>\n      <td>141.68</td>\n      <td>3</td>\n    </tr>\n    <tr>\n      <th>1499</th>\n      <td>2018/9/30</td>\n      <td>函館</td>\n      <td>17.6</td>\n      <td>41.82</td>\n      <td>140.75</td>\n      <td>35</td>\n    </tr>\n  </tbody>\n</table>\n<p>1500 rows × 6 columns</p>\n</div>"
     },
     "execution_count": 122,
     "metadata": {},
     "output_type": "execute_result"
    }
   ],
   "source": [
    "df = df.join(  # 気温データにDataFrameを結合する\n",
    "    df_stations,  # 結合するDataFrameは地点データ\n",
    "    how=\"left\",\n",
    "    on='station'  # 気温データのstation列の値で結合する\n",
    ")\n",
    "df"
   ]
  },
  {
   "cell_type": "markdown",
   "metadata": {
    "pycharm": {
     "name": "#%% md\n"
    }
   },
   "source": [
    "## Lesson 55. DataFrameからデータを検索してみましょう"
   ]
  },
  {
   "cell_type": "code",
   "execution_count": 123,
   "metadata": {
    "scrolled": false,
    "pycharm": {
     "name": "#%%\n"
    }
   },
   "outputs": [
    {
     "data": {
      "text/plain": "           date station  temp  latitude  longitude  altitude\n0      2018/9/1      札幌  19.5     43.06     141.33        17\n1      2018/9/1      青森  21.5     40.82     140.77         3\n2      2018/9/1      仙台  21.5     38.26     140.90        39\n3      2018/9/1      東京  25.9     35.69     139.75        25\n4      2018/9/1      福岡  25.5     33.58     130.38         3\n...         ...     ...   ...       ...        ...       ...\n1493  2018/9/30      大分  21.0     33.24     131.62         5\n1494  2018/9/30      宮崎  24.9     31.94     131.41         9\n1495  2018/9/30      長崎  21.9     32.73     129.87        27\n1496  2018/9/30      佐賀  21.3     33.27     130.31         6\n1497  2018/9/30      熊本  20.7     32.81     130.71        38\n\n[1408 rows x 6 columns]",
      "text/html": "<div>\n<style scoped>\n    .dataframe tbody tr th:only-of-type {\n        vertical-align: middle;\n    }\n\n    .dataframe tbody tr th {\n        vertical-align: top;\n    }\n\n    .dataframe thead th {\n        text-align: right;\n    }\n</style>\n<table border=\"1\" class=\"dataframe\">\n  <thead>\n    <tr style=\"text-align: right;\">\n      <th></th>\n      <th>date</th>\n      <th>station</th>\n      <th>temp</th>\n      <th>latitude</th>\n      <th>longitude</th>\n      <th>altitude</th>\n    </tr>\n  </thead>\n  <tbody>\n    <tr>\n      <th>0</th>\n      <td>2018/9/1</td>\n      <td>札幌</td>\n      <td>19.5</td>\n      <td>43.06</td>\n      <td>141.33</td>\n      <td>17</td>\n    </tr>\n    <tr>\n      <th>1</th>\n      <td>2018/9/1</td>\n      <td>青森</td>\n      <td>21.5</td>\n      <td>40.82</td>\n      <td>140.77</td>\n      <td>3</td>\n    </tr>\n    <tr>\n      <th>2</th>\n      <td>2018/9/1</td>\n      <td>仙台</td>\n      <td>21.5</td>\n      <td>38.26</td>\n      <td>140.90</td>\n      <td>39</td>\n    </tr>\n    <tr>\n      <th>3</th>\n      <td>2018/9/1</td>\n      <td>東京</td>\n      <td>25.9</td>\n      <td>35.69</td>\n      <td>139.75</td>\n      <td>25</td>\n    </tr>\n    <tr>\n      <th>4</th>\n      <td>2018/9/1</td>\n      <td>福岡</td>\n      <td>25.5</td>\n      <td>33.58</td>\n      <td>130.38</td>\n      <td>3</td>\n    </tr>\n    <tr>\n      <th>...</th>\n      <td>...</td>\n      <td>...</td>\n      <td>...</td>\n      <td>...</td>\n      <td>...</td>\n      <td>...</td>\n    </tr>\n    <tr>\n      <th>1493</th>\n      <td>2018/9/30</td>\n      <td>大分</td>\n      <td>21.0</td>\n      <td>33.24</td>\n      <td>131.62</td>\n      <td>5</td>\n    </tr>\n    <tr>\n      <th>1494</th>\n      <td>2018/9/30</td>\n      <td>宮崎</td>\n      <td>24.9</td>\n      <td>31.94</td>\n      <td>131.41</td>\n      <td>9</td>\n    </tr>\n    <tr>\n      <th>1495</th>\n      <td>2018/9/30</td>\n      <td>長崎</td>\n      <td>21.9</td>\n      <td>32.73</td>\n      <td>129.87</td>\n      <td>27</td>\n    </tr>\n    <tr>\n      <th>1496</th>\n      <td>2018/9/30</td>\n      <td>佐賀</td>\n      <td>21.3</td>\n      <td>33.27</td>\n      <td>130.31</td>\n      <td>6</td>\n    </tr>\n    <tr>\n      <th>1497</th>\n      <td>2018/9/30</td>\n      <td>熊本</td>\n      <td>20.7</td>\n      <td>32.81</td>\n      <td>130.71</td>\n      <td>38</td>\n    </tr>\n  </tbody>\n</table>\n<p>1408 rows × 6 columns</p>\n</div>"
     },
     "execution_count": 123,
     "metadata": {},
     "output_type": "execute_result"
    }
   ],
   "source": [
    "df[df['temp'] >= 18]"
   ]
  },
  {
   "cell_type": "code",
   "execution_count": 124,
   "metadata": {
    "scrolled": false,
    "pycharm": {
     "name": "#%%\n"
    }
   },
   "outputs": [
    {
     "data": {
      "text/plain": "           date station  temp  latitude  longitude  altitude\n0      2018/9/1      札幌  19.5     43.06     141.33        17\n100    2018/9/3      札幌  19.7     43.06     141.33        17\n148    2018/9/3      稚内  18.4     45.42     141.68         3\n198    2018/9/4      稚内  19.5     45.42     141.68         3\n398    2018/9/8      稚内  19.2     45.42     141.68         3\n...         ...     ...   ...       ...        ...       ...\n1475  2018/9/30      金沢  19.4     36.59     136.63         6\n1476  2018/9/30      福井  19.7     36.06     136.22         9\n1484  2018/9/30      鳥取  19.5     35.49     134.24         7\n1486  2018/9/30      松江  19.5     35.46     133.07        17\n1488  2018/9/30      山口  19.9     34.16     131.46        18\n\n[128 rows x 6 columns]",
      "text/html": "<div>\n<style scoped>\n    .dataframe tbody tr th:only-of-type {\n        vertical-align: middle;\n    }\n\n    .dataframe tbody tr th {\n        vertical-align: top;\n    }\n\n    .dataframe thead th {\n        text-align: right;\n    }\n</style>\n<table border=\"1\" class=\"dataframe\">\n  <thead>\n    <tr style=\"text-align: right;\">\n      <th></th>\n      <th>date</th>\n      <th>station</th>\n      <th>temp</th>\n      <th>latitude</th>\n      <th>longitude</th>\n      <th>altitude</th>\n    </tr>\n  </thead>\n  <tbody>\n    <tr>\n      <th>0</th>\n      <td>2018/9/1</td>\n      <td>札幌</td>\n      <td>19.5</td>\n      <td>43.06</td>\n      <td>141.33</td>\n      <td>17</td>\n    </tr>\n    <tr>\n      <th>100</th>\n      <td>2018/9/3</td>\n      <td>札幌</td>\n      <td>19.7</td>\n      <td>43.06</td>\n      <td>141.33</td>\n      <td>17</td>\n    </tr>\n    <tr>\n      <th>148</th>\n      <td>2018/9/3</td>\n      <td>稚内</td>\n      <td>18.4</td>\n      <td>45.42</td>\n      <td>141.68</td>\n      <td>3</td>\n    </tr>\n    <tr>\n      <th>198</th>\n      <td>2018/9/4</td>\n      <td>稚内</td>\n      <td>19.5</td>\n      <td>45.42</td>\n      <td>141.68</td>\n      <td>3</td>\n    </tr>\n    <tr>\n      <th>398</th>\n      <td>2018/9/8</td>\n      <td>稚内</td>\n      <td>19.2</td>\n      <td>45.42</td>\n      <td>141.68</td>\n      <td>3</td>\n    </tr>\n    <tr>\n      <th>...</th>\n      <td>...</td>\n      <td>...</td>\n      <td>...</td>\n      <td>...</td>\n      <td>...</td>\n      <td>...</td>\n    </tr>\n    <tr>\n      <th>1475</th>\n      <td>2018/9/30</td>\n      <td>金沢</td>\n      <td>19.4</td>\n      <td>36.59</td>\n      <td>136.63</td>\n      <td>6</td>\n    </tr>\n    <tr>\n      <th>1476</th>\n      <td>2018/9/30</td>\n      <td>福井</td>\n      <td>19.7</td>\n      <td>36.06</td>\n      <td>136.22</td>\n      <td>9</td>\n    </tr>\n    <tr>\n      <th>1484</th>\n      <td>2018/9/30</td>\n      <td>鳥取</td>\n      <td>19.5</td>\n      <td>35.49</td>\n      <td>134.24</td>\n      <td>7</td>\n    </tr>\n    <tr>\n      <th>1486</th>\n      <td>2018/9/30</td>\n      <td>松江</td>\n      <td>19.5</td>\n      <td>35.46</td>\n      <td>133.07</td>\n      <td>17</td>\n    </tr>\n    <tr>\n      <th>1488</th>\n      <td>2018/9/30</td>\n      <td>山口</td>\n      <td>19.9</td>\n      <td>34.16</td>\n      <td>131.46</td>\n      <td>18</td>\n    </tr>\n  </tbody>\n</table>\n<p>128 rows × 6 columns</p>\n</div>"
     },
     "execution_count": 124,
     "metadata": {},
     "output_type": "execute_result"
    }
   ],
   "source": [
    "df[\n",
    "    (df['temp'] >= 18) &  # 気温が18度以上\n",
    "    (df['temp'] < 20)  # 気温が20度未満\n",
    "]"
   ]
  },
  {
   "cell_type": "code",
   "execution_count": 125,
   "metadata": {
    "pycharm": {
     "name": "#%%\n"
    }
   },
   "outputs": [
    {
     "data": {
      "text/plain": "           date station  temp  latitude  longitude  altitude\n0      2018/9/1      札幌  19.5     43.06     141.33        17\n100    2018/9/3      札幌  19.7     43.06     141.33        17\n400    2018/9/9      札幌  18.3     43.06     141.33        17\n550   2018/9/12      札幌  16.5     43.06     141.33        17\n600   2018/9/13      札幌  18.8     43.06     141.33        17\n850   2018/9/18      札幌  19.7     43.06     141.33        17\n900   2018/9/19      札幌  18.5     43.06     141.33        17\n950   2018/9/20      札幌  17.7     43.06     141.33        17\n1000  2018/9/21      札幌  18.1     43.06     141.33        17\n1003  2018/9/21      東京  17.7     35.69     139.75        25\n1050  2018/9/22      札幌  17.1     43.06     141.33        17\n1150  2018/9/24      札幌  19.2     43.06     141.33        17\n1200  2018/9/25      札幌  17.0     43.06     141.33        17\n1250  2018/9/26      札幌  15.1     43.06     141.33        17\n1253  2018/9/26      東京  17.7     35.69     139.75        25\n1300  2018/9/27      札幌  15.3     43.06     141.33        17\n1303  2018/9/27      東京  15.9     35.69     139.75        25\n1400  2018/9/29      札幌  15.6     43.06     141.33        17\n1403  2018/9/29      東京  18.8     35.69     139.75        25\n1450  2018/9/30      札幌  16.8     43.06     141.33        17",
      "text/html": "<div>\n<style scoped>\n    .dataframe tbody tr th:only-of-type {\n        vertical-align: middle;\n    }\n\n    .dataframe tbody tr th {\n        vertical-align: top;\n    }\n\n    .dataframe thead th {\n        text-align: right;\n    }\n</style>\n<table border=\"1\" class=\"dataframe\">\n  <thead>\n    <tr style=\"text-align: right;\">\n      <th></th>\n      <th>date</th>\n      <th>station</th>\n      <th>temp</th>\n      <th>latitude</th>\n      <th>longitude</th>\n      <th>altitude</th>\n    </tr>\n  </thead>\n  <tbody>\n    <tr>\n      <th>0</th>\n      <td>2018/9/1</td>\n      <td>札幌</td>\n      <td>19.5</td>\n      <td>43.06</td>\n      <td>141.33</td>\n      <td>17</td>\n    </tr>\n    <tr>\n      <th>100</th>\n      <td>2018/9/3</td>\n      <td>札幌</td>\n      <td>19.7</td>\n      <td>43.06</td>\n      <td>141.33</td>\n      <td>17</td>\n    </tr>\n    <tr>\n      <th>400</th>\n      <td>2018/9/9</td>\n      <td>札幌</td>\n      <td>18.3</td>\n      <td>43.06</td>\n      <td>141.33</td>\n      <td>17</td>\n    </tr>\n    <tr>\n      <th>550</th>\n      <td>2018/9/12</td>\n      <td>札幌</td>\n      <td>16.5</td>\n      <td>43.06</td>\n      <td>141.33</td>\n      <td>17</td>\n    </tr>\n    <tr>\n      <th>600</th>\n      <td>2018/9/13</td>\n      <td>札幌</td>\n      <td>18.8</td>\n      <td>43.06</td>\n      <td>141.33</td>\n      <td>17</td>\n    </tr>\n    <tr>\n      <th>850</th>\n      <td>2018/9/18</td>\n      <td>札幌</td>\n      <td>19.7</td>\n      <td>43.06</td>\n      <td>141.33</td>\n      <td>17</td>\n    </tr>\n    <tr>\n      <th>900</th>\n      <td>2018/9/19</td>\n      <td>札幌</td>\n      <td>18.5</td>\n      <td>43.06</td>\n      <td>141.33</td>\n      <td>17</td>\n    </tr>\n    <tr>\n      <th>950</th>\n      <td>2018/9/20</td>\n      <td>札幌</td>\n      <td>17.7</td>\n      <td>43.06</td>\n      <td>141.33</td>\n      <td>17</td>\n    </tr>\n    <tr>\n      <th>1000</th>\n      <td>2018/9/21</td>\n      <td>札幌</td>\n      <td>18.1</td>\n      <td>43.06</td>\n      <td>141.33</td>\n      <td>17</td>\n    </tr>\n    <tr>\n      <th>1003</th>\n      <td>2018/9/21</td>\n      <td>東京</td>\n      <td>17.7</td>\n      <td>35.69</td>\n      <td>139.75</td>\n      <td>25</td>\n    </tr>\n    <tr>\n      <th>1050</th>\n      <td>2018/9/22</td>\n      <td>札幌</td>\n      <td>17.1</td>\n      <td>43.06</td>\n      <td>141.33</td>\n      <td>17</td>\n    </tr>\n    <tr>\n      <th>1150</th>\n      <td>2018/9/24</td>\n      <td>札幌</td>\n      <td>19.2</td>\n      <td>43.06</td>\n      <td>141.33</td>\n      <td>17</td>\n    </tr>\n    <tr>\n      <th>1200</th>\n      <td>2018/9/25</td>\n      <td>札幌</td>\n      <td>17.0</td>\n      <td>43.06</td>\n      <td>141.33</td>\n      <td>17</td>\n    </tr>\n    <tr>\n      <th>1250</th>\n      <td>2018/9/26</td>\n      <td>札幌</td>\n      <td>15.1</td>\n      <td>43.06</td>\n      <td>141.33</td>\n      <td>17</td>\n    </tr>\n    <tr>\n      <th>1253</th>\n      <td>2018/9/26</td>\n      <td>東京</td>\n      <td>17.7</td>\n      <td>35.69</td>\n      <td>139.75</td>\n      <td>25</td>\n    </tr>\n    <tr>\n      <th>1300</th>\n      <td>2018/9/27</td>\n      <td>札幌</td>\n      <td>15.3</td>\n      <td>43.06</td>\n      <td>141.33</td>\n      <td>17</td>\n    </tr>\n    <tr>\n      <th>1303</th>\n      <td>2018/9/27</td>\n      <td>東京</td>\n      <td>15.9</td>\n      <td>35.69</td>\n      <td>139.75</td>\n      <td>25</td>\n    </tr>\n    <tr>\n      <th>1400</th>\n      <td>2018/9/29</td>\n      <td>札幌</td>\n      <td>15.6</td>\n      <td>43.06</td>\n      <td>141.33</td>\n      <td>17</td>\n    </tr>\n    <tr>\n      <th>1403</th>\n      <td>2018/9/29</td>\n      <td>東京</td>\n      <td>18.8</td>\n      <td>35.69</td>\n      <td>139.75</td>\n      <td>25</td>\n    </tr>\n    <tr>\n      <th>1450</th>\n      <td>2018/9/30</td>\n      <td>札幌</td>\n      <td>16.8</td>\n      <td>43.06</td>\n      <td>141.33</td>\n      <td>17</td>\n    </tr>\n  </tbody>\n</table>\n</div>"
     },
     "execution_count": 125,
     "metadata": {},
     "output_type": "execute_result"
    }
   ],
   "source": [
    "df[\n",
    "    (df['station'].isin(['東京', '札幌'])) &  # 地点の絞り込み\n",
    "    (df['temp'] < 20)  # 気温が20度未満\n",
    "]"
   ]
  },
  {
   "cell_type": "markdown",
   "metadata": {
    "pycharm": {
     "name": "#%% md\n"
    }
   },
   "source": [
    "## Lesson 56. データを可視化してみましょう"
   ]
  },
  {
   "cell_type": "code",
   "execution_count": 126,
   "metadata": {
    "pycharm": {
     "name": "#%%\n"
    }
   },
   "outputs": [],
   "source": [
    "# XXX: 本文中にはないコード\n",
    "# Jupyter Notebook の問題で、 `pyplot` モジュールの初回 import 時にグラフが表示されない\n",
    "from matplotlib import pyplot"
   ]
  },
  {
   "cell_type": "code",
   "execution_count": 127,
   "metadata": {
    "pycharm": {
     "name": "#%%\n"
    }
   },
   "outputs": [
    {
     "data": {
      "text/plain": "<AxesSubplot:xlabel='latitude', ylabel='temp'>"
     },
     "execution_count": 127,
     "metadata": {},
     "output_type": "execute_result"
    },
    {
     "data": {
      "text/plain": "<Figure size 432x288 with 1 Axes>",
      "image/png": "[encoded data removed]"
     },
     "metadata": {
      "needs_background": "light"
     },
     "output_type": "display_data"
    }
   ],
   "source": [
    "df.plot.scatter('latitude', 'temp')"
   ]
  },
  {
   "cell_type": "code",
   "execution_count": 128,
   "metadata": {
    "pycharm": {
     "name": "#%%\n"
    }
   },
   "outputs": [
    {
     "data": {
      "text/plain": "<AxesSubplot:xlabel='temp', ylabel='latitude'>"
     },
     "execution_count": 128,
     "metadata": {},
     "output_type": "execute_result"
    },
    {
     "data": {
      "text/plain": "<Figure size 432x288 with 1 Axes>",
      "image/png": "[encoded data removed]"
     },
     "metadata": {
      "needs_background": "light"
     },
     "output_type": "display_data"
    }
   ],
   "source": [
    "df.plot.scatter('temp', 'latitude')"
   ]
  },
  {
   "cell_type": "code",
   "execution_count": 129,
   "metadata": {
    "pycharm": {
     "name": "#%%\n"
    }
   },
   "outputs": [
    {
     "data": {
      "text/plain": "<AxesSubplot:xlabel='altitude', ylabel='longitude'>"
     },
     "execution_count": 129,
     "metadata": {},
     "output_type": "execute_result"
    },
    {
     "data": {
      "text/plain": "<Figure size 432x288 with 1 Axes>",
      "image/png": "[encoded data removed]"
     },
     "metadata": {
      "needs_background": "light"
     },
     "output_type": "display_data"
    }
   ],
   "source": [
    "df.plot.scatter('altitude', 'longitude')"
   ]
  },
  {
   "cell_type": "markdown",
   "metadata": {
    "pycharm": {
     "name": "#%% md\n"
    }
   },
   "source": [
    "# Chapter 7. データを予測する回帰分析を学ぼう"
   ]
  },
  {
   "cell_type": "markdown",
   "metadata": {
    "pycharm": {
     "name": "#%% md\n"
    }
   },
   "source": [
    "## Lesson 59. 緯度から気温を予測してみましょう"
   ]
  },
  {
   "cell_type": "code",
   "execution_count": 130,
   "metadata": {
    "pycharm": {
     "name": "#%%\n"
    }
   },
   "outputs": [
    {
     "data": {
      "text/plain": "        date station  temp  latitude  longitude  altitude\n0   2018/9/1      札幌  19.5     43.06     141.33        17\n1   2018/9/1      青森  21.5     40.82     140.77         3\n2   2018/9/1      仙台  21.5     38.26     140.90        39\n3   2018/9/1      東京  25.9     35.69     139.75        25\n4   2018/9/1      福岡  25.5     33.58     130.38         3\n5   2018/9/1     鹿児島  26.8     31.56     130.55         4\n6   2018/9/1      那覇  27.6     26.21     127.69        28\n7   2018/9/1     波照間  27.3     24.06     123.77        38\n8   2018/9/1      秋田  22.2     39.72     140.10         6\n9   2018/9/1      盛岡  22.0     39.70     141.17       155\n10  2018/9/1      山形  20.8     38.26     140.35       153\n11  2018/9/1      福島  21.9     37.76     140.47        67\n12  2018/9/1      水戸  23.7     36.38     140.47        29\n13  2018/9/1      千葉  27.5     35.60     140.10         3\n14  2018/9/1     宇都宮  23.2     36.55     139.87       119\n15  2018/9/1    さいたま  24.8     35.88     139.59         8\n16  2018/9/1      新潟  21.8     37.89     139.02         4\n17  2018/9/1      前橋  24.0     36.41     139.06       112\n18  2018/9/1      甲府  25.6     35.67     138.55       273\n19  2018/9/1      横浜  27.7     35.44     139.65        39\n20  2018/9/1      長野  20.5     36.66     138.19       418\n21  2018/9/1      富山  22.6     36.71     137.20         9\n22  2018/9/1      岐阜  24.2     35.40     136.76        13\n23  2018/9/1      静岡  27.4     34.98     138.40        14\n24  2018/9/1     名古屋  24.5     35.17     136.97        51\n25  2018/9/1      金沢  23.5     36.59     136.63         6\n26  2018/9/1      福井  24.0     36.06     136.22         9\n27  2018/9/1      大津  24.5     34.99     135.91        86\n28  2018/9/1       津  25.5     34.73     136.52         3\n29  2018/9/1      京都  25.3     35.01     135.73        41\n30  2018/9/1      奈良  24.5     34.67     135.84       102\n31  2018/9/1     和歌山  25.9     34.23     135.16        14\n32  2018/9/1      大阪  26.1     34.68     135.52        23\n33  2018/9/1      神戸  26.5     34.70     135.21         5\n34  2018/9/1      鳥取  23.5     35.49     134.24         7\n35  2018/9/1      岡山  25.1     34.69     133.93         5\n36  2018/9/1      松江  23.3     35.46     133.07        17\n37  2018/9/1      広島  24.1     34.40     132.46         4\n38  2018/9/1      山口  23.2     34.16     131.46        18\n39  2018/9/1      松山  25.0     33.84     132.78        32\n40  2018/9/1      高松  25.9     34.32     134.05         9\n41  2018/9/1      徳島  26.4     34.07     134.57         2\n42  2018/9/1      高知  25.0     33.57     133.55         1\n43  2018/9/1      大分  24.4     33.24     131.62         5\n44  2018/9/1      宮崎  26.6     31.94     131.41         9\n45  2018/9/1      長崎  25.3     32.73     129.87        27\n46  2018/9/1      佐賀  24.8     33.27     130.31         6\n47  2018/9/1      熊本  24.8     32.81     130.71        38\n48  2018/9/1      稚内  17.7     45.42     141.68         3\n49  2018/9/1      函館  21.1     41.82     140.75        35",
      "text/html": "<div>\n<style scoped>\n    .dataframe tbody tr th:only-of-type {\n        vertical-align: middle;\n    }\n\n    .dataframe tbody tr th {\n        vertical-align: top;\n    }\n\n    .dataframe thead th {\n        text-align: right;\n    }\n</style>\n<table border=\"1\" class=\"dataframe\">\n  <thead>\n    <tr style=\"text-align: right;\">\n      <th></th>\n      <th>date</th>\n      <th>station</th>\n      <th>temp</th>\n      <th>latitude</th>\n      <th>longitude</th>\n      <th>altitude</th>\n    </tr>\n  </thead>\n  <tbody>\n    <tr>\n      <th>0</th>\n      <td>2018/9/1</td>\n      <td>札幌</td>\n      <td>19.5</td>\n      <td>43.06</td>\n      <td>141.33</td>\n      <td>17</td>\n    </tr>\n    <tr>\n      <th>1</th>\n      <td>2018/9/1</td>\n      <td>青森</td>\n      <td>21.5</td>\n      <td>40.82</td>\n      <td>140.77</td>\n      <td>3</td>\n    </tr>\n    <tr>\n      <th>2</th>\n      <td>2018/9/1</td>\n      <td>仙台</td>\n      <td>21.5</td>\n      <td>38.26</td>\n      <td>140.90</td>\n      <td>39</td>\n    </tr>\n    <tr>\n      <th>3</th>\n      <td>2018/9/1</td>\n      <td>東京</td>\n      <td>25.9</td>\n      <td>35.69</td>\n      <td>139.75</td>\n      <td>25</td>\n    </tr>\n    <tr>\n      <th>4</th>\n      <td>2018/9/1</td>\n      <td>福岡</td>\n      <td>25.5</td>\n      <td>33.58</td>\n      <td>130.38</td>\n      <td>3</td>\n    </tr>\n    <tr>\n      <th>5</th>\n      <td>2018/9/1</td>\n      <td>鹿児島</td>\n      <td>26.8</td>\n      <td>31.56</td>\n      <td>130.55</td>\n      <td>4</td>\n    </tr>\n    <tr>\n      <th>6</th>\n      <td>2018/9/1</td>\n      <td>那覇</td>\n      <td>27.6</td>\n      <td>26.21</td>\n      <td>127.69</td>\n      <td>28</td>\n    </tr>\n    <tr>\n      <th>7</th>\n      <td>2018/9/1</td>\n      <td>波照間</td>\n      <td>27.3</td>\n      <td>24.06</td>\n      <td>123.77</td>\n      <td>38</td>\n    </tr>\n    <tr>\n      <th>8</th>\n      <td>2018/9/1</td>\n      <td>秋田</td>\n      <td>22.2</td>\n      <td>39.72</td>\n      <td>140.10</td>\n      <td>6</td>\n    </tr>\n    <tr>\n      <th>9</th>\n      <td>2018/9/1</td>\n      <td>盛岡</td>\n      <td>22.0</td>\n      <td>39.70</td>\n      <td>141.17</td>\n      <td>155</td>\n    </tr>\n    <tr>\n      <th>10</th>\n      <td>2018/9/1</td>\n      <td>山形</td>\n      <td>20.8</td>\n      <td>38.26</td>\n      <td>140.35</td>\n      <td>153</td>\n    </tr>\n    <tr>\n      <th>11</th>\n      <td>2018/9/1</td>\n      <td>福島</td>\n      <td>21.9</td>\n      <td>37.76</td>\n      <td>140.47</td>\n      <td>67</td>\n    </tr>\n    <tr>\n      <th>12</th>\n      <td>2018/9/1</td>\n      <td>水戸</td>\n      <td>23.7</td>\n      <td>36.38</td>\n      <td>140.47</td>\n      <td>29</td>\n    </tr>\n    <tr>\n      <th>13</th>\n      <td>2018/9/1</td>\n      <td>千葉</td>\n      <td>27.5</td>\n      <td>35.60</td>\n      <td>140.10</td>\n      <td>3</td>\n    </tr>\n    <tr>\n      <th>14</th>\n      <td>2018/9/1</td>\n      <td>宇都宮</td>\n      <td>23.2</td>\n      <td>36.55</td>\n      <td>139.87</td>\n      <td>119</td>\n    </tr>\n    <tr>\n      <th>15</th>\n      <td>2018/9/1</td>\n      <td>さいたま</td>\n      <td>24.8</td>\n      <td>35.88</td>\n      <td>139.59</td>\n      <td>8</td>\n    </tr>\n    <tr>\n      <th>16</th>\n      <td>2018/9/1</td>\n      <td>新潟</td>\n      <td>21.8</td>\n      <td>37.89</td>\n      <td>139.02</td>\n      <td>4</td>\n    </tr>\n    <tr>\n      <th>17</th>\n      <td>2018/9/1</td>\n      <td>前橋</td>\n      <td>24.0</td>\n      <td>36.41</td>\n      <td>139.06</td>\n      <td>112</td>\n    </tr>\n    <tr>\n      <th>18</th>\n      <td>2018/9/1</td>\n      <td>甲府</td>\n      <td>25.6</td>\n      <td>35.67</td>\n      <td>138.55</td>\n      <td>273</td>\n    </tr>\n    <tr>\n      <th>19</th>\n      <td>2018/9/1</td>\n      <td>横浜</td>\n      <td>27.7</td>\n      <td>35.44</td>\n      <td>139.65</td>\n      <td>39</td>\n    </tr>\n    <tr>\n      <th>20</th>\n      <td>2018/9/1</td>\n      <td>長野</td>\n      <td>20.5</td>\n      <td>36.66</td>\n      <td>138.19</td>\n      <td>418</td>\n    </tr>\n    <tr>\n      <th>21</th>\n      <td>2018/9/1</td>\n      <td>富山</td>\n      <td>22.6</td>\n      <td>36.71</td>\n      <td>137.20</td>\n      <td>9</td>\n    </tr>\n    <tr>\n      <th>22</th>\n      <td>2018/9/1</td>\n      <td>岐阜</td>\n      <td>24.2</td>\n      <td>35.40</td>\n      <td>136.76</td>\n      <td>13</td>\n    </tr>\n    <tr>\n      <th>23</th>\n      <td>2018/9/1</td>\n      <td>静岡</td>\n      <td>27.4</td>\n      <td>34.98</td>\n      <td>138.40</td>\n      <td>14</td>\n    </tr>\n    <tr>\n      <th>24</th>\n      <td>2018/9/1</td>\n      <td>名古屋</td>\n      <td>24.5</td>\n      <td>35.17</td>\n      <td>136.97</td>\n      <td>51</td>\n    </tr>\n    <tr>\n      <th>25</th>\n      <td>2018/9/1</td>\n      <td>金沢</td>\n      <td>23.5</td>\n      <td>36.59</td>\n      <td>136.63</td>\n      <td>6</td>\n    </tr>\n    <tr>\n      <th>26</th>\n      <td>2018/9/1</td>\n      <td>福井</td>\n      <td>24.0</td>\n      <td>36.06</td>\n      <td>136.22</td>\n      <td>9</td>\n    </tr>\n    <tr>\n      <th>27</th>\n      <td>2018/9/1</td>\n      <td>大津</td>\n      <td>24.5</td>\n      <td>34.99</td>\n      <td>135.91</td>\n      <td>86</td>\n    </tr>\n    <tr>\n      <th>28</th>\n      <td>2018/9/1</td>\n      <td>津</td>\n      <td>25.5</td>\n      <td>34.73</td>\n      <td>136.52</td>\n      <td>3</td>\n    </tr>\n    <tr>\n      <th>29</th>\n      <td>2018/9/1</td>\n      <td>京都</td>\n      <td>25.3</td>\n      <td>35.01</td>\n      <td>135.73</td>\n      <td>41</td>\n    </tr>\n    <tr>\n      <th>30</th>\n      <td>2018/9/1</td>\n      <td>奈良</td>\n      <td>24.5</td>\n      <td>34.67</td>\n      <td>135.84</td>\n      <td>102</td>\n    </tr>\n    <tr>\n      <th>31</th>\n      <td>2018/9/1</td>\n      <td>和歌山</td>\n      <td>25.9</td>\n      <td>34.23</td>\n      <td>135.16</td>\n      <td>14</td>\n    </tr>\n    <tr>\n      <th>32</th>\n      <td>2018/9/1</td>\n      <td>大阪</td>\n      <td>26.1</td>\n      <td>34.68</td>\n      <td>135.52</td>\n      <td>23</td>\n    </tr>\n    <tr>\n      <th>33</th>\n      <td>2018/9/1</td>\n      <td>神戸</td>\n      <td>26.5</td>\n      <td>34.70</td>\n      <td>135.21</td>\n      <td>5</td>\n    </tr>\n    <tr>\n      <th>34</th>\n      <td>2018/9/1</td>\n      <td>鳥取</td>\n      <td>23.5</td>\n      <td>35.49</td>\n      <td>134.24</td>\n      <td>7</td>\n    </tr>\n    <tr>\n      <th>35</th>\n      <td>2018/9/1</td>\n      <td>岡山</td>\n      <td>25.1</td>\n      <td>34.69</td>\n      <td>133.93</td>\n      <td>5</td>\n    </tr>\n    <tr>\n      <th>36</th>\n      <td>2018/9/1</td>\n      <td>松江</td>\n      <td>23.3</td>\n      <td>35.46</td>\n      <td>133.07</td>\n      <td>17</td>\n    </tr>\n    <tr>\n      <th>37</th>\n      <td>2018/9/1</td>\n      <td>広島</td>\n      <td>24.1</td>\n      <td>34.40</td>\n      <td>132.46</td>\n      <td>4</td>\n    </tr>\n    <tr>\n      <th>38</th>\n      <td>2018/9/1</td>\n      <td>山口</td>\n      <td>23.2</td>\n      <td>34.16</td>\n      <td>131.46</td>\n      <td>18</td>\n    </tr>\n    <tr>\n      <th>39</th>\n      <td>2018/9/1</td>\n      <td>松山</td>\n      <td>25.0</td>\n      <td>33.84</td>\n      <td>132.78</td>\n      <td>32</td>\n    </tr>\n    <tr>\n      <th>40</th>\n      <td>2018/9/1</td>\n      <td>高松</td>\n      <td>25.9</td>\n      <td>34.32</td>\n      <td>134.05</td>\n      <td>9</td>\n    </tr>\n    <tr>\n      <th>41</th>\n      <td>2018/9/1</td>\n      <td>徳島</td>\n      <td>26.4</td>\n      <td>34.07</td>\n      <td>134.57</td>\n      <td>2</td>\n    </tr>\n    <tr>\n      <th>42</th>\n      <td>2018/9/1</td>\n      <td>高知</td>\n      <td>25.0</td>\n      <td>33.57</td>\n      <td>133.55</td>\n      <td>1</td>\n    </tr>\n    <tr>\n      <th>43</th>\n      <td>2018/9/1</td>\n      <td>大分</td>\n      <td>24.4</td>\n      <td>33.24</td>\n      <td>131.62</td>\n      <td>5</td>\n    </tr>\n    <tr>\n      <th>44</th>\n      <td>2018/9/1</td>\n      <td>宮崎</td>\n      <td>26.6</td>\n      <td>31.94</td>\n      <td>131.41</td>\n      <td>9</td>\n    </tr>\n    <tr>\n      <th>45</th>\n      <td>2018/9/1</td>\n      <td>長崎</td>\n      <td>25.3</td>\n      <td>32.73</td>\n      <td>129.87</td>\n      <td>27</td>\n    </tr>\n    <tr>\n      <th>46</th>\n      <td>2018/9/1</td>\n      <td>佐賀</td>\n      <td>24.8</td>\n      <td>33.27</td>\n      <td>130.31</td>\n      <td>6</td>\n    </tr>\n    <tr>\n      <th>47</th>\n      <td>2018/9/1</td>\n      <td>熊本</td>\n      <td>24.8</td>\n      <td>32.81</td>\n      <td>130.71</td>\n      <td>38</td>\n    </tr>\n    <tr>\n      <th>48</th>\n      <td>2018/9/1</td>\n      <td>稚内</td>\n      <td>17.7</td>\n      <td>45.42</td>\n      <td>141.68</td>\n      <td>3</td>\n    </tr>\n    <tr>\n      <th>49</th>\n      <td>2018/9/1</td>\n      <td>函館</td>\n      <td>21.1</td>\n      <td>41.82</td>\n      <td>140.75</td>\n      <td>35</td>\n    </tr>\n  </tbody>\n</table>\n</div>"
     },
     "execution_count": 130,
     "metadata": {},
     "output_type": "execute_result"
    }
   ],
   "source": [
    "df7 = df[df['date'] == '2018/9/1']\n",
    "df7"
   ]
  },
  {
   "cell_type": "code",
   "execution_count": 131,
   "metadata": {
    "pycharm": {
     "name": "#%%\n"
    }
   },
   "outputs": [
    {
     "data": {
      "text/plain": "<AxesSubplot:xlabel='latitude', ylabel='temp'>"
     },
     "execution_count": 131,
     "metadata": {},
     "output_type": "execute_result"
    },
    {
     "data": {
      "text/plain": "<Figure size 432x288 with 1 Axes>",
      "image/png": "[encoded data removed]"
     },
     "metadata": {
      "needs_background": "light"
     },
     "output_type": "display_data"
    }
   ],
   "source": [
    "df7.plot.scatter('latitude', 'temp')"
   ]
  },
  {
   "cell_type": "code",
   "execution_count": 132,
   "metadata": {
    "pycharm": {
     "name": "#%%\n"
    }
   },
   "outputs": [
    {
     "data": {
      "text/plain": "LinearRegression()"
     },
     "execution_count": 132,
     "metadata": {},
     "output_type": "execute_result"
    }
   ],
   "source": [
    "from sklearn.linear_model import LinearRegression\n",
    "\n",
    "reg = LinearRegression()\n",
    "reg"
   ]
  },
  {
   "cell_type": "code",
   "execution_count": 180,
   "metadata": {
    "pycharm": {
     "name": "#%%\n"
    }
   },
   "outputs": [
    {
     "data": {
      "text/plain": "    latitude\n0      43.06\n1      40.82\n2      38.26\n3      35.69\n4      33.58\n5      31.56\n6      26.21\n7      24.06\n8      39.72\n9      39.70\n10     38.26\n11     37.76\n12     36.38\n13     35.60\n14     36.55\n15     35.88\n16     37.89\n17     36.41\n18     35.67\n19     35.44\n20     36.66\n21     36.71\n22     35.40\n23     34.98\n24     35.17\n25     36.59\n26     36.06\n27     34.99\n28     34.73\n29     35.01\n30     34.67\n31     34.23\n32     34.68\n33     34.70\n34     35.49\n35     34.69\n36     35.46\n37     34.40\n38     34.16\n39     33.84\n40     34.32\n41     34.07\n42     33.57\n43     33.24\n44     31.94\n45     32.73\n46     33.27\n47     32.81\n48     45.42\n49     41.82",
      "text/html": "<div>\n<style scoped>\n    .dataframe tbody tr th:only-of-type {\n        vertical-align: middle;\n    }\n\n    .dataframe tbody tr th {\n        vertical-align: top;\n    }\n\n    .dataframe thead th {\n        text-align: right;\n    }\n</style>\n<table border=\"1\" class=\"dataframe\">\n  <thead>\n    <tr style=\"text-align: right;\">\n      <th></th>\n      <th>latitude</th>\n    </tr>\n  </thead>\n  <tbody>\n    <tr>\n      <th>0</th>\n      <td>43.06</td>\n    </tr>\n    <tr>\n      <th>1</th>\n      <td>40.82</td>\n    </tr>\n    <tr>\n      <th>2</th>\n      <td>38.26</td>\n    </tr>\n    <tr>\n      <th>3</th>\n      <td>35.69</td>\n    </tr>\n    <tr>\n      <th>4</th>\n      <td>33.58</td>\n    </tr>\n    <tr>\n      <th>5</th>\n      <td>31.56</td>\n    </tr>\n    <tr>\n      <th>6</th>\n      <td>26.21</td>\n    </tr>\n    <tr>\n      <th>7</th>\n      <td>24.06</td>\n    </tr>\n    <tr>\n      <th>8</th>\n      <td>39.72</td>\n    </tr>\n    <tr>\n      <th>9</th>\n      <td>39.70</td>\n    </tr>\n    <tr>\n      <th>10</th>\n      <td>38.26</td>\n    </tr>\n    <tr>\n      <th>11</th>\n      <td>37.76</td>\n    </tr>\n    <tr>\n      <th>12</th>\n      <td>36.38</td>\n    </tr>\n    <tr>\n      <th>13</th>\n      <td>35.60</td>\n    </tr>\n    <tr>\n      <th>14</th>\n      <td>36.55</td>\n    </tr>\n    <tr>\n      <th>15</th>\n      <td>35.88</td>\n    </tr>\n    <tr>\n      <th>16</th>\n      <td>37.89</td>\n    </tr>\n    <tr>\n      <th>17</th>\n      <td>36.41</td>\n    </tr>\n    <tr>\n      <th>18</th>\n      <td>35.67</td>\n    </tr>\n    <tr>\n      <th>19</th>\n      <td>35.44</td>\n    </tr>\n    <tr>\n      <th>20</th>\n      <td>36.66</td>\n    </tr>\n    <tr>\n      <th>21</th>\n      <td>36.71</td>\n    </tr>\n    <tr>\n      <th>22</th>\n      <td>35.40</td>\n    </tr>\n    <tr>\n      <th>23</th>\n      <td>34.98</td>\n    </tr>\n    <tr>\n      <th>24</th>\n      <td>35.17</td>\n    </tr>\n    <tr>\n      <th>25</th>\n      <td>36.59</td>\n    </tr>\n    <tr>\n      <th>26</th>\n      <td>36.06</td>\n    </tr>\n    <tr>\n      <th>27</th>\n      <td>34.99</td>\n    </tr>\n    <tr>\n      <th>28</th>\n      <td>34.73</td>\n    </tr>\n    <tr>\n      <th>29</th>\n      <td>35.01</td>\n    </tr>\n    <tr>\n      <th>30</th>\n      <td>34.67</td>\n    </tr>\n    <tr>\n      <th>31</th>\n      <td>34.23</td>\n    </tr>\n    <tr>\n      <th>32</th>\n      <td>34.68</td>\n    </tr>\n    <tr>\n      <th>33</th>\n      <td>34.70</td>\n    </tr>\n    <tr>\n      <th>34</th>\n      <td>35.49</td>\n    </tr>\n    <tr>\n      <th>35</th>\n      <td>34.69</td>\n    </tr>\n    <tr>\n      <th>36</th>\n      <td>35.46</td>\n    </tr>\n    <tr>\n      <th>37</th>\n      <td>34.40</td>\n    </tr>\n    <tr>\n      <th>38</th>\n      <td>34.16</td>\n    </tr>\n    <tr>\n      <th>39</th>\n      <td>33.84</td>\n    </tr>\n    <tr>\n      <th>40</th>\n      <td>34.32</td>\n    </tr>\n    <tr>\n      <th>41</th>\n      <td>34.07</td>\n    </tr>\n    <tr>\n      <th>42</th>\n      <td>33.57</td>\n    </tr>\n    <tr>\n      <th>43</th>\n      <td>33.24</td>\n    </tr>\n    <tr>\n      <th>44</th>\n      <td>31.94</td>\n    </tr>\n    <tr>\n      <th>45</th>\n      <td>32.73</td>\n    </tr>\n    <tr>\n      <th>46</th>\n      <td>33.27</td>\n    </tr>\n    <tr>\n      <th>47</th>\n      <td>32.81</td>\n    </tr>\n    <tr>\n      <th>48</th>\n      <td>45.42</td>\n    </tr>\n    <tr>\n      <th>49</th>\n      <td>41.82</td>\n    </tr>\n  </tbody>\n</table>\n</div>"
     },
     "execution_count": 180,
     "metadata": {},
     "output_type": "execute_result"
    }
   ],
   "source": [
    "X = df7[['latitude']]\n",
    "X"
   ]
  },
  {
   "cell_type": "code",
   "execution_count": 190,
   "metadata": {
    "pycharm": {
     "name": "#%%\n"
    }
   },
   "outputs": [
    {
     "data": {
      "text/plain": "    temp\n0   19.5\n1   21.5\n2   21.5\n3   25.9\n4   25.5\n5   26.8\n6   27.6\n7   27.3\n8   22.2\n9   22.0\n10  20.8\n11  21.9\n12  23.7\n13  27.5\n14  23.2\n15  24.8\n16  21.8\n17  24.0\n18  25.6\n19  27.7\n20  20.5\n21  22.6\n22  24.2\n23  27.4\n24  24.5\n25  23.5\n26  24.0\n27  24.5\n28  25.5\n29  25.3\n30  24.5\n31  25.9\n32  26.1\n33  26.5\n34  23.5\n35  25.1\n36  23.3\n37  24.1\n38  23.2\n39  25.0\n40  25.9\n41  26.4\n42  25.0\n43  24.4\n44  26.6\n45  25.3\n46  24.8\n47  24.8\n48  17.7\n49  21.1",
      "text/html": "<div>\n<style scoped>\n    .dataframe tbody tr th:only-of-type {\n        vertical-align: middle;\n    }\n\n    .dataframe tbody tr th {\n        vertical-align: top;\n    }\n\n    .dataframe thead th {\n        text-align: right;\n    }\n</style>\n<table border=\"1\" class=\"dataframe\">\n  <thead>\n    <tr style=\"text-align: right;\">\n      <th></th>\n      <th>temp</th>\n    </tr>\n  </thead>\n  <tbody>\n    <tr>\n      <th>0</th>\n      <td>19.5</td>\n    </tr>\n    <tr>\n      <th>1</th>\n      <td>21.5</td>\n    </tr>\n    <tr>\n      <th>2</th>\n      <td>21.5</td>\n    </tr>\n    <tr>\n      <th>3</th>\n      <td>25.9</td>\n    </tr>\n    <tr>\n      <th>4</th>\n      <td>25.5</td>\n    </tr>\n    <tr>\n      <th>5</th>\n      <td>26.8</td>\n    </tr>\n    <tr>\n      <th>6</th>\n      <td>27.6</td>\n    </tr>\n    <tr>\n      <th>7</th>\n      <td>27.3</td>\n    </tr>\n    <tr>\n      <th>8</th>\n      <td>22.2</td>\n    </tr>\n    <tr>\n      <th>9</th>\n      <td>22.0</td>\n    </tr>\n    <tr>\n      <th>10</th>\n      <td>20.8</td>\n    </tr>\n    <tr>\n      <th>11</th>\n      <td>21.9</td>\n    </tr>\n    <tr>\n      <th>12</th>\n      <td>23.7</td>\n    </tr>\n    <tr>\n      <th>13</th>\n      <td>27.5</td>\n    </tr>\n    <tr>\n      <th>14</th>\n      <td>23.2</td>\n    </tr>\n    <tr>\n      <th>15</th>\n      <td>24.8</td>\n    </tr>\n    <tr>\n      <th>16</th>\n      <td>21.8</td>\n    </tr>\n    <tr>\n      <th>17</th>\n      <td>24.0</td>\n    </tr>\n    <tr>\n      <th>18</th>\n      <td>25.6</td>\n    </tr>\n    <tr>\n      <th>19</th>\n      <td>27.7</td>\n    </tr>\n    <tr>\n      <th>20</th>\n      <td>20.5</td>\n    </tr>\n    <tr>\n      <th>21</th>\n      <td>22.6</td>\n    </tr>\n    <tr>\n      <th>22</th>\n      <td>24.2</td>\n    </tr>\n    <tr>\n      <th>23</th>\n      <td>27.4</td>\n    </tr>\n    <tr>\n      <th>24</th>\n      <td>24.5</td>\n    </tr>\n    <tr>\n      <th>25</th>\n      <td>23.5</td>\n    </tr>\n    <tr>\n      <th>26</th>\n      <td>24.0</td>\n    </tr>\n    <tr>\n      <th>27</th>\n      <td>24.5</td>\n    </tr>\n    <tr>\n      <th>28</th>\n      <td>25.5</td>\n    </tr>\n    <tr>\n      <th>29</th>\n      <td>25.3</td>\n    </tr>\n    <tr>\n      <th>30</th>\n      <td>24.5</td>\n    </tr>\n    <tr>\n      <th>31</th>\n      <td>25.9</td>\n    </tr>\n    <tr>\n      <th>32</th>\n      <td>26.1</td>\n    </tr>\n    <tr>\n      <th>33</th>\n      <td>26.5</td>\n    </tr>\n    <tr>\n      <th>34</th>\n      <td>23.5</td>\n    </tr>\n    <tr>\n      <th>35</th>\n      <td>25.1</td>\n    </tr>\n    <tr>\n      <th>36</th>\n      <td>23.3</td>\n    </tr>\n    <tr>\n      <th>37</th>\n      <td>24.1</td>\n    </tr>\n    <tr>\n      <th>38</th>\n      <td>23.2</td>\n    </tr>\n    <tr>\n      <th>39</th>\n      <td>25.0</td>\n    </tr>\n    <tr>\n      <th>40</th>\n      <td>25.9</td>\n    </tr>\n    <tr>\n      <th>41</th>\n      <td>26.4</td>\n    </tr>\n    <tr>\n      <th>42</th>\n      <td>25.0</td>\n    </tr>\n    <tr>\n      <th>43</th>\n      <td>24.4</td>\n    </tr>\n    <tr>\n      <th>44</th>\n      <td>26.6</td>\n    </tr>\n    <tr>\n      <th>45</th>\n      <td>25.3</td>\n    </tr>\n    <tr>\n      <th>46</th>\n      <td>24.8</td>\n    </tr>\n    <tr>\n      <th>47</th>\n      <td>24.8</td>\n    </tr>\n    <tr>\n      <th>48</th>\n      <td>17.7</td>\n    </tr>\n    <tr>\n      <th>49</th>\n      <td>21.1</td>\n    </tr>\n  </tbody>\n</table>\n</div>"
     },
     "execution_count": 190,
     "metadata": {},
     "output_type": "execute_result"
    }
   ],
   "source": [
    "y = df7[['temp']]\n",
    "y"
   ]
  },
  {
   "cell_type": "code",
   "execution_count": 191,
   "metadata": {
    "pycharm": {
     "name": "#%%\n"
    }
   },
   "outputs": [
    {
     "data": {
      "text/plain": "LinearRegression()"
     },
     "execution_count": 191,
     "metadata": {},
     "output_type": "execute_result"
    }
   ],
   "source": [
    "reg.fit(X, y)  # 学習"
   ]
  },
  {
   "cell_type": "code",
   "execution_count": 192,
   "metadata": {
    "pycharm": {
     "name": "#%%\n"
    }
   },
   "outputs": [
    {
     "data": {
      "text/plain": "        date station  temp  latitude  longitude  altitude\n3   2018/9/1      東京  25.9     35.69     139.75        25\n20  2018/9/1      長野  20.5     36.66     138.19       418",
      "text/html": "<div>\n<style scoped>\n    .dataframe tbody tr th:only-of-type {\n        vertical-align: middle;\n    }\n\n    .dataframe tbody tr th {\n        vertical-align: top;\n    }\n\n    .dataframe thead th {\n        text-align: right;\n    }\n</style>\n<table border=\"1\" class=\"dataframe\">\n  <thead>\n    <tr style=\"text-align: right;\">\n      <th></th>\n      <th>date</th>\n      <th>station</th>\n      <th>temp</th>\n      <th>latitude</th>\n      <th>longitude</th>\n      <th>altitude</th>\n    </tr>\n  </thead>\n  <tbody>\n    <tr>\n      <th>3</th>\n      <td>2018/9/1</td>\n      <td>東京</td>\n      <td>25.9</td>\n      <td>35.69</td>\n      <td>139.75</td>\n      <td>25</td>\n    </tr>\n    <tr>\n      <th>20</th>\n      <td>2018/9/1</td>\n      <td>長野</td>\n      <td>20.5</td>\n      <td>36.66</td>\n      <td>138.19</td>\n      <td>418</td>\n    </tr>\n  </tbody>\n</table>\n</div>"
     },
     "execution_count": 192,
     "metadata": {},
     "output_type": "execute_result"
    }
   ],
   "source": [
    "df7[df7['station'].isin(['東京', '長野'])]  # 東京と長野の気温データを取り出す"
   ]
  },
  {
   "cell_type": "code",
   "execution_count": 202,
   "metadata": {
    "pycharm": {
     "name": "#%%\n"
    }
   },
   "outputs": [
    {
     "name": "stderr",
     "output_type": "stream",
     "text": [
      "C:\\Users\\kenta\\anaconda3\\lib\\site-packages\\sklearn\\base.py:450: UserWarning: X does not have valid feature names, but LinearRegression was fitted with feature names\n",
      "  warnings.warn(\n"
     ]
    },
    {
     "data": {
      "text/plain": "array([[24.13603503],\n       [23.64120668]])"
     },
     "execution_count": 202,
     "metadata": {},
     "output_type": "execute_result"
    }
   ],
   "source": [
    "reg.predict([[35.69], [36.66]])"
   ]
  },
  {
   "cell_type": "code",
   "execution_count": 138,
   "metadata": {
    "pycharm": {
     "name": "#%%\n"
    }
   },
   "outputs": [
    {
     "name": "stderr",
     "output_type": "stream",
     "text": [
      "C:\\Users\\kenta\\anaconda3\\lib\\site-packages\\sklearn\\base.py:450: UserWarning: X does not have valid feature names, but LinearRegression was fitted with feature names\n",
      "  warnings.warn(\n"
     ]
    },
    {
     "data": {
      "text/plain": "[<matplotlib.lines.Line2D at 0x2d5b925ba00>]"
     },
     "execution_count": 138,
     "metadata": {},
     "output_type": "execute_result"
    },
    {
     "data": {
      "text/plain": "<Figure size 432x288 with 1 Axes>",
      "image/png": "[encoded data removed]"
     },
     "metadata": {
      "needs_background": "light"
     },
     "output_type": "display_data"
    }
   ],
   "source": [
    "x1, x2 = 25, 45  # ←←❶ 説明変数の軸から適当な値を2つ選ぶ\n",
    "y1, y2 = reg.predict([[x1], [x2]])  # ←←❷ 目的変数の値を予測する\n",
    "ax = df7.plot.scatter('latitude', 'temp')  # ←←❸ 散布図を表示する\n",
    "ax.plot((x1, x2), (y1, y2))  # ←←❹ 回帰直線を引く"
   ]
  },
  {
   "cell_type": "markdown",
   "metadata": {
    "pycharm": {
     "name": "#%% md\n"
    }
   },
   "source": [
    "## Lesson 60. 説明変数を追加してみましょう"
   ]
  },
  {
   "cell_type": "code",
   "execution_count": 169,
   "metadata": {
    "pycharm": {
     "name": "#%%\n"
    }
   },
   "outputs": [
    {
     "data": {
      "text/plain": "    latitude  altitude\n0      43.06        17\n1      40.82         3\n2      38.26        39\n3      35.69        25\n4      33.58         3\n5      31.56         4\n6      26.21        28\n7      24.06        38\n8      39.72         6\n9      39.70       155\n10     38.26       153\n11     37.76        67\n12     36.38        29\n13     35.60         3\n14     36.55       119\n15     35.88         8\n16     37.89         4\n17     36.41       112\n18     35.67       273\n19     35.44        39\n20     36.66       418\n21     36.71         9\n22     35.40        13\n23     34.98        14\n24     35.17        51\n25     36.59         6\n26     36.06         9\n27     34.99        86\n28     34.73         3\n29     35.01        41\n30     34.67       102\n31     34.23        14\n32     34.68        23\n33     34.70         5\n34     35.49         7\n35     34.69         5\n36     35.46        17\n37     34.40         4\n38     34.16        18\n39     33.84        32\n40     34.32         9\n41     34.07         2\n42     33.57         1\n43     33.24         5\n44     31.94         9\n45     32.73        27\n46     33.27         6\n47     32.81        38\n48     45.42         3\n49     41.82        35",
      "text/html": "<div>\n<style scoped>\n    .dataframe tbody tr th:only-of-type {\n        vertical-align: middle;\n    }\n\n    .dataframe tbody tr th {\n        vertical-align: top;\n    }\n\n    .dataframe thead th {\n        text-align: right;\n    }\n</style>\n<table border=\"1\" class=\"dataframe\">\n  <thead>\n    <tr style=\"text-align: right;\">\n      <th></th>\n      <th>latitude</th>\n      <th>altitude</th>\n    </tr>\n  </thead>\n  <tbody>\n    <tr>\n      <th>0</th>\n      <td>43.06</td>\n      <td>17</td>\n    </tr>\n    <tr>\n      <th>1</th>\n      <td>40.82</td>\n      <td>3</td>\n    </tr>\n    <tr>\n      <th>2</th>\n      <td>38.26</td>\n      <td>39</td>\n    </tr>\n    <tr>\n      <th>3</th>\n      <td>35.69</td>\n      <td>25</td>\n    </tr>\n    <tr>\n      <th>4</th>\n      <td>33.58</td>\n      <td>3</td>\n    </tr>\n    <tr>\n      <th>5</th>\n      <td>31.56</td>\n      <td>4</td>\n    </tr>\n    <tr>\n      <th>6</th>\n      <td>26.21</td>\n      <td>28</td>\n    </tr>\n    <tr>\n      <th>7</th>\n      <td>24.06</td>\n      <td>38</td>\n    </tr>\n    <tr>\n      <th>8</th>\n      <td>39.72</td>\n      <td>6</td>\n    </tr>\n    <tr>\n      <th>9</th>\n      <td>39.70</td>\n      <td>155</td>\n    </tr>\n    <tr>\n      <th>10</th>\n      <td>38.26</td>\n      <td>153</td>\n    </tr>\n    <tr>\n      <th>11</th>\n      <td>37.76</td>\n      <td>67</td>\n    </tr>\n    <tr>\n      <th>12</th>\n      <td>36.38</td>\n      <td>29</td>\n    </tr>\n    <tr>\n      <th>13</th>\n      <td>35.60</td>\n      <td>3</td>\n    </tr>\n    <tr>\n      <th>14</th>\n      <td>36.55</td>\n      <td>119</td>\n    </tr>\n    <tr>\n      <th>15</th>\n      <td>35.88</td>\n      <td>8</td>\n    </tr>\n    <tr>\n      <th>16</th>\n      <td>37.89</td>\n      <td>4</td>\n    </tr>\n    <tr>\n      <th>17</th>\n      <td>36.41</td>\n      <td>112</td>\n    </tr>\n    <tr>\n      <th>18</th>\n      <td>35.67</td>\n      <td>273</td>\n    </tr>\n    <tr>\n      <th>19</th>\n      <td>35.44</td>\n      <td>39</td>\n    </tr>\n    <tr>\n      <th>20</th>\n      <td>36.66</td>\n      <td>418</td>\n    </tr>\n    <tr>\n      <th>21</th>\n      <td>36.71</td>\n      <td>9</td>\n    </tr>\n    <tr>\n      <th>22</th>\n      <td>35.40</td>\n      <td>13</td>\n    </tr>\n    <tr>\n      <th>23</th>\n      <td>34.98</td>\n      <td>14</td>\n    </tr>\n    <tr>\n      <th>24</th>\n      <td>35.17</td>\n      <td>51</td>\n    </tr>\n    <tr>\n      <th>25</th>\n      <td>36.59</td>\n      <td>6</td>\n    </tr>\n    <tr>\n      <th>26</th>\n      <td>36.06</td>\n      <td>9</td>\n    </tr>\n    <tr>\n      <th>27</th>\n      <td>34.99</td>\n      <td>86</td>\n    </tr>\n    <tr>\n      <th>28</th>\n      <td>34.73</td>\n      <td>3</td>\n    </tr>\n    <tr>\n      <th>29</th>\n      <td>35.01</td>\n      <td>41</td>\n    </tr>\n    <tr>\n      <th>30</th>\n      <td>34.67</td>\n      <td>102</td>\n    </tr>\n    <tr>\n      <th>31</th>\n      <td>34.23</td>\n      <td>14</td>\n    </tr>\n    <tr>\n      <th>32</th>\n      <td>34.68</td>\n      <td>23</td>\n    </tr>\n    <tr>\n      <th>33</th>\n      <td>34.70</td>\n      <td>5</td>\n    </tr>\n    <tr>\n      <th>34</th>\n      <td>35.49</td>\n      <td>7</td>\n    </tr>\n    <tr>\n      <th>35</th>\n      <td>34.69</td>\n      <td>5</td>\n    </tr>\n    <tr>\n      <th>36</th>\n      <td>35.46</td>\n      <td>17</td>\n    </tr>\n    <tr>\n      <th>37</th>\n      <td>34.40</td>\n      <td>4</td>\n    </tr>\n    <tr>\n      <th>38</th>\n      <td>34.16</td>\n      <td>18</td>\n    </tr>\n    <tr>\n      <th>39</th>\n      <td>33.84</td>\n      <td>32</td>\n    </tr>\n    <tr>\n      <th>40</th>\n      <td>34.32</td>\n      <td>9</td>\n    </tr>\n    <tr>\n      <th>41</th>\n      <td>34.07</td>\n      <td>2</td>\n    </tr>\n    <tr>\n      <th>42</th>\n      <td>33.57</td>\n      <td>1</td>\n    </tr>\n    <tr>\n      <th>43</th>\n      <td>33.24</td>\n      <td>5</td>\n    </tr>\n    <tr>\n      <th>44</th>\n      <td>31.94</td>\n      <td>9</td>\n    </tr>\n    <tr>\n      <th>45</th>\n      <td>32.73</td>\n      <td>27</td>\n    </tr>\n    <tr>\n      <th>46</th>\n      <td>33.27</td>\n      <td>6</td>\n    </tr>\n    <tr>\n      <th>47</th>\n      <td>32.81</td>\n      <td>38</td>\n    </tr>\n    <tr>\n      <th>48</th>\n      <td>45.42</td>\n      <td>3</td>\n    </tr>\n    <tr>\n      <th>49</th>\n      <td>41.82</td>\n      <td>35</td>\n    </tr>\n  </tbody>\n</table>\n</div>"
     },
     "execution_count": 169,
     "metadata": {},
     "output_type": "execute_result"
    }
   ],
   "source": [
    "X = df7[['latitude', 'altitude']]\n",
    "X"
   ]
  },
  {
   "cell_type": "code",
   "execution_count": 140,
   "metadata": {
    "pycharm": {
     "name": "#%%\n"
    }
   },
   "outputs": [
    {
     "data": {
      "text/plain": "0     19.5\n1     21.5\n2     21.5\n3     25.9\n4     25.5\n5     26.8\n6     27.6\n7     27.3\n8     22.2\n9     22.0\n10    20.8\n11    21.9\n12    23.7\n13    27.5\n14    23.2\n15    24.8\n16    21.8\n17    24.0\n18    25.6\n19    27.7\n20    20.5\n21    22.6\n22    24.2\n23    27.4\n24    24.5\n25    23.5\n26    24.0\n27    24.5\n28    25.5\n29    25.3\n30    24.5\n31    25.9\n32    26.1\n33    26.5\n34    23.5\n35    25.1\n36    23.3\n37    24.1\n38    23.2\n39    25.0\n40    25.9\n41    26.4\n42    25.0\n43    24.4\n44    26.6\n45    25.3\n46    24.8\n47    24.8\n48    17.7\n49    21.1\nName: temp, dtype: float64"
     },
     "execution_count": 140,
     "metadata": {},
     "output_type": "execute_result"
    }
   ],
   "source": [
    "y = df7['temp']\n",
    "y"
   ]
  },
  {
   "cell_type": "code",
   "execution_count": 166,
   "metadata": {
    "pycharm": {
     "name": "#%%\n"
    }
   },
   "outputs": [
    {
     "data": {
      "text/plain": "LinearRegression()"
     },
     "execution_count": 166,
     "metadata": {},
     "output_type": "execute_result"
    }
   ],
   "source": [
    "reg2 = LinearRegression()  # ←←❶\n",
    "reg2.fit(X, y)  # ←←❷"
   ]
  },
  {
   "cell_type": "code",
   "execution_count": 142,
   "metadata": {
    "pycharm": {
     "name": "#%%\n"
    }
   },
   "outputs": [
    {
     "data": {
      "text/plain": "        date station  temp  latitude  longitude  altitude\n3   2018/9/1      東京  25.9     35.69     139.75        25\n20  2018/9/1      長野  20.5     36.66     138.19       418",
      "text/html": "<div>\n<style scoped>\n    .dataframe tbody tr th:only-of-type {\n        vertical-align: middle;\n    }\n\n    .dataframe tbody tr th {\n        vertical-align: top;\n    }\n\n    .dataframe thead th {\n        text-align: right;\n    }\n</style>\n<table border=\"1\" class=\"dataframe\">\n  <thead>\n    <tr style=\"text-align: right;\">\n      <th></th>\n      <th>date</th>\n      <th>station</th>\n      <th>temp</th>\n      <th>latitude</th>\n      <th>longitude</th>\n      <th>altitude</th>\n    </tr>\n  </thead>\n  <tbody>\n    <tr>\n      <th>3</th>\n      <td>2018/9/1</td>\n      <td>東京</td>\n      <td>25.9</td>\n      <td>35.69</td>\n      <td>139.75</td>\n      <td>25</td>\n    </tr>\n    <tr>\n      <th>20</th>\n      <td>2018/9/1</td>\n      <td>長野</td>\n      <td>20.5</td>\n      <td>36.66</td>\n      <td>138.19</td>\n      <td>418</td>\n    </tr>\n  </tbody>\n</table>\n</div>"
     },
     "execution_count": 142,
     "metadata": {},
     "output_type": "execute_result"
    }
   ],
   "source": [
    "df7[df7['station'].isin(['東京', '長野'])]  # 東京と長野の気温データを取り出す"
   ]
  },
  {
   "cell_type": "code",
   "execution_count": 143,
   "metadata": {
    "pycharm": {
     "name": "#%%\n"
    }
   },
   "outputs": [
    {
     "name": "stderr",
     "output_type": "stream",
     "text": [
      "C:\\Users\\kenta\\anaconda3\\lib\\site-packages\\sklearn\\base.py:450: UserWarning: X does not have valid feature names, but LinearRegression was fitted with feature names\n",
      "  warnings.warn(\n"
     ]
    },
    {
     "data": {
      "text/plain": "array([24.3220365 , 21.80845063])"
     },
     "execution_count": 143,
     "metadata": {},
     "output_type": "execute_result"
    }
   ],
   "source": [
    "reg2.predict([\n",
    "    [35.69, 6],  # 東京の緯度と標高\n",
    "    [36.6, 418],  # 長野の緯度と標高\n",
    "])"
   ]
  },
  {
   "cell_type": "markdown",
   "metadata": {
    "pycharm": {
     "name": "#%% md\n"
    }
   },
   "source": [
    "## Lesson 61. 回帰分析のモデルを比べてみましょう"
   ]
  },
  {
   "cell_type": "code",
   "execution_count": 144,
   "metadata": {
    "pycharm": {
     "name": "#%%\n"
    }
   },
   "outputs": [],
   "source": [
    "from sklearn.model_selection import train_test_split\n",
    "\n",
    "y = df7['temp']\n",
    "X_train, X_test, y_train, y_test = train_test_split(df7, y, random_state=0)"
   ]
  },
  {
   "cell_type": "code",
   "execution_count": 145,
   "metadata": {
    "pycharm": {
     "name": "#%%\n"
    }
   },
   "outputs": [
    {
     "data": {
      "text/plain": "    latitude\n34     35.49\n18     35.67\n7      24.06\n14     36.55\n45     32.73\n48     45.42\n29     35.01\n15     35.88\n30     34.67\n32     34.68\n16     37.89\n42     33.57\n20     36.66\n43     33.24\n8      39.72\n13     35.60\n25     36.59\n5      31.56\n17     36.41\n40     34.32\n49     41.82\n1      40.82\n12     36.38\n37     34.40\n24     35.17\n6      26.21\n23     34.98\n36     35.46\n21     36.71\n19     35.44\n9      39.70\n39     33.84\n46     33.27\n3      35.69\n0      43.06\n47     32.81\n44     31.94",
      "text/html": "<div>\n<style scoped>\n    .dataframe tbody tr th:only-of-type {\n        vertical-align: middle;\n    }\n\n    .dataframe tbody tr th {\n        vertical-align: top;\n    }\n\n    .dataframe thead th {\n        text-align: right;\n    }\n</style>\n<table border=\"1\" class=\"dataframe\">\n  <thead>\n    <tr style=\"text-align: right;\">\n      <th></th>\n      <th>latitude</th>\n    </tr>\n  </thead>\n  <tbody>\n    <tr>\n      <th>34</th>\n      <td>35.49</td>\n    </tr>\n    <tr>\n      <th>18</th>\n      <td>35.67</td>\n    </tr>\n    <tr>\n      <th>7</th>\n      <td>24.06</td>\n    </tr>\n    <tr>\n      <th>14</th>\n      <td>36.55</td>\n    </tr>\n    <tr>\n      <th>45</th>\n      <td>32.73</td>\n    </tr>\n    <tr>\n      <th>48</th>\n      <td>45.42</td>\n    </tr>\n    <tr>\n      <th>29</th>\n      <td>35.01</td>\n    </tr>\n    <tr>\n      <th>15</th>\n      <td>35.88</td>\n    </tr>\n    <tr>\n      <th>30</th>\n      <td>34.67</td>\n    </tr>\n    <tr>\n      <th>32</th>\n      <td>34.68</td>\n    </tr>\n    <tr>\n      <th>16</th>\n      <td>37.89</td>\n    </tr>\n    <tr>\n      <th>42</th>\n      <td>33.57</td>\n    </tr>\n    <tr>\n      <th>20</th>\n      <td>36.66</td>\n    </tr>\n    <tr>\n      <th>43</th>\n      <td>33.24</td>\n    </tr>\n    <tr>\n      <th>8</th>\n      <td>39.72</td>\n    </tr>\n    <tr>\n      <th>13</th>\n      <td>35.60</td>\n    </tr>\n    <tr>\n      <th>25</th>\n      <td>36.59</td>\n    </tr>\n    <tr>\n      <th>5</th>\n      <td>31.56</td>\n    </tr>\n    <tr>\n      <th>17</th>\n      <td>36.41</td>\n    </tr>\n    <tr>\n      <th>40</th>\n      <td>34.32</td>\n    </tr>\n    <tr>\n      <th>49</th>\n      <td>41.82</td>\n    </tr>\n    <tr>\n      <th>1</th>\n      <td>40.82</td>\n    </tr>\n    <tr>\n      <th>12</th>\n      <td>36.38</td>\n    </tr>\n    <tr>\n      <th>37</th>\n      <td>34.40</td>\n    </tr>\n    <tr>\n      <th>24</th>\n      <td>35.17</td>\n    </tr>\n    <tr>\n      <th>6</th>\n      <td>26.21</td>\n    </tr>\n    <tr>\n      <th>23</th>\n      <td>34.98</td>\n    </tr>\n    <tr>\n      <th>36</th>\n      <td>35.46</td>\n    </tr>\n    <tr>\n      <th>21</th>\n      <td>36.71</td>\n    </tr>\n    <tr>\n      <th>19</th>\n      <td>35.44</td>\n    </tr>\n    <tr>\n      <th>9</th>\n      <td>39.70</td>\n    </tr>\n    <tr>\n      <th>39</th>\n      <td>33.84</td>\n    </tr>\n    <tr>\n      <th>46</th>\n      <td>33.27</td>\n    </tr>\n    <tr>\n      <th>3</th>\n      <td>35.69</td>\n    </tr>\n    <tr>\n      <th>0</th>\n      <td>43.06</td>\n    </tr>\n    <tr>\n      <th>47</th>\n      <td>32.81</td>\n    </tr>\n    <tr>\n      <th>44</th>\n      <td>31.94</td>\n    </tr>\n  </tbody>\n</table>\n</div>"
     },
     "execution_count": 145,
     "metadata": {},
     "output_type": "execute_result"
    }
   ],
   "source": [
    "X1_train = X_train[['latitude']]\n",
    "X1_train"
   ]
  },
  {
   "cell_type": "code",
   "execution_count": 146,
   "metadata": {
    "pycharm": {
     "name": "#%%\n"
    }
   },
   "outputs": [
    {
     "data": {
      "text/plain": "    latitude\n28     34.73\n11     37.76\n10     38.26\n41     34.07\n2      38.26\n27     34.99\n38     34.16\n31     34.23\n22     35.40\n4      33.58\n33     34.70\n35     34.69\n26     36.06",
      "text/html": "<div>\n<style scoped>\n    .dataframe tbody tr th:only-of-type {\n        vertical-align: middle;\n    }\n\n    .dataframe tbody tr th {\n        vertical-align: top;\n    }\n\n    .dataframe thead th {\n        text-align: right;\n    }\n</style>\n<table border=\"1\" class=\"dataframe\">\n  <thead>\n    <tr style=\"text-align: right;\">\n      <th></th>\n      <th>latitude</th>\n    </tr>\n  </thead>\n  <tbody>\n    <tr>\n      <th>28</th>\n      <td>34.73</td>\n    </tr>\n    <tr>\n      <th>11</th>\n      <td>37.76</td>\n    </tr>\n    <tr>\n      <th>10</th>\n      <td>38.26</td>\n    </tr>\n    <tr>\n      <th>41</th>\n      <td>34.07</td>\n    </tr>\n    <tr>\n      <th>2</th>\n      <td>38.26</td>\n    </tr>\n    <tr>\n      <th>27</th>\n      <td>34.99</td>\n    </tr>\n    <tr>\n      <th>38</th>\n      <td>34.16</td>\n    </tr>\n    <tr>\n      <th>31</th>\n      <td>34.23</td>\n    </tr>\n    <tr>\n      <th>22</th>\n      <td>35.40</td>\n    </tr>\n    <tr>\n      <th>4</th>\n      <td>33.58</td>\n    </tr>\n    <tr>\n      <th>33</th>\n      <td>34.70</td>\n    </tr>\n    <tr>\n      <th>35</th>\n      <td>34.69</td>\n    </tr>\n    <tr>\n      <th>26</th>\n      <td>36.06</td>\n    </tr>\n  </tbody>\n</table>\n</div>"
     },
     "execution_count": 146,
     "metadata": {},
     "output_type": "execute_result"
    }
   ],
   "source": [
    "X1_test = X_test[['latitude']]\n",
    "X1_test"
   ]
  },
  {
   "cell_type": "code",
   "execution_count": 147,
   "metadata": {
    "pycharm": {
     "name": "#%%\n"
    }
   },
   "outputs": [
    {
     "data": {
      "text/plain": "array([24.61272633, 23.15469222, 22.91409253, 24.93031792, 22.91409253,\n       24.48761449, 24.88700998, 24.85332602, 24.29032275, 25.16610561,\n       24.62716231, 24.63197431, 23.97273116])"
     },
     "execution_count": 147,
     "metadata": {},
     "output_type": "execute_result"
    }
   ],
   "source": [
    "reg1 = LinearRegression()\n",
    "reg1.fit(X1_train, y_train)\n",
    "y_pred1 = reg1.predict(X1_test)\n",
    "y_pred1"
   ]
  },
  {
   "cell_type": "code",
   "execution_count": 148,
   "metadata": {
    "pycharm": {
     "name": "#%%\n"
    }
   },
   "outputs": [
    {
     "data": {
      "text/plain": "0.557801348545274"
     },
     "execution_count": 148,
     "metadata": {},
     "output_type": "execute_result"
    }
   ],
   "source": [
    "from sklearn.metrics import r2_score\n",
    "\n",
    "r2_score(y_test, y_pred1)"
   ]
  },
  {
   "cell_type": "code",
   "execution_count": 149,
   "metadata": {
    "pycharm": {
     "name": "#%%\n"
    }
   },
   "outputs": [
    {
     "data": {
      "text/plain": "    latitude  altitude\n34     35.49         7\n18     35.67       273\n7      24.06        38\n14     36.55       119\n45     32.73        27\n48     45.42         3\n29     35.01        41\n15     35.88         8\n30     34.67       102\n32     34.68        23\n16     37.89         4\n42     33.57         1\n20     36.66       418\n43     33.24         5\n8      39.72         6\n13     35.60         3\n25     36.59         6\n5      31.56         4\n17     36.41       112\n40     34.32         9\n49     41.82        35\n1      40.82         3\n12     36.38        29\n37     34.40         4\n24     35.17        51\n6      26.21        28\n23     34.98        14\n36     35.46        17\n21     36.71         9\n19     35.44        39\n9      39.70       155\n39     33.84        32\n46     33.27         6\n3      35.69        25\n0      43.06        17\n47     32.81        38\n44     31.94         9",
      "text/html": "<div>\n<style scoped>\n    .dataframe tbody tr th:only-of-type {\n        vertical-align: middle;\n    }\n\n    .dataframe tbody tr th {\n        vertical-align: top;\n    }\n\n    .dataframe thead th {\n        text-align: right;\n    }\n</style>\n<table border=\"1\" class=\"dataframe\">\n  <thead>\n    <tr style=\"text-align: right;\">\n      <th></th>\n      <th>latitude</th>\n      <th>altitude</th>\n    </tr>\n  </thead>\n  <tbody>\n    <tr>\n      <th>34</th>\n      <td>35.49</td>\n      <td>7</td>\n    </tr>\n    <tr>\n      <th>18</th>\n      <td>35.67</td>\n      <td>273</td>\n    </tr>\n    <tr>\n      <th>7</th>\n      <td>24.06</td>\n      <td>38</td>\n    </tr>\n    <tr>\n      <th>14</th>\n      <td>36.55</td>\n      <td>119</td>\n    </tr>\n    <tr>\n      <th>45</th>\n      <td>32.73</td>\n      <td>27</td>\n    </tr>\n    <tr>\n      <th>48</th>\n      <td>45.42</td>\n      <td>3</td>\n    </tr>\n    <tr>\n      <th>29</th>\n      <td>35.01</td>\n      <td>41</td>\n    </tr>\n    <tr>\n      <th>15</th>\n      <td>35.88</td>\n      <td>8</td>\n    </tr>\n    <tr>\n      <th>30</th>\n      <td>34.67</td>\n      <td>102</td>\n    </tr>\n    <tr>\n      <th>32</th>\n      <td>34.68</td>\n      <td>23</td>\n    </tr>\n    <tr>\n      <th>16</th>\n      <td>37.89</td>\n      <td>4</td>\n    </tr>\n    <tr>\n      <th>42</th>\n      <td>33.57</td>\n      <td>1</td>\n    </tr>\n    <tr>\n      <th>20</th>\n      <td>36.66</td>\n      <td>418</td>\n    </tr>\n    <tr>\n      <th>43</th>\n      <td>33.24</td>\n      <td>5</td>\n    </tr>\n    <tr>\n      <th>8</th>\n      <td>39.72</td>\n      <td>6</td>\n    </tr>\n    <tr>\n      <th>13</th>\n      <td>35.60</td>\n      <td>3</td>\n    </tr>\n    <tr>\n      <th>25</th>\n      <td>36.59</td>\n      <td>6</td>\n    </tr>\n    <tr>\n      <th>5</th>\n      <td>31.56</td>\n      <td>4</td>\n    </tr>\n    <tr>\n      <th>17</th>\n      <td>36.41</td>\n      <td>112</td>\n    </tr>\n    <tr>\n      <th>40</th>\n      <td>34.32</td>\n      <td>9</td>\n    </tr>\n    <tr>\n      <th>49</th>\n      <td>41.82</td>\n      <td>35</td>\n    </tr>\n    <tr>\n      <th>1</th>\n      <td>40.82</td>\n      <td>3</td>\n    </tr>\n    <tr>\n      <th>12</th>\n      <td>36.38</td>\n      <td>29</td>\n    </tr>\n    <tr>\n      <th>37</th>\n      <td>34.40</td>\n      <td>4</td>\n    </tr>\n    <tr>\n      <th>24</th>\n      <td>35.17</td>\n      <td>51</td>\n    </tr>\n    <tr>\n      <th>6</th>\n      <td>26.21</td>\n      <td>28</td>\n    </tr>\n    <tr>\n      <th>23</th>\n      <td>34.98</td>\n      <td>14</td>\n    </tr>\n    <tr>\n      <th>36</th>\n      <td>35.46</td>\n      <td>17</td>\n    </tr>\n    <tr>\n      <th>21</th>\n      <td>36.71</td>\n      <td>9</td>\n    </tr>\n    <tr>\n      <th>19</th>\n      <td>35.44</td>\n      <td>39</td>\n    </tr>\n    <tr>\n      <th>9</th>\n      <td>39.70</td>\n      <td>155</td>\n    </tr>\n    <tr>\n      <th>39</th>\n      <td>33.84</td>\n      <td>32</td>\n    </tr>\n    <tr>\n      <th>46</th>\n      <td>33.27</td>\n      <td>6</td>\n    </tr>\n    <tr>\n      <th>3</th>\n      <td>35.69</td>\n      <td>25</td>\n    </tr>\n    <tr>\n      <th>0</th>\n      <td>43.06</td>\n      <td>17</td>\n    </tr>\n    <tr>\n      <th>47</th>\n      <td>32.81</td>\n      <td>38</td>\n    </tr>\n    <tr>\n      <th>44</th>\n      <td>31.94</td>\n      <td>9</td>\n    </tr>\n  </tbody>\n</table>\n</div>"
     },
     "execution_count": 149,
     "metadata": {},
     "output_type": "execute_result"
    }
   ],
   "source": [
    "X2_train = X_train[['latitude', 'altitude']]  # ←←❶ 説明変数を取り出す\n",
    "X2_train"
   ]
  },
  {
   "cell_type": "code",
   "execution_count": 150,
   "metadata": {
    "pycharm": {
     "name": "#%%\n"
    }
   },
   "outputs": [
    {
     "data": {
      "text/plain": "    latitude  altitude\n28     34.73         3\n11     37.76        67\n10     38.26       153\n41     34.07         2\n2      38.26        39\n27     34.99        86\n38     34.16        18\n31     34.23        14\n22     35.40        13\n4      33.58         3\n33     34.70         5\n35     34.69         5\n26     36.06         9",
      "text/html": "<div>\n<style scoped>\n    .dataframe tbody tr th:only-of-type {\n        vertical-align: middle;\n    }\n\n    .dataframe tbody tr th {\n        vertical-align: top;\n    }\n\n    .dataframe thead th {\n        text-align: right;\n    }\n</style>\n<table border=\"1\" class=\"dataframe\">\n  <thead>\n    <tr style=\"text-align: right;\">\n      <th></th>\n      <th>latitude</th>\n      <th>altitude</th>\n    </tr>\n  </thead>\n  <tbody>\n    <tr>\n      <th>28</th>\n      <td>34.73</td>\n      <td>3</td>\n    </tr>\n    <tr>\n      <th>11</th>\n      <td>37.76</td>\n      <td>67</td>\n    </tr>\n    <tr>\n      <th>10</th>\n      <td>38.26</td>\n      <td>153</td>\n    </tr>\n    <tr>\n      <th>41</th>\n      <td>34.07</td>\n      <td>2</td>\n    </tr>\n    <tr>\n      <th>2</th>\n      <td>38.26</td>\n      <td>39</td>\n    </tr>\n    <tr>\n      <th>27</th>\n      <td>34.99</td>\n      <td>86</td>\n    </tr>\n    <tr>\n      <th>38</th>\n      <td>34.16</td>\n      <td>18</td>\n    </tr>\n    <tr>\n      <th>31</th>\n      <td>34.23</td>\n      <td>14</td>\n    </tr>\n    <tr>\n      <th>22</th>\n      <td>35.40</td>\n      <td>13</td>\n    </tr>\n    <tr>\n      <th>4</th>\n      <td>33.58</td>\n      <td>3</td>\n    </tr>\n    <tr>\n      <th>33</th>\n      <td>34.70</td>\n      <td>5</td>\n    </tr>\n    <tr>\n      <th>35</th>\n      <td>34.69</td>\n      <td>5</td>\n    </tr>\n    <tr>\n      <th>26</th>\n      <td>36.06</td>\n      <td>9</td>\n    </tr>\n  </tbody>\n</table>\n</div>"
     },
     "execution_count": 150,
     "metadata": {},
     "output_type": "execute_result"
    }
   ],
   "source": [
    "X2_test = X_test[['latitude', 'altitude']]  # ←←❶  説明変数を取り出す\n",
    "X2_test"
   ]
  },
  {
   "cell_type": "code",
   "execution_count": 151,
   "metadata": {
    "pycharm": {
     "name": "#%%\n"
    }
   },
   "outputs": [
    {
     "data": {
      "text/plain": "array([24.77632917, 23.08715932, 22.51784567, 25.09442308, 22.95694637,\n       24.33284068, 24.98994371, 24.97202204, 24.41880816, 25.32387232,\n       24.78290938, 24.78767063, 24.11997305])"
     },
     "execution_count": 151,
     "metadata": {},
     "output_type": "execute_result"
    }
   ],
   "source": [
    "reg2 = LinearRegression()\n",
    "reg2.fit(X2_train, y_train)  # ←←❷ モデルを学習させる\n",
    "y_pred2 = reg2.predict(X2_test)  # ←←❸ テストデータで目的変数を予測する\n",
    "y_pred2"
   ]
  },
  {
   "cell_type": "code",
   "execution_count": 152,
   "metadata": {
    "pycharm": {
     "name": "#%%\n"
    }
   },
   "outputs": [
    {
     "data": {
      "text/plain": "0.6245736797449455"
     },
     "execution_count": 152,
     "metadata": {},
     "output_type": "execute_result"
    }
   ],
   "source": [
    "r2_score(y_test, y_pred2)  # ←←❹ 決定係数を計算する\n"
   ]
  },
  {
   "cell_type": "markdown",
   "metadata": {
    "pycharm": {
     "name": "#%% md\n"
    }
   },
   "source": [
    "## Lesson 62. pybotが未知の地点の気温を予測できるように改良しましょう"
   ]
  },
  {
   "cell_type": "code",
   "execution_count": 153,
   "metadata": {
    "pycharm": {
     "name": "#%%\n"
    }
   },
   "outputs": [
    {
     "data": {
      "text/plain": "LinearRegression()"
     },
     "execution_count": 153,
     "metadata": {},
     "output_type": "execute_result"
    }
   ],
   "source": [
    "reg = LinearRegression()\n",
    "X = df7[['latitude']]\n",
    "y = df7['temp']\n",
    "reg.fit(X, y)"
   ]
  },
  {
   "cell_type": "code",
   "execution_count": 154,
   "metadata": {
    "pycharm": {
     "name": "#%%\n"
    }
   },
   "outputs": [],
   "source": [
    "import pickle\n",
    "\n",
    "with open('trained-reg-model.pickle', 'wb') as f:\n",
    "    pickle.dump(reg, f)"
   ]
  }
 ],
 "metadata": {
  "kernelspec": {
   "display_name": "Python 3",
   "language": "python",
   "name": "python3"
  },
  "language_info": {
   "codemirror_mode": {
    "name": "ipython",
    "version": 3
   },
   "file_extension": ".py",
   "mimetype": "text/x-python",
   "name": "python",
   "nbconvert_exporter": "python",
   "pygments_lexer": "ipython3",
   "version": "3.7.3"
  }
 },
 "nbformat": 4,
 "nbformat_minor": 2
}