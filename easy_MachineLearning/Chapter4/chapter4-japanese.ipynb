{
  "cells": [
    {
      "cell_type": "markdown",
      "metadata": {
        "pycharm": {
          "name": "#%% md\n"
        },
        "id": "Y0h7Mwzgc0bm"
      },
      "source": [
        "# Chapter 4 日本語の文章を生成しよう"
      ]
    },
    {
      "cell_type": "markdown",
      "metadata": {
        "pycharm": {
          "name": "#%% md\n"
        },
        "id": "j-BlNjWuc0bq"
      },
      "source": [
        "## Lesson 28 日本語を形態素解析してみましょう\n",
        "\n",
        "### 手順パート: Janomeで日本語を形態素解析する"
      ]
    },
    {
      "cell_type": "code",
      "execution_count": null,
      "metadata": {
        "pycharm": {
          "name": "#%%\n"
        },
        "id": "9vQ5C98bc0bq",
        "outputId": "ef638f34-c331-4017-d631-d33d468acec1"
      },
      "outputs": [
        {
          "data": {
            "text/plain": "<janome.tokenizer.Tokenizer at 0x21f9b7a9100>"
          },
          "execution_count": 1,
          "metadata": {},
          "output_type": "execute_result"
        }
      ],
      "source": [
        "from janome.tokenizer import Tokenizer\n",
        "t = Tokenizer()\n",
        "t"
      ]
    },
    {
      "cell_type": "code",
      "execution_count": null,
      "metadata": {
        "pycharm": {
          "name": "#%%\n"
        },
        "id": "u4c_SC67c0bs",
        "outputId": "aab18665-d98c-446a-baf9-7018143c7ae0"
      },
      "outputs": [
        {
          "data": {
            "text/plain": "9"
          },
          "execution_count": 2,
          "metadata": {},
          "output_type": "execute_result"
        }
      ],
      "source": [
        "text = '東京都でおいしいビールを飲もう。'\n",
        "tokens = t.tokenize(text)\n",
        "token_list = list(tokens)\n",
        "len(token_list)"
      ]
    },
    {
      "cell_type": "code",
      "execution_count": null,
      "metadata": {
        "pycharm": {
          "name": "#%%\n"
        },
        "scrolled": true,
        "id": "3c4_UKEec0bt",
        "outputId": "2b1231a7-be32-4268-cb30-5e3f398b0640"
      },
      "outputs": [
        {
          "name": "stdout",
          "output_type": "stream",
          "text": [
            "東京\t名詞,固有名詞,地域,一般,*,*,東京,トウキョウ,トーキョー\n",
            "都\t名詞,接尾,地域,*,*,*,都,ト,ト\n",
            "で\t助詞,格助詞,一般,*,*,*,で,デ,デ\n",
            "おいしい\t形容詞,自立,*,*,形容詞・イ段,基本形,おいしい,オイシイ,オイシイ\n",
            "ビール\t名詞,一般,*,*,*,*,ビール,ビール,ビール\n",
            "を\t助詞,格助詞,一般,*,*,*,を,ヲ,ヲ\n",
            "飲も\t動詞,自立,*,*,五段・マ行,未然ウ接続,飲む,ノモ,ノモ\n",
            "う\t助動詞,*,*,*,不変化型,基本形,う,ウ,ウ\n",
            "。\t記号,句点,*,*,*,*,。,。,。\n"
          ]
        }
      ],
      "source": [
        "# 文章を分割する\n",
        "for token in token_list:\n",
        "    print(token)"
      ]
    },
    {
      "cell_type": "code",
      "execution_count": null,
      "metadata": {
        "pycharm": {
          "name": "#%%\n"
        },
        "id": "7ml8UJ6cc0bt",
        "outputId": "85fa6de5-dda0-45c6-f94b-be56a7ffede0"
      },
      "outputs": [
        {
          "data": {
            "text/plain": "['東京', '都', 'で', 'おいしい', 'ビール', 'を', '飲も', 'う', '。']"
          },
          "execution_count": 4,
          "metadata": {},
          "output_type": "execute_result"
        }
      ],
      "source": [
        "list(t.tokenize(text, wakati=True))"
      ]
    },
    {
      "cell_type": "markdown",
      "metadata": {
        "pycharm": {
          "name": "#%% md\n"
        },
        "id": "Y8jL8rhuc0bu"
      },
      "source": [
        "## Lesson 29 自然言語処理で使用されるモデルやアルゴリズムを知りましょう"
      ]
    },
    {
      "cell_type": "markdown",
      "metadata": {
        "pycharm": {
          "name": "#%% md\n"
        },
        "id": "S45AYt0gc0bu"
      },
      "source": [
        "### 手順パート: Bag of Wordsのデータを作ってみよう"
      ]
    },
    {
      "cell_type": "code",
      "execution_count": null,
      "metadata": {
        "pycharm": {
          "name": "#%%\n"
        },
        "id": "1UrqACUHc0bv",
        "outputId": "e810a8ea-98a1-495c-d141-9bdd7685d7d1"
      },
      "outputs": [
        {
          "data": {
            "text/plain": "[['おいしい', 'ビール', 'を', '飲む'],\n ['コーヒー', 'を', '飲む'],\n ['おいしい', 'クラフト', 'ビール', 'を', '買う']]"
          },
          "execution_count": 5,
          "metadata": {},
          "output_type": "execute_result"
        }
      ],
      "source": [
        "# 複数の文章を単語に分割する\n",
        "from janome.tokenizer import Tokenizer\n",
        "\n",
        "t = Tokenizer()  # ❶ Tokenizerのインスタンスを生成\n",
        "sentences = [  # ❷ 対象となる文章のリスト\n",
        "    'おいしいビールを飲む', 'コーヒーを飲む', 'おいしいクラフトビールを買う'\n",
        "]\n",
        "\n",
        "words_list = []\n",
        "for sentence in sentences:\n",
        "    words_list.append(list(t.tokenize(sentence, wakati=True)))  # ❹ 文章を分かち書き\n",
        "words_list"
      ]
    },
    {
      "cell_type": "code",
      "execution_count": null,
      "metadata": {
        "pycharm": {
          "name": "#%%\n"
        },
        "id": "7GuSe5jWc0bv",
        "outputId": "b3859a10-ab25-457f-9cb8-5bd7c43fefce"
      },
      "outputs": [
        {
          "data": {
            "text/plain": [
              "['おいしい', 'ビール', 'を', '飲む', 'コーヒー', 'クラフト', '買う']"
            ]
          },
          "execution_count": 13,
          "metadata": {},
          "output_type": "execute_result"
        }
      ],
      "source": [
        "# 一意な単語のリストを作成する\n",
        "unique_words = []\n",
        "for words in words_list:  # ❶各単語を取り出す\n",
        "    for word in words:\n",
        "        if word not in unique_words:  # ❷存在しなければ追加\n",
        "            unique_words.append(word)\n",
        "unique_words"
      ]
    },
    {
      "cell_type": "code",
      "execution_count": null,
      "metadata": {
        "pycharm": {
          "name": "#%%\n"
        },
        "id": "LupkDdQAc0bw",
        "outputId": "1ab87d75-dbe6-47ea-8d42-581c1641e451"
      },
      "outputs": [
        {
          "data": {
            "text/plain": [
              "[[1, 1, 1, 1, 0, 0, 0], [0, 0, 1, 1, 1, 0, 0], [1, 1, 1, 0, 0, 1, 1]]"
            ]
          },
          "execution_count": 19,
          "metadata": {},
          "output_type": "execute_result"
        }
      ],
      "source": [
        "# Bag of Words のデータを作成する\n",
        "bow_list = []\n",
        "for words in words_list:\n",
        "    bag_of_words = []  # ❶ 1文章のBag of Wordsを格納する\n",
        "    for unique_word in unique_words:\n",
        "        num = words.count(unique_word)  # ❷ 一意な単語の出現回数を数える\n",
        "        bag_of_words.append(num)\n",
        "    bow_list.append(bag_of_words)\n",
        "bow_list"
      ]
    },
    {
      "cell_type": "code",
      "execution_count": null,
      "metadata": {
        "pycharm": {
          "name": "#%%\n"
        },
        "id": "7evs9Bvjc0bw",
        "outputId": "7113a0ff-f877-458c-8594-2ca140459cce"
      },
      "outputs": [
        {
          "data": {
            "text/plain": [
              "[0.28768207245178085,\n",
              " 0.28768207245178085,\n",
              " 0.0,\n",
              " 0.28768207245178085,\n",
              " 0.6931471805599453,\n",
              " 0.6931471805599453,\n",
              " 0.6931471805599453]"
            ]
          },
          "execution_count": 20,
          "metadata": {},
          "output_type": "execute_result"
        }
      ],
      "source": [
        "# TF-IDFを計算する\n",
        "from math import log  # ❶ logをインポート\n",
        "num_of_sentences = len(sentences)\n",
        "idf = []\n",
        "for i in range(len(unique_words)):  # ❷ 一意な単語分繰り返す\n",
        "    count = 0\n",
        "    for bow in bow_list:  # ❸ Bag of Wordsに存在すれば1を足す\n",
        "        if bow[i] > 0:\n",
        "            count += 1\n",
        "    idf.append(log((num_of_sentences + 1) / (count + 1)))  # ❹ 単語のIDFを計算する\n",
        "idf"
      ]
    },
    {
      "cell_type": "code",
      "execution_count": null,
      "metadata": {
        "pycharm": {
          "name": "#%%\n"
        },
        "id": "J6AUETvkc0bx",
        "outputId": "facc893e-7336-4b0b-8287-b64ffb6f79b7"
      },
      "outputs": [
        {
          "data": {
            "text/plain": [
              "[0.0,\n",
              " 0.0,\n",
              " 0.3333333333333333,\n",
              " 0.42922735748392693,\n",
              " 0.5643823935199818,\n",
              " 0.0,\n",
              " 0.0]"
            ]
          },
          "execution_count": 23,
          "metadata": {},
          "output_type": "execute_result"
        }
      ],
      "source": [
        "# TF-IDFを計算する\n",
        "bow = bow_list[1]  # ❶「コーヒーを飲む」のBag of Words\n",
        "num_of_words = sum(bow)  # ❷ 1文章の単語の数\n",
        "tfidf = []\n",
        "for i, value in enumerate(bow):\n",
        "    tf = value / num_of_words  # ❸ TFを取得\n",
        "    tfidf.append(tf * (idf[i] + 1))  # ❹ TF-IDFを取得\n",
        "tfidf"
      ]
    },
    {
      "cell_type": "code",
      "execution_count": null,
      "metadata": {
        "pycharm": {
          "name": "#%%\n"
        },
        "id": "cgulQp6fc0bx",
        "outputId": "ffb28ce9-da07-4228-831e-da6900f31f70"
      },
      "outputs": [
        {
          "data": {
            "text/html": [
              "<div>\n",
              "<style scoped>\n",
              "    .dataframe tbody tr th:only-of-type {\n",
              "        vertical-align: middle;\n",
              "    }\n",
              "\n",
              "    .dataframe tbody tr th {\n",
              "        vertical-align: top;\n",
              "    }\n",
              "\n",
              "    .dataframe thead th {\n",
              "        text-align: right;\n",
              "    }\n",
              "</style>\n",
              "<table border=\"1\" class=\"dataframe\">\n",
              "  <thead>\n",
              "    <tr style=\"text-align: right;\">\n",
              "      <th></th>\n",
              "      <th>おいしい</th>\n",
              "      <th>ビール</th>\n",
              "      <th>を</th>\n",
              "      <th>飲む</th>\n",
              "      <th>コーヒー</th>\n",
              "      <th>クラフト</th>\n",
              "      <th>買う</th>\n",
              "    </tr>\n",
              "  </thead>\n",
              "  <tbody>\n",
              "    <tr>\n",
              "      <th>0</th>\n",
              "      <td>1</td>\n",
              "      <td>1</td>\n",
              "      <td>1</td>\n",
              "      <td>1</td>\n",
              "      <td>0</td>\n",
              "      <td>0</td>\n",
              "      <td>0</td>\n",
              "    </tr>\n",
              "    <tr>\n",
              "      <th>1</th>\n",
              "      <td>0</td>\n",
              "      <td>0</td>\n",
              "      <td>1</td>\n",
              "      <td>1</td>\n",
              "      <td>1</td>\n",
              "      <td>0</td>\n",
              "      <td>0</td>\n",
              "    </tr>\n",
              "    <tr>\n",
              "      <th>2</th>\n",
              "      <td>1</td>\n",
              "      <td>1</td>\n",
              "      <td>1</td>\n",
              "      <td>0</td>\n",
              "      <td>0</td>\n",
              "      <td>1</td>\n",
              "      <td>1</td>\n",
              "    </tr>\n",
              "  </tbody>\n",
              "</table>\n",
              "</div>"
            ],
            "text/plain": [
              "   おいしい  ビール  を  飲む  コーヒー  クラフト  買う\n",
              "0     1    1  1   1     0     0   0\n",
              "1     0    0  1   1     1     0   0\n",
              "2     1    1  1   0     0     1   1"
            ]
          },
          "execution_count": 24,
          "metadata": {},
          "output_type": "execute_result"
        }
      ],
      "source": [
        "import pandas as pd\n",
        "\n",
        "df = pd.DataFrame(bow_list, columns=unique_words)\n",
        "df"
      ]
    },
    {
      "cell_type": "markdown",
      "metadata": {
        "pycharm": {
          "name": "#%% md\n"
        },
        "id": "08f-XtuZc0by"
      },
      "source": [
        "## Lesson 32 マルコフ連鎖用の辞書データを作成しましょう"
      ]
    },
    {
      "cell_type": "code",
      "execution_count": null,
      "metadata": {
        "pycharm": {
          "name": "#%%\n"
        },
        "id": "WcvSYg-Mc0by"
      },
      "outputs": [],
      "source": [
        "# 天気予報の各状態を表すデータ\n",
        "weather_data = {\n",
        "    '晴れ': {\n",
        "        'next_weather_types': ['晴れ', '曇り', '雨'],  # 遷移先の天気のリスト\n",
        "        'weights': [0.6, 0.3, 0.1],},   # それぞれの天気に遷移する割合（重み）\n",
        "    '曇り': {'next_weather_types': ['晴れ', '曇り', '雨'], 'weights': [0.3, 0.5, 0.2]},\n",
        "    '雨': {'next_weather_types': ['晴れ', '曇り', '雨'], 'weights': [0.2, 0.3, 0.5]},\n",
        "}"
      ]
    },
    {
      "cell_type": "code",
      "execution_count": null,
      "metadata": {
        "pycharm": {
          "name": "#%%\n"
        },
        "id": "zIc3YvX-c0by",
        "outputId": "615d783a-b3c8-4999-d399-6bf41be83ac2"
      },
      "outputs": [
        {
          "name": "stdout",
          "output_type": "stream",
          "text": [
            "{'晴れ': 619, '曇り': 291, '雨': 90}\n"
          ]
        }
      ],
      "source": [
        "# 状態を表すデータから「晴れ」の次の天気を重みありでランダムに取り出す\n",
        "import random\n",
        "\n",
        "next_weather_types = weather_data['晴れ']['next_weather_types']\n",
        "weights = weather_data['晴れ']['weights']\n",
        "\n",
        "count = {'晴れ': 0, '曇り': 0, '雨': 0}\n",
        "for i in range(1000):  # 重みづけを確認するために1000回天気を取り出す\n",
        "    weather = random.choices(next_weather_types, weights=weights)[0]  # リストで返るので先頭を取り出す\n",
        "    count[weather] += 1  # 出現回数を数える\n",
        "print(count)"
      ]
    },
    {
      "cell_type": "code",
      "execution_count": null,
      "metadata": {
        "pycharm": {
          "name": "#%%\n"
        },
        "id": "41lryQQjc0by",
        "outputId": "fd87154e-5f97-41ed-dc71-5d4e9ba11c93"
      },
      "outputs": [
        {
          "data": {
            "text/plain": [
              "['晴れ', '雨', '曇り', '曇り', '雨', '曇り', '晴れ', '曇り', '晴れ', '雨', '雨']"
            ]
          },
          "execution_count": 31,
          "metadata": {},
          "output_type": "execute_result"
        }
      ],
      "source": [
        "# 天気のマルコフ連鎖を生成する\n",
        "\n",
        "current_weather = '晴れ'\n",
        "markov_weather_list = [current_weather]  # 天気のリストを格納する領域\n",
        "for i in range(10):\n",
        "    next_weather_types = weather_data[current_weather]['next_weather_types']  # 次の状態（天気）と重みを取得\n",
        "    weights = weather_data[current_weather]['weights']\n",
        "    current_weather = random.choices(next_weather_types, weights=weights)[0]  # 次の状態（天気）をランダムに取得\n",
        "    markov_weather_list.append(current_weather)  # 天気を追加\n",
        "markov_weather_list"
      ]
    },
    {
      "cell_type": "markdown",
      "metadata": {
        "pycharm": {
          "name": "#%% md\n"
        },
        "id": "-RECOfzRc0bz"
      },
      "source": [
        "### 手順パート: テキストからマルコフ連鎖の辞書データを作成する"
      ]
    },
    {
      "cell_type": "code",
      "execution_count": null,
      "metadata": {
        "pycharm": {
          "name": "#%%\n"
        },
        "id": "QsUQS-4-c0bz",
        "outputId": "ace87ba5-d0b6-4d11-de7d-28823455100f"
      },
      "outputs": [
        {
          "data": {
            "text/plain": [
              "[['__BEGIN__', 'おいしい', 'ビール'],\n",
              " ['おいしい', 'ビール', 'を'],\n",
              " ['ビール', 'を', '飲も'],\n",
              " ['を', '飲も', 'う'],\n",
              " ['飲も', 'う', '__END__']]"
            ]
          },
          "execution_count": 2,
          "metadata": {},
          "output_type": "execute_result"
        }
      ],
      "source": [
        "# 1つの文を3単語ずつの組にする\n",
        "\n",
        "from janome.tokenizer import Tokenizer\n",
        "\n",
        "BEGIN = '__BEGIN__'  # 文の開始マーク\n",
        "END = '__END__'  # 文の終了マーク\n",
        "\n",
        "sentence = 'おいしいビールを飲もう'\n",
        "\n",
        "t = Tokenizer()\n",
        "words = list(t.tokenize(sentence, wakati=True))  # ❶ 文を単語に分かち書きする\n",
        "words = [BEGIN] + words + [END]  # ❷ 前後に開始、終了マークを追加する\n",
        "\n",
        "three_words_list = []\n",
        "for i in range(len(words) - 2):\n",
        "    three_words_list.append(words[i:i+3])\n",
        "three_words_list"
      ]
    },
    {
      "cell_type": "code",
      "execution_count": null,
      "metadata": {
        "pycharm": {
          "name": "#%%\n"
        },
        "id": "f5UJn1T0c0bz",
        "outputId": "0c47dfe9-9202-48cd-8692-72b81dd07766"
      },
      "outputs": [
        {
          "data": {
            "text/plain": [
              "Counter({('__BEGIN__', 'おいしい', 'ビール'): 2,\n",
              "         ('おいしい', 'ビール', 'を'): 1,\n",
              "         ('ビール', 'を', '飲も'): 2,\n",
              "         ('を', '飲も', 'う'): 2,\n",
              "         ('飲も', 'う', '__END__'): 2,\n",
              "         ('__BEGIN__', 'ビール', 'を'): 1,\n",
              "         ('おいしい', 'ビール', 'は'): 1,\n",
              "         ('ビール', 'は', '生'): 1,\n",
              "         ('は', '生', '__END__'): 1})"
            ]
          },
          "execution_count": 3,
          "metadata": {},
          "output_type": "execute_result"
        }
      ],
      "source": [
        "# 複数の文章から単語の組の出現回数を数える\n",
        "\n",
        "from collections import Counter\n",
        "\n",
        "def get_three_words_list(sentence):  # ❶ 関数にする\n",
        "    \"\"\"文章を3単語の組にして返す\"\"\"\n",
        "    t = Tokenizer()\n",
        "    words = list(t.tokenize(sentence, wakati=True))\n",
        "    words = [BEGIN] + words + [END]\n",
        "    three_words_list = []\n",
        "    for i in range(len(words) - 2):\n",
        "        three_words_list.append(tuple(words[i:i+3]))\n",
        "    return three_words_list\n",
        "\n",
        "sentences = ['おいしいビールを飲もう', 'ビールを飲もう', 'おいしいビールは生']\n",
        "three_words_list = []\n",
        "for sentence in sentences:  # ❷ 複数の文を順番に処理\n",
        "    three_words_list += get_three_words_list(sentence)\n",
        "three_words_count = Counter(three_words_list)  # ❸ 出現回数を数える\n",
        "three_words_count"
      ]
    },
    {
      "cell_type": "code",
      "execution_count": null,
      "metadata": {
        "pycharm": {
          "name": "#%%\n"
        },
        "id": "XHkKABvHc0b0",
        "outputId": "016a1b9a-bfd4-4887-a423-40f99858cd28"
      },
      "outputs": [
        {
          "data": {
            "text/plain": [
              "{('__BEGIN__', 'おいしい'): {'words': ['ビール'], 'weights': [2]},\n",
              " ('おいしい', 'ビール'): {'words': ['を', 'は'], 'weights': [1, 1]},\n",
              " ('ビール', 'を'): {'words': ['飲も'], 'weights': [2]},\n",
              " ('を', '飲も'): {'words': ['う'], 'weights': [2]},\n",
              " ('飲も', 'う'): {'words': ['__END__'], 'weights': [2]},\n",
              " ('__BEGIN__', 'ビール'): {'words': ['を'], 'weights': [1]},\n",
              " ('ビール', 'は'): {'words': ['生'], 'weights': [1]},\n",
              " ('は', '生'): {'words': ['__END__'], 'weights': [1]}}"
            ]
          },
          "execution_count": 4,
          "metadata": {},
          "output_type": "execute_result"
        }
      ],
      "source": [
        "# 文章用の辞書データを作成する\n",
        "\n",
        "def generate_markov_dict(three_words_count):\n",
        "    \"\"\"マルコフ連鎖での文章生成用の辞書データを生成する\"\"\"\n",
        "    markov_dict = {}\n",
        "    for three_words, count in three_words_count.items():\n",
        "        two_words = three_words[:2]  # ❶ 「前半2つの単語」と「次の単語」に分割\n",
        "        next_word = three_words[2]\n",
        "        if two_words not in markov_dict: # ❷ 辞書に存在しない場合は空データを生成\n",
        "            markov_dict[two_words] = {'words': [], 'weights': []}\n",
        "        markov_dict[two_words]['words'].append(next_word)  # ❸ 次の単語と回数を追加\n",
        "        markov_dict[two_words]['weights'].append(count)\n",
        "    return markov_dict\n",
        "\n",
        "markov_dict = generate_markov_dict(three_words_count)\n",
        "markov_dict"
      ]
    },
    {
      "cell_type": "markdown",
      "metadata": {
        "pycharm": {
          "name": "#%% md\n"
        },
        "id": "1naxFE2Tc0b0"
      },
      "source": [
        "## Lesson 33 マルコフ連鎖で文章を自動生成しましょう"
      ]
    },
    {
      "cell_type": "code",
      "execution_count": null,
      "metadata": {
        "pycharm": {
          "name": "#%%\n"
        },
        "id": "wbdPYz4dc0b0",
        "outputId": "dbf04189-1d9a-4b84-c794-8e1d09f97880"
      },
      "outputs": [
        {
          "data": {
            "text/plain": [
              "{'あ': 2, 'え': 2, 'い': 1, 'う': 1, 'お': 2}"
            ]
          },
          "execution_count": 17,
          "metadata": {},
          "output_type": "execute_result"
        }
      ],
      "source": [
        "sentence = 'あえいうえおあお'\n",
        "d = {}\n",
        "for char in sentence:  # 文字ごとに分割\n",
        "    if char in d:\n",
        "        d[char] += 1\n",
        "    else:  # 辞書に存在しない場合は初期値を指定\n",
        "        d[char] = 1\n",
        "d"
      ]
    },
    {
      "cell_type": "code",
      "execution_count": null,
      "metadata": {
        "pycharm": {
          "name": "#%%\n"
        },
        "scrolled": true,
        "id": "P_-NgkEuc0b0",
        "outputId": "e3fdc7cb-ce5b-4202-9d88-64308867d301"
      },
      "outputs": [
        {
          "data": {
            "text/plain": [
              "defaultdict(int, {'あ': 2, 'え': 2, 'い': 1, 'う': 1, 'お': 2})"
            ]
          },
          "execution_count": 18,
          "metadata": {},
          "output_type": "execute_result"
        }
      ],
      "source": [
        "from collections import defaultdict\n",
        "\n",
        "sentence = 'あえいうえおあお'\n",
        "dd = defaultdict(int)  # デフォルト関数にintを指定\n",
        "for char in sentence:\n",
        "    dd[char] += 1  # 辞書に登録してないキーでも加算が可能\n",
        "dd"
      ]
    },
    {
      "cell_type": "markdown",
      "metadata": {
        "pycharm": {
          "name": "#%% md\n"
        },
        "id": "r64Nq2PZc0b1"
      },
      "source": [
        "### 手順パート: 辞書データから文章を自動生成する"
      ]
    },
    {
      "cell_type": "code",
      "execution_count": null,
      "metadata": {
        "pycharm": {
          "name": "#%%\n"
        },
        "id": "q38cQfu8c0b1",
        "outputId": "1c8261d7-4db1-4a7f-d305-256da3fc9b83"
      },
      "outputs": [
        {
          "data": {
            "text/plain": [
              "defaultdict(int,\n",
              "            {'私': 12,\n",
              "             '一葉': 1,\n",
              "             '醜く': 1,\n",
              "             'まったく': 1,\n",
              "             'どだい': 2,\n",
              "             'この': 14,\n",
              "             'その': 34,\n",
              "             '人間': 11,\n",
              "             '猿': 2,\n",
              "             'ただ': 5,\n",
              "             '皺くちゃ': 1,\n",
              "             '第': 4,\n",
              "             '学生': 2,\n",
              "             '高等': 2,\n",
              "             'しかし': 33,\n",
              "             'こんど': 2,\n",
              "             '血': 1,\n",
              "             'つまり': 13,\n",
              "             'キザ': 1,\n",
              "             '軽薄': 1,\n",
              "             'ニヤケ': 1,\n",
              "             'おしゃれ': 1,\n",
              "             'しかも': 5,\n",
              "             'もう': 4,\n",
              "             'まるで': 3,\n",
              "             '頭': 1,\n",
              "             'それ': 40,\n",
              "             'どんな': 1,\n",
              "             '謂わ': 1,\n",
              "             '奇怪': 1,\n",
              "             '特徴': 1,\n",
              "             'たとえば': 2,\n",
              "             '既に': 1,\n",
              "             '部屋': 2,\n",
              "             '画': 1,\n",
              "             '漫画': 2,\n",
              "             '眼': 2,\n",
              "             'あ': 2,\n",
              "             '極端': 1,\n",
              "             'そうして': 26,\n",
              "             '所': 2,\n",
              "             '自分': 142,\n",
              "             'ブリッジ': 1,\n",
              "             'また': 14,\n",
              "             'いや': 4,\n",
              "             'へん': 2,\n",
              "             '小学校': 1,\n",
              "             'めずらしい': 1,\n",
              "             '豪華': 1,\n",
              "             'それに': 2,\n",
              "             'めし': 1,\n",
              "             '隣人': 1,\n",
              "             'プラクテカル': 1,\n",
              "             '何': 10,\n",
              "             'そこで': 2,\n",
              "             'おも': 1,\n",
              "             'これ': 19,\n",
              "             'だから': 3,\n",
              "             '人': 5,\n",
              "             'ふだん': 1,\n",
              "             'めったに': 1,\n",
              "             'なに': 2,\n",
              "             '姉': 1,\n",
              "             'いつか': 1,\n",
              "             '父': 9,\n",
              "             '葉': 3,\n",
              "             'どう': 2,\n",
              "             'と同時に': 2,\n",
              "             'イヤ': 1,\n",
              "             '浅草': 1,\n",
              "             'お': 14,\n",
              "             '本': 1,\n",
              "             'そう': 3,\n",
              "             'かえって': 1,\n",
              "             'けれども': 27,\n",
              "             'やがて': 1,\n",
              "             '仲店': 1,\n",
              "             'はてな': 1,\n",
              "             'あいつ': 1,\n",
              "             '何せ': 2,\n",
              "             '知らん振り': 1,\n",
              "             'そんなに': 1,\n",
              "             '次兄': 1,\n",
              "             '尊敬': 2,\n",
              "             'ほとんど': 2,\n",
              "             '想像': 1,\n",
              "             'から': 2,\n",
              "             '先生': 1,\n",
              "             '或': 1,\n",
              "             '子供': 2,\n",
              "             'お茶': 1,\n",
              "             '通信': 1,\n",
              "             '幼少': 1,\n",
              "             'もし': 2,\n",
              "             '必ず': 1,\n",
              "             'なん': 3,\n",
              "             '現に': 1,\n",
              "             'やはり': 3,\n",
              "             '満員': 1,\n",
              "             '演説': 2,\n",
              "             '中': 1,\n",
              "             '下男': 1,\n",
              "             '互いに': 2,\n",
              "             '父母': 1,\n",
              "             '生れ': 1,\n",
              "             '俳優': 1,\n",
              "             'それほど': 1,\n",
              "             'もはや': 2,\n",
              "             'すべて': 1,\n",
              "             '果して': 2,\n",
              "             'ワザ': 3,\n",
              "             '表面': 1,\n",
              "             'できる': 1,\n",
              "             '耳': 1,\n",
              "             '雨': 1,\n",
              "             '膿': 1,\n",
              "             '痛い': 1,\n",
              "             '竹一': 3,\n",
              "             '惚れる': 1,\n",
              "             'でも': 2,\n",
              "             '五里霧中': 1,\n",
              "             '女': 9,\n",
              "             '惚れ': 3,\n",
              "             '実に': 2,\n",
              "             'いったい': 2,\n",
              "             'なぜ': 3,\n",
              "             'アネサ': 1,\n",
              "             '道化師': 1,\n",
              "             'とたんに': 1,\n",
              "             'そっくり': 2,\n",
              "             'ロイド': 1,\n",
              "             'こんな': 4,\n",
              "             '助け': 2,\n",
              "             'すると': 2,\n",
              "             'ごちそうさま': 1,\n",
              "             'あの': 6,\n",
              "             'そん': 2,\n",
              "             '竹': 1,\n",
              "             'お化け': 2,\n",
              "             'おや': 2,\n",
              "             'では': 2,\n",
              "             'やっぱり': 1,\n",
              "             'すげ': 1,\n",
              "             '地獄': 4,\n",
              "             '学校': 3,\n",
              "             '中学校': 1,\n",
              "             '美しい': 1,\n",
              "             'マイ': 1,\n",
              "             '四': 2,\n",
              "             '教室': 1,\n",
              "             '校歌': 1,\n",
              "             '妙': 1,\n",
              "             '五': 1,\n",
              "             'よし': 2,\n",
              "             'おれ': 6,\n",
              "             'よ': 1,\n",
              "             '前': 1,\n",
              "             'こいつ': 1,\n",
              "             '僕': 6,\n",
              "             'あんな': 1,\n",
              "             'われ': 3,\n",
              "             '馬鹿': 2,\n",
              "             'さらに': 1,\n",
              "             '酒': 3,\n",
              "             'それら': 1,\n",
              "             'みんな': 1,\n",
              "             'はた': 1,\n",
              "             '堀木': 19,\n",
              "             '慾': 1,\n",
              "             '好き': 1,\n",
              "             '非合法': 1,\n",
              "             'むしろ': 2,\n",
              "             '世の中': 3,\n",
              "             '日蔭': 1,\n",
              "             '思え': 1,\n",
              "             '送金': 1,\n",
              "             '所詮': 2,\n",
              "             '中央': 1,\n",
              "             '武装': 1,\n",
              "             'もともと': 2,\n",
              "             '逃げ': 1,\n",
              "             'ひとり': 1,\n",
              "             '下': 1,\n",
              "             'あなた': 10,\n",
              "             'へ': 1,\n",
              "             '見せ': 1,\n",
              "             'すま': 2,\n",
              "             'お金': 3,\n",
              "             '用': 1,\n",
              "             '打ち合せ': 1,\n",
              "             'とにかく': 4,\n",
              "             '下宿': 2,\n",
              "             '同じ': 1,\n",
              "             '心': 1,\n",
              "             'どこ': 5,\n",
              "             '心配': 1,\n",
              "             'いいえ': 4,\n",
              "             '情死': 1,\n",
              "             '大き': 1,\n",
              "             '親指': 1,\n",
              "             '本所': 2,\n",
              "             '一緒': 1,\n",
              "             '侘び': 1,\n",
              "             '朝': 1,\n",
              "             '弱虫': 1,\n",
              "             '綿': 1,\n",
              "             '幸福': 2,\n",
              "             '傷つけ': 1,\n",
              "             '金': 3,\n",
              "             '男': 2,\n",
              "             '長居': 1,\n",
              "             'それから': 3,\n",
              "             '別れ': 1,\n",
              "             '十一月': 1,\n",
              "             'おどろく': 1,\n",
              "             '女給': 1,\n",
              "             'いい': 4,\n",
              "             'キス': 5,\n",
              "             'ツネ子': 3,\n",
              "             '惜しい': 2,\n",
              "             'のち': 1,\n",
              "             'やめ': 2,\n",
              "             '案外': 1,\n",
              "             '吐き': 1,\n",
              "             '前後': 1,\n",
              "             '来': 1,\n",
              "             'ややこしい': 1,\n",
              "             'うち': 2,\n",
              "             '喫茶店': 1,\n",
              "             'はじめて': 1,\n",
              "             'とても': 1,\n",
              "             '本当に': 2,\n",
              "             '生き': 1,\n",
              "             '深夜': 2,\n",
              "             'こっち': 1,\n",
              "             'そこ': 3,\n",
              "             'はじめ': 1,\n",
              "             '彼': 1,\n",
              "             'そんな': 3,\n",
              "             'うん': 4,\n",
              "             'よろしく': 1,\n",
              "             '夜': 2,\n",
              "             'ドア': 1,\n",
              "             'いきなり': 1,\n",
              "             '訊問': 1,\n",
              "             '血痰': 1,\n",
              "             '署長': 1,\n",
              "             '誰': 2,\n",
              "             'おい': 2,\n",
              "             'お昼': 1,\n",
              "             '検事': 2,\n",
              "             '冷汗': 1,\n",
              "             '中学': 1,\n",
              "             'あれ': 1,\n",
              "             '背後': 1,\n",
              "             '鎌倉': 1,\n",
              "             'ヒラメ': 5,\n",
              "             '三月': 1,\n",
              "             '起訴': 1,\n",
              "             '官立': 1,\n",
              "             'ずっと': 1,\n",
              "             'それなのに': 1,\n",
              "             '真面目': 1,\n",
              "             '立派': 1,\n",
              "             'わかり': 1,\n",
              "             'へええ': 1,\n",
              "             '軽蔑': 1,\n",
              "             '夕方': 2,\n",
              "             '左記': 1,\n",
              "             'ほんとう': 1,\n",
              "             'と': 3,\n",
              "             'まさしく': 1,\n",
              "             'どうせ': 1,\n",
              "             '他人': 1,\n",
              "             '汚い': 1,\n",
              "             '田舎': 1,\n",
              "             'お前': 6,\n",
              "             '親爺': 1,\n",
              "             'まだ': 2,\n",
              "             'いま': 7,\n",
              "             '忠告': 1,\n",
              "             '考え': 1,\n",
              "             '豪気': 2,\n",
              "             '用事': 1,\n",
              "             'いただき': 1,\n",
              "             'おふくろ': 1,\n",
              "             'ああ': 5,\n",
              "             '決して': 2,\n",
              "             '（': 4,\n",
              "             'わるい': 1,\n",
              "             'さあ': 1,\n",
              "             'いそぎ': 1,\n",
              "             '家出': 1,\n",
              "             '五つ': 1,\n",
              "             '夫': 1,\n",
              "             'よく': 1,\n",
              "             '可哀そう': 1,\n",
              "             'シヅ子': 4,\n",
              "             '一': 3,\n",
              "             'アパート': 1,\n",
              "             '…': 7,\n",
              "             '絵': 2,\n",
              "             '失わ': 1,\n",
              "             'その後': 1,\n",
              "             '飲み': 1,\n",
              "             'ふ': 1,\n",
              "             'すくなくとも': 1,\n",
              "             'そうね': 1,\n",
              "             'シゲ子': 4,\n",
              "             'やっ': 1,\n",
              "             'そういう': 1,\n",
              "             'お父ちゃん': 1,\n",
              "             'お祈り': 1,\n",
              "             'シゲ': 2,\n",
              "             '神': 4,\n",
              "             '信仰': 1,\n",
              "             'どうして': 2,\n",
              "             '敵': 1,\n",
              "             '色魔': 1,\n",
              "             'アマチュア': 1,\n",
              "             'デッサン': 1,\n",
              "             'ぎゃっという': 1,\n",
              "             '葬': 2,\n",
              "             '無口': 1,\n",
              "             'ノンキ': 1,\n",
              "             '吸い取ら': 1,\n",
              "             '水': 2,\n",
              "             'それとも': 1,\n",
              "             'し': 1,\n",
              "             '即ち': 1,\n",
              "             'ゆく': 1,\n",
              "             '上田': 1,\n",
              "             '蟾蜍': 2,\n",
              "             '世間': 2,\n",
              "             'のそのそ': 1,\n",
              "             '高円寺': 2,\n",
              "             'ここ': 2,\n",
              "             'あんまり': 1,\n",
              "             'ほら': 1,\n",
              "             'ぴょんぴょん': 1,\n",
              "             'つつましい': 1,\n",
              "             'そっと': 1,\n",
              "             'どうやら': 1,\n",
              "             '個人': 1,\n",
              "             'マダム': 4,\n",
              "             'こわい': 1,\n",
              "             'いかに': 1,\n",
              "             '京橋': 1,\n",
              "             '無駄': 1,\n",
              "             'いけ': 2,\n",
              "             'ヨシ': 1,\n",
              "             'ある': 1,\n",
              "             'わかる': 1,\n",
              "             '貞操': 1,\n",
              "             'やめる': 1,\n",
              "             'あした': 1,\n",
              "             'モチ': 1,\n",
              "             'モボ': 1,\n",
              "             'ようし': 2,\n",
              "             'ゲン': 2,\n",
              "             'きっと': 1,\n",
              "             '飲ん': 2,\n",
              "             '酔っ': 2,\n",
              "             '酔い': 1,\n",
              "             'ひと': 2,\n",
              "             '見れ': 1,\n",
              "             'きょう': 3,\n",
              "             'ゆるし': 1,\n",
              "             '顔': 1,\n",
              "             'かつごう': 1,\n",
              "             'きのう': 1,\n",
              "             '飲む': 1,\n",
              "             '二': 1,\n",
              "             'よう': 1,\n",
              "             'じっさい': 1,\n",
              "             '相': 1,\n",
              "             'たちまち': 1,\n",
              "             '飲も': 1,\n",
              "             '形': 1,\n",
              "             'もちろん': 1,\n",
              "             '忘れ': 1,\n",
              "             'むし暑い': 1,\n",
              "             'あいにく': 1,\n",
              "             'トラ': 1,\n",
              "             '薬': 1,\n",
              "             '針': 1,\n",
              "             '死': 1,\n",
              "             '牧師': 1,\n",
              "             '大': 1,\n",
              "             '黒': 1,\n",
              "             '赤': 1,\n",
              "             '花': 4,\n",
              "             '星': 1,\n",
              "             'アント': 1,\n",
              "             'ごまかし': 1,\n",
              "             '風': 1,\n",
              "             '恥': 1,\n",
              "             'オント': 1,\n",
              "             '流行': 1,\n",
              "             '生意気': 1,\n",
              "             '罪': 6,\n",
              "             '法律': 1,\n",
              "             '近く': 1,\n",
              "             '刑事': 1,\n",
              "             'も': 1,\n",
              "             '善良': 1,\n",
              "             '善悪': 1,\n",
              "             '腹': 2,\n",
              "             '好物': 1,\n",
              "             '君': 1,\n",
              "             '焼酎': 2,\n",
              "             '蜜': 1,\n",
              "             '議論': 1,\n",
              "             '勝手': 1,\n",
              "             'ドストイエフスキイ': 1,\n",
              "             'ちら': 1,\n",
              "             'もしも': 1,\n",
              "             '来い': 1,\n",
              "             '電気': 1,\n",
              "             '同情': 1,\n",
              "             '失敬': 1,\n",
              "             'いくらでも': 1,\n",
              "             'いつのまにか': 1,\n",
              "             'なんにも': 1,\n",
              "             '豆': 1,\n",
              "             '嗚呼': 1,\n",
              "             'さすが': 1,\n",
              "             'ゆるす': 1,\n",
              "             'ヨシ子': 5,\n",
              "             '信頼': 1,\n",
              "             '見よ': 1,\n",
              "             'どんなに': 1,\n",
              "             'たいてい': 1,\n",
              "             '許す': 1,\n",
              "             '無垢': 1,\n",
              "             '唯一': 1,\n",
              "             'いつも': 1,\n",
              "             '何気なく': 1,\n",
              "             'ＤＩＡＬ': 1,\n",
              "             'ジアール': 2,\n",
              "             '可哀想': 1,\n",
              "             '三': 1,\n",
              "             '医者': 1,\n",
              "             '覚醒': 1,\n",
              "             '次第に': 1,\n",
              "             '東京': 1,\n",
              "             '雪': 1,\n",
              "             'こうこ': 1,\n",
              "             '不幸': 1,\n",
              "             'この世': 1,\n",
              "             '駈け': 1,\n",
              "             'アル中': 1,\n",
              "             'こわく': 1,\n",
              "             '注射': 1,\n",
              "             '胃腸': 1,\n",
              "             '最後': 1,\n",
              "             'モルヒネ': 1,\n",
              "             '不安': 1,\n",
              "             'たのむ': 1,\n",
              "             '勘定': 1,\n",
              "             'おかげ': 1,\n",
              "             '中毒': 1,\n",
              "             'すぐ': 2,\n",
              "             '半分': 1,\n",
              "             '痛く': 1,\n",
              "             '仕事': 1,\n",
              "             '寝巻': 1,\n",
              "             '奥さん': 1,\n",
              "             '薬品': 1,\n",
              "             '真に': 1,\n",
              "             '死に': 1,\n",
              "             'いくら': 1,\n",
              "             '今夜': 1,\n",
              "             'サナトリアム': 1,\n",
              "             'すすめ': 2,\n",
              "             '脳': 1,\n",
              "             '無抵抗': 1,\n",
              "             '故郷': 1,\n",
              "             'まさに': 1,\n",
              "             '苦悩': 1,\n",
              "             '長兄': 1,\n",
              "             '不審': 1,\n",
              "             'ヘノモチン': 1,\n",
              "             '癈人': 1,\n",
              "             '眠ろ': 1,\n",
              "             '白髪': 1,\n",
              "             'あとがき': 1,\n",
              "             '小柄': 1,\n",
              "             '然るに': 1,\n",
              "             '船橋': 1,\n",
              "             '新': 1,\n",
              "             '寒い': 1,\n",
              "             '時たま': 1,\n",
              "             '下手': 1,\n",
              "             'ところで': 1,\n",
              "             '十': 1,\n",
              "             '空襲': 1,\n",
              "             '多少': 1})"
            ]
          },
          "execution_count": 33,
          "metadata": {},
          "output_type": "execute_result"
        }
      ],
      "source": [
        "# 最初の単語の出現回数を数える\n",
        "\n",
        "from collections import defaultdict\n",
        "\n",
        "def get_first_words_weights(three_words_count):\n",
        "    \"\"\"最初の単語を選択するためのデータを作成する\"\"\"\n",
        "    first_word_count = defaultdict(int)  # ❶ 値がint型のdefaultdictを作成\n",
        "\n",
        "    for three_words, count in three_words_count.items():\n",
        "        if three_words[0] == BEGIN:  # ❷ BEGINで始まるもののみを取り出す\n",
        "            next_word = three_words[1]\n",
        "            first_word_count[next_word] += count # ❸ 出現回数を加算\n",
        "            \n",
        "    return first_word_count\n",
        "\n",
        "get_first_words_weights(three_words_count)"
      ]
    },
    {
      "cell_type": "code",
      "execution_count": null,
      "metadata": {
        "pycharm": {
          "name": "#%%\n"
        },
        "id": "oPPCfPM5c0b1",
        "outputId": "5c80d44d-2dbb-4fe3-c556-6a6c37ecec15"
      },
      "outputs": [
        {
          "data": {
            "text/plain": [
              "(['私',\n",
              "  '一葉',\n",
              "  '醜く',\n",
              "  'まったく',\n",
              "  'どだい',\n",
              "  'この',\n",
              "  'その',\n",
              "  '人間',\n",
              "  '猿',\n",
              "  'ただ',\n",
              "  '皺くちゃ',\n",
              "  '第',\n",
              "  '学生',\n",
              "  '高等',\n",
              "  'しかし',\n",
              "  'こんど',\n",
              "  '血',\n",
              "  'つまり',\n",
              "  'キザ',\n",
              "  '軽薄',\n",
              "  'ニヤケ',\n",
              "  'おしゃれ',\n",
              "  'しかも',\n",
              "  'もう',\n",
              "  'まるで',\n",
              "  '頭',\n",
              "  'それ',\n",
              "  'どんな',\n",
              "  '謂わ',\n",
              "  '奇怪',\n",
              "  '特徴',\n",
              "  'たとえば',\n",
              "  '既に',\n",
              "  '部屋',\n",
              "  '画',\n",
              "  '漫画',\n",
              "  '眼',\n",
              "  'あ',\n",
              "  '極端',\n",
              "  'そうして',\n",
              "  '所',\n",
              "  '自分',\n",
              "  'ブリッジ',\n",
              "  'また',\n",
              "  'いや',\n",
              "  'へん',\n",
              "  '小学校',\n",
              "  'めずらしい',\n",
              "  '豪華',\n",
              "  'それに',\n",
              "  'めし',\n",
              "  '隣人',\n",
              "  'プラクテカル',\n",
              "  '何',\n",
              "  'そこで',\n",
              "  'おも',\n",
              "  'これ',\n",
              "  'だから',\n",
              "  '人',\n",
              "  'ふだん',\n",
              "  'めったに',\n",
              "  'なに',\n",
              "  '姉',\n",
              "  'いつか',\n",
              "  '父',\n",
              "  '葉',\n",
              "  'どう',\n",
              "  'と同時に',\n",
              "  'イヤ',\n",
              "  '浅草',\n",
              "  'お',\n",
              "  '本',\n",
              "  'そう',\n",
              "  'かえって',\n",
              "  'けれども',\n",
              "  'やがて',\n",
              "  '仲店',\n",
              "  'はてな',\n",
              "  'あいつ',\n",
              "  '何せ',\n",
              "  '知らん振り',\n",
              "  'そんなに',\n",
              "  '次兄',\n",
              "  '尊敬',\n",
              "  'ほとんど',\n",
              "  '想像',\n",
              "  'から',\n",
              "  '先生',\n",
              "  '或',\n",
              "  '子供',\n",
              "  'お茶',\n",
              "  '通信',\n",
              "  '幼少',\n",
              "  'もし',\n",
              "  '必ず',\n",
              "  'なん',\n",
              "  '現に',\n",
              "  'やはり',\n",
              "  '満員',\n",
              "  '演説',\n",
              "  '中',\n",
              "  '下男',\n",
              "  '互いに',\n",
              "  '父母',\n",
              "  '生れ',\n",
              "  '俳優',\n",
              "  'それほど',\n",
              "  'もはや',\n",
              "  'すべて',\n",
              "  '果して',\n",
              "  'ワザ',\n",
              "  '表面',\n",
              "  'できる',\n",
              "  '耳',\n",
              "  '雨',\n",
              "  '膿',\n",
              "  '痛い',\n",
              "  '竹一',\n",
              "  '惚れる',\n",
              "  'でも',\n",
              "  '五里霧中',\n",
              "  '女',\n",
              "  '惚れ',\n",
              "  '実に',\n",
              "  'いったい',\n",
              "  'なぜ',\n",
              "  'アネサ',\n",
              "  '道化師',\n",
              "  'とたんに',\n",
              "  'そっくり',\n",
              "  'ロイド',\n",
              "  'こんな',\n",
              "  '助け',\n",
              "  'すると',\n",
              "  'ごちそうさま',\n",
              "  'あの',\n",
              "  'そん',\n",
              "  '竹',\n",
              "  'お化け',\n",
              "  'おや',\n",
              "  'では',\n",
              "  'やっぱり',\n",
              "  'すげ',\n",
              "  '地獄',\n",
              "  '学校',\n",
              "  '中学校',\n",
              "  '美しい',\n",
              "  'マイ',\n",
              "  '四',\n",
              "  '教室',\n",
              "  '校歌',\n",
              "  '妙',\n",
              "  '五',\n",
              "  'よし',\n",
              "  'おれ',\n",
              "  'よ',\n",
              "  '前',\n",
              "  'こいつ',\n",
              "  '僕',\n",
              "  'あんな',\n",
              "  'われ',\n",
              "  '馬鹿',\n",
              "  'さらに',\n",
              "  '酒',\n",
              "  'それら',\n",
              "  'みんな',\n",
              "  'はた',\n",
              "  '堀木',\n",
              "  '慾',\n",
              "  '好き',\n",
              "  '非合法',\n",
              "  'むしろ',\n",
              "  '世の中',\n",
              "  '日蔭',\n",
              "  '思え',\n",
              "  '送金',\n",
              "  '所詮',\n",
              "  '中央',\n",
              "  '武装',\n",
              "  'もともと',\n",
              "  '逃げ',\n",
              "  'ひとり',\n",
              "  '下',\n",
              "  'あなた',\n",
              "  'へ',\n",
              "  '見せ',\n",
              "  'すま',\n",
              "  'お金',\n",
              "  '用',\n",
              "  '打ち合せ',\n",
              "  'とにかく',\n",
              "  '下宿',\n",
              "  '同じ',\n",
              "  '心',\n",
              "  'どこ',\n",
              "  '心配',\n",
              "  'いいえ',\n",
              "  '情死',\n",
              "  '大き',\n",
              "  '親指',\n",
              "  '本所',\n",
              "  '一緒',\n",
              "  '侘び',\n",
              "  '朝',\n",
              "  '弱虫',\n",
              "  '綿',\n",
              "  '幸福',\n",
              "  '傷つけ',\n",
              "  '金',\n",
              "  '男',\n",
              "  '長居',\n",
              "  'それから',\n",
              "  '別れ',\n",
              "  '十一月',\n",
              "  'おどろく',\n",
              "  '女給',\n",
              "  'いい',\n",
              "  'キス',\n",
              "  'ツネ子',\n",
              "  '惜しい',\n",
              "  'のち',\n",
              "  'やめ',\n",
              "  '案外',\n",
              "  '吐き',\n",
              "  '前後',\n",
              "  '来',\n",
              "  'ややこしい',\n",
              "  'うち',\n",
              "  '喫茶店',\n",
              "  'はじめて',\n",
              "  'とても',\n",
              "  '本当に',\n",
              "  '生き',\n",
              "  '深夜',\n",
              "  'こっち',\n",
              "  'そこ',\n",
              "  'はじめ',\n",
              "  '彼',\n",
              "  'そんな',\n",
              "  'うん',\n",
              "  'よろしく',\n",
              "  '夜',\n",
              "  'ドア',\n",
              "  'いきなり',\n",
              "  '訊問',\n",
              "  '血痰',\n",
              "  '署長',\n",
              "  '誰',\n",
              "  'おい',\n",
              "  'お昼',\n",
              "  '検事',\n",
              "  '冷汗',\n",
              "  '中学',\n",
              "  'あれ',\n",
              "  '背後',\n",
              "  '鎌倉',\n",
              "  'ヒラメ',\n",
              "  '三月',\n",
              "  '起訴',\n",
              "  '官立',\n",
              "  'ずっと',\n",
              "  'それなのに',\n",
              "  '真面目',\n",
              "  '立派',\n",
              "  'わかり',\n",
              "  'へええ',\n",
              "  '軽蔑',\n",
              "  '夕方',\n",
              "  '左記',\n",
              "  'ほんとう',\n",
              "  'と',\n",
              "  'まさしく',\n",
              "  'どうせ',\n",
              "  '他人',\n",
              "  '汚い',\n",
              "  '田舎',\n",
              "  'お前',\n",
              "  '親爺',\n",
              "  'まだ',\n",
              "  'いま',\n",
              "  '忠告',\n",
              "  '考え',\n",
              "  '豪気',\n",
              "  '用事',\n",
              "  'いただき',\n",
              "  'おふくろ',\n",
              "  'ああ',\n",
              "  '決して',\n",
              "  '（',\n",
              "  'わるい',\n",
              "  'さあ',\n",
              "  'いそぎ',\n",
              "  '家出',\n",
              "  '五つ',\n",
              "  '夫',\n",
              "  'よく',\n",
              "  '可哀そう',\n",
              "  'シヅ子',\n",
              "  '一',\n",
              "  'アパート',\n",
              "  '…',\n",
              "  '絵',\n",
              "  '失わ',\n",
              "  'その後',\n",
              "  '飲み',\n",
              "  'ふ',\n",
              "  'すくなくとも',\n",
              "  'そうね',\n",
              "  'シゲ子',\n",
              "  'やっ',\n",
              "  'そういう',\n",
              "  'お父ちゃん',\n",
              "  'お祈り',\n",
              "  'シゲ',\n",
              "  '神',\n",
              "  '信仰',\n",
              "  'どうして',\n",
              "  '敵',\n",
              "  '色魔',\n",
              "  'アマチュア',\n",
              "  'デッサン',\n",
              "  'ぎゃっという',\n",
              "  '葬',\n",
              "  '無口',\n",
              "  'ノンキ',\n",
              "  '吸い取ら',\n",
              "  '水',\n",
              "  'それとも',\n",
              "  'し',\n",
              "  '即ち',\n",
              "  'ゆく',\n",
              "  '上田',\n",
              "  '蟾蜍',\n",
              "  '世間',\n",
              "  'のそのそ',\n",
              "  '高円寺',\n",
              "  'ここ',\n",
              "  'あんまり',\n",
              "  'ほら',\n",
              "  'ぴょんぴょん',\n",
              "  'つつましい',\n",
              "  'そっと',\n",
              "  'どうやら',\n",
              "  '個人',\n",
              "  'マダム',\n",
              "  'こわい',\n",
              "  'いかに',\n",
              "  '京橋',\n",
              "  '無駄',\n",
              "  'いけ',\n",
              "  'ヨシ',\n",
              "  'ある',\n",
              "  'わかる',\n",
              "  '貞操',\n",
              "  'やめる',\n",
              "  'あした',\n",
              "  'モチ',\n",
              "  'モボ',\n",
              "  'ようし',\n",
              "  'ゲン',\n",
              "  'きっと',\n",
              "  '飲ん',\n",
              "  '酔っ',\n",
              "  '酔い',\n",
              "  'ひと',\n",
              "  '見れ',\n",
              "  'きょう',\n",
              "  'ゆるし',\n",
              "  '顔',\n",
              "  'かつごう',\n",
              "  'きのう',\n",
              "  '飲む',\n",
              "  '二',\n",
              "  'よう',\n",
              "  'じっさい',\n",
              "  '相',\n",
              "  'たちまち',\n",
              "  '飲も',\n",
              "  '形',\n",
              "  'もちろん',\n",
              "  '忘れ',\n",
              "  'むし暑い',\n",
              "  'あいにく',\n",
              "  'トラ',\n",
              "  '薬',\n",
              "  '針',\n",
              "  '死',\n",
              "  '牧師',\n",
              "  '大',\n",
              "  '黒',\n",
              "  '赤',\n",
              "  '花',\n",
              "  '星',\n",
              "  'アント',\n",
              "  'ごまかし',\n",
              "  '風',\n",
              "  '恥',\n",
              "  'オント',\n",
              "  '流行',\n",
              "  '生意気',\n",
              "  '罪',\n",
              "  '法律',\n",
              "  '近く',\n",
              "  '刑事',\n",
              "  'も',\n",
              "  '善良',\n",
              "  '善悪',\n",
              "  '腹',\n",
              "  '好物',\n",
              "  '君',\n",
              "  '焼酎',\n",
              "  '蜜',\n",
              "  '議論',\n",
              "  '勝手',\n",
              "  'ドストイエフスキイ',\n",
              "  'ちら',\n",
              "  'もしも',\n",
              "  '来い',\n",
              "  '電気',\n",
              "  '同情',\n",
              "  '失敬',\n",
              "  'いくらでも',\n",
              "  'いつのまにか',\n",
              "  'なんにも',\n",
              "  '豆',\n",
              "  '嗚呼',\n",
              "  'さすが',\n",
              "  'ゆるす',\n",
              "  'ヨシ子',\n",
              "  '信頼',\n",
              "  '見よ',\n",
              "  'どんなに',\n",
              "  'たいてい',\n",
              "  '許す',\n",
              "  '無垢',\n",
              "  '唯一',\n",
              "  'いつも',\n",
              "  '何気なく',\n",
              "  'ＤＩＡＬ',\n",
              "  'ジアール',\n",
              "  '可哀想',\n",
              "  '三',\n",
              "  '医者',\n",
              "  '覚醒',\n",
              "  '次第に',\n",
              "  '東京',\n",
              "  '雪',\n",
              "  'こうこ',\n",
              "  '不幸',\n",
              "  'この世',\n",
              "  '駈け',\n",
              "  'アル中',\n",
              "  'こわく',\n",
              "  '注射',\n",
              "  '胃腸',\n",
              "  '最後',\n",
              "  'モルヒネ',\n",
              "  '不安',\n",
              "  'たのむ',\n",
              "  '勘定',\n",
              "  'おかげ',\n",
              "  '中毒',\n",
              "  'すぐ',\n",
              "  '半分',\n",
              "  '痛く',\n",
              "  '仕事',\n",
              "  '寝巻',\n",
              "  '奥さん',\n",
              "  '薬品',\n",
              "  '真に',\n",
              "  '死に',\n",
              "  'いくら',\n",
              "  '今夜',\n",
              "  'サナトリアム',\n",
              "  'すすめ',\n",
              "  '脳',\n",
              "  '無抵抗',\n",
              "  '故郷',\n",
              "  'まさに',\n",
              "  '苦悩',\n",
              "  '長兄',\n",
              "  '不審',\n",
              "  'ヘノモチン',\n",
              "  '癈人',\n",
              "  '眠ろ',\n",
              "  '白髪',\n",
              "  'あとがき',\n",
              "  '小柄',\n",
              "  '然るに',\n",
              "  '船橋',\n",
              "  '新',\n",
              "  '寒い',\n",
              "  '時たま',\n",
              "  '下手',\n",
              "  'ところで',\n",
              "  '十',\n",
              "  '空襲',\n",
              "  '多少'],\n",
              " [12,\n",
              "  1,\n",
              "  1,\n",
              "  1,\n",
              "  2,\n",
              "  14,\n",
              "  34,\n",
              "  11,\n",
              "  2,\n",
              "  5,\n",
              "  1,\n",
              "  4,\n",
              "  2,\n",
              "  2,\n",
              "  33,\n",
              "  2,\n",
              "  1,\n",
              "  13,\n",
              "  1,\n",
              "  1,\n",
              "  1,\n",
              "  1,\n",
              "  5,\n",
              "  4,\n",
              "  3,\n",
              "  1,\n",
              "  40,\n",
              "  1,\n",
              "  1,\n",
              "  1,\n",
              "  1,\n",
              "  2,\n",
              "  1,\n",
              "  2,\n",
              "  1,\n",
              "  2,\n",
              "  2,\n",
              "  2,\n",
              "  1,\n",
              "  26,\n",
              "  2,\n",
              "  142,\n",
              "  1,\n",
              "  14,\n",
              "  4,\n",
              "  2,\n",
              "  1,\n",
              "  1,\n",
              "  1,\n",
              "  2,\n",
              "  1,\n",
              "  1,\n",
              "  1,\n",
              "  10,\n",
              "  2,\n",
              "  1,\n",
              "  19,\n",
              "  3,\n",
              "  5,\n",
              "  1,\n",
              "  1,\n",
              "  2,\n",
              "  1,\n",
              "  1,\n",
              "  9,\n",
              "  3,\n",
              "  2,\n",
              "  2,\n",
              "  1,\n",
              "  1,\n",
              "  14,\n",
              "  1,\n",
              "  3,\n",
              "  1,\n",
              "  27,\n",
              "  1,\n",
              "  1,\n",
              "  1,\n",
              "  1,\n",
              "  2,\n",
              "  1,\n",
              "  1,\n",
              "  1,\n",
              "  2,\n",
              "  2,\n",
              "  1,\n",
              "  2,\n",
              "  1,\n",
              "  1,\n",
              "  2,\n",
              "  1,\n",
              "  1,\n",
              "  1,\n",
              "  2,\n",
              "  1,\n",
              "  3,\n",
              "  1,\n",
              "  3,\n",
              "  1,\n",
              "  2,\n",
              "  1,\n",
              "  1,\n",
              "  2,\n",
              "  1,\n",
              "  1,\n",
              "  1,\n",
              "  1,\n",
              "  2,\n",
              "  1,\n",
              "  2,\n",
              "  3,\n",
              "  1,\n",
              "  1,\n",
              "  1,\n",
              "  1,\n",
              "  1,\n",
              "  1,\n",
              "  3,\n",
              "  1,\n",
              "  2,\n",
              "  1,\n",
              "  9,\n",
              "  3,\n",
              "  2,\n",
              "  2,\n",
              "  3,\n",
              "  1,\n",
              "  1,\n",
              "  1,\n",
              "  2,\n",
              "  1,\n",
              "  4,\n",
              "  2,\n",
              "  2,\n",
              "  1,\n",
              "  6,\n",
              "  2,\n",
              "  1,\n",
              "  2,\n",
              "  2,\n",
              "  2,\n",
              "  1,\n",
              "  1,\n",
              "  4,\n",
              "  3,\n",
              "  1,\n",
              "  1,\n",
              "  1,\n",
              "  2,\n",
              "  1,\n",
              "  1,\n",
              "  1,\n",
              "  1,\n",
              "  2,\n",
              "  6,\n",
              "  1,\n",
              "  1,\n",
              "  1,\n",
              "  6,\n",
              "  1,\n",
              "  3,\n",
              "  2,\n",
              "  1,\n",
              "  3,\n",
              "  1,\n",
              "  1,\n",
              "  1,\n",
              "  19,\n",
              "  1,\n",
              "  1,\n",
              "  1,\n",
              "  2,\n",
              "  3,\n",
              "  1,\n",
              "  1,\n",
              "  1,\n",
              "  2,\n",
              "  1,\n",
              "  1,\n",
              "  2,\n",
              "  1,\n",
              "  1,\n",
              "  1,\n",
              "  10,\n",
              "  1,\n",
              "  1,\n",
              "  2,\n",
              "  3,\n",
              "  1,\n",
              "  1,\n",
              "  4,\n",
              "  2,\n",
              "  1,\n",
              "  1,\n",
              "  5,\n",
              "  1,\n",
              "  4,\n",
              "  1,\n",
              "  1,\n",
              "  1,\n",
              "  2,\n",
              "  1,\n",
              "  1,\n",
              "  1,\n",
              "  1,\n",
              "  1,\n",
              "  2,\n",
              "  1,\n",
              "  3,\n",
              "  2,\n",
              "  1,\n",
              "  3,\n",
              "  1,\n",
              "  1,\n",
              "  1,\n",
              "  1,\n",
              "  4,\n",
              "  5,\n",
              "  3,\n",
              "  2,\n",
              "  1,\n",
              "  2,\n",
              "  1,\n",
              "  1,\n",
              "  1,\n",
              "  1,\n",
              "  1,\n",
              "  2,\n",
              "  1,\n",
              "  1,\n",
              "  1,\n",
              "  2,\n",
              "  1,\n",
              "  2,\n",
              "  1,\n",
              "  3,\n",
              "  1,\n",
              "  1,\n",
              "  3,\n",
              "  4,\n",
              "  1,\n",
              "  2,\n",
              "  1,\n",
              "  1,\n",
              "  1,\n",
              "  1,\n",
              "  1,\n",
              "  2,\n",
              "  2,\n",
              "  1,\n",
              "  2,\n",
              "  1,\n",
              "  1,\n",
              "  1,\n",
              "  1,\n",
              "  1,\n",
              "  5,\n",
              "  1,\n",
              "  1,\n",
              "  1,\n",
              "  1,\n",
              "  1,\n",
              "  1,\n",
              "  1,\n",
              "  1,\n",
              "  1,\n",
              "  1,\n",
              "  2,\n",
              "  1,\n",
              "  1,\n",
              "  3,\n",
              "  1,\n",
              "  1,\n",
              "  1,\n",
              "  1,\n",
              "  1,\n",
              "  6,\n",
              "  1,\n",
              "  2,\n",
              "  7,\n",
              "  1,\n",
              "  1,\n",
              "  2,\n",
              "  1,\n",
              "  1,\n",
              "  1,\n",
              "  5,\n",
              "  2,\n",
              "  4,\n",
              "  1,\n",
              "  1,\n",
              "  1,\n",
              "  1,\n",
              "  1,\n",
              "  1,\n",
              "  1,\n",
              "  1,\n",
              "  4,\n",
              "  3,\n",
              "  1,\n",
              "  7,\n",
              "  2,\n",
              "  1,\n",
              "  1,\n",
              "  1,\n",
              "  1,\n",
              "  1,\n",
              "  1,\n",
              "  4,\n",
              "  1,\n",
              "  1,\n",
              "  1,\n",
              "  1,\n",
              "  2,\n",
              "  4,\n",
              "  1,\n",
              "  2,\n",
              "  1,\n",
              "  1,\n",
              "  1,\n",
              "  1,\n",
              "  1,\n",
              "  2,\n",
              "  1,\n",
              "  1,\n",
              "  1,\n",
              "  2,\n",
              "  1,\n",
              "  1,\n",
              "  1,\n",
              "  1,\n",
              "  1,\n",
              "  2,\n",
              "  2,\n",
              "  1,\n",
              "  2,\n",
              "  2,\n",
              "  1,\n",
              "  1,\n",
              "  1,\n",
              "  1,\n",
              "  1,\n",
              "  1,\n",
              "  1,\n",
              "  4,\n",
              "  1,\n",
              "  1,\n",
              "  1,\n",
              "  1,\n",
              "  2,\n",
              "  1,\n",
              "  1,\n",
              "  1,\n",
              "  1,\n",
              "  1,\n",
              "  1,\n",
              "  1,\n",
              "  1,\n",
              "  2,\n",
              "  2,\n",
              "  1,\n",
              "  2,\n",
              "  2,\n",
              "  1,\n",
              "  2,\n",
              "  1,\n",
              "  3,\n",
              "  1,\n",
              "  1,\n",
              "  1,\n",
              "  1,\n",
              "  1,\n",
              "  1,\n",
              "  1,\n",
              "  1,\n",
              "  1,\n",
              "  1,\n",
              "  1,\n",
              "  1,\n",
              "  1,\n",
              "  1,\n",
              "  1,\n",
              "  1,\n",
              "  1,\n",
              "  1,\n",
              "  1,\n",
              "  1,\n",
              "  1,\n",
              "  1,\n",
              "  1,\n",
              "  1,\n",
              "  4,\n",
              "  1,\n",
              "  1,\n",
              "  1,\n",
              "  1,\n",
              "  1,\n",
              "  1,\n",
              "  1,\n",
              "  1,\n",
              "  6,\n",
              "  1,\n",
              "  1,\n",
              "  1,\n",
              "  1,\n",
              "  1,\n",
              "  1,\n",
              "  2,\n",
              "  1,\n",
              "  1,\n",
              "  2,\n",
              "  1,\n",
              "  1,\n",
              "  1,\n",
              "  1,\n",
              "  1,\n",
              "  1,\n",
              "  1,\n",
              "  1,\n",
              "  1,\n",
              "  1,\n",
              "  1,\n",
              "  1,\n",
              "  1,\n",
              "  1,\n",
              "  1,\n",
              "  1,\n",
              "  1,\n",
              "  5,\n",
              "  1,\n",
              "  1,\n",
              "  1,\n",
              "  1,\n",
              "  1,\n",
              "  1,\n",
              "  1,\n",
              "  1,\n",
              "  1,\n",
              "  1,\n",
              "  2,\n",
              "  1,\n",
              "  1,\n",
              "  1,\n",
              "  1,\n",
              "  1,\n",
              "  1,\n",
              "  1,\n",
              "  1,\n",
              "  1,\n",
              "  1,\n",
              "  1,\n",
              "  1,\n",
              "  1,\n",
              "  1,\n",
              "  1,\n",
              "  1,\n",
              "  1,\n",
              "  1,\n",
              "  1,\n",
              "  1,\n",
              "  1,\n",
              "  1,\n",
              "  2,\n",
              "  1,\n",
              "  1,\n",
              "  1,\n",
              "  1,\n",
              "  1,\n",
              "  1,\n",
              "  1,\n",
              "  1,\n",
              "  1,\n",
              "  1,\n",
              "  1,\n",
              "  2,\n",
              "  1,\n",
              "  1,\n",
              "  1,\n",
              "  1,\n",
              "  1,\n",
              "  1,\n",
              "  1,\n",
              "  1,\n",
              "  1,\n",
              "  1,\n",
              "  1,\n",
              "  1,\n",
              "  1,\n",
              "  1,\n",
              "  1,\n",
              "  1,\n",
              "  1,\n",
              "  1,\n",
              "  1,\n",
              "  1,\n",
              "  1,\n",
              "  1,\n",
              "  1])"
            ]
          },
          "execution_count": 34,
          "metadata": {},
          "output_type": "execute_result"
        }
      ],
      "source": [
        "# 辞書データを単語と出現回数のリストにする\n",
        "\n",
        "from collections import defaultdict\n",
        "\n",
        "def get_first_words_weights(three_words_count):\n",
        "    \"\"\"最初の単語を選択するための辞書データを作成する\"\"\"\n",
        "    first_word_count = defaultdict(int)\n",
        "\n",
        "    for three_words, count in three_words_count.items():\n",
        "        if three_words[0] == BEGIN:\n",
        "            next_word = three_words[1]\n",
        "            first_word_count[next_word] += count\n",
        "\n",
        "    words = []  # ❶ 単語と重み(出現回数)を格納するリスト\n",
        "    weights = []\n",
        "    for word, count in first_word_count.items():\n",
        "        words.append(word)  # ❷ 単語と重みをリストに追加\n",
        "        weights.append(count)\n",
        "            \n",
        "    return words, weights\n",
        "\n",
        "first_words, first_weights = get_first_words_weights(three_words_count)\n",
        "first_words, first_weights"
      ]
    },
    {
      "cell_type": "code",
      "execution_count": null,
      "metadata": {
        "pycharm": {
          "name": "#%%\n"
        },
        "id": "0PVTpw2Rc0b1"
      },
      "outputs": [],
      "source": [
        "# 文章を生成する\n",
        "\n",
        "import random\n",
        "\n",
        "def generate_text(fwords, fweights, markov_dict):\n",
        "    \"\"\"入力された辞書データを元に文章を生成する\"\"\"\n",
        "    first_word = random.choices(fwords, weights=fweights)[0]  # ❶ 最初の単語を取得\n",
        "    generate_words = [BEGIN, first_word]  # ❷ 文章生成用に単語を格納するリスト\n",
        "    while True:\n",
        "        pair = tuple(generate_words[-2:])  # ❸ 最後の2つの単語を取得\n",
        "        words = markov_dict[pair]['words']  # ❹ 次の単語と重みのリストを取得\n",
        "        weights = markov_dict[pair]['weights']\n",
        "        next_word = random.choices(words, weights=weights)[0]  # ❺ 次の単語を取得\n",
        "        if next_word == END:  # ❻ 文章が終了した場合はループを抜ける\n",
        "            break\n",
        "        generate_words.append(next_word)\n",
        "\n",
        "    return ''.join(generate_words[1:])  # ❼ 単語から文章を作成"
      ]
    },
    {
      "cell_type": "code",
      "execution_count": null,
      "metadata": {
        "pycharm": {
          "name": "#%%\n"
        },
        "id": "7prdTAW2c0b1",
        "outputId": "95aa80f1-5438-4cdc-cdb7-85f07b06659d"
      },
      "outputs": [
        {
          "name": "stdout",
          "output_type": "stream",
          "text": [
            "自分に所謂おまけの附録でした\n",
            "自分はシヅ子に対し所謂親子の名乗りをせずにお父ちゃんと呼んで卑しめている事は殆ど無くたいてい電報で堀木にさえ見て眼を聯想させるのだ仕方が無えんだぎょっとしました\n",
            "自分にはいっさい答を拒否したへ行ったか何だかそのようになったのですがそれは気になりおどおどしなければいいえ飲んでぐっすり眠り朝は爽快なのでありました\n",
            "それまで一言も本当のお父ちゃんはねお酒を飲みぐらぐら酔って銀座裏の或る夕方ヒラメは人のヒラメがあの京橋のすぐ近くなので朝礼の鐘の鳴るのを避けているようでした\n",
            "しかし自分はその対象の表現に幼い我流ながら多少の図々しさを軽蔑しながらもしかしそれは如何にもわからないのだ\n"
          ]
        }
      ],
      "source": [
        "for _ in range(5):\n",
        "    text = generate_text(first_words, first_weights, markov_dict)\n",
        "    print(text)"
      ]
    },
    {
      "cell_type": "markdown",
      "metadata": {
        "pycharm": {
          "name": "#%% md\n"
        },
        "id": "rInGwH3kc0b1"
      },
      "source": [
        "## Lesson 34 文章データを取得して前処理をしましょう\n",
        "\n",
        "### 手順パート: 青空文庫からダウンロードした文章を前処理する"
      ]
    },
    {
      "cell_type": "code",
      "execution_count": null,
      "metadata": {
        "pycharm": {
          "name": "#%%\n"
        },
        "id": "GMHdzg2sc0b2"
      },
      "outputs": [],
      "source": [
        "import requests  # ❶requestsをインポート\n",
        "\n",
        "# 「人間失格」のファイルのURL\n",
        "url = 'https://www.aozora.gr.jp/cards/000035/files/301_ruby_5915.zip'\n",
        "r = requests.get(url)  # ❷ZipファイルのURLアクセス\n",
        "content = r.content  # ❸Zipファイルの中身を取得"
      ]
    },
    {
      "cell_type": "code",
      "execution_count": null,
      "metadata": {
        "pycharm": {
          "name": "#%%\n"
        },
        "id": "0nbpyEKAc0b2",
        "outputId": "f51d00ee-2ff7-40a0-8538-1994fc6a42bd"
      },
      "outputs": [
        {
          "data": {
            "text/plain": [
              "['ningen_shikkaku.txt']"
            ]
          },
          "execution_count": 38,
          "metadata": {},
          "output_type": "execute_result"
        }
      ],
      "source": [
        "import io  # ❶モジュールをインポート\n",
        "import zipfile\n",
        "\n",
        "f = io.BytesIO(content)  # ❷バイナリをファイルのように変換\n",
        "zipf = zipfile.ZipFile(f)  # ❸Zipファイルを開く\n",
        "namelist = zipf.namelist()  # ❹ファイル一覧を取得\n",
        "namelist\n"
      ]
    },
    {
      "cell_type": "code",
      "execution_count": null,
      "metadata": {
        "pycharm": {
          "name": "#%%\n"
        },
        "id": "t_RWelhoc0b2",
        "outputId": "4b54371a-b83d-4e26-855d-c29c19a854d1"
      },
      "outputs": [
        {
          "name": "stdout",
          "output_type": "stream",
          "text": [
            "人間失格\r\n",
            "太宰治\r\n",
            "\r\n",
            "-------------------------------------------------------\r\n",
            "【テキスト中に現れる記号について】\r\n",
            "\r\n",
            "《》：ルビ\r\n",
            "（例）従姉妹《いとこ》\r\n",
            "\r\n",
            "｜：ルビの付く文字列の始まりを特定する記号\r\n",
            "（例）昔｜気質《かたぎ》\r\n",
            "\r\n",
            "［＃］：入力者注　主に外字の説明や、傍点の位置の指定\r\n",
            "（例）［＃３字下げ］はしがき［＃「はしがき」は大見出し］\r\n",
            "-------------------------------------------------------\r\n",
            "\r\n",
            "［＃３字下げ］はしがき［＃「はしがき」は大見出し］\r\n",
            "\r\n",
            "\r\n",
            "　私は、その男の写真を三葉、見たことがある。\r\n",
            "　一葉は、その男の、幼年時代、とでも言うべきであろうか、十歳前後かと推定される頃の写真であって、その子供が大勢の女のひとに取りかこまれ、（それは、その子供の姉たち、妹たち、それから、従姉妹《いとこ》たちかと想像される）庭園の池のほとりに、荒い縞の袴《はかま》をはいて立ち、首を三十度ほど左に傾け、醜く笑っている写真である。醜く？　けれども、鈍い人たち（\n"
          ]
        }
      ],
      "source": [
        "data = zipf.read(namelist[0])  # ❶Zipファイルを展開しデータを取り出す\n",
        "original_text = data.decode('Shift_JIS')  # ❷文字列にデコードする\n",
        "print(original_text[:500])  # ❸中身を確認する"
      ]
    },
    {
      "cell_type": "code",
      "execution_count": null,
      "metadata": {
        "pycharm": {
          "name": "#%%\n"
        },
        "id": "kGWW8Hkbc0b2",
        "outputId": "180765a3-63a5-4024-849b-8a9894239cb2"
      },
      "outputs": [
        {
          "name": "stdout",
          "output_type": "stream",
          "text": [
            "文の数: 1177\n"
          ]
        },
        {
          "data": {
            "text/plain": [
              "['私はその男の写真を三葉見たことがある',\n",
              " '一葉はその男の幼年時代とでも言うべきであろうか十歳前後かと推定される頃の写真であってその子供が大勢の女のひとに取りかこまれ庭園の池のほとりに荒い縞の袴をはいて立ち首を三十度ほど左に傾け醜く笑っている写真である',\n",
              " '醜くけれども鈍い人たちは面白くも何とも無いような顔をして可愛い坊ちゃんですねといい加減なお世辞を言ってもまんざら空お世辞に聞えないくらいの謂わば通俗の可愛らしさみたいな影もその子供の笑顔に無いわけではないのだがしかしいささかでも美醜に就いての訓練を経て来たひとならひとめ見てすぐなんていやな子供だと頗る不快そうに呟き毛虫でも払いのける時のような手つきでその写真をほうり投げるかも知れない',\n",
              " 'まったくその子供の笑顔はよく見れば見るほど何とも知れずイヤな薄気味悪いものが感ぜられて来る',\n",
              " 'どだいそれは笑顔でない',\n",
              " 'この子は少しも笑ってはいないのだ',\n",
              " 'その証拠にはこの子は両方のこぶしを固く握って立っている',\n",
              " '人間はこぶしを固く握りながら笑えるものでは無いのである',\n",
              " '猿だ',\n",
              " '猿の笑顔だ']"
            ]
          },
          "execution_count": 40,
          "metadata": {},
          "output_type": "execute_result"
        }
      ],
      "source": [
        "import re\n",
        "\n",
        "first_sentence = '私は、その男の写真を三葉、見たことがある。'\n",
        "last_sentence = '神様みたいないい子でした'\n",
        "_, text = original_text.split(first_sentence)  # ❶ 青空文庫の説明文を削除\n",
        "text, _ = text.split(last_sentence)\n",
        "text = first_sentence + text + last_sentence\n",
        "\n",
        "text = text.replace('｜', '').replace('　', '')  # ❷ '｜'' と '　' を削除\n",
        "text = re.sub('《\\w+》', '', text)  # ❷ルビを削除\n",
        "text = re.sub('［＃\\w+］', '', text)  # ❷注を削除\n",
        "text = text.replace('\\r', '').replace('\\n', '')  # ❷改行文字を削除\n",
        "text = re.sub('[、「」？]', '', text)  # ❷、「」 ？を削除\n",
        "text = re.sub('（\\w+）', '', text)  #  ❷（）と［］で囲まれている文を削除\n",
        "text = re.sub('［\\w+］', '', text)\n",
        "\n",
        "sentences = text.split('。')  # ❸。で文章を分割\n",
        "print('文の数:', len(sentences))\n",
        "sentences[:10]"
      ]
    },
    {
      "cell_type": "markdown",
      "metadata": {
        "pycharm": {
          "name": "#%% md\n"
        },
        "id": "BXN_7j2Tc0b3"
      },
      "source": [
        "## Lesson 35 大量の文章データから文章生成用の辞書データを生成しましょう"
      ]
    },
    {
      "cell_type": "code",
      "execution_count": null,
      "metadata": {
        "pycharm": {
          "name": "#%%\n"
        },
        "id": "WQaZnsTcc0b3",
        "outputId": "2d4ae6cc-7ad8-4be7-ed88-daec0f3d2631"
      },
      "outputs": [
        {
          "name": "stderr",
          "output_type": "stream",
          "text": [
            "100%|██████████| 50/50 [00:25<00:00,  1.95it/s]\n"
          ]
        }
      ],
      "source": [
        "import time\n",
        "from tqdm import tqdm\n",
        "for i in tqdm(range(50)):  # tqdm()で囲む\n",
        "    time.sleep(0.5)  # 0.5秒スリープ"
      ]
    },
    {
      "cell_type": "markdown",
      "metadata": {
        "pycharm": {
          "name": "#%% md\n"
        },
        "id": "GMVa9SjRc0b3"
      },
      "source": [
        "### 手順パート: 大量の文章データからマルコフ連鎖用辞書データを自動生成する"
      ]
    },
    {
      "cell_type": "code",
      "execution_count": null,
      "metadata": {
        "pycharm": {
          "name": "#%%\n"
        },
        "id": "kPO-xMYPc0b3",
        "outputId": "c12a57cc-fd1d-4452-d1a9-1ba7c0025fa8"
      },
      "outputs": [
        {
          "name": "stderr",
          "output_type": "stream",
          "text": [
            "100%|██████████| 1177/1177 [00:36<00:00, 31.92it/s]\n"
          ]
        },
        {
          "data": {
            "text/plain": [
              "30035"
            ]
          },
          "execution_count": 20,
          "metadata": {},
          "output_type": "execute_result"
        }
      ],
      "source": [
        "from tqdm import tqdm\n",
        "\n",
        "three_words_list = []\n",
        "for sentence in tqdm(sentences):  # ❶ tqdmで進捗バーを表示する\n",
        "    three_words_list += get_three_words_list(sentence)\n",
        "three_words_count = Counter(three_words_list)\n",
        "len(three_words_count)  # ❷ 3単語の組の種類を確認"
      ]
    },
    {
      "cell_type": "code",
      "execution_count": null,
      "metadata": {
        "pycharm": {
          "name": "#%%\n"
        },
        "scrolled": true,
        "id": "-nbWpbvUc0b4",
        "outputId": "c1904c13-42e7-41ff-cdf5-203d20ceb914"
      },
      "outputs": [
        {
          "name": "stdout",
          "output_type": "stream",
          "text": [
            "19742\n",
            "498\n"
          ]
        }
      ],
      "source": [
        "markov_dict = generate_markov_dict(three_words_count)  # ❶ 文章生成用の辞書データを作成\n",
        "print(len(markov_dict))\n",
        "first_words, first_weights = get_first_words_weights(three_words_count)  # ❷最初の単語と出現数を取得\n",
        "print(len(first_words))"
      ]
    },
    {
      "cell_type": "code",
      "execution_count": null,
      "metadata": {
        "pycharm": {
          "name": "#%%\n"
        },
        "id": "J5x_ZuIpc0b4",
        "outputId": "c0f1514d-a491-4226-e87d-ac42c97449d3"
      },
      "outputs": [
        {
          "name": "stdout",
          "output_type": "stream",
          "text": [
            "奇怪なのですよ\n",
            "へんな犯され方を間違って見てとっている\n",
            "親指くらいの固い感じのひとの名前はヘノモチン\n",
            "自分は小学校の頃絵本で地下鉄道というものになりそうも無くなりました\n",
            "それなのにヒラメの家は間も無くまた悲しみでも抗議の声でした\n"
          ]
        }
      ],
      "source": [
        "for _ in range(5):\n",
        "    sentence = generate_text(first_words, first_weights, markov_dict)\n",
        "    print(sentence)"
      ]
    },
    {
      "cell_type": "markdown",
      "metadata": {
        "pycharm": {
          "name": "#%% md\n"
        },
        "id": "AI_M5ULKc0b4"
      },
      "source": [
        "## Lesson 36 文章を自動生成するbotコマンドを作成しましょう"
      ]
    },
    {
      "cell_type": "code",
      "execution_count": null,
      "metadata": {
        "pycharm": {
          "name": "#%%\n"
        },
        "id": "KxgE2jn6c0b4",
        "outputId": "c2af9b2a-69b6-4c1a-fd50-778d41b2d4c6"
      },
      "outputs": [
        {
          "data": {
            "text/plain": [
              "b'\\x80\\x04\\x95\\x16\\x00\\x00\\x00\\x00\\x00\\x00\\x00}\\x94\\x8c\\x04name\\x94\\x8c\\x08takanory\\x94s.'"
            ]
          },
          "execution_count": 23,
          "metadata": {},
          "output_type": "execute_result"
        }
      ],
      "source": [
        "# オブジェクトをpickle化する\n",
        "import pickle  # pickleモジュールをimport\n",
        "\n",
        "data = {'name': 'takanory'}\n",
        "pickled = pickle.dumps(data)  # dataオブジェクトをPickle化\n",
        "pickled"
      ]
    },
    {
      "cell_type": "code",
      "execution_count": null,
      "metadata": {
        "pycharm": {
          "name": "#%%\n"
        },
        "scrolled": true,
        "id": "FWs33osZc0b4",
        "outputId": "107c547f-7ceb-4879-c87c-0faf4717963d"
      },
      "outputs": [
        {
          "data": {
            "text/plain": [
              "{'name': 'takanory'}"
            ]
          },
          "execution_count": 24,
          "metadata": {},
          "output_type": "execute_result"
        }
      ],
      "source": [
        "# pickle化されたbytesオブジェクトから元に戻す\n",
        "data2 = pickle.loads(pickled)  # bytesオブジェクトをもとに戻す\n",
        "data2"
      ]
    },
    {
      "cell_type": "code",
      "execution_count": null,
      "metadata": {
        "pycharm": {
          "name": "#%%\n"
        },
        "scrolled": true,
        "id": "c0oUsK3fc0b4",
        "outputId": "a544e49d-d043-42d5-cbe5-125dceae2817"
      },
      "outputs": [
        {
          "data": {
            "text/plain": [
              "[1, 2, 3]"
            ]
          },
          "execution_count": 25,
          "metadata": {},
          "output_type": "execute_result"
        }
      ],
      "source": [
        "# JSONでは対応していないオブジェクトがある\n",
        "import json\n",
        "jsoned = json.dumps((1, 2, 3))  # タプルがリストになる\n",
        "json.loads(jsoned)"
      ]
    },
    {
      "cell_type": "markdown",
      "metadata": {
        "pycharm": {
          "name": "#%% md\n"
        },
        "id": "MHEY2ot9c0b4"
      },
      "source": [
        "### 手順パート: 文章生成（マルコフ）コマンドを作成する"
      ]
    },
    {
      "cell_type": "code",
      "execution_count": null,
      "metadata": {
        "pycharm": {
          "name": "#%%\n"
        },
        "id": "_8BjL5i3c0b5"
      },
      "outputs": [],
      "source": [
        "import pickle\n",
        "\n",
        "with open('markov-dict.pickle', 'wb') as f:  # ❶ファイルをバイナリ書き込みモードで開く\n",
        "    data = (first_words, first_weights, markov_dict)  # ❷3つのデータをタプルにまとめる\n",
        "    pickle.dump(data, f)  # ➌dataをpickle化して書き込む"
      ]
    }
  ],
  "metadata": {
    "kernelspec": {
      "display_name": "Python 3 (ipykernel)",
      "language": "python",
      "name": "python3"
    },
    "language_info": {
      "codemirror_mode": {
        "name": "ipython",
        "version": 3
      },
      "file_extension": ".py",
      "mimetype": "text/x-python",
      "name": "python",
      "nbconvert_exporter": "python",
      "pygments_lexer": "ipython3",
      "version": "3.9.12"
    },
    "colab": {
      "name": "chapter4-japanese.ipynb",
      "provenance": []
    }
  },
  "nbformat": 4,
  "nbformat_minor": 0
}