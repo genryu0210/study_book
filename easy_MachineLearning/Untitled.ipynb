{
 "cells": [
  {
   "cell_type": "code",
   "execution_count": 1,
   "id": "3cea9c40",
   "metadata": {
    "pycharm": {
     "name": "#%%\n"
    }
   },
   "outputs": [],
   "source": [
    "import datetime"
   ]
  },
  {
   "cell_type": "code",
   "execution_count": 2,
   "id": "f0bfb12b",
   "metadata": {
    "pycharm": {
     "name": "#%%\n"
    }
   },
   "outputs": [
    {
     "data": {
      "text/plain": [
       "datetime.datetime(2022, 1, 1, 0, 0)"
      ]
     },
     "execution_count": 2,
     "metadata": {},
     "output_type": "execute_result"
    }
   ],
   "source": [
    "dt = datetime.datetime.strptime(\"2022/1/1\", \"%Y/%m/%d\")\n",
    "dt"
   ]
  },
  {
   "cell_type": "code",
   "execution_count": 3,
   "id": "63c51fed",
   "metadata": {
    "pycharm": {
     "name": "#%%\n"
    }
   },
   "outputs": [
    {
     "data": {
      "text/plain": [
       "{0: '月', 1: '火', 2: '水', 3: '木', 4: '金', 5: '土', 6: '日'}"
      ]
     },
     "execution_count": 3,
     "metadata": {},
     "output_type": "execute_result"
    }
   ],
   "source": [
    "weekday = {0: \"月\",1:\"火\", 2:\"水\" , 3:\"木\" , 4:\"金\" , 5:\"土\" , 6:\"日\" }\n",
    "weekday"
   ]
  },
  {
   "cell_type": "code",
   "execution_count": 4,
   "id": "996fa29d",
   "metadata": {
    "pycharm": {
     "name": "#%%\n"
    }
   },
   "outputs": [
    {
     "name": "stdout",
     "output_type": "stream",
     "text": [
      "0: 月\n",
      "1: 火\n",
      "2: 水\n",
      "3: 木\n",
      "4: 金\n",
      "5: 土\n",
      "6: 日\n"
     ]
    }
   ],
   "source": [
    "for num, name in weekday.items():\n",
    "    print(\"{}: {}\".format(num, name))"
   ]
  },
  {
   "cell_type": "code",
   "execution_count": 5,
   "id": "dfb7d3d6",
   "metadata": {
    "pycharm": {
     "name": "#%%\n"
    }
   },
   "outputs": [],
   "source": [
    "def get_day_of_week(date_str): \n",
    "    dt = datetime.datetime.strptime(date_str, \"%Y/%m/%d\")\n",
    "    return weekday[dt.weekday()]"
   ]
  },
  {
   "cell_type": "code",
   "execution_count": 6,
   "id": "491209c3",
   "metadata": {
    "pycharm": {
     "name": "#%%\n"
    }
   },
   "outputs": [
    {
     "data": {
      "text/plain": [
       "'日'"
      ]
     },
     "execution_count": 6,
     "metadata": {},
     "output_type": "execute_result"
    }
   ],
   "source": [
    "get_day_of_week(\"2022/7/24\")"
   ]
  },
  {
   "cell_type": "code",
   "execution_count": 7,
   "id": "d3a098c8",
   "metadata": {
    "pycharm": {
     "name": "#%%\n"
    }
   },
   "outputs": [
    {
     "data": {
      "text/plain": [
       "5"
      ]
     },
     "execution_count": 7,
     "metadata": {},
     "output_type": "execute_result"
    }
   ],
   "source": [
    "dt.weekday()\n"
   ]
  },
  {
   "cell_type": "code",
   "execution_count": null,
   "id": "f70428d4",
   "metadata": {
    "pycharm": {
     "name": "#%%\n"
    }
   },
   "outputs": [],
   "source": []
  }
 ],
 "metadata": {
  "kernelspec": {
   "display_name": "Python 3 (ipykernel)",
   "language": "python",
   "name": "python3"
  },
  "language_info": {
   "codemirror_mode": {
    "name": "ipython",
    "version": 3
   },
   "file_extension": ".py",
   "mimetype": "text/x-python",
   "name": "python",
   "nbconvert_exporter": "python",
   "pygments_lexer": "ipython3",
   "version": "3.9.12"
  }
 },
 "nbformat": 4,
 "nbformat_minor": 5
}