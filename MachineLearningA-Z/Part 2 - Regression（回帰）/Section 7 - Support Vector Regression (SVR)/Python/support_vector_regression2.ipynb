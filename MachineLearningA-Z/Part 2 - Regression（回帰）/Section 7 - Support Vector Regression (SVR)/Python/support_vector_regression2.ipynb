{
 "nbformat": 4,
 "nbformat_minor": 0,
 "metadata": {
  "colab": {
   "name": "support_vector_regression2.ipynb",
   "provenance": [],
   "collapsed_sections": []
  },
  "kernelspec": {
   "name": "python3",
   "display_name": "Python 3"
  }
 },
 "cells": [
  {
   "cell_type": "markdown",
   "metadata": {
    "id": "m3PAEPRDRLA3",
    "pycharm": {
     "name": "#%% md\n"
    }
   },
   "source": [
    "# サポートベクトル回帰(SVR)"
   ]
  },
  {
   "cell_type": "markdown",
   "metadata": {
    "id": "0VCUAVIjRdzZ",
    "pycharm": {
     "name": "#%% md\n"
    }
   },
   "source": [
    "## ライブラリのインポート"
   ]
  },
  {
   "cell_type": "code",
   "metadata": {
    "id": "56oRF-QfSDzC",
    "executionInfo": {
     "status": "ok",
     "timestamp": 1647625277647,
     "user_tz": -540,
     "elapsed": 615,
     "user": {
      "displayName": "大橋亮太",
      "photoUrl": "https://lh3.googleusercontent.com/a-/AOh14Gh-lJGJpXaEe7P0nfZiM3FiGRZLnhBN8vc08yQYdGfY5lGtNmUi-8eZOjKBByA_oFCLyXs64lrRv-aqLIn0VccwLV99vhg_LXUnqfsog979EyiGzyP957HjcdIlw_G8_hHKcPXGF9ld6_Cj1nwJbUOgdBJVmeymacNjPBtgZMn_HMW1dORhZ_2FsHOixYtgVX6HPFrs5VhMsnWcpYLdOLjxahMjHZgLh4D51QP4oDEQohzuehklpgiu-cyRX-n0z5hkOPy7ZbqV3bKzR2gMVVXE5Pn5UcWzvJZct1emgRilWLZ7MyHUmSmDr9UyX9TpNWxBEhK-mIMHtSBiNlyA6g0yG8d3CtSpxEfcjRqWsw1hkaqaVauU93JPVVt42uso8DkSSOH1OCwfEJDV13JbFIscLnqyLMZHpccf4OJEUTRNEI11JO9994e45Vt9at54sv624WyuJInoLf8x3B1YOeZWQ24_DLS_Va1IWmtkAsH7nVOtBLT4hih_kOC-74lmzFzdnom8tZ5OkQnvoykSlsZROSZv8FCtnUtiNoYam3H0bH-b98awmrPDhkMGX7IIK3hrrPkrdtj4gOVjmiPJTJkVe9bKO7MjtbUAX8h7AcifEg_-2rqO3ozoptaL9Oa6VHH0clJWz1xUMqrqm-SPXHJjEgqJ0h6sVWbDqpXDbWFpVzNjTHPg8DLSgYpzs0BFHf2tlbJL16guDdoU9sD_yX2JlSHECWv6PMYd8YFE5XkBIpJyriX3vMIYrLpBeCS_o7RkXA=s64",
      "userId": "04193769736923210432"
     }
    },
    "pycharm": {
     "name": "#%%\n"
    }
   },
   "source": [
    "import numpy as np\n",
    "import matplotlib.pyplot as plt\n",
    "import pandas as pd"
   ],
   "execution_count": 16,
   "outputs": []
  },
  {
   "cell_type": "markdown",
   "metadata": {
    "id": "fXVXoFWtSF4_",
    "pycharm": {
     "name": "#%% md\n"
    }
   },
   "source": [
    "## データセットのインポート"
   ]
  },
  {
   "cell_type": "code",
   "metadata": {
    "id": "xfoa8OSORfHQ",
    "executionInfo": {
     "status": "ok",
     "timestamp": 1647625309624,
     "user_tz": -540,
     "elapsed": 263,
     "user": {
      "displayName": "大橋亮太",
      "photoUrl": "https://lh3.googleusercontent.com/a-/AOh14Gh-lJGJpXaEe7P0nfZiM3FiGRZLnhBN8vc08yQYdGfY5lGtNmUi-8eZOjKBByA_oFCLyXs64lrRv-aqLIn0VccwLV99vhg_LXUnqfsog979EyiGzyP957HjcdIlw_G8_hHKcPXGF9ld6_Cj1nwJbUOgdBJVmeymacNjPBtgZMn_HMW1dORhZ_2FsHOixYtgVX6HPFrs5VhMsnWcpYLdOLjxahMjHZgLh4D51QP4oDEQohzuehklpgiu-cyRX-n0z5hkOPy7ZbqV3bKzR2gMVVXE5Pn5UcWzvJZct1emgRilWLZ7MyHUmSmDr9UyX9TpNWxBEhK-mIMHtSBiNlyA6g0yG8d3CtSpxEfcjRqWsw1hkaqaVauU93JPVVt42uso8DkSSOH1OCwfEJDV13JbFIscLnqyLMZHpccf4OJEUTRNEI11JO9994e45Vt9at54sv624WyuJInoLf8x3B1YOeZWQ24_DLS_Va1IWmtkAsH7nVOtBLT4hih_kOC-74lmzFzdnom8tZ5OkQnvoykSlsZROSZv8FCtnUtiNoYam3H0bH-b98awmrPDhkMGX7IIK3hrrPkrdtj4gOVjmiPJTJkVe9bKO7MjtbUAX8h7AcifEg_-2rqO3ozoptaL9Oa6VHH0clJWz1xUMqrqm-SPXHJjEgqJ0h6sVWbDqpXDbWFpVzNjTHPg8DLSgYpzs0BFHf2tlbJL16guDdoU9sD_yX2JlSHECWv6PMYd8YFE5XkBIpJyriX3vMIYrLpBeCS_o7RkXA=s64",
      "userId": "04193769736923210432"
     }
    },
    "pycharm": {
     "name": "#%%\n"
    }
   },
   "source": [
    "dataset = pd.read_csv('svr.csv')\n",
    "X = dataset.iloc[:, 1:-1].values\n",
    "y = dataset.iloc[:, -1].values"
   ],
   "execution_count": 17,
   "outputs": []
  },
  {
   "cell_type": "code",
   "metadata": {
    "id": "fAWJV6gpiTYM",
    "colab": {
     "base_uri": "https://localhost:8080/"
    },
    "outputId": "ceabca4e-f51b-4f01-8697-3b612937d1ca",
    "executionInfo": {
     "status": "ok",
     "timestamp": 1647625315989,
     "user_tz": -540,
     "elapsed": 288,
     "user": {
      "displayName": "大橋亮太",
      "photoUrl": "https://lh3.googleusercontent.com/a-/AOh14Gh-lJGJpXaEe7P0nfZiM3FiGRZLnhBN8vc08yQYdGfY5lGtNmUi-8eZOjKBByA_oFCLyXs64lrRv-aqLIn0VccwLV99vhg_LXUnqfsog979EyiGzyP957HjcdIlw_G8_hHKcPXGF9ld6_Cj1nwJbUOgdBJVmeymacNjPBtgZMn_HMW1dORhZ_2FsHOixYtgVX6HPFrs5VhMsnWcpYLdOLjxahMjHZgLh4D51QP4oDEQohzuehklpgiu-cyRX-n0z5hkOPy7ZbqV3bKzR2gMVVXE5Pn5UcWzvJZct1emgRilWLZ7MyHUmSmDr9UyX9TpNWxBEhK-mIMHtSBiNlyA6g0yG8d3CtSpxEfcjRqWsw1hkaqaVauU93JPVVt42uso8DkSSOH1OCwfEJDV13JbFIscLnqyLMZHpccf4OJEUTRNEI11JO9994e45Vt9at54sv624WyuJInoLf8x3B1YOeZWQ24_DLS_Va1IWmtkAsH7nVOtBLT4hih_kOC-74lmzFzdnom8tZ5OkQnvoykSlsZROSZv8FCtnUtiNoYam3H0bH-b98awmrPDhkMGX7IIK3hrrPkrdtj4gOVjmiPJTJkVe9bKO7MjtbUAX8h7AcifEg_-2rqO3ozoptaL9Oa6VHH0clJWz1xUMqrqm-SPXHJjEgqJ0h6sVWbDqpXDbWFpVzNjTHPg8DLSgYpzs0BFHf2tlbJL16guDdoU9sD_yX2JlSHECWv6PMYd8YFE5XkBIpJyriX3vMIYrLpBeCS_o7RkXA=s64",
      "userId": "04193769736923210432"
     }
    },
    "pycharm": {
     "name": "#%%\n"
    }
   },
   "source": [
    "print(X)"
   ],
   "execution_count": 18,
   "outputs": [
    {
     "name": "stdout",
     "output_type": "stream",
     "text": [
      "[[1]\n",
      " [1]\n",
      " [1]\n",
      " [1]\n",
      " [2]\n",
      " [2]\n",
      " [2]\n",
      " [3]\n",
      " [3]\n",
      " [4]\n",
      " [4]\n",
      " [4]\n",
      " [5]\n",
      " [5]\n",
      " [5]\n",
      " [5]]\n"
     ]
    }
   ]
  },
  {
   "cell_type": "code",
   "metadata": {
    "id": "P1CzeAyRiU3c",
    "colab": {
     "base_uri": "https://localhost:8080/"
    },
    "outputId": "3e77a2a3-c619-4cec-b978-9b63e5b20eae",
    "executionInfo": {
     "status": "ok",
     "timestamp": 1647625316326,
     "user_tz": -540,
     "elapsed": 3,
     "user": {
      "displayName": "大橋亮太",
      "photoUrl": "https://lh3.googleusercontent.com/a-/AOh14Gh-lJGJpXaEe7P0nfZiM3FiGRZLnhBN8vc08yQYdGfY5lGtNmUi-8eZOjKBByA_oFCLyXs64lrRv-aqLIn0VccwLV99vhg_LXUnqfsog979EyiGzyP957HjcdIlw_G8_hHKcPXGF9ld6_Cj1nwJbUOgdBJVmeymacNjPBtgZMn_HMW1dORhZ_2FsHOixYtgVX6HPFrs5VhMsnWcpYLdOLjxahMjHZgLh4D51QP4oDEQohzuehklpgiu-cyRX-n0z5hkOPy7ZbqV3bKzR2gMVVXE5Pn5UcWzvJZct1emgRilWLZ7MyHUmSmDr9UyX9TpNWxBEhK-mIMHtSBiNlyA6g0yG8d3CtSpxEfcjRqWsw1hkaqaVauU93JPVVt42uso8DkSSOH1OCwfEJDV13JbFIscLnqyLMZHpccf4OJEUTRNEI11JO9994e45Vt9at54sv624WyuJInoLf8x3B1YOeZWQ24_DLS_Va1IWmtkAsH7nVOtBLT4hih_kOC-74lmzFzdnom8tZ5OkQnvoykSlsZROSZv8FCtnUtiNoYam3H0bH-b98awmrPDhkMGX7IIK3hrrPkrdtj4gOVjmiPJTJkVe9bKO7MjtbUAX8h7AcifEg_-2rqO3ozoptaL9Oa6VHH0clJWz1xUMqrqm-SPXHJjEgqJ0h6sVWbDqpXDbWFpVzNjTHPg8DLSgYpzs0BFHf2tlbJL16guDdoU9sD_yX2JlSHECWv6PMYd8YFE5XkBIpJyriX3vMIYrLpBeCS_o7RkXA=s64",
      "userId": "04193769736923210432"
     }
    },
    "pycharm": {
     "name": "#%%\n"
    }
   },
   "source": [
    "print(y)"
   ],
   "execution_count": 19,
   "outputs": [
    {
     "name": "stdout",
     "output_type": "stream",
     "text": [
      "[2 3 4 5 3 4 5 4 5 4 5 6 4 5 6 7]\n"
     ]
    }
   ]
  },
  {
   "cell_type": "code",
   "metadata": {
    "id": "_8Ny1GfPiV3m",
    "executionInfo": {
     "status": "ok",
     "timestamp": 1647625316595,
     "user_tz": -540,
     "elapsed": 5,
     "user": {
      "displayName": "大橋亮太",
      "photoUrl": "https://lh3.googleusercontent.com/a-/AOh14Gh-lJGJpXaEe7P0nfZiM3FiGRZLnhBN8vc08yQYdGfY5lGtNmUi-8eZOjKBByA_oFCLyXs64lrRv-aqLIn0VccwLV99vhg_LXUnqfsog979EyiGzyP957HjcdIlw_G8_hHKcPXGF9ld6_Cj1nwJbUOgdBJVmeymacNjPBtgZMn_HMW1dORhZ_2FsHOixYtgVX6HPFrs5VhMsnWcpYLdOLjxahMjHZgLh4D51QP4oDEQohzuehklpgiu-cyRX-n0z5hkOPy7ZbqV3bKzR2gMVVXE5Pn5UcWzvJZct1emgRilWLZ7MyHUmSmDr9UyX9TpNWxBEhK-mIMHtSBiNlyA6g0yG8d3CtSpxEfcjRqWsw1hkaqaVauU93JPVVt42uso8DkSSOH1OCwfEJDV13JbFIscLnqyLMZHpccf4OJEUTRNEI11JO9994e45Vt9at54sv624WyuJInoLf8x3B1YOeZWQ24_DLS_Va1IWmtkAsH7nVOtBLT4hih_kOC-74lmzFzdnom8tZ5OkQnvoykSlsZROSZv8FCtnUtiNoYam3H0bH-b98awmrPDhkMGX7IIK3hrrPkrdtj4gOVjmiPJTJkVe9bKO7MjtbUAX8h7AcifEg_-2rqO3ozoptaL9Oa6VHH0clJWz1xUMqrqm-SPXHJjEgqJ0h6sVWbDqpXDbWFpVzNjTHPg8DLSgYpzs0BFHf2tlbJL16guDdoU9sD_yX2JlSHECWv6PMYd8YFE5XkBIpJyriX3vMIYrLpBeCS_o7RkXA=s64",
      "userId": "04193769736923210432"
     }
    },
    "pycharm": {
     "name": "#%%\n"
    }
   },
   "source": [
    "y = y.reshape(-1,1)"
   ],
   "execution_count": 20,
   "outputs": []
  },
  {
   "cell_type": "code",
   "metadata": {
    "id": "D4aFLlbziaV9",
    "colab": {
     "base_uri": "https://localhost:8080/"
    },
    "outputId": "e90e2e60-9446-4623-92ab-e9d8402e1ef6",
    "executionInfo": {
     "status": "ok",
     "timestamp": 1647625316875,
     "user_tz": -540,
     "elapsed": 4,
     "user": {
      "displayName": "大橋亮太",
      "photoUrl": "https://lh3.googleusercontent.com/a-/AOh14Gh-lJGJpXaEe7P0nfZiM3FiGRZLnhBN8vc08yQYdGfY5lGtNmUi-8eZOjKBByA_oFCLyXs64lrRv-aqLIn0VccwLV99vhg_LXUnqfsog979EyiGzyP957HjcdIlw_G8_hHKcPXGF9ld6_Cj1nwJbUOgdBJVmeymacNjPBtgZMn_HMW1dORhZ_2FsHOixYtgVX6HPFrs5VhMsnWcpYLdOLjxahMjHZgLh4D51QP4oDEQohzuehklpgiu-cyRX-n0z5hkOPy7ZbqV3bKzR2gMVVXE5Pn5UcWzvJZct1emgRilWLZ7MyHUmSmDr9UyX9TpNWxBEhK-mIMHtSBiNlyA6g0yG8d3CtSpxEfcjRqWsw1hkaqaVauU93JPVVt42uso8DkSSOH1OCwfEJDV13JbFIscLnqyLMZHpccf4OJEUTRNEI11JO9994e45Vt9at54sv624WyuJInoLf8x3B1YOeZWQ24_DLS_Va1IWmtkAsH7nVOtBLT4hih_kOC-74lmzFzdnom8tZ5OkQnvoykSlsZROSZv8FCtnUtiNoYam3H0bH-b98awmrPDhkMGX7IIK3hrrPkrdtj4gOVjmiPJTJkVe9bKO7MjtbUAX8h7AcifEg_-2rqO3ozoptaL9Oa6VHH0clJWz1xUMqrqm-SPXHJjEgqJ0h6sVWbDqpXDbWFpVzNjTHPg8DLSgYpzs0BFHf2tlbJL16guDdoU9sD_yX2JlSHECWv6PMYd8YFE5XkBIpJyriX3vMIYrLpBeCS_o7RkXA=s64",
      "userId": "04193769736923210432"
     }
    },
    "pycharm": {
     "name": "#%%\n"
    }
   },
   "source": [
    "print(y)"
   ],
   "execution_count": 21,
   "outputs": [
    {
     "name": "stdout",
     "output_type": "stream",
     "text": [
      "[[2]\n",
      " [3]\n",
      " [4]\n",
      " [5]\n",
      " [3]\n",
      " [4]\n",
      " [5]\n",
      " [4]\n",
      " [5]\n",
      " [4]\n",
      " [5]\n",
      " [6]\n",
      " [4]\n",
      " [5]\n",
      " [6]\n",
      " [7]]\n"
     ]
    }
   ]
  },
  {
   "cell_type": "markdown",
   "metadata": {
    "id": "YS8FeLHYS-nI",
    "pycharm": {
     "name": "#%% md\n"
    }
   },
   "source": [
    "## フィーチャースケーリング"
   ]
  },
  {
   "cell_type": "code",
   "metadata": {
    "id": "PGeAlD1HTDI1",
    "executionInfo": {
     "status": "ok",
     "timestamp": 1647625319145,
     "user_tz": -540,
     "elapsed": 429,
     "user": {
      "displayName": "大橋亮太",
      "photoUrl": "https://lh3.googleusercontent.com/a-/AOh14Gh-lJGJpXaEe7P0nfZiM3FiGRZLnhBN8vc08yQYdGfY5lGtNmUi-8eZOjKBByA_oFCLyXs64lrRv-aqLIn0VccwLV99vhg_LXUnqfsog979EyiGzyP957HjcdIlw_G8_hHKcPXGF9ld6_Cj1nwJbUOgdBJVmeymacNjPBtgZMn_HMW1dORhZ_2FsHOixYtgVX6HPFrs5VhMsnWcpYLdOLjxahMjHZgLh4D51QP4oDEQohzuehklpgiu-cyRX-n0z5hkOPy7ZbqV3bKzR2gMVVXE5Pn5UcWzvJZct1emgRilWLZ7MyHUmSmDr9UyX9TpNWxBEhK-mIMHtSBiNlyA6g0yG8d3CtSpxEfcjRqWsw1hkaqaVauU93JPVVt42uso8DkSSOH1OCwfEJDV13JbFIscLnqyLMZHpccf4OJEUTRNEI11JO9994e45Vt9at54sv624WyuJInoLf8x3B1YOeZWQ24_DLS_Va1IWmtkAsH7nVOtBLT4hih_kOC-74lmzFzdnom8tZ5OkQnvoykSlsZROSZv8FCtnUtiNoYam3H0bH-b98awmrPDhkMGX7IIK3hrrPkrdtj4gOVjmiPJTJkVe9bKO7MjtbUAX8h7AcifEg_-2rqO3ozoptaL9Oa6VHH0clJWz1xUMqrqm-SPXHJjEgqJ0h6sVWbDqpXDbWFpVzNjTHPg8DLSgYpzs0BFHf2tlbJL16guDdoU9sD_yX2JlSHECWv6PMYd8YFE5XkBIpJyriX3vMIYrLpBeCS_o7RkXA=s64",
      "userId": "04193769736923210432"
     }
    },
    "pycharm": {
     "name": "#%%\n"
    }
   },
   "source": [
    "from sklearn.preprocessing import StandardScaler\n",
    "sc_X = StandardScaler()\n",
    "sc_y = StandardScaler()\n",
    "X = sc_X.fit_transform(X)\n",
    "y = sc_y.fit_transform(y)"
   ],
   "execution_count": 22,
   "outputs": []
  },
  {
   "cell_type": "code",
   "metadata": {
    "id": "nXa8Z9FgjFTQ",
    "colab": {
     "base_uri": "https://localhost:8080/"
    },
    "outputId": "d9437ba5-8b78-4477-85f8-dbbbd2f09608",
    "executionInfo": {
     "status": "ok",
     "timestamp": 1647625320037,
     "user_tz": -540,
     "elapsed": 5,
     "user": {
      "displayName": "大橋亮太",
      "photoUrl": "https://lh3.googleusercontent.com/a-/AOh14Gh-lJGJpXaEe7P0nfZiM3FiGRZLnhBN8vc08yQYdGfY5lGtNmUi-8eZOjKBByA_oFCLyXs64lrRv-aqLIn0VccwLV99vhg_LXUnqfsog979EyiGzyP957HjcdIlw_G8_hHKcPXGF9ld6_Cj1nwJbUOgdBJVmeymacNjPBtgZMn_HMW1dORhZ_2FsHOixYtgVX6HPFrs5VhMsnWcpYLdOLjxahMjHZgLh4D51QP4oDEQohzuehklpgiu-cyRX-n0z5hkOPy7ZbqV3bKzR2gMVVXE5Pn5UcWzvJZct1emgRilWLZ7MyHUmSmDr9UyX9TpNWxBEhK-mIMHtSBiNlyA6g0yG8d3CtSpxEfcjRqWsw1hkaqaVauU93JPVVt42uso8DkSSOH1OCwfEJDV13JbFIscLnqyLMZHpccf4OJEUTRNEI11JO9994e45Vt9at54sv624WyuJInoLf8x3B1YOeZWQ24_DLS_Va1IWmtkAsH7nVOtBLT4hih_kOC-74lmzFzdnom8tZ5OkQnvoykSlsZROSZv8FCtnUtiNoYam3H0bH-b98awmrPDhkMGX7IIK3hrrPkrdtj4gOVjmiPJTJkVe9bKO7MjtbUAX8h7AcifEg_-2rqO3ozoptaL9Oa6VHH0clJWz1xUMqrqm-SPXHJjEgqJ0h6sVWbDqpXDbWFpVzNjTHPg8DLSgYpzs0BFHf2tlbJL16guDdoU9sD_yX2JlSHECWv6PMYd8YFE5XkBIpJyriX3vMIYrLpBeCS_o7RkXA=s64",
      "userId": "04193769736923210432"
     }
    },
    "pycharm": {
     "name": "#%%\n"
    }
   },
   "source": [
    "print(X)"
   ],
   "execution_count": 23,
   "outputs": [
    {
     "name": "stdout",
     "output_type": "stream",
     "text": [
      "[[-1.29777137]\n",
      " [-1.29777137]\n",
      " [-1.29777137]\n",
      " [-1.29777137]\n",
      " [-0.64888568]\n",
      " [-0.64888568]\n",
      " [-0.64888568]\n",
      " [ 0.        ]\n",
      " [ 0.        ]\n",
      " [ 0.64888568]\n",
      " [ 0.64888568]\n",
      " [ 0.64888568]\n",
      " [ 1.29777137]\n",
      " [ 1.29777137]\n",
      " [ 1.29777137]\n",
      " [ 1.29777137]]\n"
     ]
    }
   ]
  },
  {
   "cell_type": "code",
   "metadata": {
    "id": "i7Oo2kybjGr2",
    "colab": {
     "base_uri": "https://localhost:8080/"
    },
    "outputId": "8dea4e91-8dc2-4b27-9d2c-6cc4bd2f364c",
    "executionInfo": {
     "status": "ok",
     "timestamp": 1647625320319,
     "user_tz": -540,
     "elapsed": 9,
     "user": {
      "displayName": "大橋亮太",
      "photoUrl": "https://lh3.googleusercontent.com/a-/AOh14Gh-lJGJpXaEe7P0nfZiM3FiGRZLnhBN8vc08yQYdGfY5lGtNmUi-8eZOjKBByA_oFCLyXs64lrRv-aqLIn0VccwLV99vhg_LXUnqfsog979EyiGzyP957HjcdIlw_G8_hHKcPXGF9ld6_Cj1nwJbUOgdBJVmeymacNjPBtgZMn_HMW1dORhZ_2FsHOixYtgVX6HPFrs5VhMsnWcpYLdOLjxahMjHZgLh4D51QP4oDEQohzuehklpgiu-cyRX-n0z5hkOPy7ZbqV3bKzR2gMVVXE5Pn5UcWzvJZct1emgRilWLZ7MyHUmSmDr9UyX9TpNWxBEhK-mIMHtSBiNlyA6g0yG8d3CtSpxEfcjRqWsw1hkaqaVauU93JPVVt42uso8DkSSOH1OCwfEJDV13JbFIscLnqyLMZHpccf4OJEUTRNEI11JO9994e45Vt9at54sv624WyuJInoLf8x3B1YOeZWQ24_DLS_Va1IWmtkAsH7nVOtBLT4hih_kOC-74lmzFzdnom8tZ5OkQnvoykSlsZROSZv8FCtnUtiNoYam3H0bH-b98awmrPDhkMGX7IIK3hrrPkrdtj4gOVjmiPJTJkVe9bKO7MjtbUAX8h7AcifEg_-2rqO3ozoptaL9Oa6VHH0clJWz1xUMqrqm-SPXHJjEgqJ0h6sVWbDqpXDbWFpVzNjTHPg8DLSgYpzs0BFHf2tlbJL16guDdoU9sD_yX2JlSHECWv6PMYd8YFE5XkBIpJyriX3vMIYrLpBeCS_o7RkXA=s64",
      "userId": "04193769736923210432"
     }
    },
    "pycharm": {
     "name": "#%%\n"
    }
   },
   "source": [
    "print(y)"
   ],
   "execution_count": 24,
   "outputs": [
    {
     "name": "stdout",
     "output_type": "stream",
     "text": [
      "[[-2.04124145]\n",
      " [-1.22474487]\n",
      " [-0.40824829]\n",
      " [ 0.40824829]\n",
      " [-1.22474487]\n",
      " [-0.40824829]\n",
      " [ 0.40824829]\n",
      " [-0.40824829]\n",
      " [ 0.40824829]\n",
      " [-0.40824829]\n",
      " [ 0.40824829]\n",
      " [ 1.22474487]\n",
      " [-0.40824829]\n",
      " [ 0.40824829]\n",
      " [ 1.22474487]\n",
      " [ 2.04124145]]\n"
     ]
    }
   ]
  },
  {
   "cell_type": "markdown",
   "metadata": {
    "id": "eiU6D2QFRjxY",
    "pycharm": {
     "name": "#%% md\n"
    }
   },
   "source": [
    "## データセットを使ったモデルの訓練"
   ]
  },
  {
   "cell_type": "code",
   "metadata": {
    "id": "y6R4rt_GRz15",
    "colab": {
     "base_uri": "https://localhost:8080/"
    },
    "executionInfo": {
     "status": "ok",
     "timestamp": 1647625322995,
     "user_tz": -540,
     "elapsed": 419,
     "user": {
      "displayName": "大橋亮太",
      "photoUrl": "https://lh3.googleusercontent.com/a-/AOh14Gh-lJGJpXaEe7P0nfZiM3FiGRZLnhBN8vc08yQYdGfY5lGtNmUi-8eZOjKBByA_oFCLyXs64lrRv-aqLIn0VccwLV99vhg_LXUnqfsog979EyiGzyP957HjcdIlw_G8_hHKcPXGF9ld6_Cj1nwJbUOgdBJVmeymacNjPBtgZMn_HMW1dORhZ_2FsHOixYtgVX6HPFrs5VhMsnWcpYLdOLjxahMjHZgLh4D51QP4oDEQohzuehklpgiu-cyRX-n0z5hkOPy7ZbqV3bKzR2gMVVXE5Pn5UcWzvJZct1emgRilWLZ7MyHUmSmDr9UyX9TpNWxBEhK-mIMHtSBiNlyA6g0yG8d3CtSpxEfcjRqWsw1hkaqaVauU93JPVVt42uso8DkSSOH1OCwfEJDV13JbFIscLnqyLMZHpccf4OJEUTRNEI11JO9994e45Vt9at54sv624WyuJInoLf8x3B1YOeZWQ24_DLS_Va1IWmtkAsH7nVOtBLT4hih_kOC-74lmzFzdnom8tZ5OkQnvoykSlsZROSZv8FCtnUtiNoYam3H0bH-b98awmrPDhkMGX7IIK3hrrPkrdtj4gOVjmiPJTJkVe9bKO7MjtbUAX8h7AcifEg_-2rqO3ozoptaL9Oa6VHH0clJWz1xUMqrqm-SPXHJjEgqJ0h6sVWbDqpXDbWFpVzNjTHPg8DLSgYpzs0BFHf2tlbJL16guDdoU9sD_yX2JlSHECWv6PMYd8YFE5XkBIpJyriX3vMIYrLpBeCS_o7RkXA=s64",
      "userId": "04193769736923210432"
     }
    },
    "outputId": "286d4c73-c183-4611-f819-43d0b56955f0",
    "pycharm": {
     "name": "#%%\n"
    }
   },
   "source": [
    "from sklearn.svm import SVR\n",
    "regressor = SVR(kernel = 'rbf', epsilon=0.1)\n",
    "regressor.fit(X, y)"
   ],
   "execution_count": 46,
   "outputs": [
    {
     "name": "stderr",
     "output_type": "stream",
     "text": [
      "C:\\Users\\406429\\Anaconda3\\lib\\site-packages\\sklearn\\utils\\validation.py:993: DataConversionWarning: A column-vector y was passed when a 1d array was expected. Please change the shape of y to (n_samples, ), for example using ravel().\n",
      "  y = column_or_1d(y, warn=True)\n"
     ]
    },
    {
     "data": {
      "text/plain": "SVR()"
     },
     "execution_count": 46,
     "metadata": {},
     "output_type": "execute_result"
    }
   ]
  },
  {
   "cell_type": "markdown",
   "metadata": {
    "id": "zzedFlUISSu_",
    "pycharm": {
     "name": "#%% md\n"
    }
   },
   "source": [
    "## 結果の可視化"
   ]
  },
  {
   "cell_type": "code",
   "metadata": {
    "id": "OWPRGsKpSW9U",
    "colab": {
     "base_uri": "https://localhost:8080/",
     "height": 265
    },
    "executionInfo": {
     "status": "ok",
     "timestamp": 1647625381377,
     "user_tz": -540,
     "elapsed": 800,
     "user": {
      "displayName": "大橋亮太",
      "photoUrl": "https://lh3.googleusercontent.com/a-/AOh14Gh-lJGJpXaEe7P0nfZiM3FiGRZLnhBN8vc08yQYdGfY5lGtNmUi-8eZOjKBByA_oFCLyXs64lrRv-aqLIn0VccwLV99vhg_LXUnqfsog979EyiGzyP957HjcdIlw_G8_hHKcPXGF9ld6_Cj1nwJbUOgdBJVmeymacNjPBtgZMn_HMW1dORhZ_2FsHOixYtgVX6HPFrs5VhMsnWcpYLdOLjxahMjHZgLh4D51QP4oDEQohzuehklpgiu-cyRX-n0z5hkOPy7ZbqV3bKzR2gMVVXE5Pn5UcWzvJZct1emgRilWLZ7MyHUmSmDr9UyX9TpNWxBEhK-mIMHtSBiNlyA6g0yG8d3CtSpxEfcjRqWsw1hkaqaVauU93JPVVt42uso8DkSSOH1OCwfEJDV13JbFIscLnqyLMZHpccf4OJEUTRNEI11JO9994e45Vt9at54sv624WyuJInoLf8x3B1YOeZWQ24_DLS_Va1IWmtkAsH7nVOtBLT4hih_kOC-74lmzFzdnom8tZ5OkQnvoykSlsZROSZv8FCtnUtiNoYam3H0bH-b98awmrPDhkMGX7IIK3hrrPkrdtj4gOVjmiPJTJkVe9bKO7MjtbUAX8h7AcifEg_-2rqO3ozoptaL9Oa6VHH0clJWz1xUMqrqm-SPXHJjEgqJ0h6sVWbDqpXDbWFpVzNjTHPg8DLSgYpzs0BFHf2tlbJL16guDdoU9sD_yX2JlSHECWv6PMYd8YFE5XkBIpJyriX3vMIYrLpBeCS_o7RkXA=s64",
      "userId": "04193769736923210432"
     }
    },
    "outputId": "28576262-fb73-401c-fd23-e44b94ff0cca",
    "pycharm": {
     "name": "#%%\n"
    }
   },
   "source": [
    "plt.scatter(sc_X.inverse_transform(X), sc_y.inverse_transform(y), color = 'red')\n",
    "plt.plot(sc_X.inverse_transform(X).reshape(-1,1), sc_y.inverse_transform(regressor.predict(X).reshape(-1,1)), color = 'blue')\n",
    "plt.show()"
   ],
   "execution_count": 47,
   "outputs": [
    {
     "data": {
      "text/plain": "<Figure size 432x288 with 1 Axes>",
      "image/png": "[encoded data removed]"
     },
     "metadata": {
      "needs_background": "light"
     },
     "output_type": "display_data"
    }
   ]
  },
  {
   "cell_type": "code",
   "metadata": {
    "id": "_TzXAPAERbVv",
    "executionInfo": {
     "status": "ok",
     "timestamp": 1647625327109,
     "user_tz": -540,
     "elapsed": 2,
     "user": {
      "displayName": "大橋亮太",
      "photoUrl": "https://lh3.googleusercontent.com/a-/AOh14Gh-lJGJpXaEe7P0nfZiM3FiGRZLnhBN8vc08yQYdGfY5lGtNmUi-8eZOjKBByA_oFCLyXs64lrRv-aqLIn0VccwLV99vhg_LXUnqfsog979EyiGzyP957HjcdIlw_G8_hHKcPXGF9ld6_Cj1nwJbUOgdBJVmeymacNjPBtgZMn_HMW1dORhZ_2FsHOixYtgVX6HPFrs5VhMsnWcpYLdOLjxahMjHZgLh4D51QP4oDEQohzuehklpgiu-cyRX-n0z5hkOPy7ZbqV3bKzR2gMVVXE5Pn5UcWzvJZct1emgRilWLZ7MyHUmSmDr9UyX9TpNWxBEhK-mIMHtSBiNlyA6g0yG8d3CtSpxEfcjRqWsw1hkaqaVauU93JPVVt42uso8DkSSOH1OCwfEJDV13JbFIscLnqyLMZHpccf4OJEUTRNEI11JO9994e45Vt9at54sv624WyuJInoLf8x3B1YOeZWQ24_DLS_Va1IWmtkAsH7nVOtBLT4hih_kOC-74lmzFzdnom8tZ5OkQnvoykSlsZROSZv8FCtnUtiNoYam3H0bH-b98awmrPDhkMGX7IIK3hrrPkrdtj4gOVjmiPJTJkVe9bKO7MjtbUAX8h7AcifEg_-2rqO3ozoptaL9Oa6VHH0clJWz1xUMqrqm-SPXHJjEgqJ0h6sVWbDqpXDbWFpVzNjTHPg8DLSgYpzs0BFHf2tlbJL16guDdoU9sD_yX2JlSHECWv6PMYd8YFE5XkBIpJyriX3vMIYrLpBeCS_o7RkXA=s64",
      "userId": "04193769736923210432"
     }
    },
    "pycharm": {
     "name": "#%%\n"
    }
   },
   "source": [],
   "execution_count": 26,
   "outputs": []
  }
 ]
}