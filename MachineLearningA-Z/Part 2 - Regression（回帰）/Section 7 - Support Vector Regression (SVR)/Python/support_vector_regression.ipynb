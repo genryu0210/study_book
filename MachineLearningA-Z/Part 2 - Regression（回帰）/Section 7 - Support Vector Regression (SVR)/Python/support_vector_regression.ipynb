{
 "nbformat": 4,
 "nbformat_minor": 0,
 "metadata": {
  "colab": {
   "name": "support_vector_regression.ipynb",
   "provenance": [],
   "collapsed_sections": []
  },
  "kernelspec": {
   "name": "python3",
   "display_name": "Python 3"
  }
 },
 "cells": [
  {
   "cell_type": "markdown",
   "metadata": {
    "id": "m3PAEPRDRLA3",
    "pycharm": {
     "name": "#%% md\n"
    }
   },
   "source": [
    "# サポートベクトル回帰 (SVR)"
   ]
  },
  {
   "cell_type": "markdown",
   "metadata": {
    "id": "0VCUAVIjRdzZ",
    "pycharm": {
     "name": "#%% md\n"
    }
   },
   "source": [
    "## ライブラリのインポート"
   ]
  },
  {
   "cell_type": "code",
   "metadata": {
    "id": "56oRF-QfSDzC",
    "executionInfo": {
     "status": "ok",
     "timestamp": 1646365054558,
     "user_tz": -540,
     "elapsed": 384,
     "user": {
      "displayName": "大橋亮太",
      "photoUrl": "https://lh3.googleusercontent.com/a-/AOh14Gj8j5XpwVyO-y4-YaxEuoB3oe5fb7-dQoDkMIp0Y77ZeT6zu0fm8daUIk97KT_y3q8KdPXD6CfRfx3XbOtOYZmexTQA0b2EVIqF1w1Ox6t7rBbr1okqkFC6pACT1L49V_f6Qb88rrGDx7h9Cgop-WRi_Sq_S14zFU-JsJYWtHuYuhDo9pFCaqFxnTDiEttZueMag2ZTe0RFdm3no0tF98bnN34nq41FYERQglQr2FOfLjc0u6LSBkdFLnqPkQ7l1C6JQMUeYsiV1Vy1F0Y8keC8Pzn94LiOLEY0NGdj0s1TuJbz_PsqQ9ae-w2nrkesN4SAZuF0dYCjWTZwRhMUDFZlm4UODspZdC8g7wG2F15eji8BS5GUd_o_yk8ZoBpz8di-a8nQ7ASFShdV_UF-ut-voi5w1OojP5WQBOHi3WxdoJUUXKLxRENkZVyyDz7ypTLRsVbLmc7Or26tSpWTqHUGYv52Pu4yHFYYITYG-fab1Gr6SBmPEnzVzwxWuTsiS1VP4SJTKmKKLqzt3SBYRzE61R248yp4xt3xYLT0c60uURXyEhH05NEFMJV-yupvIqzwM2qtiw7W-QjRgcuVe7EZl7eqm8tugPrbzPrEPYOox2FWlTWOZpPTtM2HuxtNyGuzkc59lov7umnd_yd2-xtAjovfF1tg8LZGcN7a2z4fhpfNS4VI6TR6sZ6Bmnmu4NYl-S81osOVHejRf7FXH7RgNfKz3BgdyC13--AMQ3QyU4H6ojVLWQKmNC8Dk8l1uT9DAQ=s64",
      "userId": "04193769736923210432"
     }
    },
    "pycharm": {
     "name": "#%%\n"
    }
   },
   "source": [
    "import numpy as np\n",
    "import matplotlib.pyplot as plt\n",
    "import pandas as pd\n",
    "import scipy.special"
   ],
   "execution_count": 151,
   "outputs": []
  },
  {
   "cell_type": "markdown",
   "metadata": {
    "id": "fXVXoFWtSF4_",
    "pycharm": {
     "name": "#%% md\n"
    }
   },
   "source": [
    "## データセットのインポート"
   ]
  },
  {
   "cell_type": "code",
   "metadata": {
    "id": "xfoa8OSORfHQ",
    "executionInfo": {
     "status": "ok",
     "timestamp": 1646365069078,
     "user_tz": -540,
     "elapsed": 384,
     "user": {
      "displayName": "大橋亮太",
      "photoUrl": "https://lh3.googleusercontent.com/a-/AOh14Gj8j5XpwVyO-y4-YaxEuoB3oe5fb7-dQoDkMIp0Y77ZeT6zu0fm8daUIk97KT_y3q8KdPXD6CfRfx3XbOtOYZmexTQA0b2EVIqF1w1Ox6t7rBbr1okqkFC6pACT1L49V_f6Qb88rrGDx7h9Cgop-WRi_Sq_S14zFU-JsJYWtHuYuhDo9pFCaqFxnTDiEttZueMag2ZTe0RFdm3no0tF98bnN34nq41FYERQglQr2FOfLjc0u6LSBkdFLnqPkQ7l1C6JQMUeYsiV1Vy1F0Y8keC8Pzn94LiOLEY0NGdj0s1TuJbz_PsqQ9ae-w2nrkesN4SAZuF0dYCjWTZwRhMUDFZlm4UODspZdC8g7wG2F15eji8BS5GUd_o_yk8ZoBpz8di-a8nQ7ASFShdV_UF-ut-voi5w1OojP5WQBOHi3WxdoJUUXKLxRENkZVyyDz7ypTLRsVbLmc7Or26tSpWTqHUGYv52Pu4yHFYYITYG-fab1Gr6SBmPEnzVzwxWuTsiS1VP4SJTKmKKLqzt3SBYRzE61R248yp4xt3xYLT0c60uURXyEhH05NEFMJV-yupvIqzwM2qtiw7W-QjRgcuVe7EZl7eqm8tugPrbzPrEPYOox2FWlTWOZpPTtM2HuxtNyGuzkc59lov7umnd_yd2-xtAjovfF1tg8LZGcN7a2z4fhpfNS4VI6TR6sZ6Bmnmu4NYl-S81osOVHejRf7FXH7RgNfKz3BgdyC13--AMQ3QyU4H6ojVLWQKmNC8Dk8l1uT9DAQ=s64",
      "userId": "04193769736923210432"
     }
    },
    "pycharm": {
     "name": "#%%\n"
    }
   },
   "source": [
    "dataset = pd.read_csv('Position_Salaries.csv')\n",
    "X = dataset.iloc[:, 1:-1].values\n",
    "y = dataset.iloc[:, -1].values\n",
    "dataset"
   ],
   "execution_count": 152,
   "outputs": [
    {
     "data": {
      "text/plain": "            Position  Level   Salary\n0   Business Analyst      1    45000\n1  Junior Consultant      2    50000\n2  Senior Consultant      3    60000\n3            Manager      4    80000\n4    Country Manager      5   110000\n5     Region Manager      6   150000\n6            Partner      7   200000\n7     Senior Partner      8   300000\n8            C-level      9   500000\n9                CEO     10  1000000",
      "text/html": "<div>\n<style scoped>\n    .dataframe tbody tr th:only-of-type {\n        vertical-align: middle;\n    }\n\n    .dataframe tbody tr th {\n        vertical-align: top;\n    }\n\n    .dataframe thead th {\n        text-align: right;\n    }\n</style>\n<table border=\"1\" class=\"dataframe\">\n  <thead>\n    <tr style=\"text-align: right;\">\n      <th></th>\n      <th>Position</th>\n      <th>Level</th>\n      <th>Salary</th>\n    </tr>\n  </thead>\n  <tbody>\n    <tr>\n      <th>0</th>\n      <td>Business Analyst</td>\n      <td>1</td>\n      <td>45000</td>\n    </tr>\n    <tr>\n      <th>1</th>\n      <td>Junior Consultant</td>\n      <td>2</td>\n      <td>50000</td>\n    </tr>\n    <tr>\n      <th>2</th>\n      <td>Senior Consultant</td>\n      <td>3</td>\n      <td>60000</td>\n    </tr>\n    <tr>\n      <th>3</th>\n      <td>Manager</td>\n      <td>4</td>\n      <td>80000</td>\n    </tr>\n    <tr>\n      <th>4</th>\n      <td>Country Manager</td>\n      <td>5</td>\n      <td>110000</td>\n    </tr>\n    <tr>\n      <th>5</th>\n      <td>Region Manager</td>\n      <td>6</td>\n      <td>150000</td>\n    </tr>\n    <tr>\n      <th>6</th>\n      <td>Partner</td>\n      <td>7</td>\n      <td>200000</td>\n    </tr>\n    <tr>\n      <th>7</th>\n      <td>Senior Partner</td>\n      <td>8</td>\n      <td>300000</td>\n    </tr>\n    <tr>\n      <th>8</th>\n      <td>C-level</td>\n      <td>9</td>\n      <td>500000</td>\n    </tr>\n    <tr>\n      <th>9</th>\n      <td>CEO</td>\n      <td>10</td>\n      <td>1000000</td>\n    </tr>\n  </tbody>\n</table>\n</div>"
     },
     "execution_count": 152,
     "metadata": {},
     "output_type": "execute_result"
    }
   ]
  },
  {
   "cell_type": "code",
   "execution_count": 153,
   "outputs": [],
   "source": [
    "y = y.reshape(len(y), 1)"
   ],
   "metadata": {
    "collapsed": false,
    "pycharm": {
     "name": "#%%\n"
    }
   }
  },
  {
   "cell_type": "markdown",
   "metadata": {
    "id": "YS8FeLHYS-nI",
    "pycharm": {
     "name": "#%% md\n"
    }
   },
   "source": [
    "## フィーチャースケーリング"
   ]
  },
  {
   "cell_type": "code",
   "metadata": {
    "id": "PGeAlD1HTDI1",
    "executionInfo": {
     "status": "ok",
     "timestamp": 1646365071769,
     "user_tz": -540,
     "elapsed": 915,
     "user": {
      "displayName": "大橋亮太",
      "photoUrl": "https://lh3.googleusercontent.com/a-/AOh14Gj8j5XpwVyO-y4-YaxEuoB3oe5fb7-dQoDkMIp0Y77ZeT6zu0fm8daUIk97KT_y3q8KdPXD6CfRfx3XbOtOYZmexTQA0b2EVIqF1w1Ox6t7rBbr1okqkFC6pACT1L49V_f6Qb88rrGDx7h9Cgop-WRi_Sq_S14zFU-JsJYWtHuYuhDo9pFCaqFxnTDiEttZueMag2ZTe0RFdm3no0tF98bnN34nq41FYERQglQr2FOfLjc0u6LSBkdFLnqPkQ7l1C6JQMUeYsiV1Vy1F0Y8keC8Pzn94LiOLEY0NGdj0s1TuJbz_PsqQ9ae-w2nrkesN4SAZuF0dYCjWTZwRhMUDFZlm4UODspZdC8g7wG2F15eji8BS5GUd_o_yk8ZoBpz8di-a8nQ7ASFShdV_UF-ut-voi5w1OojP5WQBOHi3WxdoJUUXKLxRENkZVyyDz7ypTLRsVbLmc7Or26tSpWTqHUGYv52Pu4yHFYYITYG-fab1Gr6SBmPEnzVzwxWuTsiS1VP4SJTKmKKLqzt3SBYRzE61R248yp4xt3xYLT0c60uURXyEhH05NEFMJV-yupvIqzwM2qtiw7W-QjRgcuVe7EZl7eqm8tugPrbzPrEPYOox2FWlTWOZpPTtM2HuxtNyGuzkc59lov7umnd_yd2-xtAjovfF1tg8LZGcN7a2z4fhpfNS4VI6TR6sZ6Bmnmu4NYl-S81osOVHejRf7FXH7RgNfKz3BgdyC13--AMQ3QyU4H6ojVLWQKmNC8Dk8l1uT9DAQ=s64",
      "userId": "04193769736923210432"
     }
    },
    "pycharm": {
     "name": "#%%\n"
    }
   },
   "source": [
    "from sklearn.preprocessing import StandardScaler\n",
    "sc_X = StandardScaler()\n",
    "sc_y = StandardScaler()\n",
    "X = sc_X.fit_transform(X)\n",
    "y = sc_y.fit_transform(y)\n",
    "print(X, y)"
   ],
   "execution_count": 154,
   "outputs": [
    {
     "name": "stdout",
     "output_type": "stream",
     "text": [
      "[[-1.5666989 ]\n",
      " [-1.21854359]\n",
      " [-0.87038828]\n",
      " [-0.52223297]\n",
      " [-0.17407766]\n",
      " [ 0.17407766]\n",
      " [ 0.52223297]\n",
      " [ 0.87038828]\n",
      " [ 1.21854359]\n",
      " [ 1.5666989 ]] [[-0.72004253]\n",
      " [-0.70243757]\n",
      " [-0.66722767]\n",
      " [-0.59680786]\n",
      " [-0.49117815]\n",
      " [-0.35033854]\n",
      " [-0.17428902]\n",
      " [ 0.17781001]\n",
      " [ 0.88200808]\n",
      " [ 2.64250325]]\n"
     ]
    }
   ]
  },
  {
   "cell_type": "markdown",
   "metadata": {
    "id": "eiU6D2QFRjxY",
    "pycharm": {
     "name": "#%% md\n"
    }
   },
   "source": [
    "## 訓練用データセットを使ったモデルの訓練"
   ]
  },
  {
   "cell_type": "code",
   "metadata": {
    "id": "y6R4rt_GRz15",
    "colab": {
     "base_uri": "https://localhost:8080/"
    },
    "outputId": "cfd722c7-beea-48f4-e090-c463b2eb1585",
    "executionInfo": {
     "status": "ok",
     "timestamp": 1646365072199,
     "user_tz": -540,
     "elapsed": 432,
     "user": {
      "displayName": "大橋亮太",
      "photoUrl": "https://lh3.googleusercontent.com/a-/AOh14Gj8j5XpwVyO-y4-YaxEuoB3oe5fb7-dQoDkMIp0Y77ZeT6zu0fm8daUIk97KT_y3q8KdPXD6CfRfx3XbOtOYZmexTQA0b2EVIqF1w1Ox6t7rBbr1okqkFC6pACT1L49V_f6Qb88rrGDx7h9Cgop-WRi_Sq_S14zFU-JsJYWtHuYuhDo9pFCaqFxnTDiEttZueMag2ZTe0RFdm3no0tF98bnN34nq41FYERQglQr2FOfLjc0u6LSBkdFLnqPkQ7l1C6JQMUeYsiV1Vy1F0Y8keC8Pzn94LiOLEY0NGdj0s1TuJbz_PsqQ9ae-w2nrkesN4SAZuF0dYCjWTZwRhMUDFZlm4UODspZdC8g7wG2F15eji8BS5GUd_o_yk8ZoBpz8di-a8nQ7ASFShdV_UF-ut-voi5w1OojP5WQBOHi3WxdoJUUXKLxRENkZVyyDz7ypTLRsVbLmc7Or26tSpWTqHUGYv52Pu4yHFYYITYG-fab1Gr6SBmPEnzVzwxWuTsiS1VP4SJTKmKKLqzt3SBYRzE61R248yp4xt3xYLT0c60uURXyEhH05NEFMJV-yupvIqzwM2qtiw7W-QjRgcuVe7EZl7eqm8tugPrbzPrEPYOox2FWlTWOZpPTtM2HuxtNyGuzkc59lov7umnd_yd2-xtAjovfF1tg8LZGcN7a2z4fhpfNS4VI6TR6sZ6Bmnmu4NYl-S81osOVHejRf7FXH7RgNfKz3BgdyC13--AMQ3QyU4H6ojVLWQKmNC8Dk8l1uT9DAQ=s64",
      "userId": "04193769736923210432"
     }
    },
    "pycharm": {
     "name": "#%%\n"
    }
   },
   "source": [
    "from sklearn.svm import  SVR\n",
    "regressor = SVR(kernel=\"rbf\")\n",
    "regressor.fit(X, y)"
   ],
   "execution_count": 155,
   "outputs": [
    {
     "name": "stderr",
     "output_type": "stream",
     "text": [
      "C:\\Users\\406429\\Anaconda3\\lib\\site-packages\\sklearn\\utils\\validation.py:993: DataConversionWarning: A column-vector y was passed when a 1d array was expected. Please change the shape of y to (n_samples, ), for example using ravel().\n",
      "  y = column_or_1d(y, warn=True)\n"
     ]
    },
    {
     "data": {
      "text/plain": "SVR()"
     },
     "execution_count": 155,
     "metadata": {},
     "output_type": "execute_result"
    }
   ]
  },
  {
   "cell_type": "markdown",
   "metadata": {
    "id": "deDnDr8UR5vq",
    "pycharm": {
     "name": "#%% md\n"
    }
   },
   "source": [
    "## 結果の予測"
   ]
  },
  {
   "cell_type": "code",
   "execution_count": 156,
   "outputs": [
    {
     "data": {
      "text/plain": "array([[170370.0204065]])"
     },
     "execution_count": 156,
     "metadata": {},
     "output_type": "execute_result"
    }
   ],
   "source": [
    "sc_y.inverse_transform(regressor.predict(sc_X.transform([[6.5]])).reshape(1, -1))"
   ],
   "metadata": {
    "collapsed": false,
    "pycharm": {
     "name": "#%%\n"
    }
   }
  },
  {
   "cell_type": "markdown",
   "metadata": {
    "id": "zzedFlUISSu_",
    "pycharm": {
     "name": "#%% md\n"
    }
   },
   "source": [
    "## 結果の可視化"
   ]
  },
  {
   "cell_type": "code",
   "metadata": {
    "id": "OWPRGsKpSW9U",
    "colab": {
     "base_uri": "https://localhost:8080/",
     "height": 295
    },
    "outputId": "67d1416a-705a-4709-b24d-697ebd805391",
    "executionInfo": {
     "status": "ok",
     "timestamp": 1646365265209,
     "user_tz": -540,
     "elapsed": 426,
     "user": {
      "displayName": "大橋亮太",
      "photoUrl": "https://lh3.googleusercontent.com/a-/AOh14Gj8j5XpwVyO-y4-YaxEuoB3oe5fb7-dQoDkMIp0Y77ZeT6zu0fm8daUIk97KT_y3q8KdPXD6CfRfx3XbOtOYZmexTQA0b2EVIqF1w1Ox6t7rBbr1okqkFC6pACT1L49V_f6Qb88rrGDx7h9Cgop-WRi_Sq_S14zFU-JsJYWtHuYuhDo9pFCaqFxnTDiEttZueMag2ZTe0RFdm3no0tF98bnN34nq41FYERQglQr2FOfLjc0u6LSBkdFLnqPkQ7l1C6JQMUeYsiV1Vy1F0Y8keC8Pzn94LiOLEY0NGdj0s1TuJbz_PsqQ9ae-w2nrkesN4SAZuF0dYCjWTZwRhMUDFZlm4UODspZdC8g7wG2F15eji8BS5GUd_o_yk8ZoBpz8di-a8nQ7ASFShdV_UF-ut-voi5w1OojP5WQBOHi3WxdoJUUXKLxRENkZVyyDz7ypTLRsVbLmc7Or26tSpWTqHUGYv52Pu4yHFYYITYG-fab1Gr6SBmPEnzVzwxWuTsiS1VP4SJTKmKKLqzt3SBYRzE61R248yp4xt3xYLT0c60uURXyEhH05NEFMJV-yupvIqzwM2qtiw7W-QjRgcuVe7EZl7eqm8tugPrbzPrEPYOox2FWlTWOZpPTtM2HuxtNyGuzkc59lov7umnd_yd2-xtAjovfF1tg8LZGcN7a2z4fhpfNS4VI6TR6sZ6Bmnmu4NYl-S81osOVHejRf7FXH7RgNfKz3BgdyC13--AMQ3QyU4H6ojVLWQKmNC8Dk8l1uT9DAQ=s64",
      "userId": "04193769736923210432"
     }
    },
    "pycharm": {
     "name": "#%%\n"
    }
   },
   "source": [
    "plt.scatter(sc_X.inverse_transform(X), sc_y.inverse_transform(y), color=\"red\")\n",
    "plt.plot(sc_X.inverse_transform(X), sc_y.inverse_transform(regressor.predict(X).reshape(-1, 1)))"
   ],
   "execution_count": 166,
   "outputs": [
    {
     "data": {
      "text/plain": "[<matplotlib.lines.Line2D at 0x1ddefaa1100>]"
     },
     "execution_count": 166,
     "metadata": {},
     "output_type": "execute_result"
    },
    {
     "data": {
      "text/plain": "<Figure size 432x288 with 1 Axes>",
      "image/png": "[encoded data removed]"
     },
     "metadata": {
      "needs_background": "light"
     },
     "output_type": "display_data"
    }
   ]
  },
  {
   "cell_type": "markdown",
   "metadata": {
    "id": "UahPVNlJSZ-K",
    "pycharm": {
     "name": "#%% md\n"
    }
   },
   "source": [
    "## 結果の可視化（よりなめらかなカーブ）"
   ]
  },
  {
   "cell_type": "code",
   "metadata": {
    "id": "7fkhPL7RSd2X",
    "colab": {
     "base_uri": "https://localhost:8080/",
     "height": 295
    },
    "outputId": "ae711e0e-d551-4526-8af9-aa0a8df6a12c",
    "executionInfo": {
     "status": "ok",
     "timestamp": 1646365251533,
     "user_tz": -540,
     "elapsed": 405,
     "user": {
      "displayName": "大橋亮太",
      "photoUrl": "https://lh3.googleusercontent.com/a-/AOh14Gj8j5XpwVyO-y4-YaxEuoB3oe5fb7-dQoDkMIp0Y77ZeT6zu0fm8daUIk97KT_y3q8KdPXD6CfRfx3XbOtOYZmexTQA0b2EVIqF1w1Ox6t7rBbr1okqkFC6pACT1L49V_f6Qb88rrGDx7h9Cgop-WRi_Sq_S14zFU-JsJYWtHuYuhDo9pFCaqFxnTDiEttZueMag2ZTe0RFdm3no0tF98bnN34nq41FYERQglQr2FOfLjc0u6LSBkdFLnqPkQ7l1C6JQMUeYsiV1Vy1F0Y8keC8Pzn94LiOLEY0NGdj0s1TuJbz_PsqQ9ae-w2nrkesN4SAZuF0dYCjWTZwRhMUDFZlm4UODspZdC8g7wG2F15eji8BS5GUd_o_yk8ZoBpz8di-a8nQ7ASFShdV_UF-ut-voi5w1OojP5WQBOHi3WxdoJUUXKLxRENkZVyyDz7ypTLRsVbLmc7Or26tSpWTqHUGYv52Pu4yHFYYITYG-fab1Gr6SBmPEnzVzwxWuTsiS1VP4SJTKmKKLqzt3SBYRzE61R248yp4xt3xYLT0c60uURXyEhH05NEFMJV-yupvIqzwM2qtiw7W-QjRgcuVe7EZl7eqm8tugPrbzPrEPYOox2FWlTWOZpPTtM2HuxtNyGuzkc59lov7umnd_yd2-xtAjovfF1tg8LZGcN7a2z4fhpfNS4VI6TR6sZ6Bmnmu4NYl-S81osOVHejRf7FXH7RgNfKz3BgdyC13--AMQ3QyU4H6ojVLWQKmNC8Dk8l1uT9DAQ=s64",
      "userId": "04193769736923210432"
     }
    },
    "pycharm": {
     "name": "#%%\n"
    }
   },
   "source": [
    "X_grid = np.arange(min(sc_X.inverse_transform(X)), max(sc_X.inverse_transform(X)), 0.1)# .reshape(1, 1)\n",
    "X_grid = X_grid.reshape(len(X_grid), 1)\n",
    "plt.scatter(sc_X.inverse_transform(X), sc_y.inverse_transform(y), color=\"red\")\n",
    "plt.plot(X_grid, sc_y.inverse_transform(regressor.predict(sc_X.fit_transform(X_grid)).reshape(-1, 1)))"
   ],
   "execution_count": 171,
   "outputs": [
    {
     "data": {
      "text/plain": "[<matplotlib.lines.Line2D at 0x1ddefc9eb20>]"
     },
     "execution_count": 171,
     "metadata": {},
     "output_type": "execute_result"
    },
    {
     "data": {
      "text/plain": "<Figure size 432x288 with 1 Axes>",
      "image/png": "[encoded data removed]"
     },
     "metadata": {
      "needs_background": "light"
     },
     "output_type": "display_data"
    }
   ]
  }
 ]
}