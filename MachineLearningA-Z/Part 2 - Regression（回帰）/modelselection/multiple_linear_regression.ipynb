{
 "nbformat": 4,
 "nbformat_minor": 0,
 "metadata": {
  "colab": {
   "name": "multiple_linear_regression.ipynb",
   "provenance": [],
   "collapsed_sections": []
  },
  "kernelspec": {
   "name": "python3",
   "display_name": "Python 3"
  }
 },
 "cells": [
  {
   "cell_type": "markdown",
   "metadata": {
    "id": "CazISR8X_HUG",
    "pycharm": {
     "name": "#%% md\n"
    }
   },
   "source": [
    "# 重回帰分析"
   ]
  },
  {
   "cell_type": "markdown",
   "metadata": {
    "id": "pOyqYHTk_Q57",
    "pycharm": {
     "name": "#%% md\n"
    }
   },
   "source": [
    "## ライブラリのインポート"
   ]
  },
  {
   "cell_type": "code",
   "metadata": {
    "id": "T_YHJjnD_Tja",
    "executionInfo": {
     "status": "ok",
     "timestamp": 1645996036086,
     "user_tz": -540,
     "elapsed": 436,
     "user": {
      "displayName": "大橋亮太",
      "photoUrl": "https://lh3.googleusercontent.com/a-/AOh14GjAdfHtHplPqnkRY6SFJyxw6cKJZYl1I7CXRHs1vRLxmpdoND_F3e9ZcFAWhIKGhMXZKmNHEjJm7DI4_Zt0HAdfmsdNDIjwzWHhZSVgELr8vkM85I9FPfpmoO-LKOWm_PKWVMyTz-mlmo7gPBJuWKYaRJMukKZamnysd2MhSFiTDpRF6AI7qFYi3rgbWKUj27Jk2-nj61tMND5YaJE__HfbAlZK9ZwBrvKz5iAabx23hev79_23eCW1l4OLFdjHEYlkupj5VvYd7j44jl4i2SQc_N6Je5ht3AHw9ZHoIQ720FWouUIrXBOx5hFfIRzX9TZFCP9nm2SEmDJdOFKSdSpDEESf6ap7DtZJIeBPmFV9QKE8gopo6UowthDExG4ZBpTtYdgq5pRCX9LyXQL0eNbK0828aXLhUAxjFv4LHHunhD5QJH8S78DqaQrAbmIhgFBzEQcYL5nA63FYD9Nvg3pX2KxBFQqT2o7BInIIyiLHwhPTJXz3F97OCVECBVZmozyWkezvz6FbfoE6zDeoogm6B5B7TIy6WiKzwbWyrR4h2HGHq0PCinNeriHoFY3FSA9fxAvzobUiJnLaAZD8b4r9PSJVMJyRBWAu-q2eaMqb2MrNNS1yD_t78fdwsoeeVY1o_vnFHzdOInFBsPu7ablZyBM6t6zLrD8G0tbXh8Os8uBttT-LG6n05Z1cG3r84jNiwe2cMShe5dn6tUMzKBL-lDaDiIRAVwbBb-9bsIUcL7Cpoxua8EzK67tQKaa9I0MYPg=s64",
      "userId": "04193769736923210432"
     }
    },
    "pycharm": {
     "name": "#%%\n"
    }
   },
   "source": [
    "import numpy as np\n",
    "import matplotlib.pyplot as plt\n",
    "import pandas as pd"
   ],
   "execution_count": 1,
   "outputs": []
  },
  {
   "cell_type": "markdown",
   "metadata": {
    "id": "vgC61-ah_WIz",
    "pycharm": {
     "name": "#%% md\n"
    }
   },
   "source": [
    "## データセットのインポート"
   ]
  },
  {
   "cell_type": "code",
   "metadata": {
    "id": "UrxyEKGn_ez7",
    "executionInfo": {
     "status": "ok",
     "timestamp": 1645996038202,
     "user_tz": -540,
     "elapsed": 722,
     "user": {
      "displayName": "大橋亮太",
      "photoUrl": "https://lh3.googleusercontent.com/a-/AOh14GjAdfHtHplPqnkRY6SFJyxw6cKJZYl1I7CXRHs1vRLxmpdoND_F3e9ZcFAWhIKGhMXZKmNHEjJm7DI4_Zt0HAdfmsdNDIjwzWHhZSVgELr8vkM85I9FPfpmoO-LKOWm_PKWVMyTz-mlmo7gPBJuWKYaRJMukKZamnysd2MhSFiTDpRF6AI7qFYi3rgbWKUj27Jk2-nj61tMND5YaJE__HfbAlZK9ZwBrvKz5iAabx23hev79_23eCW1l4OLFdjHEYlkupj5VvYd7j44jl4i2SQc_N6Je5ht3AHw9ZHoIQ720FWouUIrXBOx5hFfIRzX9TZFCP9nm2SEmDJdOFKSdSpDEESf6ap7DtZJIeBPmFV9QKE8gopo6UowthDExG4ZBpTtYdgq5pRCX9LyXQL0eNbK0828aXLhUAxjFv4LHHunhD5QJH8S78DqaQrAbmIhgFBzEQcYL5nA63FYD9Nvg3pX2KxBFQqT2o7BInIIyiLHwhPTJXz3F97OCVECBVZmozyWkezvz6FbfoE6zDeoogm6B5B7TIy6WiKzwbWyrR4h2HGHq0PCinNeriHoFY3FSA9fxAvzobUiJnLaAZD8b4r9PSJVMJyRBWAu-q2eaMqb2MrNNS1yD_t78fdwsoeeVY1o_vnFHzdOInFBsPu7ablZyBM6t6zLrD8G0tbXh8Os8uBttT-LG6n05Z1cG3r84jNiwe2cMShe5dn6tUMzKBL-lDaDiIRAVwbBb-9bsIUcL7Cpoxua8EzK67tQKaa9I0MYPg=s64",
      "userId": "04193769736923210432"
     }
    },
    "pycharm": {
     "name": "#%%\n"
    }
   },
   "source": [
    "dataset = pd.read_csv('Data.csv')\n",
    "X = dataset.iloc[:, :-1].values\n",
    "y = dataset.iloc[:, -1].values"
   ],
   "execution_count": 2,
   "outputs": []
  },
  {
   "cell_type": "markdown",
   "metadata": {
    "id": "WemVnqgeA70k",
    "pycharm": {
     "name": "#%% md\n"
    }
   },
   "source": [
    "## 訓練用とテスト用へのデータセットの分割"
   ]
  },
  {
   "cell_type": "code",
   "metadata": {
    "id": "Kb_v_ae-A-20",
    "executionInfo": {
     "status": "ok",
     "timestamp": 1645996042694,
     "user_tz": -540,
     "elapsed": 1604,
     "user": {
      "displayName": "大橋亮太",
      "photoUrl": "https://lh3.googleusercontent.com/a-/AOh14GjAdfHtHplPqnkRY6SFJyxw6cKJZYl1I7CXRHs1vRLxmpdoND_F3e9ZcFAWhIKGhMXZKmNHEjJm7DI4_Zt0HAdfmsdNDIjwzWHhZSVgELr8vkM85I9FPfpmoO-LKOWm_PKWVMyTz-mlmo7gPBJuWKYaRJMukKZamnysd2MhSFiTDpRF6AI7qFYi3rgbWKUj27Jk2-nj61tMND5YaJE__HfbAlZK9ZwBrvKz5iAabx23hev79_23eCW1l4OLFdjHEYlkupj5VvYd7j44jl4i2SQc_N6Je5ht3AHw9ZHoIQ720FWouUIrXBOx5hFfIRzX9TZFCP9nm2SEmDJdOFKSdSpDEESf6ap7DtZJIeBPmFV9QKE8gopo6UowthDExG4ZBpTtYdgq5pRCX9LyXQL0eNbK0828aXLhUAxjFv4LHHunhD5QJH8S78DqaQrAbmIhgFBzEQcYL5nA63FYD9Nvg3pX2KxBFQqT2o7BInIIyiLHwhPTJXz3F97OCVECBVZmozyWkezvz6FbfoE6zDeoogm6B5B7TIy6WiKzwbWyrR4h2HGHq0PCinNeriHoFY3FSA9fxAvzobUiJnLaAZD8b4r9PSJVMJyRBWAu-q2eaMqb2MrNNS1yD_t78fdwsoeeVY1o_vnFHzdOInFBsPu7ablZyBM6t6zLrD8G0tbXh8Os8uBttT-LG6n05Z1cG3r84jNiwe2cMShe5dn6tUMzKBL-lDaDiIRAVwbBb-9bsIUcL7Cpoxua8EzK67tQKaa9I0MYPg=s64",
      "userId": "04193769736923210432"
     }
    },
    "pycharm": {
     "name": "#%%\n"
    }
   },
   "source": [
    "from sklearn.model_selection import train_test_split\n",
    "X_train, X_test, y_train, y_test = train_test_split(X, y, test_size = 0.2, random_state = 0)"
   ],
   "execution_count": 3,
   "outputs": []
  },
  {
   "cell_type": "markdown",
   "metadata": {
    "id": "k-McZVsQBINc",
    "pycharm": {
     "name": "#%% md\n"
    }
   },
   "source": [
    "## 訓練用データを使ったモデルの訓練"
   ]
  },
  {
   "cell_type": "code",
   "metadata": {
    "id": "ywPjx0L1BMiD",
    "colab": {
     "base_uri": "https://localhost:8080/"
    },
    "executionInfo": {
     "status": "ok",
     "timestamp": 1645996042695,
     "user_tz": -540,
     "elapsed": 4,
     "user": {
      "displayName": "大橋亮太",
      "photoUrl": "https://lh3.googleusercontent.com/a-/AOh14GjAdfHtHplPqnkRY6SFJyxw6cKJZYl1I7CXRHs1vRLxmpdoND_F3e9ZcFAWhIKGhMXZKmNHEjJm7DI4_Zt0HAdfmsdNDIjwzWHhZSVgELr8vkM85I9FPfpmoO-LKOWm_PKWVMyTz-mlmo7gPBJuWKYaRJMukKZamnysd2MhSFiTDpRF6AI7qFYi3rgbWKUj27Jk2-nj61tMND5YaJE__HfbAlZK9ZwBrvKz5iAabx23hev79_23eCW1l4OLFdjHEYlkupj5VvYd7j44jl4i2SQc_N6Je5ht3AHw9ZHoIQ720FWouUIrXBOx5hFfIRzX9TZFCP9nm2SEmDJdOFKSdSpDEESf6ap7DtZJIeBPmFV9QKE8gopo6UowthDExG4ZBpTtYdgq5pRCX9LyXQL0eNbK0828aXLhUAxjFv4LHHunhD5QJH8S78DqaQrAbmIhgFBzEQcYL5nA63FYD9Nvg3pX2KxBFQqT2o7BInIIyiLHwhPTJXz3F97OCVECBVZmozyWkezvz6FbfoE6zDeoogm6B5B7TIy6WiKzwbWyrR4h2HGHq0PCinNeriHoFY3FSA9fxAvzobUiJnLaAZD8b4r9PSJVMJyRBWAu-q2eaMqb2MrNNS1yD_t78fdwsoeeVY1o_vnFHzdOInFBsPu7ablZyBM6t6zLrD8G0tbXh8Os8uBttT-LG6n05Z1cG3r84jNiwe2cMShe5dn6tUMzKBL-lDaDiIRAVwbBb-9bsIUcL7Cpoxua8EzK67tQKaa9I0MYPg=s64",
      "userId": "04193769736923210432"
     }
    },
    "outputId": "b6b52a13-e935-41a3-a68f-3f31163706d7",
    "pycharm": {
     "name": "#%%\n"
    }
   },
   "source": [
    "from sklearn.linear_model import LinearRegression\n",
    "regressor = LinearRegression()\n",
    "regressor.fit(X_train, y_train)"
   ],
   "execution_count": 4,
   "outputs": [
    {
     "data": {
      "text/plain": "LinearRegression()"
     },
     "execution_count": 4,
     "metadata": {},
     "output_type": "execute_result"
    }
   ]
  },
  {
   "cell_type": "markdown",
   "metadata": {
    "id": "xNkXL1YQBiBT",
    "pycharm": {
     "name": "#%% md\n"
    }
   },
   "source": [
    "## テスト用データを使った結果の予測"
   ]
  },
  {
   "cell_type": "code",
   "metadata": {
    "id": "TQKmwvtdBkyb",
    "colab": {
     "base_uri": "https://localhost:8080/"
    },
    "executionInfo": {
     "status": "ok",
     "timestamp": 1645996045656,
     "user_tz": -540,
     "elapsed": 4,
     "user": {
      "displayName": "大橋亮太",
      "photoUrl": "https://lh3.googleusercontent.com/a-/AOh14GjAdfHtHplPqnkRY6SFJyxw6cKJZYl1I7CXRHs1vRLxmpdoND_F3e9ZcFAWhIKGhMXZKmNHEjJm7DI4_Zt0HAdfmsdNDIjwzWHhZSVgELr8vkM85I9FPfpmoO-LKOWm_PKWVMyTz-mlmo7gPBJuWKYaRJMukKZamnysd2MhSFiTDpRF6AI7qFYi3rgbWKUj27Jk2-nj61tMND5YaJE__HfbAlZK9ZwBrvKz5iAabx23hev79_23eCW1l4OLFdjHEYlkupj5VvYd7j44jl4i2SQc_N6Je5ht3AHw9ZHoIQ720FWouUIrXBOx5hFfIRzX9TZFCP9nm2SEmDJdOFKSdSpDEESf6ap7DtZJIeBPmFV9QKE8gopo6UowthDExG4ZBpTtYdgq5pRCX9LyXQL0eNbK0828aXLhUAxjFv4LHHunhD5QJH8S78DqaQrAbmIhgFBzEQcYL5nA63FYD9Nvg3pX2KxBFQqT2o7BInIIyiLHwhPTJXz3F97OCVECBVZmozyWkezvz6FbfoE6zDeoogm6B5B7TIy6WiKzwbWyrR4h2HGHq0PCinNeriHoFY3FSA9fxAvzobUiJnLaAZD8b4r9PSJVMJyRBWAu-q2eaMqb2MrNNS1yD_t78fdwsoeeVY1o_vnFHzdOInFBsPu7ablZyBM6t6zLrD8G0tbXh8Os8uBttT-LG6n05Z1cG3r84jNiwe2cMShe5dn6tUMzKBL-lDaDiIRAVwbBb-9bsIUcL7Cpoxua8EzK67tQKaa9I0MYPg=s64",
      "userId": "04193769736923210432"
     }
    },
    "outputId": "81ba778a-5194-4975-ac77-be70ebd267a3",
    "pycharm": {
     "name": "#%%\n"
    }
   },
   "source": [
    "y_pred = regressor.predict(X_test)\n",
    "np.set_printoptions(precision=2)\n",
    "print(np.concatenate((y_pred.reshape(len(y_pred),1), y_test.reshape(len(y_test),1)),1))"
   ],
   "execution_count": 5,
   "outputs": [
    {
     "name": "stdout",
     "output_type": "stream",
     "text": [
      "[[431.43 431.23]\n",
      " [458.56 460.01]\n",
      " [462.75 461.14]\n",
      " ...\n",
      " [469.52 473.26]\n",
      " [442.42 438.  ]\n",
      " [461.88 463.28]]\n"
     ]
    }
   ]
  },
  {
   "cell_type": "markdown",
   "metadata": {
    "id": "50DZZy0UyhLi",
    "pycharm": {
     "name": "#%% md\n"
    }
   },
   "source": [
    "## モデルの評価"
   ]
  },
  {
   "cell_type": "code",
   "metadata": {
    "id": "xPagAOKDywV4",
    "colab": {
     "base_uri": "https://localhost:8080/"
    },
    "executionInfo": {
     "status": "ok",
     "timestamp": 1645996048721,
     "user_tz": -540,
     "elapsed": 404,
     "user": {
      "displayName": "大橋亮太",
      "photoUrl": "https://lh3.googleusercontent.com/a-/AOh14GjAdfHtHplPqnkRY6SFJyxw6cKJZYl1I7CXRHs1vRLxmpdoND_F3e9ZcFAWhIKGhMXZKmNHEjJm7DI4_Zt0HAdfmsdNDIjwzWHhZSVgELr8vkM85I9FPfpmoO-LKOWm_PKWVMyTz-mlmo7gPBJuWKYaRJMukKZamnysd2MhSFiTDpRF6AI7qFYi3rgbWKUj27Jk2-nj61tMND5YaJE__HfbAlZK9ZwBrvKz5iAabx23hev79_23eCW1l4OLFdjHEYlkupj5VvYd7j44jl4i2SQc_N6Je5ht3AHw9ZHoIQ720FWouUIrXBOx5hFfIRzX9TZFCP9nm2SEmDJdOFKSdSpDEESf6ap7DtZJIeBPmFV9QKE8gopo6UowthDExG4ZBpTtYdgq5pRCX9LyXQL0eNbK0828aXLhUAxjFv4LHHunhD5QJH8S78DqaQrAbmIhgFBzEQcYL5nA63FYD9Nvg3pX2KxBFQqT2o7BInIIyiLHwhPTJXz3F97OCVECBVZmozyWkezvz6FbfoE6zDeoogm6B5B7TIy6WiKzwbWyrR4h2HGHq0PCinNeriHoFY3FSA9fxAvzobUiJnLaAZD8b4r9PSJVMJyRBWAu-q2eaMqb2MrNNS1yD_t78fdwsoeeVY1o_vnFHzdOInFBsPu7ablZyBM6t6zLrD8G0tbXh8Os8uBttT-LG6n05Z1cG3r84jNiwe2cMShe5dn6tUMzKBL-lDaDiIRAVwbBb-9bsIUcL7Cpoxua8EzK67tQKaa9I0MYPg=s64",
      "userId": "04193769736923210432"
     }
    },
    "outputId": "27544cef-b1f1-4ac2-8201-3596bc96ebdc",
    "pycharm": {
     "name": "#%%\n"
    }
   },
   "source": [
    "from sklearn.metrics import r2_score\n",
    "r2_score(y_test, y_pred)"
   ],
   "execution_count": 6,
   "outputs": [
    {
     "data": {
      "text/plain": "0.9325315554761303"
     },
     "execution_count": 6,
     "metadata": {},
     "output_type": "execute_result"
    }
   ]
  },
  {
   "cell_type": "code",
   "source": [],
   "metadata": {
    "id": "82dEdPx_An2e",
    "pycharm": {
     "name": "#%%\n"
    }
   },
   "execution_count": 6,
   "outputs": []
  }
 ]
}