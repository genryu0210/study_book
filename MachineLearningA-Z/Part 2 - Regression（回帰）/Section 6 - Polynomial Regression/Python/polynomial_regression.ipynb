{
 "nbformat": 4,
 "nbformat_minor": 0,
 "metadata": {
  "colab": {
   "name": "polynomial_regression.ipynb",
   "provenance": [],
   "collapsed_sections": [],
   "toc_visible": true
  },
  "kernelspec": {
   "name": "python3",
   "display_name": "Python 3"
  }
 },
 "cells": [
  {
   "cell_type": "markdown",
   "metadata": {
    "id": "vN99YjPTDena",
    "pycharm": {
     "name": "#%% md\n"
    }
   },
   "source": [
    "# 多項式回帰"
   ]
  },
  {
   "cell_type": "markdown",
   "metadata": {
    "id": "ZIx_naXnDyHd",
    "pycharm": {
     "name": "#%% md\n"
    }
   },
   "source": [
    "## ライブラリのインポート"
   ]
  },
  {
   "cell_type": "markdown",
   "source": [],
   "metadata": {
    "collapsed": false,
    "pycharm": {
     "name": "#%% md\n"
    }
   }
  },
  {
   "cell_type": "code",
   "metadata": {
    "id": "FjnmdyPLD2tS",
    "executionInfo": {
     "status": "ok",
     "timestamp": 1606798782038,
     "user_tz": -540,
     "elapsed": 1175,
     "user": {
      "displayName": "大橋亮太",
      "photoUrl": "https://lh3.googleusercontent.com/a-/AOh14Ghd7KUcmWl5dIYK1G1LiwGvGl1QUXLjehuJoM8RHyqjqW80be_MXr36NWB86jITDKaWyoGyCYydLb8_FdXIknZBhTPMdRHLZQmQ0FJ7zkCEjQ1A_zN4mTsTizi7dkBYRPidDGYAdOGaXbYBf9zd00rQgpMZ7ioaPJoQCwd69h7Nc30pAYrQJiwpd4BL5WudaulN4di41WHcfZs32xpbyGHQg1Q8qMYjinrUANDu8_34NF2gfInLOpzIP_3JEZbpVQ6O_-a7Ag1gldxnIJsNmLu0-r9NDzFaRhae8sKrllywmk__Tot81ARcHjjKrjlcqZ0-pOztxzDne3MCRwrlpApErgnzh5AEY_jD2UlMbnYFPwbZqu4kWBCjMrsOqiKT94dCoOKAlwFEN579ff51ef6uFN78jDPchuKUxKM0ajg16AE8JoZjo4WGL--qnIRUjQ-rilgbpUWLgDB-xcZrILaHGlZM3jnFsG_CB6QkDdvZNOyp2KdKy65jX-q5wUGmDy3HAstNmhwlFDqfUO62pgcq-Q7lfJQ6QQobO-H8hJiG3KXEiAGGG2XINeZCvV7gWFGoW9Z8ZAeWGSCXI3KT3tT-v5muPzGwbHa_nuKEDdRbDBJkxuMifahbcTh0oTmCvOV3sJBob3B32tdadLNxNzfayXZMZvm2UPAJcK0Zb7hxeEUGxYAiiXzktDhQBlwy6pYXWfj3DAlqAc3TgIdklzF7pcUCLAY1ObL_owcnt4bEj0Vk6QUsDYkxX3ecA3T7uWyU1Q=s64",
      "userId": "04193769736923210432"
     }
    },
    "pycharm": {
     "name": "#%%\n"
    }
   },
   "source": [
    "import numpy as np\n",
    "import matplotlib.pyplot as plt\n",
    "import pandas as pd"
   ],
   "execution_count": 93,
   "outputs": []
  },
  {
   "cell_type": "markdown",
   "metadata": {
    "id": "6c8YExmOD5x5",
    "pycharm": {
     "name": "#%% md\n"
    }
   },
   "source": [
    "## データセットのインポート"
   ]
  },
  {
   "cell_type": "code",
   "metadata": {
    "id": "nQOdXhjXD_AE",
    "executionInfo": {
     "status": "ok",
     "timestamp": 1606798897833,
     "user_tz": -540,
     "elapsed": 633,
     "user": {
      "displayName": "大橋亮太",
      "photoUrl": "https://lh3.googleusercontent.com/a-/AOh14Ghd7KUcmWl5dIYK1G1LiwGvGl1QUXLjehuJoM8RHyqjqW80be_MXr36NWB86jITDKaWyoGyCYydLb8_FdXIknZBhTPMdRHLZQmQ0FJ7zkCEjQ1A_zN4mTsTizi7dkBYRPidDGYAdOGaXbYBf9zd00rQgpMZ7ioaPJoQCwd69h7Nc30pAYrQJiwpd4BL5WudaulN4di41WHcfZs32xpbyGHQg1Q8qMYjinrUANDu8_34NF2gfInLOpzIP_3JEZbpVQ6O_-a7Ag1gldxnIJsNmLu0-r9NDzFaRhae8sKrllywmk__Tot81ARcHjjKrjlcqZ0-pOztxzDne3MCRwrlpApErgnzh5AEY_jD2UlMbnYFPwbZqu4kWBCjMrsOqiKT94dCoOKAlwFEN579ff51ef6uFN78jDPchuKUxKM0ajg16AE8JoZjo4WGL--qnIRUjQ-rilgbpUWLgDB-xcZrILaHGlZM3jnFsG_CB6QkDdvZNOyp2KdKy65jX-q5wUGmDy3HAstNmhwlFDqfUO62pgcq-Q7lfJQ6QQobO-H8hJiG3KXEiAGGG2XINeZCvV7gWFGoW9Z8ZAeWGSCXI3KT3tT-v5muPzGwbHa_nuKEDdRbDBJkxuMifahbcTh0oTmCvOV3sJBob3B32tdadLNxNzfayXZMZvm2UPAJcK0Zb7hxeEUGxYAiiXzktDhQBlwy6pYXWfj3DAlqAc3TgIdklzF7pcUCLAY1ObL_owcnt4bEj0Vk6QUsDYkxX3ecA3T7uWyU1Q=s64",
      "userId": "04193769736923210432"
     }
    },
    "pycharm": {
     "name": "#%%\n"
    }
   },
   "source": [
    "dataset = pd.read_csv('Position_Salaries.csv')\n",
    "X = dataset.iloc[:, 1:-1].values\n",
    "y = dataset.iloc[:, -1].values"
   ],
   "execution_count": 94,
   "outputs": []
  },
  {
   "cell_type": "markdown",
   "metadata": {
    "id": "Le8SEL-YEOLb",
    "pycharm": {
     "name": "#%% md\n"
    }
   },
   "source": [
    "## データセットを使った線形回帰モデルの訓練"
   ]
  },
  {
   "cell_type": "code",
   "metadata": {
    "id": "2eZ4xxbKEcBk",
    "colab": {
     "base_uri": "https://localhost:8080/",
     "height": 35
    },
    "outputId": "41074f6d-44c7-4a04-fd49-14bda9fb2885",
    "pycharm": {
     "name": "#%%\n"
    }
   },
   "source": [
    "from sklearn.linear_model import LinearRegression\n",
    "lin_reg = LinearRegression()\n",
    "lin_reg.fit(X, y)"
   ],
   "execution_count": 95,
   "outputs": [
    {
     "data": {
      "text/plain": "LinearRegression()"
     },
     "execution_count": 95,
     "metadata": {},
     "output_type": "execute_result"
    }
   ]
  },
  {
   "cell_type": "markdown",
   "metadata": {
    "id": "Rb5nWuSHEfBV",
    "pycharm": {
     "name": "#%% md\n"
    }
   },
   "source": [
    "## データセットを使った多項式回帰モデルの訓練"
   ]
  },
  {
   "cell_type": "code",
   "metadata": {
    "id": "HYplp4pTEm0O",
    "colab": {
     "base_uri": "https://localhost:8080/",
     "height": 35
    },
    "outputId": "4c3c03dd-0def-4584-a893-aa2e72629e8f",
    "pycharm": {
     "name": "#%%\n"
    }
   },
   "source": [
    "from sklearn.preprocessing import  PolynomialFeatures\n",
    "poly_reg = PolynomialFeatures(degree=2)\n",
    "X_poly = poly_reg.fit_transform(X)\n",
    "lin_reg2 = LinearRegression()\n",
    "lin_reg2.fit(X_poly, y)"
   ],
   "execution_count": 96,
   "outputs": [
    {
     "data": {
      "text/plain": "LinearRegression()"
     },
     "execution_count": 96,
     "metadata": {},
     "output_type": "execute_result"
    }
   ]
  },
  {
   "cell_type": "markdown",
   "metadata": {
    "id": "0O8R0tzbEpvy",
    "pycharm": {
     "name": "#%% md\n"
    }
   },
   "source": [
    "## 結果の可視化（線形回帰）"
   ]
  },
  {
   "cell_type": "code",
   "metadata": {
    "id": "dcTIBAEdEyve",
    "colab": {
     "base_uri": "https://localhost:8080/",
     "height": 295
    },
    "outputId": "c242f259-d9e6-442a-f026-79dffab85972",
    "pycharm": {
     "name": "#%%\n"
    }
   },
   "source": [
    "plt.scatter(X, y, color=\"red\")\n",
    "plt.plot(X, lin_reg.predict(X), color=\"blue\")\n",
    "plt.title(\"title\")\n",
    "plt.xlabel(\"xlabel\")\n",
    "plt.ylabel(\"ylabel\")"
   ],
   "execution_count": 97,
   "outputs": [
    {
     "data": {
      "text/plain": "Text(0, 0.5, 'ylabel')"
     },
     "execution_count": 97,
     "metadata": {},
     "output_type": "execute_result"
    },
    {
     "data": {
      "text/plain": "<Figure size 432x288 with 1 Axes>",
      "image/png": "[encoded data removed]"
     },
     "metadata": {
      "needs_background": "light"
     },
     "output_type": "display_data"
    }
   ]
  },
  {
   "cell_type": "markdown",
   "metadata": {
    "id": "stOnSo74E52m",
    "pycharm": {
     "name": "#%% md\n"
    }
   },
   "source": [
    "## 結果の可視化（多項式回帰）"
   ]
  },
  {
   "cell_type": "code",
   "metadata": {
    "id": "UCOcurIQE7Zv",
    "colab": {
     "base_uri": "https://localhost:8080/",
     "height": 295
    },
    "outputId": "93927499-de98-4a31-a619-c373926cbe56",
    "pycharm": {
     "name": "#%%\n"
    }
   },
   "source": [
    "plt.scatter(X, y, color=\"red\")\n",
    "plt.plot(X, lin_reg2.predict(X_poly))"
   ],
   "execution_count": 98,
   "outputs": [
    {
     "data": {
      "text/plain": "[<matplotlib.lines.Line2D at 0x1a9a2a1c0a0>]"
     },
     "execution_count": 98,
     "metadata": {},
     "output_type": "execute_result"
    },
    {
     "data": {
      "text/plain": "<Figure size 432x288 with 1 Axes>",
      "image/png": "[encoded data removed]"
     },
     "metadata": {
      "needs_background": "light"
     },
     "output_type": "display_data"
    }
   ]
  },
  {
   "cell_type": "markdown",
   "metadata": {
    "id": "U_qsAMKnE-PJ",
    "pycharm": {
     "name": "#%% md\n"
    }
   },
   "source": [
    "## 結果の可視化（多項式回帰、より滑らかなカーブ）"
   ]
  },
  {
   "cell_type": "code",
   "metadata": {
    "id": "iE6EnC3fFClE",
    "colab": {
     "base_uri": "https://localhost:8080/",
     "height": 295
    },
    "outputId": "6ecb5687-3c8a-4b46-db4a-c4955c24b9de",
    "pycharm": {
     "name": "#%%\n"
    }
   },
   "source": [
    "Xgrid = np.arange(min(X), max(X), 0.1)\n",
    "Xgrid = Xgrid.reshape(len(Xgrid), 1)\n",
    "plt.scatter(X, y, color=\"red\")\n",
    "plt.plot(Xgrid, lin_reg2.predict(poly_reg.fit_transform(Xgrid)))"
   ],
   "execution_count": 99,
   "outputs": [
    {
     "data": {
      "text/plain": "[<matplotlib.lines.Line2D at 0x1a9a2a7b670>]"
     },
     "execution_count": 99,
     "metadata": {},
     "output_type": "execute_result"
    },
    {
     "data": {
      "text/plain": "<Figure size 432x288 with 1 Axes>",
      "image/png": "[encoded data removed]"
     },
     "metadata": {
      "needs_background": "light"
     },
     "output_type": "display_data"
    }
   ]
  },
  {
   "cell_type": "markdown",
   "metadata": {
    "id": "diyJFZHhFFeK",
    "pycharm": {
     "name": "#%% md\n"
    }
   },
   "source": [
    "## 線形回帰モデルによる予測\n",
    "\n",
    "\n"
   ]
  },
  {
   "cell_type": "code",
   "metadata": {
    "id": "Blmp6Hn7FJW6",
    "colab": {
     "base_uri": "https://localhost:8080/",
     "height": 35
    },
    "outputId": "f01610bc-b077-4df0-cae4-ea37c8b0037f",
    "pycharm": {
     "name": "#%%\n"
    }
   },
   "source": [
    "lin_reg.predict([[6.5]])"
   ],
   "execution_count": 100,
   "outputs": [
    {
     "data": {
      "text/plain": "array([330378.78787879])"
     },
     "execution_count": 100,
     "metadata": {},
     "output_type": "execute_result"
    }
   ]
  },
  {
   "cell_type": "markdown",
   "metadata": {
    "id": "DW7I7ZVDFNkk",
    "pycharm": {
     "name": "#%% md\n"
    }
   },
   "source": [
    "## 多項式回帰モデルによる予測"
   ]
  },
  {
   "cell_type": "code",
   "execution_count": 101,
   "outputs": [
    {
     "data": {
      "text/plain": "array([189498.10606061])"
     },
     "execution_count": 101,
     "metadata": {},
     "output_type": "execute_result"
    }
   ],
   "source": [
    "lin_reg2.predict(poly_reg.fit_transform([[6.5]]))"
   ],
   "metadata": {
    "collapsed": false,
    "pycharm": {
     "name": "#%%\n"
    }
   }
  }
 ]
}