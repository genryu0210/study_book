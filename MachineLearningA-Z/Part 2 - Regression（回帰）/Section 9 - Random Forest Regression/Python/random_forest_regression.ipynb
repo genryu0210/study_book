{
 "nbformat": 4,
 "nbformat_minor": 0,
 "metadata": {
  "colab": {
   "name": "random_forest_regression.ipynb",
   "provenance": [],
   "toc_visible": true
  },
  "kernelspec": {
   "name": "python3",
   "display_name": "Python 3"
  }
 },
 "cells": [
  {
   "cell_type": "markdown",
   "metadata": {
    "id": "LeamvpPVXuS_",
    "colab_type": "text",
    "pycharm": {
     "name": "#%% md\n"
    }
   },
   "source": [
    "# ランダムフォレスト（回帰）"
   ]
  },
  {
   "cell_type": "markdown",
   "metadata": {
    "id": "O2wvZ7SKXzVC",
    "colab_type": "text",
    "pycharm": {
     "name": "#%% md\n"
    }
   },
   "source": [
    "## ライブラリのインポート"
   ]
  },
  {
   "cell_type": "code",
   "metadata": {
    "id": "PVmESEFZX4Ig",
    "colab_type": "code",
    "colab": {},
    "executionInfo": {
     "status": "ok",
     "timestamp": 1599188001925,
     "user_tz": -540,
     "elapsed": 503,
     "user": {
      "displayName": "大橋亮太",
      "photoUrl": "",
      "userId": "04193769736923210432"
     }
    },
    "pycharm": {
     "name": "#%%\n"
    }
   },
   "source": [
    "import numpy as np\n",
    "import matplotlib.pyplot as plt\n",
    "import pandas as pd"
   ],
   "execution_count": 6,
   "outputs": []
  },
  {
   "cell_type": "markdown",
   "metadata": {
    "id": "zgbK_F8-X7em",
    "colab_type": "text",
    "pycharm": {
     "name": "#%% md\n"
    }
   },
   "source": [
    "## データセットのインポート"
   ]
  },
  {
   "cell_type": "code",
   "metadata": {
    "id": "adBE4tjQX_Bh",
    "colab_type": "code",
    "colab": {},
    "executionInfo": {
     "status": "ok",
     "timestamp": 1599188003708,
     "user_tz": -540,
     "elapsed": 499,
     "user": {
      "displayName": "大橋亮太",
      "photoUrl": "",
      "userId": "04193769736923210432"
     }
    },
    "pycharm": {
     "name": "#%%\n"
    }
   },
   "source": [
    "dataset = pd.read_csv('Position_Salaries.csv')\n",
    "X = dataset.iloc[:, 1:-1].values\n",
    "y = dataset.iloc[:, -1].values"
   ],
   "execution_count": 19,
   "outputs": []
  },
  {
   "cell_type": "markdown",
   "metadata": {
    "id": "v4S2fyIBYDcu",
    "colab_type": "text",
    "pycharm": {
     "name": "#%% md\n"
    }
   },
   "source": [
    "## データセットを使ったモデルの訓練"
   ]
  },
  {
   "cell_type": "code",
   "metadata": {
    "id": "o8dOCoJ1YKMc",
    "colab_type": "code",
    "colab": {
     "base_uri": "https://localhost:8080/",
     "height": 136
    },
    "executionInfo": {
     "status": "ok",
     "timestamp": 1599188053234,
     "user_tz": -540,
     "elapsed": 593,
     "user": {
      "displayName": "大橋亮太",
      "photoUrl": "",
      "userId": "04193769736923210432"
     }
    },
    "outputId": "b1340176-e6b5-403d-cb51-b2945faa9c04",
    "pycharm": {
     "name": "#%%\n"
    }
   },
   "source": [
    "from sklearn.ensemble import RandomForestRegressor\n",
    "regressor = RandomForestRegressor (n_estimators=10, random_state=0)\n",
    "regressor.fit(X, y)"
   ],
   "execution_count": 20,
   "outputs": [
    {
     "data": {
      "text/plain": "RandomForestRegressor(n_estimators=10, random_state=0)"
     },
     "execution_count": 20,
     "metadata": {},
     "output_type": "execute_result"
    }
   ]
  },
  {
   "cell_type": "markdown",
   "metadata": {
    "id": "8IbsXbK3YM4M",
    "colab_type": "text",
    "pycharm": {
     "name": "#%% md\n"
    }
   },
   "source": [
    "## 結果の予測"
   ]
  },
  {
   "cell_type": "code",
   "metadata": {
    "id": "pTXrS8FEYQlJ",
    "colab_type": "code",
    "colab": {
     "base_uri": "https://localhost:8080/",
     "height": 35
    },
    "outputId": "6bfe8b5e-125c-43ce-ee32-d2f53477e0ee",
    "pycharm": {
     "name": "#%%\n"
    }
   },
   "source": [
    "regressor.predict([[6.5]])"
   ],
   "execution_count": 21,
   "outputs": [
    {
     "data": {
      "text/plain": "array([167000.])"
     },
     "execution_count": 21,
     "metadata": {},
     "output_type": "execute_result"
    }
   ]
  },
  {
   "cell_type": "markdown",
   "metadata": {
    "id": "kLqF9yMbYTon",
    "colab_type": "text",
    "pycharm": {
     "name": "#%% md\n"
    }
   },
   "source": [
    "## 結果の可視化"
   ]
  },
  {
   "cell_type": "code",
   "metadata": {
    "id": "BMlTBifVYWNr",
    "colab_type": "code",
    "colab": {
     "base_uri": "https://localhost:8080/",
     "height": 295
    },
    "executionInfo": {
     "status": "ok",
     "timestamp": 1599188056504,
     "user_tz": -540,
     "elapsed": 1484,
     "user": {
      "displayName": "大橋亮太",
      "photoUrl": "",
      "userId": "04193769736923210432"
     }
    },
    "outputId": "59d5131b-77a1-4989-bec8-15bbf96e0b51",
    "pycharm": {
     "name": "#%%\n"
    }
   },
   "source": [
    "X_grid = np.arange(min(X), max(X), 0.1)\n",
    "X_grid = X_grid .reshape(-1, 1)\n",
    "plt.scatter(X, y, color=\"red\")\n",
    "plt.plot(X_grid, regressor.predict(X_grid))"
   ],
   "execution_count": 24,
   "outputs": [
    {
     "data": {
      "text/plain": "[<matplotlib.lines.Line2D at 0x164ff3b67f0>]"
     },
     "execution_count": 24,
     "metadata": {},
     "output_type": "execute_result"
    },
    {
     "data": {
      "text/plain": "<Figure size 432x288 with 1 Axes>",
      "image/png": "[encoded data removed]"
     },
     "metadata": {
      "needs_background": "light"
     },
     "output_type": "display_data"
    }
   ]
  },
  {
   "cell_type": "code",
   "execution_count": 23,
   "outputs": [],
   "source": [],
   "metadata": {
    "collapsed": false,
    "pycharm": {
     "name": "#%%\n"
    }
   }
  },
  {
   "cell_type": "code",
   "execution_count": null,
   "outputs": [],
   "source": [],
   "metadata": {
    "collapsed": false,
    "pycharm": {
     "name": "#%%\n"
    }
   }
  }
 ]
}