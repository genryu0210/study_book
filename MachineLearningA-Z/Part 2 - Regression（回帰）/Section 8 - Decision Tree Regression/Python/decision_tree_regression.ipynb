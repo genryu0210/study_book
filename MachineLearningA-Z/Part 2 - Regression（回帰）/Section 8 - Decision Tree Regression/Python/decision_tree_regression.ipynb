{
 "nbformat": 4,
 "nbformat_minor": 0,
 "metadata": {
  "colab": {
   "name": "decision_tree_regression.ipynb",
   "provenance": [],
   "collapsed_sections": [],
   "toc_visible": true
  },
  "kernelspec": {
   "name": "python3",
   "display_name": "Python 3"
  }
 },
 "cells": [
  {
   "cell_type": "markdown",
   "metadata": {
    "id": "r3cas2_1T98w",
    "colab_type": "text",
    "pycharm": {
     "name": "#%% md\n"
    }
   },
   "source": [
    "# 回帰木"
   ]
  },
  {
   "cell_type": "markdown",
   "metadata": {
    "id": "IODliia6U1xO",
    "colab_type": "text",
    "pycharm": {
     "name": "#%% md\n"
    }
   },
   "source": [
    "## ライブラリのインポート"
   ]
  },
  {
   "cell_type": "code",
   "metadata": {
    "id": "y98nA5UdU6Hf",
    "colab_type": "code",
    "colab": {},
    "executionInfo": {
     "status": "ok",
     "timestamp": 1599187866504,
     "user_tz": -540,
     "elapsed": 1091,
     "user": {
      "displayName": "大橋亮太",
      "photoUrl": "",
      "userId": "04193769736923210432"
     }
    },
    "pycharm": {
     "name": "#%%\n"
    }
   },
   "source": [
    "import numpy as np\n",
    "import matplotlib.pyplot as plt\n",
    "import pandas as pd"
   ],
   "execution_count": 1,
   "outputs": []
  },
  {
   "cell_type": "markdown",
   "metadata": {
    "id": "jpjZ43YlU8eI",
    "colab_type": "text",
    "pycharm": {
     "name": "#%% md\n"
    }
   },
   "source": [
    "## データセットのインポート"
   ]
  },
  {
   "cell_type": "code",
   "metadata": {
    "id": "pLVaXoYVU_Uy",
    "colab_type": "code",
    "colab": {},
    "executionInfo": {
     "status": "ok",
     "timestamp": 1599187914062,
     "user_tz": -540,
     "elapsed": 1133,
     "user": {
      "displayName": "大橋亮太",
      "photoUrl": "",
      "userId": "04193769736923210432"
     }
    },
    "pycharm": {
     "name": "#%%\n"
    }
   },
   "source": [
    "dataset = pd.read_csv('Position_Salaries.csv')\n",
    "X = dataset.iloc[:, 1:-1].values\n",
    "y = dataset.iloc[:, -1].values.reshape(-1, 1)"
   ],
   "execution_count": 5,
   "outputs": [
    {
     "name": "stdout",
     "output_type": "stream",
     "text": [
      "[[ 1]\n",
      " [ 2]\n",
      " [ 3]\n",
      " [ 4]\n",
      " [ 5]\n",
      " [ 6]\n",
      " [ 7]\n",
      " [ 8]\n",
      " [ 9]\n",
      " [10]] [[  45000]\n",
      " [  50000]\n",
      " [  60000]\n",
      " [  80000]\n",
      " [ 110000]\n",
      " [ 150000]\n",
      " [ 200000]\n",
      " [ 300000]\n",
      " [ 500000]\n",
      " [1000000]]\n"
     ]
    }
   ]
  },
  {
   "cell_type": "markdown",
   "metadata": {
    "id": "g16qFkFQVC35",
    "colab_type": "text",
    "pycharm": {
     "name": "#%% md\n"
    }
   },
   "source": [
    "## データセットを使ったモデルの訓練"
   ]
  },
  {
   "cell_type": "code",
   "metadata": {
    "id": "SLDKyv1SVUqS",
    "colab_type": "code",
    "colab": {
     "base_uri": "https://localhost:8080/",
     "height": 119
    },
    "executionInfo": {
     "status": "ok",
     "timestamp": 1599187916013,
     "user_tz": -540,
     "elapsed": 1000,
     "user": {
      "displayName": "大橋亮太",
      "photoUrl": "",
      "userId": "04193769736923210432"
     }
    },
    "outputId": "8097d242-90da-45d2-84a2-b7b86a52695a",
    "pycharm": {
     "name": "#%%\n"
    }
   },
   "source": [
    "from sklearn.tree import DecisionTreeRegressor\n",
    "regressor = DecisionTreeRegressor(random_state=0)\n",
    "regressor.fit(X, y)"
   ],
   "execution_count": 6,
   "outputs": [
    {
     "data": {
      "text/plain": "DecisionTreeRegressor(random_state=0)"
     },
     "execution_count": 6,
     "metadata": {},
     "output_type": "execute_result"
    }
   ]
  },
  {
   "cell_type": "markdown",
   "metadata": {
    "id": "MQRGPTH3VcOn",
    "colab_type": "text",
    "pycharm": {
     "name": "#%% md\n"
    }
   },
   "source": [
    "## 結果の予測"
   ]
  },
  {
   "cell_type": "code",
   "metadata": {
    "id": "_FpGZf7vVgrK",
    "colab_type": "code",
    "colab": {
     "base_uri": "https://localhost:8080/",
     "height": 34
    },
    "executionInfo": {
     "status": "ok",
     "timestamp": 1599187918469,
     "user_tz": -540,
     "elapsed": 1063,
     "user": {
      "displayName": "大橋亮太",
      "photoUrl": "",
      "userId": "04193769736923210432"
     }
    },
    "outputId": "a3ccdd6e-0f88-4eaf-f0ea-664fd4faf4bd",
    "pycharm": {
     "name": "#%%\n"
    }
   },
   "source": [
    "regressor.predict([[6.5]])"
   ],
   "execution_count": 7,
   "outputs": [
    {
     "data": {
      "text/plain": "array([150000.])"
     },
     "execution_count": 7,
     "metadata": {},
     "output_type": "execute_result"
    }
   ]
  },
  {
   "cell_type": "markdown",
   "metadata": {
    "id": "ph8ExBj0VkIT",
    "colab_type": "text",
    "pycharm": {
     "name": "#%% md\n"
    }
   },
   "source": [
    "## 結果の可視化"
   ]
  },
  {
   "cell_type": "code",
   "metadata": {
    "id": "zzH1Vv1oVrqe",
    "colab_type": "code",
    "colab": {
     "base_uri": "https://localhost:8080/",
     "height": 295
    },
    "executionInfo": {
     "status": "ok",
     "timestamp": 1599187920851,
     "user_tz": -540,
     "elapsed": 1126,
     "user": {
      "displayName": "大橋亮太",
      "photoUrl": "",
      "userId": "04193769736923210432"
     }
    },
    "outputId": "27a1e4de-9809-49c9-db3b-1049ff470146",
    "pycharm": {
     "name": "#%%\n"
    }
   },
   "source": [
    "X_grid = np.arange(min(X), max(X), 0.1).reshape(-1, 1)\n",
    "plt.scatter(X, y, color=\"red\")\n",
    "plt.plot(X_grid, regressor.predict(X_grid), color=\"blue\")"
   ],
   "execution_count": 9,
   "outputs": [
    {
     "data": {
      "text/plain": "[<matplotlib.lines.Line2D at 0x291feb8efd0>]"
     },
     "execution_count": 9,
     "metadata": {},
     "output_type": "execute_result"
    },
    {
     "data": {
      "text/plain": "<Figure size 432x288 with 1 Axes>",
      "image/png": "[encoded data removed]"
     },
     "metadata": {
      "needs_background": "light"
     },
     "output_type": "display_data"
    }
   ]
  },
  {
   "cell_type": "code",
   "metadata": {
    "id": "0kjox84sByMp",
    "colab_type": "code",
    "colab": {},
    "pycharm": {
     "name": "#%%\n"
    }
   },
   "source": [],
   "execution_count": 2,
   "outputs": []
  }
 ]
}