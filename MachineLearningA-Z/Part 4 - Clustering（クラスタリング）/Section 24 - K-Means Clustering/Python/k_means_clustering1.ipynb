{
 "nbformat": 4,
 "nbformat_minor": 0,
 "metadata": {
  "colab": {
   "name": "k_means_clustering.ipynb",
   "provenance": [],
   "collapsed_sections": [],
   "toc_visible": true
  },
  "kernelspec": {
   "name": "python3",
   "display_name": "Python 3"
  }
 },
 "cells": [
  {
   "cell_type": "markdown",
   "metadata": {
    "id": "i_paGd_yLbgH",
    "pycharm": {
     "name": "#%% md\n"
    }
   },
   "source": [
    "# K平均法"
   ]
  },
  {
   "cell_type": "markdown",
   "metadata": {
    "id": "nAuqPwTnLipr",
    "pycharm": {
     "name": "#%% md\n"
    }
   },
   "source": [
    "## ライブラリのインポート"
   ]
  },
  {
   "cell_type": "code",
   "metadata": {
    "id": "yUXGcC4KLmcL",
    "executionInfo": {
     "status": "ok",
     "timestamp": 1601840631517,
     "user_tz": -540,
     "elapsed": 1534,
     "user": {
      "displayName": "大橋亮太",
      "photoUrl": "",
      "userId": "04193769736923210432"
     }
    },
    "pycharm": {
     "name": "#%%\n"
    }
   },
   "source": [
    "import numpy as np\n",
    "import matplotlib.pyplot as plt\n",
    "import pandas as pd"
   ],
   "execution_count": 16,
   "outputs": []
  },
  {
   "cell_type": "markdown",
   "metadata": {
    "id": "5LciKOr8Lo5O",
    "pycharm": {
     "name": "#%% md\n"
    }
   },
   "source": [
    "## データセットのインポート"
   ]
  },
  {
   "cell_type": "code",
   "metadata": {
    "id": "9RlmPzZGLtGi",
    "executionInfo": {
     "status": "ok",
     "timestamp": 1601840632023,
     "user_tz": -540,
     "elapsed": 1500,
     "user": {
      "displayName": "大橋亮太",
      "photoUrl": "",
      "userId": "04193769736923210432"
     }
    },
    "pycharm": {
     "name": "#%%\n"
    }
   },
   "source": [
    "dataset = pd.read_csv('Mall_Customers.csv')\n",
    "X = dataset.iloc[:, 1:].values"
   ],
   "execution_count": 17,
   "outputs": []
  },
  {
   "cell_type": "code",
   "execution_count": 24,
   "outputs": [
    {
     "name": "stdout",
     "output_type": "stream",
     "text": [
      "[[1 19 15 39]\n",
      " [1 21 15 81]\n",
      " [0 20 16 6]\n",
      " [0 23 16 77]\n",
      " [0 31 17 40]\n",
      " [0 22 17 76]\n",
      " [0 35 18 6]\n",
      " [0 23 18 94]\n",
      " [1 64 19 3]\n",
      " [0 30 19 72]\n",
      " [1 67 19 14]\n",
      " [0 35 19 99]\n",
      " [0 58 20 15]\n",
      " [0 24 20 77]\n",
      " [1 37 20 13]\n",
      " [1 22 20 79]\n",
      " [0 35 21 35]\n",
      " [1 20 21 66]\n",
      " [1 52 23 29]\n",
      " [0 35 23 98]\n",
      " [1 35 24 35]\n",
      " [1 25 24 73]\n",
      " [0 46 25 5]\n",
      " [1 31 25 73]\n",
      " [0 54 28 14]\n",
      " [1 29 28 82]\n",
      " [0 45 28 32]\n",
      " [1 35 28 61]\n",
      " [0 40 29 31]\n",
      " [0 23 29 87]\n",
      " [1 60 30 4]\n",
      " [0 21 30 73]\n",
      " [1 53 33 4]\n",
      " [1 18 33 92]\n",
      " [0 49 33 14]\n",
      " [0 21 33 81]\n",
      " [0 42 34 17]\n",
      " [0 30 34 73]\n",
      " [0 36 37 26]\n",
      " [0 20 37 75]\n",
      " [0 65 38 35]\n",
      " [1 24 38 92]\n",
      " [1 48 39 36]\n",
      " [0 31 39 61]\n",
      " [0 49 39 28]\n",
      " [0 24 39 65]\n",
      " [0 50 40 55]\n",
      " [0 27 40 47]\n",
      " [0 29 40 42]\n",
      " [0 31 40 42]\n",
      " [0 49 42 52]\n",
      " [1 33 42 60]\n",
      " [0 31 43 54]\n",
      " [1 59 43 60]\n",
      " [0 50 43 45]\n",
      " [1 47 43 41]\n",
      " [0 51 44 50]\n",
      " [1 69 44 46]\n",
      " [0 27 46 51]\n",
      " [1 53 46 46]\n",
      " [1 70 46 56]\n",
      " [1 19 46 55]\n",
      " [0 67 47 52]\n",
      " [0 54 47 59]\n",
      " [1 63 48 51]\n",
      " [1 18 48 59]\n",
      " [0 43 48 50]\n",
      " [0 68 48 48]\n",
      " [1 19 48 59]\n",
      " [0 32 48 47]\n",
      " [1 70 49 55]\n",
      " [0 47 49 42]\n",
      " [0 60 50 49]\n",
      " [0 60 50 56]\n",
      " [1 59 54 47]\n",
      " [1 26 54 54]\n",
      " [0 45 54 53]\n",
      " [1 40 54 48]\n",
      " [0 23 54 52]\n",
      " [0 49 54 42]\n",
      " [1 57 54 51]\n",
      " [1 38 54 55]\n",
      " [1 67 54 41]\n",
      " [0 46 54 44]\n",
      " [0 21 54 57]\n",
      " [1 48 54 46]\n",
      " [0 55 57 58]\n",
      " [0 22 57 55]\n",
      " [0 34 58 60]\n",
      " [0 50 58 46]\n",
      " [0 68 59 55]\n",
      " [1 18 59 41]\n",
      " [1 48 60 49]\n",
      " [0 40 60 40]\n",
      " [0 32 60 42]\n",
      " [1 24 60 52]\n",
      " [0 47 60 47]\n",
      " [0 27 60 50]\n",
      " [1 48 61 42]\n",
      " [1 20 61 49]\n",
      " [0 23 62 41]\n",
      " [0 49 62 48]\n",
      " [1 67 62 59]\n",
      " [1 26 62 55]\n",
      " [1 49 62 56]\n",
      " [0 21 62 42]\n",
      " [0 66 63 50]\n",
      " [1 54 63 46]\n",
      " [1 68 63 43]\n",
      " [1 66 63 48]\n",
      " [1 65 63 52]\n",
      " [0 19 63 54]\n",
      " [0 38 64 42]\n",
      " [1 19 64 46]\n",
      " [0 18 65 48]\n",
      " [0 19 65 50]\n",
      " [0 63 65 43]\n",
      " [0 49 65 59]\n",
      " [0 51 67 43]\n",
      " [0 50 67 57]\n",
      " [1 27 67 56]\n",
      " [0 38 67 40]\n",
      " [0 40 69 58]\n",
      " [1 39 69 91]\n",
      " [0 23 70 29]\n",
      " [0 31 70 77]\n",
      " [1 43 71 35]\n",
      " [1 40 71 95]\n",
      " [1 59 71 11]\n",
      " [1 38 71 75]\n",
      " [1 47 71 9]\n",
      " [1 39 71 75]\n",
      " [0 25 72 34]\n",
      " [0 31 72 71]\n",
      " [1 20 73 5]\n",
      " [0 29 73 88]\n",
      " [0 44 73 7]\n",
      " [1 32 73 73]\n",
      " [1 19 74 10]\n",
      " [0 35 74 72]\n",
      " [0 57 75 5]\n",
      " [1 32 75 93]\n",
      " [0 28 76 40]\n",
      " [0 32 76 87]\n",
      " [1 25 77 12]\n",
      " [1 28 77 97]\n",
      " [1 48 77 36]\n",
      " [0 32 77 74]\n",
      " [0 34 78 22]\n",
      " [1 34 78 90]\n",
      " [1 43 78 17]\n",
      " [1 39 78 88]\n",
      " [0 44 78 20]\n",
      " [0 38 78 76]\n",
      " [0 47 78 16]\n",
      " [0 27 78 89]\n",
      " [1 37 78 1]\n",
      " [0 30 78 78]\n",
      " [1 34 78 1]\n",
      " [0 30 78 73]\n",
      " [0 56 79 35]\n",
      " [0 29 79 83]\n",
      " [1 19 81 5]\n",
      " [0 31 81 93]\n",
      " [1 50 85 26]\n",
      " [0 36 85 75]\n",
      " [1 42 86 20]\n",
      " [0 33 86 95]\n",
      " [0 36 87 27]\n",
      " [1 32 87 63]\n",
      " [1 40 87 13]\n",
      " [1 28 87 75]\n",
      " [1 36 87 10]\n",
      " [1 36 87 92]\n",
      " [0 52 88 13]\n",
      " [0 30 88 86]\n",
      " [1 58 88 15]\n",
      " [1 27 88 69]\n",
      " [1 59 93 14]\n",
      " [1 35 93 90]\n",
      " [0 37 97 32]\n",
      " [0 32 97 86]\n",
      " [1 46 98 15]\n",
      " [0 29 98 88]\n",
      " [0 41 99 39]\n",
      " [1 30 99 97]\n",
      " [0 54 101 24]\n",
      " [1 28 101 68]\n",
      " [0 41 103 17]\n",
      " [0 36 103 85]\n",
      " [0 34 103 23]\n",
      " [0 32 103 69]\n",
      " [1 33 113 8]\n",
      " [0 38 113 91]\n",
      " [0 47 120 16]\n",
      " [0 35 120 79]\n",
      " [0 45 126 28]\n",
      " [1 32 126 74]\n",
      " [1 32 137 18]\n",
      " [1 30 137 83]]\n"
     ]
    }
   ],
   "source": [
    "from sklearn.preprocessing import LabelEncoder\n",
    "le = LabelEncoder()\n",
    "X[:, 0] = le.fit_transform(X[:, 0])\n",
    "print(X)"
   ],
   "metadata": {
    "collapsed": false,
    "pycharm": {
     "name": "#%%\n"
    }
   }
  },
  {
   "cell_type": "markdown",
   "metadata": {
    "id": "nWC2EWp2Lx5G",
    "pycharm": {
     "name": "#%% md\n"
    }
   },
   "source": [
    "## 最適なクラスターの数を見つけるためのエルボー法の実行"
   ]
  },
  {
   "cell_type": "code",
   "metadata": {
    "id": "zWs6ciOoL1b3",
    "executionInfo": {
     "status": "ok",
     "timestamp": 1601840634052,
     "user_tz": -540,
     "elapsed": 2209,
     "user": {
      "displayName": "大橋亮太",
      "photoUrl": "",
      "userId": "04193769736923210432"
     }
    },
    "outputId": "d18e4e21-76e6-4a37-ed5e-781d5487d8b6",
    "colab": {
     "base_uri": "https://localhost:8080/",
     "height": 295
    },
    "pycharm": {
     "name": "#%%\n"
    }
   },
   "source": [
    "from sklearn.cluster import KMeans\n",
    "wcss = []\n",
    "for i in range(1, 11):\n",
    "    kmeans = KMeans(n_clusters=i, init=\"k-means++\", random_state=42)\n",
    "    kmeans.fit(X)\n",
    "    wcss.append(kmeans.inertia_)\n",
    "plt.plot(range(1, 11), wcss)\n",
    "plt.xlabel(\"number of clusters\")\n",
    "plt.ylabel(\"WCSS\")"
   ],
   "execution_count": 19,
   "outputs": [
    {
     "name": "stderr",
     "output_type": "stream",
     "text": [
      "C:\\Users\\406429\\Anaconda3\\lib\\site-packages\\sklearn\\cluster\\_kmeans.py:1036: UserWarning: KMeans is known to have a memory leak on Windows with MKL, when there are less chunks than available threads. You can avoid it by setting the environment variable OMP_NUM_THREADS=1.\n",
      "  warnings.warn(\n"
     ]
    },
    {
     "data": {
      "text/plain": "Text(0, 0.5, 'WCSS')"
     },
     "execution_count": 19,
     "metadata": {},
     "output_type": "execute_result"
    },
    {
     "data": {
      "text/plain": "<Figure size 432x288 with 1 Axes>",
      "image/png": "[encoded data removed]"
     },
     "metadata": {
      "needs_background": "light"
     },
     "output_type": "display_data"
    }
   ]
  },
  {
   "cell_type": "markdown",
   "metadata": {
    "id": "VgT0mANLL4Nz",
    "pycharm": {
     "name": "#%% md\n"
    }
   },
   "source": [
    "## モデルの訓練"
   ]
  },
  {
   "cell_type": "code",
   "metadata": {
    "id": "cjEfU6ZSMAPl",
    "executionInfo": {
     "status": "ok",
     "timestamp": 1601840642654,
     "user_tz": -540,
     "elapsed": 902,
     "user": {
      "displayName": "大橋亮太",
      "photoUrl": "",
      "userId": "04193769736923210432"
     }
    },
    "outputId": "d4848349-a450-4469-f594-95b80acbf762",
    "colab": {
     "base_uri": "https://localhost:8080/",
     "height": 68
    },
    "pycharm": {
     "name": "#%%\n"
    }
   },
   "source": [
    "kmeans = KMeans(n_clusters=5, init=\"k-means++\", random_state=42)\n",
    "y_kmeans = kmeans.fit_predict(X)\n",
    "print(y_kmeans)\n"
   ],
   "execution_count": 20,
   "outputs": [
    {
     "name": "stdout",
     "output_type": "stream",
     "text": [
      "[0 4 0 4 0 4 0 4 0 4 0 4 0 4 0 4 0 4 0 4 0 4 0 4 0 4 0 4 0 4 0 4 0 4 0 4 0\n",
      " 4 0 4 0 4 0 3 0 4 3 3 3 3 3 3 3 3 3 3 3 3 3 3 3 3 3 3 3 3 3 3 3 3 3 3 3 3\n",
      " 3 3 3 3 3 3 3 3 3 3 3 3 3 3 3 3 3 3 3 3 3 3 3 3 3 3 3 3 3 3 3 3 3 3 3 3 3\n",
      " 3 3 3 3 3 3 3 3 3 3 3 3 1 2 1 3 1 2 1 2 1 2 1 2 1 2 1 2 1 2 1 2 1 2 1 2 1\n",
      " 2 1 2 1 2 1 2 1 2 1 2 1 2 1 2 1 2 1 2 1 2 1 2 1 2 1 2 1 2 1 2 1 2 1 2 1 2\n",
      " 1 2 1 2 1 2 1 2 1 2 1 2 1 2 1]\n"
     ]
    }
   ]
  },
  {
   "cell_type": "markdown",
   "metadata": {
    "id": "e7YrS1JAMFnm",
    "pycharm": {
     "name": "#%% md\n"
    }
   },
   "source": [
    "## クラスターの可視化"
   ]
  },
  {
   "cell_type": "code",
   "execution_count": 23,
   "outputs": [
    {
     "data": {
      "text/plain": "<Figure size 432x288 with 1 Axes>",
      "image/png": "[encoded data removed]"
     },
     "metadata": {
      "needs_background": "light"
     },
     "output_type": "display_data"
    }
   ],
   "source": [
    "plt.scatter(X[y_kmeans == 0, 2], X[y_kmeans == 0, 3], s = 100, c = 'red', label = 'Cluster 1')\n",
    "plt.scatter(X[y_kmeans == 1, 2], X[y_kmeans == 1, 3], s = 100, c = 'blue', label = 'Cluster 2')\n",
    "plt.scatter(X[y_kmeans == 2, 2], X[y_kmeans == 2, 3], s = 100, c = 'green', label = 'Cluster 3')\n",
    "plt.scatter(X[y_kmeans == 3, 2], X[y_kmeans == 3, 3], s = 100, c = 'cyan', label = 'Cluster 4')\n",
    "plt.scatter(X[y_kmeans == 4, 2], X[y_kmeans == 4, 3], s = 100, c = 'magenta', label = 'Cluster 5')\n",
    "plt.scatter(kmeans.cluster_centers_[:, 2], kmeans.cluster_centers_[:, 3], s = 300, c = 'yellow', label = 'Centroids')\n",
    "plt.title('Clusters of customers')\n",
    "plt.xlabel('Annual Income (k$)')\n",
    "plt.ylabel('Spending Score (1-100)')\n",
    "plt.legend()\n",
    "plt.show()"
   ],
   "metadata": {
    "collapsed": false,
    "pycharm": {
     "name": "#%%\n"
    }
   }
  },
  {
   "cell_type": "code",
   "execution_count": null,
   "outputs": [],
   "source": [],
   "metadata": {
    "collapsed": false,
    "pycharm": {
     "name": "#%%\n"
    }
   }
  }
 ]
}