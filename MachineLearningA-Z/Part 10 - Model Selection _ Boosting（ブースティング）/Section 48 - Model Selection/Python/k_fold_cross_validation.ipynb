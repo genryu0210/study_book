{
 "nbformat": 4,
 "nbformat_minor": 0,
 "metadata": {
  "colab": {
   "name": "k_fold_cross_validation.ipynb",
   "provenance": [],
   "toc_visible": true
  },
  "kernelspec": {
   "name": "python3",
   "display_name": "Python 3"
  }
 },
 "cells": [
  {
   "cell_type": "markdown",
   "metadata": {
    "id": "taLo6Q7NxKRE",
    "colab_type": "text",
    "pycharm": {
     "name": "#%% md\n"
    }
   },
   "source": [
    "# k分割交差検証"
   ]
  },
  {
   "cell_type": "markdown",
   "metadata": {
    "id": "xQ1Zs9MKxXJ1",
    "colab_type": "text",
    "pycharm": {
     "name": "#%% md\n"
    }
   },
   "source": [
    "## ライブラリのインポート"
   ]
  },
  {
   "cell_type": "code",
   "metadata": {
    "id": "D3x14CwtxcV5",
    "colab_type": "code",
    "colab": {},
    "pycharm": {
     "name": "#%%\n"
    }
   },
   "source": [
    "import numpy as np\n",
    "import matplotlib.pyplot as plt\n",
    "import pandas as pd"
   ],
   "execution_count": 12,
   "outputs": []
  },
  {
   "cell_type": "markdown",
   "metadata": {
    "id": "1L1wq9evxg83",
    "colab_type": "text",
    "pycharm": {
     "name": "#%% md\n"
    }
   },
   "source": [
    "## データセットのインポート"
   ]
  },
  {
   "cell_type": "code",
   "metadata": {
    "id": "TMeZ6FKbxkU6",
    "colab_type": "code",
    "colab": {},
    "pycharm": {
     "name": "#%%\n"
    }
   },
   "source": [
    "dataset = pd.read_csv('Social_Network_Ads.csv')\n",
    "X = dataset.iloc[:, [2, 3]].values\n",
    "y = dataset.iloc[:, -1].values\n",
    "X"
   ],
   "execution_count": 13,
   "outputs": [
    {
     "data": {
      "text/plain": "array([[1.90e+01, 1.90e+04],\n       [3.50e+01, 2.00e+04],\n       [2.60e+01, 4.30e+04],\n       [2.70e+01, 5.70e+04],\n       [1.90e+01, 7.60e+04],\n       [2.70e+01, 5.80e+04],\n       [2.70e+01, 8.40e+04],\n       [3.20e+01, 1.50e+05],\n       [2.50e+01, 3.30e+04],\n       [3.50e+01, 6.50e+04],\n       [2.60e+01, 8.00e+04],\n       [2.60e+01, 5.20e+04],\n       [2.00e+01, 8.60e+04],\n       [3.20e+01, 1.80e+04],\n       [1.80e+01, 8.20e+04],\n       [2.90e+01, 8.00e+04],\n       [4.70e+01, 2.50e+04],\n       [4.50e+01, 2.60e+04],\n       [4.60e+01, 2.80e+04],\n       [4.80e+01, 2.90e+04],\n       [4.50e+01, 2.20e+04],\n       [4.70e+01, 4.90e+04],\n       [4.80e+01, 4.10e+04],\n       [4.50e+01, 2.20e+04],\n       [4.60e+01, 2.30e+04],\n       [4.70e+01, 2.00e+04],\n       [4.90e+01, 2.80e+04],\n       [4.70e+01, 3.00e+04],\n       [2.90e+01, 4.30e+04],\n       [3.10e+01, 1.80e+04],\n       [3.10e+01, 7.40e+04],\n       [2.70e+01, 1.37e+05],\n       [2.10e+01, 1.60e+04],\n       [2.80e+01, 4.40e+04],\n       [2.70e+01, 9.00e+04],\n       [3.50e+01, 2.70e+04],\n       [3.30e+01, 2.80e+04],\n       [3.00e+01, 4.90e+04],\n       [2.60e+01, 7.20e+04],\n       [2.70e+01, 3.10e+04],\n       [2.70e+01, 1.70e+04],\n       [3.30e+01, 5.10e+04],\n       [3.50e+01, 1.08e+05],\n       [3.00e+01, 1.50e+04],\n       [2.80e+01, 8.40e+04],\n       [2.30e+01, 2.00e+04],\n       [2.50e+01, 7.90e+04],\n       [2.70e+01, 5.40e+04],\n       [3.00e+01, 1.35e+05],\n       [3.10e+01, 8.90e+04],\n       [2.40e+01, 3.20e+04],\n       [1.80e+01, 4.40e+04],\n       [2.90e+01, 8.30e+04],\n       [3.50e+01, 2.30e+04],\n       [2.70e+01, 5.80e+04],\n       [2.40e+01, 5.50e+04],\n       [2.30e+01, 4.80e+04],\n       [2.80e+01, 7.90e+04],\n       [2.20e+01, 1.80e+04],\n       [3.20e+01, 1.17e+05],\n       [2.70e+01, 2.00e+04],\n       [2.50e+01, 8.70e+04],\n       [2.30e+01, 6.60e+04],\n       [3.20e+01, 1.20e+05],\n       [5.90e+01, 8.30e+04],\n       [2.40e+01, 5.80e+04],\n       [2.40e+01, 1.90e+04],\n       [2.30e+01, 8.20e+04],\n       [2.20e+01, 6.30e+04],\n       [3.10e+01, 6.80e+04],\n       [2.50e+01, 8.00e+04],\n       [2.40e+01, 2.70e+04],\n       [2.00e+01, 2.30e+04],\n       [3.30e+01, 1.13e+05],\n       [3.20e+01, 1.80e+04],\n       [3.40e+01, 1.12e+05],\n       [1.80e+01, 5.20e+04],\n       [2.20e+01, 2.70e+04],\n       [2.80e+01, 8.70e+04],\n       [2.60e+01, 1.70e+04],\n       [3.00e+01, 8.00e+04],\n       [3.90e+01, 4.20e+04],\n       [2.00e+01, 4.90e+04],\n       [3.50e+01, 8.80e+04],\n       [3.00e+01, 6.20e+04],\n       [3.10e+01, 1.18e+05],\n       [2.40e+01, 5.50e+04],\n       [2.80e+01, 8.50e+04],\n       [2.60e+01, 8.10e+04],\n       [3.50e+01, 5.00e+04],\n       [2.20e+01, 8.10e+04],\n       [3.00e+01, 1.16e+05],\n       [2.60e+01, 1.50e+04],\n       [2.90e+01, 2.80e+04],\n       [2.90e+01, 8.30e+04],\n       [3.50e+01, 4.40e+04],\n       [3.50e+01, 2.50e+04],\n       [2.80e+01, 1.23e+05],\n       [3.50e+01, 7.30e+04],\n       [2.80e+01, 3.70e+04],\n       [2.70e+01, 8.80e+04],\n       [2.80e+01, 5.90e+04],\n       [3.20e+01, 8.60e+04],\n       [3.30e+01, 1.49e+05],\n       [1.90e+01, 2.10e+04],\n       [2.10e+01, 7.20e+04],\n       [2.60e+01, 3.50e+04],\n       [2.70e+01, 8.90e+04],\n       [2.60e+01, 8.60e+04],\n       [3.80e+01, 8.00e+04],\n       [3.90e+01, 7.10e+04],\n       [3.70e+01, 7.10e+04],\n       [3.80e+01, 6.10e+04],\n       [3.70e+01, 5.50e+04],\n       [4.20e+01, 8.00e+04],\n       [4.00e+01, 5.70e+04],\n       [3.50e+01, 7.50e+04],\n       [3.60e+01, 5.20e+04],\n       [4.00e+01, 5.90e+04],\n       [4.10e+01, 5.90e+04],\n       [3.60e+01, 7.50e+04],\n       [3.70e+01, 7.20e+04],\n       [4.00e+01, 7.50e+04],\n       [3.50e+01, 5.30e+04],\n       [4.10e+01, 5.10e+04],\n       [3.90e+01, 6.10e+04],\n       [4.20e+01, 6.50e+04],\n       [2.60e+01, 3.20e+04],\n       [3.00e+01, 1.70e+04],\n       [2.60e+01, 8.40e+04],\n       [3.10e+01, 5.80e+04],\n       [3.30e+01, 3.10e+04],\n       [3.00e+01, 8.70e+04],\n       [2.10e+01, 6.80e+04],\n       [2.80e+01, 5.50e+04],\n       [2.30e+01, 6.30e+04],\n       [2.00e+01, 8.20e+04],\n       [3.00e+01, 1.07e+05],\n       [2.80e+01, 5.90e+04],\n       [1.90e+01, 2.50e+04],\n       [1.90e+01, 8.50e+04],\n       [1.80e+01, 6.80e+04],\n       [3.50e+01, 5.90e+04],\n       [3.00e+01, 8.90e+04],\n       [3.40e+01, 2.50e+04],\n       [2.40e+01, 8.90e+04],\n       [2.70e+01, 9.60e+04],\n       [4.10e+01, 3.00e+04],\n       [2.90e+01, 6.10e+04],\n       [2.00e+01, 7.40e+04],\n       [2.60e+01, 1.50e+04],\n       [4.10e+01, 4.50e+04],\n       [3.10e+01, 7.60e+04],\n       [3.60e+01, 5.00e+04],\n       [4.00e+01, 4.70e+04],\n       [3.10e+01, 1.50e+04],\n       [4.60e+01, 5.90e+04],\n       [2.90e+01, 7.50e+04],\n       [2.60e+01, 3.00e+04],\n       [3.20e+01, 1.35e+05],\n       [3.20e+01, 1.00e+05],\n       [2.50e+01, 9.00e+04],\n       [3.70e+01, 3.30e+04],\n       [3.50e+01, 3.80e+04],\n       [3.30e+01, 6.90e+04],\n       [1.80e+01, 8.60e+04],\n       [2.20e+01, 5.50e+04],\n       [3.50e+01, 7.10e+04],\n       [2.90e+01, 1.48e+05],\n       [2.90e+01, 4.70e+04],\n       [2.10e+01, 8.80e+04],\n       [3.40e+01, 1.15e+05],\n       [2.60e+01, 1.18e+05],\n       [3.40e+01, 4.30e+04],\n       [3.40e+01, 7.20e+04],\n       [2.30e+01, 2.80e+04],\n       [3.50e+01, 4.70e+04],\n       [2.50e+01, 2.20e+04],\n       [2.40e+01, 2.30e+04],\n       [3.10e+01, 3.40e+04],\n       [2.60e+01, 1.60e+04],\n       [3.10e+01, 7.10e+04],\n       [3.20e+01, 1.17e+05],\n       [3.30e+01, 4.30e+04],\n       [3.30e+01, 6.00e+04],\n       [3.10e+01, 6.60e+04],\n       [2.00e+01, 8.20e+04],\n       [3.30e+01, 4.10e+04],\n       [3.50e+01, 7.20e+04],\n       [2.80e+01, 3.20e+04],\n       [2.40e+01, 8.40e+04],\n       [1.90e+01, 2.60e+04],\n       [2.90e+01, 4.30e+04],\n       [1.90e+01, 7.00e+04],\n       [2.80e+01, 8.90e+04],\n       [3.40e+01, 4.30e+04],\n       [3.00e+01, 7.90e+04],\n       [2.00e+01, 3.60e+04],\n       [2.60e+01, 8.00e+04],\n       [3.50e+01, 2.20e+04],\n       [3.50e+01, 3.90e+04],\n       [4.90e+01, 7.40e+04],\n       [3.90e+01, 1.34e+05],\n       [4.10e+01, 7.10e+04],\n       [5.80e+01, 1.01e+05],\n       [4.70e+01, 4.70e+04],\n       [5.50e+01, 1.30e+05],\n       [5.20e+01, 1.14e+05],\n       [4.00e+01, 1.42e+05],\n       [4.60e+01, 2.20e+04],\n       [4.80e+01, 9.60e+04],\n       [5.20e+01, 1.50e+05],\n       [5.90e+01, 4.20e+04],\n       [3.50e+01, 5.80e+04],\n       [4.70e+01, 4.30e+04],\n       [6.00e+01, 1.08e+05],\n       [4.90e+01, 6.50e+04],\n       [4.00e+01, 7.80e+04],\n       [4.60e+01, 9.60e+04],\n       [5.90e+01, 1.43e+05],\n       [4.10e+01, 8.00e+04],\n       [3.50e+01, 9.10e+04],\n       [3.70e+01, 1.44e+05],\n       [6.00e+01, 1.02e+05],\n       [3.50e+01, 6.00e+04],\n       [3.70e+01, 5.30e+04],\n       [3.60e+01, 1.26e+05],\n       [5.60e+01, 1.33e+05],\n       [4.00e+01, 7.20e+04],\n       [4.20e+01, 8.00e+04],\n       [3.50e+01, 1.47e+05],\n       [3.90e+01, 4.20e+04],\n       [4.00e+01, 1.07e+05],\n       [4.90e+01, 8.60e+04],\n       [3.80e+01, 1.12e+05],\n       [4.60e+01, 7.90e+04],\n       [4.00e+01, 5.70e+04],\n       [3.70e+01, 8.00e+04],\n       [4.60e+01, 8.20e+04],\n       [5.30e+01, 1.43e+05],\n       [4.20e+01, 1.49e+05],\n       [3.80e+01, 5.90e+04],\n       [5.00e+01, 8.80e+04],\n       [5.60e+01, 1.04e+05],\n       [4.10e+01, 7.20e+04],\n       [5.10e+01, 1.46e+05],\n       [3.50e+01, 5.00e+04],\n       [5.70e+01, 1.22e+05],\n       [4.10e+01, 5.20e+04],\n       [3.50e+01, 9.70e+04],\n       [4.40e+01, 3.90e+04],\n       [3.70e+01, 5.20e+04],\n       [4.80e+01, 1.34e+05],\n       [3.70e+01, 1.46e+05],\n       [5.00e+01, 4.40e+04],\n       [5.20e+01, 9.00e+04],\n       [4.10e+01, 7.20e+04],\n       [4.00e+01, 5.70e+04],\n       [5.80e+01, 9.50e+04],\n       [4.50e+01, 1.31e+05],\n       [3.50e+01, 7.70e+04],\n       [3.60e+01, 1.44e+05],\n       [5.50e+01, 1.25e+05],\n       [3.50e+01, 7.20e+04],\n       [4.80e+01, 9.00e+04],\n       [4.20e+01, 1.08e+05],\n       [4.00e+01, 7.50e+04],\n       [3.70e+01, 7.40e+04],\n       [4.70e+01, 1.44e+05],\n       [4.00e+01, 6.10e+04],\n       [4.30e+01, 1.33e+05],\n       [5.90e+01, 7.60e+04],\n       [6.00e+01, 4.20e+04],\n       [3.90e+01, 1.06e+05],\n       [5.70e+01, 2.60e+04],\n       [5.70e+01, 7.40e+04],\n       [3.80e+01, 7.10e+04],\n       [4.90e+01, 8.80e+04],\n       [5.20e+01, 3.80e+04],\n       [5.00e+01, 3.60e+04],\n       [5.90e+01, 8.80e+04],\n       [3.50e+01, 6.10e+04],\n       [3.70e+01, 7.00e+04],\n       [5.20e+01, 2.10e+04],\n       [4.80e+01, 1.41e+05],\n       [3.70e+01, 9.30e+04],\n       [3.70e+01, 6.20e+04],\n       [4.80e+01, 1.38e+05],\n       [4.10e+01, 7.90e+04],\n       [3.70e+01, 7.80e+04],\n       [3.90e+01, 1.34e+05],\n       [4.90e+01, 8.90e+04],\n       [5.50e+01, 3.90e+04],\n       [3.70e+01, 7.70e+04],\n       [3.50e+01, 5.70e+04],\n       [3.60e+01, 6.30e+04],\n       [4.20e+01, 7.30e+04],\n       [4.30e+01, 1.12e+05],\n       [4.50e+01, 7.90e+04],\n       [4.60e+01, 1.17e+05],\n       [5.80e+01, 3.80e+04],\n       [4.80e+01, 7.40e+04],\n       [3.70e+01, 1.37e+05],\n       [3.70e+01, 7.90e+04],\n       [4.00e+01, 6.00e+04],\n       [4.20e+01, 5.40e+04],\n       [5.10e+01, 1.34e+05],\n       [4.70e+01, 1.13e+05],\n       [3.60e+01, 1.25e+05],\n       [3.80e+01, 5.00e+04],\n       [4.20e+01, 7.00e+04],\n       [3.90e+01, 9.60e+04],\n       [3.80e+01, 5.00e+04],\n       [4.90e+01, 1.41e+05],\n       [3.90e+01, 7.90e+04],\n       [3.90e+01, 7.50e+04],\n       [5.40e+01, 1.04e+05],\n       [3.50e+01, 5.50e+04],\n       [4.50e+01, 3.20e+04],\n       [3.60e+01, 6.00e+04],\n       [5.20e+01, 1.38e+05],\n       [5.30e+01, 8.20e+04],\n       [4.10e+01, 5.20e+04],\n       [4.80e+01, 3.00e+04],\n       [4.80e+01, 1.31e+05],\n       [4.10e+01, 6.00e+04],\n       [4.10e+01, 7.20e+04],\n       [4.20e+01, 7.50e+04],\n       [3.60e+01, 1.18e+05],\n       [4.70e+01, 1.07e+05],\n       [3.80e+01, 5.10e+04],\n       [4.80e+01, 1.19e+05],\n       [4.20e+01, 6.50e+04],\n       [4.00e+01, 6.50e+04],\n       [5.70e+01, 6.00e+04],\n       [3.60e+01, 5.40e+04],\n       [5.80e+01, 1.44e+05],\n       [3.50e+01, 7.90e+04],\n       [3.80e+01, 5.50e+04],\n       [3.90e+01, 1.22e+05],\n       [5.30e+01, 1.04e+05],\n       [3.50e+01, 7.50e+04],\n       [3.80e+01, 6.50e+04],\n       [4.70e+01, 5.10e+04],\n       [4.70e+01, 1.05e+05],\n       [4.10e+01, 6.30e+04],\n       [5.30e+01, 7.20e+04],\n       [5.40e+01, 1.08e+05],\n       [3.90e+01, 7.70e+04],\n       [3.80e+01, 6.10e+04],\n       [3.80e+01, 1.13e+05],\n       [3.70e+01, 7.50e+04],\n       [4.20e+01, 9.00e+04],\n       [3.70e+01, 5.70e+04],\n       [3.60e+01, 9.90e+04],\n       [6.00e+01, 3.40e+04],\n       [5.40e+01, 7.00e+04],\n       [4.10e+01, 7.20e+04],\n       [4.00e+01, 7.10e+04],\n       [4.20e+01, 5.40e+04],\n       [4.30e+01, 1.29e+05],\n       [5.30e+01, 3.40e+04],\n       [4.70e+01, 5.00e+04],\n       [4.20e+01, 7.90e+04],\n       [4.20e+01, 1.04e+05],\n       [5.90e+01, 2.90e+04],\n       [5.80e+01, 4.70e+04],\n       [4.60e+01, 8.80e+04],\n       [3.80e+01, 7.10e+04],\n       [5.40e+01, 2.60e+04],\n       [6.00e+01, 4.60e+04],\n       [6.00e+01, 8.30e+04],\n       [3.90e+01, 7.30e+04],\n       [5.90e+01, 1.30e+05],\n       [3.70e+01, 8.00e+04],\n       [4.60e+01, 3.20e+04],\n       [4.60e+01, 7.40e+04],\n       [4.20e+01, 5.30e+04],\n       [4.10e+01, 8.70e+04],\n       [5.80e+01, 2.30e+04],\n       [4.20e+01, 6.40e+04],\n       [4.80e+01, 3.30e+04],\n       [4.40e+01, 1.39e+05],\n       [4.90e+01, 2.80e+04],\n       [5.70e+01, 3.30e+04],\n       [5.60e+01, 6.00e+04],\n       [4.90e+01, 3.90e+04],\n       [3.90e+01, 7.10e+04],\n       [4.70e+01, 3.40e+04],\n       [4.80e+01, 3.50e+04],\n       [4.80e+01, 3.30e+04],\n       [4.70e+01, 2.30e+04],\n       [4.50e+01, 4.50e+04],\n       [6.00e+01, 4.20e+04],\n       [3.90e+01, 5.90e+04],\n       [4.60e+01, 4.10e+04],\n       [5.10e+01, 2.30e+04],\n       [5.00e+01, 2.00e+04],\n       [3.60e+01, 3.30e+04],\n       [4.90e+01, 3.60e+04]])"
     },
     "execution_count": 13,
     "metadata": {},
     "output_type": "execute_result"
    }
   ]
  },
  {
   "cell_type": "markdown",
   "metadata": {
    "id": "WPt8zMSIxrJ7",
    "colab_type": "text",
    "pycharm": {
     "name": "#%% md\n"
    }
   },
   "source": [
    "## フィーチャースケーリング"
   ]
  },
  {
   "cell_type": "code",
   "metadata": {
    "id": "c60y-wPDxvY-",
    "colab_type": "code",
    "colab": {},
    "pycharm": {
     "name": "#%%\n"
    }
   },
   "source": [
    "from sklearn.preprocessing import StandardScaler\n",
    "sc = StandardScaler()\n",
    "X = sc.fit_transform(X)"
   ],
   "execution_count": 14,
   "outputs": []
  },
  {
   "cell_type": "markdown",
   "metadata": {
    "id": "i3FBTRwzxzl7",
    "colab_type": "text",
    "pycharm": {
     "name": "#%% md\n"
    }
   },
   "source": [
    "## 訓練用とテスト用へのデータセットの分割\n",
    "\n"
   ]
  },
  {
   "cell_type": "code",
   "metadata": {
    "id": "V5TZ-0qSx5mX",
    "colab_type": "code",
    "colab": {},
    "pycharm": {
     "name": "#%%\n"
    }
   },
   "source": [
    "from sklearn.model_selection import train_test_split\n",
    "X_train, X_test, y_train, y_test = train_test_split(X, y, test_size = 0.25, random_state = 0)"
   ],
   "execution_count": 15,
   "outputs": []
  },
  {
   "cell_type": "markdown",
   "metadata": {
    "id": "29ry3GSGx9P_",
    "colab_type": "text",
    "pycharm": {
     "name": "#%% md\n"
    }
   },
   "source": [
    "## Kernel SVMモデルを使った訓練用データセットのモデルの訓練"
   ]
  },
  {
   "cell_type": "code",
   "metadata": {
    "id": "BUM0MSyGyCjF",
    "colab_type": "code",
    "colab": {
     "base_uri": "https://localhost:8080/",
     "height": 84
    },
    "executionInfo": {
     "status": "ok",
     "timestamp": 1586450350799,
     "user_tz": -240,
     "elapsed": 2215,
     "user": {
      "displayName": "Hadelin de Ponteves",
      "photoUrl": "https://lh3.googleusercontent.com/a-/AOh14GhEuXdT7eQweUmRPW8_laJuPggSK6hfvpl5a6WBaA=s64",
      "userId": "15047218817161520419"
     }
    },
    "outputId": "eb803185-3b1a-488c-d61e-24d1aa51a03e",
    "pycharm": {
     "name": "#%%\n"
    }
   },
   "source": [
    "from sklearn.svm import SVC\n",
    "classifier = SVC(kernel = 'rbf', random_state = 0)\n",
    "classifier.fit(X_train, y_train)"
   ],
   "execution_count": 16,
   "outputs": [
    {
     "data": {
      "text/plain": "SVC(random_state=0)"
     },
     "execution_count": 16,
     "metadata": {},
     "output_type": "execute_result"
    }
   ]
  },
  {
   "cell_type": "markdown",
   "metadata": {
    "id": "71mvqpMByE00",
    "colab_type": "text",
    "pycharm": {
     "name": "#%% md\n"
    }
   },
   "source": [
    "## テスト用データセットを使った結果の予測"
   ]
  },
  {
   "cell_type": "code",
   "metadata": {
    "id": "U51yVzFEyQxf",
    "colab_type": "code",
    "colab": {},
    "pycharm": {
     "name": "#%%\n"
    }
   },
   "source": [
    "y_pred = classifier.predict(X_test)"
   ],
   "execution_count": 17,
   "outputs": []
  },
  {
   "cell_type": "markdown",
   "metadata": {
    "id": "fBbur5RQyTcL",
    "colab_type": "text",
    "pycharm": {
     "name": "#%% md\n"
    }
   },
   "source": [
    "## 混同行列の作成"
   ]
  },
  {
   "cell_type": "code",
   "metadata": {
    "id": "_1llVHNPyWkZ",
    "colab_type": "code",
    "colab": {
     "base_uri": "https://localhost:8080/",
     "height": 50
    },
    "executionInfo": {
     "status": "ok",
     "timestamp": 1586450350799,
     "user_tz": -240,
     "elapsed": 2203,
     "user": {
      "displayName": "Hadelin de Ponteves",
      "photoUrl": "https://lh3.googleusercontent.com/a-/AOh14GhEuXdT7eQweUmRPW8_laJuPggSK6hfvpl5a6WBaA=s64",
      "userId": "15047218817161520419"
     }
    },
    "outputId": "e7823b33-0d57-475d-bb24-a7f7be7332a0",
    "pycharm": {
     "name": "#%%\n"
    }
   },
   "source": [
    "from sklearn.metrics import confusion_matrix, accuracy_score\n",
    "cm = confusion_matrix(y_test, y_pred)\n",
    "print(cm)\n",
    "print(accuracy_score(y_test, y_pred))"
   ],
   "execution_count": 24,
   "outputs": [
    {
     "name": "stdout",
     "output_type": "stream",
     "text": [
      "[[64  4]\n",
      " [ 3 29]]\n",
      "0.93\n"
     ]
    }
   ]
  },
  {
   "cell_type": "markdown",
   "metadata": {
    "id": "U-eGh0nuyabx",
    "colab_type": "text",
    "pycharm": {
     "name": "#%% md\n"
    }
   },
   "source": [
    "## k分割交差検証の適用"
   ]
  },
  {
   "cell_type": "code",
   "metadata": {
    "id": "N5puHSW9ydyi",
    "colab_type": "code",
    "colab": {
     "base_uri": "https://localhost:8080/",
     "height": 50
    },
    "executionInfo": {
     "status": "ok",
     "timestamp": 1586450350800,
     "user_tz": -240,
     "elapsed": 2198,
     "user": {
      "displayName": "Hadelin de Ponteves",
      "photoUrl": "https://lh3.googleusercontent.com/a-/AOh14GhEuXdT7eQweUmRPW8_laJuPggSK6hfvpl5a6WBaA=s64",
      "userId": "15047218817161520419"
     }
    },
    "outputId": "148239a3-27aa-4a7a-f0df-b69fd5258718",
    "pycharm": {
     "name": "#%%\n"
    }
   },
   "source": [
    "from sklearn.model_selection import cross_val_score\n",
    "accracies = cross_val_score(estimator=classifier, X=X_train, y=y_train, cv=10)\n",
    "print(\"Accuracy: {:.2f} %\".format(accracies.mean()*100))\n",
    "print(\"Standard Deviation: {:.2f} %\".format(accracies.std()*100))"
   ],
   "execution_count": 26,
   "outputs": [
    {
     "name": "stdout",
     "output_type": "stream",
     "text": [
      "Accuracy: 90.00 %\n",
      "Standard Deviation: 6.83 %\n"
     ]
    }
   ]
  },
  {
   "cell_type": "markdown",
   "metadata": {
    "id": "M6HUu8z8ygbT",
    "colab_type": "text",
    "pycharm": {
     "name": "#%% md\n"
    }
   },
   "source": [
    "## 訓練用データセットを使った結果の可視化"
   ]
  },
  {
   "cell_type": "code",
   "metadata": {
    "id": "wkjkHN6Qykw3",
    "colab_type": "code",
    "colab": {
     "base_uri": "https://localhost:8080/",
     "height": 349
    },
    "executionInfo": {
     "status": "ok",
     "timestamp": 1586450351903,
     "user_tz": -240,
     "elapsed": 3294,
     "user": {
      "displayName": "Hadelin de Ponteves",
      "photoUrl": "https://lh3.googleusercontent.com/a-/AOh14GhEuXdT7eQweUmRPW8_laJuPggSK6hfvpl5a6WBaA=s64",
      "userId": "15047218817161520419"
     }
    },
    "outputId": "fbc96ca7-ab94-4788-c3b3-70feed76d0a2",
    "pycharm": {
     "name": "#%%\n"
    }
   },
   "source": [
    "from matplotlib.colors import ListedColormap\n",
    "X_set, y_set = X_train, y_train\n",
    "X1, X2 = np.meshgrid(np.arange(start = X_set[:, 0].min() - 1, stop = X_set[:, 0].max() + 1, step = 0.01),\n",
    "                     np.arange(start = X_set[:, 1].min() - 1, stop = X_set[:, 1].max() + 1, step = 0.01))\n",
    "plt.contourf(X1, X2, classifier.predict(np.array([X1.ravel(), X2.ravel()]).T).reshape(X1.shape),\n",
    "             alpha = 0.75, cmap = ListedColormap(('red', 'green')))\n",
    "plt.xlim(X1.min(), X1.max())\n",
    "plt.ylim(X2.min(), X2.max())\n",
    "for i, j in enumerate(np.unique(y_set)):\n",
    "    plt.scatter(X_set[y_set == j, 0], X_set[y_set == j, 1],\n",
    "                c = ListedColormap(('red', 'green'))(i), label = j)\n",
    "plt.title('Kernel SVM (Training set)')\n",
    "plt.xlabel('Age')\n",
    "plt.ylabel('Estimated Salary')\n",
    "plt.legend()\n",
    "plt.show()"
   ],
   "execution_count": 27,
   "outputs": [
    {
     "name": "stderr",
     "output_type": "stream",
     "text": [
      "*c* argument looks like a single numeric RGB or RGBA sequence, which should be avoided as value-mapping will have precedence in case its length matches with *x* & *y*.  Please use the *color* keyword-argument or provide a 2D array with a single row if you intend to specify the same RGB or RGBA value for all points.\n",
      "*c* argument looks like a single numeric RGB or RGBA sequence, which should be avoided as value-mapping will have precedence in case its length matches with *x* & *y*.  Please use the *color* keyword-argument or provide a 2D array with a single row if you intend to specify the same RGB or RGBA value for all points.\n"
     ]
    },
    {
     "data": {
      "text/plain": "<Figure size 432x288 with 1 Axes>",
      "image/png": "[encoded data removed]"
     },
     "metadata": {
      "needs_background": "light"
     },
     "output_type": "display_data"
    }
   ]
  },
  {
   "cell_type": "markdown",
   "metadata": {
    "id": "9rLgiI19yn8m",
    "colab_type": "text",
    "pycharm": {
     "name": "#%% md\n"
    }
   },
   "source": [
    "## テスト用データセットを使った結果の可視化"
   ]
  },
  {
   "cell_type": "code",
   "execution_count": 28,
   "outputs": [
    {
     "name": "stderr",
     "output_type": "stream",
     "text": [
      "*c* argument looks like a single numeric RGB or RGBA sequence, which should be avoided as value-mapping will have precedence in case its length matches with *x* & *y*.  Please use the *color* keyword-argument or provide a 2D array with a single row if you intend to specify the same RGB or RGBA value for all points.\n",
      "*c* argument looks like a single numeric RGB or RGBA sequence, which should be avoided as value-mapping will have precedence in case its length matches with *x* & *y*.  Please use the *color* keyword-argument or provide a 2D array with a single row if you intend to specify the same RGB or RGBA value for all points.\n"
     ]
    },
    {
     "data": {
      "text/plain": "<Figure size 432x288 with 1 Axes>",
      "image/png": "[encoded data removed]"
     },
     "metadata": {
      "needs_background": "light"
     },
     "output_type": "display_data"
    }
   ],
   "source": [
    "from matplotlib.colors import ListedColormap\n",
    "X_set, y_set = X_test, y_test\n",
    "X1, X2 = np.meshgrid(np.arange(start = X_set[:, 0].min() - 1, stop = X_set[:, 0].max() + 1, step = 0.01),\n",
    "                     np.arange(start = X_set[:, 1].min() - 1, stop = X_set[:, 1].max() + 1, step = 0.01))\n",
    "plt.contourf(X1, X2, classifier.predict(np.array([X1.ravel(), X2.ravel()]).T).reshape(X1.shape),\n",
    "             alpha = 0.75, cmap = ListedColormap(('red', 'green')))\n",
    "plt.xlim(X1.min(), X1.max())\n",
    "plt.ylim(X2.min(), X2.max())\n",
    "for i, j in enumerate(np.unique(y_set)):\n",
    "    plt.scatter(X_set[y_set == j, 0], X_set[y_set == j, 1],\n",
    "                c = ListedColormap(('red', 'green'))(i), label = j)\n",
    "plt.title('Kernel SVM (Test set)')\n",
    "plt.xlabel('Age')\n",
    "plt.ylabel('Estimated Salary')\n",
    "plt.legend()\n",
    "plt.show()"
   ],
   "metadata": {
    "collapsed": false,
    "pycharm": {
     "name": "#%%\n"
    }
   }
  },
  {
   "cell_type": "code",
   "execution_count": null,
   "outputs": [],
   "source": [],
   "metadata": {
    "collapsed": false,
    "pycharm": {
     "name": "#%%\n"
    }
   }
  }
 ]
}